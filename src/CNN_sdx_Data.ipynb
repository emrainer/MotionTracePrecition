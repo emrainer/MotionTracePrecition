{
 "cells": [
  {
   "cell_type": "code",
   "execution_count": 1,
   "id": "4a91a5dc-309c-476e-b5d7-51aa3971f329",
   "metadata": {},
   "outputs": [],
   "source": [
    "import os\n",
    "import pandas as pd\n",
    "import numpy as np\n",
    "import matplotlib.pyplot as plt     \n",
    "import re\n",
    "# File Loading\n",
    "from trace_file_loader import get_breath_df\n",
    "from lossplots import plot_loss\n",
    "# SkLearn Packages\n",
    "from sklearn.preprocessing import StandardScaler\n",
    "from sklearn.model_selection import train_test_split\n",
    "from sklearn.metrics import mean_squared_error\n",
    "from sklearn.metrics import mean_absolute_error\n",
    "# Torch Packages\n",
    "import torch\n",
    "import torch.nn as nn\n",
    "import torch.nn.functional as F\n",
    "from torch import nn\n",
    "from torch.utils.data import Dataset, DataLoader\n",
    "from torch.nn.utils.rnn import pack_padded_sequence, pad_packed_sequence \n",
    "from torch.autograd import Variable\n",
    "# Warnings\n",
    "import warnings\n",
    "warnings.filterwarnings('ignore')"
   ]
  },
  {
   "cell_type": "markdown",
   "id": "2f2ae59a",
   "metadata": {},
   "source": [
    "# Load and Clean Data\n",
    "\n",
    "CNNs assume a fixed input size so we need to assume a fixed size and truncate or pad the sentences as needed."
   ]
  },
  {
   "cell_type": "code",
   "execution_count": 2,
   "id": "189e1880-4bc5-40d6-9344-6eae90b5337d",
   "metadata": {},
   "outputs": [],
   "source": [
    "# breath_df = get_breath_df('data_sdx_', 1400, 100)"
   ]
  },
  {
   "cell_type": "code",
   "execution_count": 3,
   "id": "26e6051e",
   "metadata": {},
   "outputs": [],
   "source": [
    "# breath_df.to_pickle('breath_pickle_cnn')"
   ]
  },
  {
   "cell_type": "code",
   "execution_count": 4,
   "id": "2b4ccb03",
   "metadata": {},
   "outputs": [
    {
     "data": {
      "text/html": [
       "<div>\n",
       "<style scoped>\n",
       "    .dataframe tbody tr th:only-of-type {\n",
       "        vertical-align: middle;\n",
       "    }\n",
       "\n",
       "    .dataframe tbody tr th {\n",
       "        vertical-align: top;\n",
       "    }\n",
       "\n",
       "    .dataframe thead th {\n",
       "        text-align: right;\n",
       "    }\n",
       "</style>\n",
       "<table border=\"1\" class=\"dataframe\">\n",
       "  <thead>\n",
       "    <tr style=\"text-align: right;\">\n",
       "      <th></th>\n",
       "      <th>Trace</th>\n",
       "      <th>Csv_breath_holds</th>\n",
       "      <th>Data_breath_holds</th>\n",
       "      <th>Full_trace</th>\n",
       "      <th>breathhold_idx</th>\n",
       "      <th>bh_start_end</th>\n",
       "    </tr>\n",
       "  </thead>\n",
       "  <tbody>\n",
       "    <tr>\n",
       "      <th>0</th>\n",
       "      <td>[0.1319, 0.1363, 0.1408, 0.1452, 0.1497, 0.154...</td>\n",
       "      <td>31.29</td>\n",
       "      <td>31.69</td>\n",
       "      <td>[0.0003, 0.0006, 0.001, 0.0014, 0.0019, 0.0023...</td>\n",
       "      <td>[2661, 2662, 2663, 2664, 2665, 2666, 2667, 266...</td>\n",
       "      <td>(2661, 5829)</td>\n",
       "    </tr>\n",
       "    <tr>\n",
       "      <th>1</th>\n",
       "      <td>[0.4727, 0.4687, 0.4646, 0.4605, 0.4563, 0.452...</td>\n",
       "      <td>30.61</td>\n",
       "      <td>31.40</td>\n",
       "      <td>[0.0006, 0.0009, 0.0013, 0.0017, 0.0022, 0.002...</td>\n",
       "      <td>[2386, 2387, 2388, 2389, 2390, 2391, 2392, 239...</td>\n",
       "      <td>(2386, 5525)</td>\n",
       "    </tr>\n",
       "  </tbody>\n",
       "</table>\n",
       "</div>"
      ],
      "text/plain": [
       "                                               Trace  Csv_breath_holds  \\\n",
       "0  [0.1319, 0.1363, 0.1408, 0.1452, 0.1497, 0.154...             31.29   \n",
       "1  [0.4727, 0.4687, 0.4646, 0.4605, 0.4563, 0.452...             30.61   \n",
       "\n",
       "   Data_breath_holds                                         Full_trace  \\\n",
       "0              31.69  [0.0003, 0.0006, 0.001, 0.0014, 0.0019, 0.0023...   \n",
       "1              31.40  [0.0006, 0.0009, 0.0013, 0.0017, 0.0022, 0.002...   \n",
       "\n",
       "                                      breathhold_idx  bh_start_end  \n",
       "0  [2661, 2662, 2663, 2664, 2665, 2666, 2667, 266...  (2661, 5829)  \n",
       "1  [2386, 2387, 2388, 2389, 2390, 2391, 2392, 239...  (2386, 5525)  "
      ]
     },
     "execution_count": 4,
     "metadata": {},
     "output_type": "execute_result"
    }
   ],
   "source": [
    "breath_df = pd.read_pickle('breath_pickle_sound')\n",
    "breath_df.head(2)"
   ]
  },
  {
   "cell_type": "code",
   "execution_count": 5,
   "id": "21d0ea60",
   "metadata": {},
   "outputs": [],
   "source": [
    "under2 = breath_df[abs(breath_df['Csv_breath_holds']-breath_df['Data_breath_holds'])<=2]"
   ]
  },
  {
   "cell_type": "code",
   "execution_count": 6,
   "id": "f0513342",
   "metadata": {},
   "outputs": [],
   "source": [
    "median_bh = under2['Data_breath_holds'].median()\n",
    "under2['class'] = np.where(under2['Data_breath_holds'] < median_bh, 0, 1) # create encoded column: short (0), long (1)"
   ]
  },
  {
   "cell_type": "code",
   "execution_count": 7,
   "id": "85d452e1",
   "metadata": {},
   "outputs": [],
   "source": [
    "df = under2"
   ]
  },
  {
   "cell_type": "code",
   "execution_count": 8,
   "id": "d6edf60f",
   "metadata": {},
   "outputs": [],
   "source": [
    "q25 = under2['Data_breath_holds'].quantile(.25)\n",
    "q75 = under2['Data_breath_holds'].quantile(.75)"
   ]
  },
  {
   "cell_type": "code",
   "execution_count": 9,
   "id": "a6f899f0",
   "metadata": {},
   "outputs": [],
   "source": [
    "under2 = under2[(under2['Data_breath_holds'] < q25) | (under2['Data_breath_holds'] > q75)] # only consider breathholds in upper and lower quartiles"
   ]
  },
  {
   "cell_type": "code",
   "execution_count": 10,
   "id": "6ca9cbd9",
   "metadata": {},
   "outputs": [],
   "source": [
    "under2['class'] = np.where(under2['Data_breath_holds'] < q25, 0, 1) # create encoded column: short (0), long (1)"
   ]
  },
  {
   "cell_type": "code",
   "execution_count": 11,
   "id": "f898d997",
   "metadata": {},
   "outputs": [
    {
     "data": {
      "text/html": [
       "<div>\n",
       "<style scoped>\n",
       "    .dataframe tbody tr th:only-of-type {\n",
       "        vertical-align: middle;\n",
       "    }\n",
       "\n",
       "    .dataframe tbody tr th {\n",
       "        vertical-align: top;\n",
       "    }\n",
       "\n",
       "    .dataframe thead th {\n",
       "        text-align: right;\n",
       "    }\n",
       "</style>\n",
       "<table border=\"1\" class=\"dataframe\">\n",
       "  <thead>\n",
       "    <tr style=\"text-align: right;\">\n",
       "      <th></th>\n",
       "      <th>Trace</th>\n",
       "      <th>Csv_breath_holds</th>\n",
       "      <th>Data_breath_holds</th>\n",
       "      <th>Full_trace</th>\n",
       "      <th>breathhold_idx</th>\n",
       "      <th>bh_start_end</th>\n",
       "      <th>class</th>\n",
       "    </tr>\n",
       "  </thead>\n",
       "  <tbody>\n",
       "    <tr>\n",
       "      <th>9</th>\n",
       "      <td>[1.0032, 1.0018, 1.0002, 0.9986, 0.9969, 0.995...</td>\n",
       "      <td>25.44</td>\n",
       "      <td>25.05</td>\n",
       "      <td>[0.0008, 0.0018, 0.0021, 0.0024, 0.0028, 0.003...</td>\n",
       "      <td>[2205, 2206, 2207, 2208, 2209, 2210, 2211, 221...</td>\n",
       "      <td>(2205, 4709)</td>\n",
       "      <td>0</td>\n",
       "    </tr>\n",
       "    <tr>\n",
       "      <th>13</th>\n",
       "      <td>[0.6626, 0.6662, 0.6698, 0.6733, 0.6768, 0.680...</td>\n",
       "      <td>24.41</td>\n",
       "      <td>24.44</td>\n",
       "      <td>[0.0004, 0.0011, 0.002, 0.0032, 0.0045, 0.006,...</td>\n",
       "      <td>[2095, 2096, 2097, 2098, 2099, 2100, 2101, 210...</td>\n",
       "      <td>(2095, 4538)</td>\n",
       "      <td>0</td>\n",
       "    </tr>\n",
       "    <tr>\n",
       "      <th>14</th>\n",
       "      <td>[0.7085, 0.7118, 0.7151, 0.7184, 0.7217, 0.724...</td>\n",
       "      <td>26.02</td>\n",
       "      <td>25.66</td>\n",
       "      <td>[0.0002, 0.0006, 0.001, 0.0015, 0.002, 0.0026,...</td>\n",
       "      <td>[2069, 2070, 2071, 2072, 2073, 2074, 2075, 207...</td>\n",
       "      <td>(2069, 4634)</td>\n",
       "      <td>0</td>\n",
       "    </tr>\n",
       "    <tr>\n",
       "      <th>15</th>\n",
       "      <td>[0.7846, 0.7867, 0.7888, 0.7909, 0.793, 0.795,...</td>\n",
       "      <td>26.43</td>\n",
       "      <td>25.11</td>\n",
       "      <td>[0.0002, 0.0007, 0.0015, 0.0026, 0.004, 0.0057...</td>\n",
       "      <td>[2070, 2071, 2072, 2073, 2074, 2075, 2076, 207...</td>\n",
       "      <td>(2070, 4580)</td>\n",
       "      <td>0</td>\n",
       "    </tr>\n",
       "    <tr>\n",
       "      <th>16</th>\n",
       "      <td>[0.6163, 0.6212, 0.626, 0.6307, 0.6354, 0.6401...</td>\n",
       "      <td>25.27</td>\n",
       "      <td>25.06</td>\n",
       "      <td>[0.0016, 0.0021, 0.0028, 0.0037, 0.0047, 0.005...</td>\n",
       "      <td>[2171, 2172, 2173, 2174, 2175, 2176, 2177, 217...</td>\n",
       "      <td>(2171, 4676)</td>\n",
       "      <td>0</td>\n",
       "    </tr>\n",
       "  </tbody>\n",
       "</table>\n",
       "</div>"
      ],
      "text/plain": [
       "                                                Trace  Csv_breath_holds  \\\n",
       "9   [1.0032, 1.0018, 1.0002, 0.9986, 0.9969, 0.995...             25.44   \n",
       "13  [0.6626, 0.6662, 0.6698, 0.6733, 0.6768, 0.680...             24.41   \n",
       "14  [0.7085, 0.7118, 0.7151, 0.7184, 0.7217, 0.724...             26.02   \n",
       "15  [0.7846, 0.7867, 0.7888, 0.7909, 0.793, 0.795,...             26.43   \n",
       "16  [0.6163, 0.6212, 0.626, 0.6307, 0.6354, 0.6401...             25.27   \n",
       "\n",
       "    Data_breath_holds                                         Full_trace  \\\n",
       "9               25.05  [0.0008, 0.0018, 0.0021, 0.0024, 0.0028, 0.003...   \n",
       "13              24.44  [0.0004, 0.0011, 0.002, 0.0032, 0.0045, 0.006,...   \n",
       "14              25.66  [0.0002, 0.0006, 0.001, 0.0015, 0.002, 0.0026,...   \n",
       "15              25.11  [0.0002, 0.0007, 0.0015, 0.0026, 0.004, 0.0057...   \n",
       "16              25.06  [0.0016, 0.0021, 0.0028, 0.0037, 0.0047, 0.005...   \n",
       "\n",
       "                                       breathhold_idx  bh_start_end  class  \n",
       "9   [2205, 2206, 2207, 2208, 2209, 2210, 2211, 221...  (2205, 4709)      0  \n",
       "13  [2095, 2096, 2097, 2098, 2099, 2100, 2101, 210...  (2095, 4538)      0  \n",
       "14  [2069, 2070, 2071, 2072, 2073, 2074, 2075, 207...  (2069, 4634)      0  \n",
       "15  [2070, 2071, 2072, 2073, 2074, 2075, 2076, 207...  (2070, 4580)      0  \n",
       "16  [2171, 2172, 2173, 2174, 2175, 2176, 2177, 217...  (2171, 4676)      0  "
      ]
     },
     "execution_count": 11,
     "metadata": {},
     "output_type": "execute_result"
    }
   ],
   "source": [
    "under2.head()"
   ]
  },
  {
   "cell_type": "markdown",
   "id": "cd814487",
   "metadata": {},
   "source": [
    "# Split and Normalize Data"
   ]
  },
  {
   "cell_type": "code",
   "execution_count": 12,
   "id": "4c0af501",
   "metadata": {},
   "outputs": [],
   "source": [
    "x_train, x_test, y_train, y_test = train_test_split(df['Trace'], df['class'], test_size=0.60)"
   ]
  },
  {
   "cell_type": "code",
   "execution_count": 13,
   "id": "c62686f0",
   "metadata": {},
   "outputs": [],
   "source": [
    "x_train, x_val, y_train, y_val = train_test_split(x_train, y_train, test_size=0.4, random_state=1)"
   ]
  },
  {
   "cell_type": "code",
   "execution_count": 14,
   "id": "bca991b0",
   "metadata": {},
   "outputs": [],
   "source": [
    "# Change type of each row from np.array to list to put into scaler\n",
    "x_train = np.array([list(row) for row in x_train])\n",
    "x_val = np.array([list(row) for row in x_val])\n",
    "x_test = np.array([list(row) for row in x_test])\n",
    "\n",
    "y_train = np.array(y_train)\n",
    "y_val = np.array(y_val)\n",
    "y_test = np.array(y_test)"
   ]
  },
  {
   "cell_type": "code",
   "execution_count": 15,
   "id": "3c91c61b",
   "metadata": {},
   "outputs": [],
   "source": [
    "scaler = StandardScaler() # creates the scaler\n",
    "scaler.fit(x_train)\n",
    "x_train = scaler.transform(x_train)\n",
    "x_val = scaler.transform(x_val)\n",
    "x_test = scaler.transform(x_test)"
   ]
  },
  {
   "cell_type": "markdown",
   "id": "c1800476",
   "metadata": {},
   "source": [
    "## Playing and debugging CNN layers"
   ]
  },
  {
   "cell_type": "code",
   "execution_count": 16,
   "id": "1186e40c",
   "metadata": {},
   "outputs": [],
   "source": [
    "D = 300\n",
    "N = 40"
   ]
  },
  {
   "cell_type": "code",
   "execution_count": 17,
   "id": "30bb0bf2",
   "metadata": {},
   "outputs": [
    {
     "data": {
      "text/plain": [
       "(2, 1500)"
      ]
     },
     "execution_count": 17,
     "metadata": {},
     "output_type": "execute_result"
    }
   ],
   "source": [
    "x = x_train[:2]\n",
    "x.shape"
   ]
  },
  {
   "cell_type": "code",
   "execution_count": 18,
   "id": "1fd90d7f",
   "metadata": {},
   "outputs": [
    {
     "data": {
      "text/plain": [
       "torch.Size([2, 1500])"
      ]
     },
     "execution_count": 18,
     "metadata": {},
     "output_type": "execute_result"
    }
   ],
   "source": [
    "x = torch.tensor(x,dtype=torch.float32)\n",
    "x.shape"
   ]
  },
  {
   "cell_type": "code",
   "execution_count": 19,
   "id": "f686b76c",
   "metadata": {},
   "outputs": [
    {
     "data": {
      "text/plain": [
       "torch.Size([2, 1, 1500])"
      ]
     },
     "execution_count": 19,
     "metadata": {},
     "output_type": "execute_result"
    }
   ],
   "source": [
    "x1 = torch.unsqueeze(x, dim=1)  # needs to convert x to (batch, embedding_dim, sentence_len)\n",
    "x1.shape\n"
   ]
  },
  {
   "cell_type": "code",
   "execution_count": 20,
   "id": "c0172152",
   "metadata": {},
   "outputs": [],
   "source": [
    "conv_3=nn.Conv1d(in_channels=1, out_channels=100, kernel_size=3)"
   ]
  },
  {
   "cell_type": "code",
   "execution_count": 21,
   "id": "9249fe27",
   "metadata": {},
   "outputs": [
    {
     "data": {
      "text/plain": [
       "torch.Size([2, 100, 1498])"
      ]
     },
     "execution_count": 21,
     "metadata": {},
     "output_type": "execute_result"
    }
   ],
   "source": [
    "x3 = conv_3(x1)\n",
    "x3.size()"
   ]
  },
  {
   "cell_type": "code",
   "execution_count": 22,
   "id": "dda9168e",
   "metadata": {},
   "outputs": [],
   "source": [
    "conv_4 = nn.Conv1d(in_channels=1, out_channels=100, kernel_size=4)\n",
    "conv_5 = nn.Conv1d(in_channels=1, out_channels=100, kernel_size=5)"
   ]
  },
  {
   "cell_type": "code",
   "execution_count": 23,
   "id": "61257239",
   "metadata": {},
   "outputs": [
    {
     "name": "stdout",
     "output_type": "stream",
     "text": [
      "torch.Size([2, 100, 1497]) torch.Size([2, 100, 1496])\n"
     ]
    }
   ],
   "source": [
    "x4 = conv_4(x1)\n",
    "x5 = conv_5(x1)\n",
    "print(x4.size(), x5.size())"
   ]
  },
  {
   "cell_type": "code",
   "execution_count": 24,
   "id": "330a0ee8",
   "metadata": {},
   "outputs": [
    {
     "data": {
      "text/plain": [
       "torch.Size([2, 100, 1])"
      ]
     },
     "execution_count": 24,
     "metadata": {},
     "output_type": "execute_result"
    }
   ],
   "source": [
    "# 100 3-gram detectors\n",
    "x3 = nn.ReLU()(x3)\n",
    "x3 = nn.MaxPool1d(kernel_size = 1498)(x3)\n",
    "x3.size()"
   ]
  },
  {
   "cell_type": "code",
   "execution_count": 25,
   "id": "29610c62",
   "metadata": {},
   "outputs": [
    {
     "data": {
      "text/plain": [
       "torch.Size([2, 100, 1])"
      ]
     },
     "execution_count": 25,
     "metadata": {},
     "output_type": "execute_result"
    }
   ],
   "source": [
    "# 100 4-gram detectors\n",
    "x4 = nn.ReLU()(x4)\n",
    "x4 = nn.MaxPool1d(kernel_size = 1497)(x4)\n",
    "x4.size()"
   ]
  },
  {
   "cell_type": "code",
   "execution_count": 26,
   "id": "bdebeb32",
   "metadata": {},
   "outputs": [
    {
     "data": {
      "text/plain": [
       "torch.Size([2, 100, 1])"
      ]
     },
     "execution_count": 26,
     "metadata": {},
     "output_type": "execute_result"
    }
   ],
   "source": [
    "# 100 5-gram detectors\n",
    "x5 = nn.ReLU()(x5)\n",
    "x5 = nn.MaxPool1d(kernel_size = 1496)(x5)\n",
    "x5.size()"
   ]
  },
  {
   "cell_type": "code",
   "execution_count": 27,
   "id": "47bd8224",
   "metadata": {},
   "outputs": [
    {
     "data": {
      "text/plain": [
       "torch.Size([2, 100, 3])"
      ]
     },
     "execution_count": 27,
     "metadata": {},
     "output_type": "execute_result"
    }
   ],
   "source": [
    "# concatenate x3, x4, x5\n",
    "out = torch.cat([x3, x4, x5], 2)\n",
    "out.size()"
   ]
  },
  {
   "cell_type": "code",
   "execution_count": 28,
   "id": "6663b18e",
   "metadata": {},
   "outputs": [
    {
     "data": {
      "text/plain": [
       "torch.Size([2, 300])"
      ]
     },
     "execution_count": 28,
     "metadata": {},
     "output_type": "execute_result"
    }
   ],
   "source": [
    "out = out.view(out.size(0), -1)\n",
    "out.size()"
   ]
  },
  {
   "cell_type": "markdown",
   "id": "7d817e5b",
   "metadata": {},
   "source": [
    "## CNN Model"
   ]
  },
  {
   "cell_type": "code",
   "execution_count": 29,
   "id": "d9c35dbb",
   "metadata": {},
   "outputs": [],
   "source": [
    "class myCNN(nn.Module):\n",
    "    \n",
    "    def __init__(self, D):\n",
    "        super(myCNN, self).__init__()\n",
    "        self.conv_3 = nn.Conv1d(in_channels=1, out_channels=100, kernel_size=3)\n",
    "        self.conv_4 = nn.Conv1d(in_channels=1, out_channels=100, kernel_size=4)\n",
    "        self.conv_5 = nn.Conv1d(in_channels=1, out_channels=100, kernel_size=5)\n",
    "        \n",
    "        self.dropout = nn.Dropout(p=0.5)\n",
    "        self.fc = nn.Linear(300, 1)\n",
    "        \n",
    "    def forward(self, x):\n",
    "        x = torch.unsqueeze(x, dim=1)\n",
    "        x3 = F.relu(self.conv_3(x))\n",
    "        x4 = F.relu(self.conv_4(x))\n",
    "        x5 = F.relu(self.conv_5(x))\n",
    "        \n",
    "        x3 = nn.MaxPool1d(kernel_size = 1498)(x3)\n",
    "        x4 = nn.MaxPool1d(kernel_size = 1497)(x4)\n",
    "        x5 = nn.MaxPool1d(kernel_size = 1496)(x5)\n",
    "        \n",
    "        out = torch.cat([x3, x4, x5], 2)\n",
    "        out = out.view(out.size(0), -1)\n",
    "        out = self.dropout(out)\n",
    "        \n",
    "        return self.fc(out) "
   ]
  },
  {
   "cell_type": "code",
   "execution_count": 30,
   "id": "34f1dd89",
   "metadata": {},
   "outputs": [],
   "source": [
    "# Testing the model\n",
    "model = myCNN(1)"
   ]
  },
  {
   "cell_type": "code",
   "execution_count": 31,
   "id": "4c48e191",
   "metadata": {},
   "outputs": [
    {
     "data": {
      "text/plain": [
       "tensor([[-0.2653],\n",
       "        [-0.6760],\n",
       "        [ 0.0572],\n",
       "        [-0.7622],\n",
       "        [-0.4694],\n",
       "        [-0.8595],\n",
       "        [ 0.1210],\n",
       "        [-0.0306],\n",
       "        [-0.5402],\n",
       "        [-0.1550]], grad_fn=<AddmmBackward0>)"
      ]
     },
     "execution_count": 31,
     "metadata": {},
     "output_type": "execute_result"
    }
   ],
   "source": [
    "x = x_train[:10]\n",
    "x = torch.tensor(x,dtype=torch.float32)\n",
    "model(x)"
   ]
  },
  {
   "cell_type": "markdown",
   "id": "8cd42e20",
   "metadata": {},
   "source": [
    "## Training"
   ]
  },
  {
   "cell_type": "code",
   "execution_count": 32,
   "id": "bb6978e5",
   "metadata": {},
   "outputs": [],
   "source": [
    "#def train(model, x_train, y_train):\n",
    "model = myCNN(1)"
   ]
  },
  {
   "cell_type": "code",
   "execution_count": 33,
   "id": "06ed9bfb",
   "metadata": {},
   "outputs": [],
   "source": [
    "# this filters parameters with p.requires_grad=True\n",
    "parameters = filter(lambda p: p.requires_grad, model.parameters())\n",
    "optimizer = torch.optim.Adam(parameters, lr=0.01)"
   ]
  },
  {
   "cell_type": "code",
   "execution_count": 34,
   "id": "e59785c4",
   "metadata": {},
   "outputs": [],
   "source": [
    "def train_epocs(model, epochs=10, lr=0.01):\n",
    "    parameters = filter(lambda p: p.requires_grad, model.parameters())\n",
    "    optimizer = torch.optim.Adam(parameters, lr=lr)\n",
    "    model.train()\n",
    "    losses = []\n",
    "    for i in range(epochs):\n",
    "        x = Variable(torch.tensor(x_train,dtype=torch.float32))\n",
    "        y = Variable(torch.tensor(y_train,dtype=torch.float32)).unsqueeze(1)\n",
    "        y_hat = model(x)\n",
    "        loss = F.binary_cross_entropy_with_logits(y_hat, y)\n",
    "        optimizer.zero_grad()\n",
    "        loss.backward()\n",
    "        optimizer.step()\n",
    "        print(loss.item())\n",
    "        losses.append(loss.item())\n",
    "    test_metrics(model)\n",
    "    return losses"
   ]
  },
  {
   "cell_type": "code",
   "execution_count": 35,
   "id": "a386d93e",
   "metadata": {},
   "outputs": [],
   "source": [
    "def test_metrics(m):\n",
    "    model.eval()\n",
    "    x = Variable(torch.tensor(x_test,dtype=torch.float32))\n",
    "    y = Variable(torch.Tensor(y_test)).unsqueeze(1)\n",
    "    y_hat = m(x)\n",
    "    loss = F.binary_cross_entropy_with_logits(y_hat, y)\n",
    "    y_pred = y_hat > 0\n",
    "    correct = (y_pred.float() == y).float().sum()\n",
    "    accuracy = correct/y_pred.shape[0]\n",
    "    print(\"test loss %.3f and accuracy %.3f\" % (loss.item(), accuracy))"
   ]
  },
  {
   "cell_type": "code",
   "execution_count": 36,
   "id": "7a4370d9",
   "metadata": {},
   "outputs": [
    {
     "name": "stdout",
     "output_type": "stream",
     "text": [
      "0.7280896902084351\n",
      "0.8864974975585938\n",
      "0.7800260186195374\n",
      "0.8266193866729736\n",
      "0.735830545425415\n",
      "0.7355087995529175\n",
      "0.7883255481719971\n",
      "0.7378336787223816\n",
      "0.7143096327781677\n",
      "0.7239702343940735\n",
      "0.7423444986343384\n",
      "0.7316452860832214\n",
      "0.7041357755661011\n",
      "0.7088527083396912\n",
      "0.7205995917320251\n",
      "0.7331069111824036\n",
      "0.7153362035751343\n",
      "0.7083597183227539\n",
      "0.7080092430114746\n",
      "0.7081800699234009\n",
      "test loss 0.708 and accuracy 0.494\n"
     ]
    }
   ],
   "source": [
    "losses = train_epocs(model, epochs=20, lr=0.01)"
   ]
  },
  {
   "cell_type": "code",
   "execution_count": 49,
   "id": "6f5e1533",
   "metadata": {},
   "outputs": [
    {
     "data": {
      "image/png": "[encoded data removed]",
      "text/plain": [
       "<Figure size 432x288 with 1 Axes>"
      ]
     },
     "metadata": {
      "needs_background": "light"
     },
     "output_type": "display_data"
    }
   ],
   "source": [
    "plt.plot(losses)\n",
    "plt.ylim(0,1)\n",
    "plt.title('Loss')\n",
    "plt.show()"
   ]
  }
 ],
 "metadata": {
  "kernelspec": {
   "display_name": "Python 3 (ipykernel)",
   "language": "python",
   "name": "python3"
  },
  "language_info": {
   "codemirror_mode": {
    "name": "ipython",
    "version": 3
   },
   "file_extension": ".py",
   "mimetype": "text/x-python",
   "name": "python",
   "nbconvert_exporter": "python",
   "pygments_lexer": "ipython3",
   "version": "3.8.10"
  }
 },
 "nbformat": 4,
 "nbformat_minor": 5
}
