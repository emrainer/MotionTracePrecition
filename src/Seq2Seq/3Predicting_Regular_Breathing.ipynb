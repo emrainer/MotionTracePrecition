{
 "cells": [
  {
   "cell_type": "code",
   "execution_count": 1,
   "id": "a6e69f15-96d5-432a-ab3e-e85b0fafa71e",
   "metadata": {},
   "outputs": [],
   "source": [
    "##########################Load Libraries  ####################################\n",
    "import pandas as pd\n",
    "import numpy as np\n",
    "import matplotlib.pyplot as plt     \n",
    "import re\n",
    "from sklearn.preprocessing import MinMaxScaler,StandardScaler\n",
    "from sklearn.model_selection import train_test_split\n",
    "\n",
    "from sklearn.metrics import mean_squared_error\n",
    "from sklearn.metrics import mean_absolute_error\n",
    "from sklearn.model_selection import GridSearchCV, KFold\n",
    "from sklearn.metrics import mean_absolute_error\n",
    "from memory_reduction import reduce_memory_usage\n",
    "\n",
    "import torch\n",
    "import torch.nn as nn\n",
    "from torch import optim\n",
    "import torch.nn.functional as F\n",
    "from torch.utils.data import Dataset, DataLoader\n",
    "from torch.nn.utils.rnn import pack_padded_sequence, pad_packed_sequence \n",
    "\n",
    "from window_data import *\n",
    "\n",
    "import os, errno\n",
    "import sys\n",
    "from tqdm import trange\n",
    "\n",
    "\n",
    "import warnings\n",
    "warnings.filterwarnings('ignore')"
   ]
  },
  {
   "cell_type": "markdown",
   "id": "e97c262a-4d50-4042-9f97-80f8e4897911",
   "metadata": {},
   "source": [
    "### Pre Processing & Dataset Preparation"
   ]
  },
  {
   "cell_type": "markdown",
   "id": "f9681bac-edf3-43b1-a5c8-1f12a5cabccd",
   "metadata": {},
   "source": [
    "#### GPU use\n",
    "Emply GPU to accelerate the training of the deep learning model."
   ]
  },
  {
   "cell_type": "code",
   "execution_count": 2,
   "id": "6a64c7f8-61de-40c4-91a8-4a6c5074b115",
   "metadata": {},
   "outputs": [],
   "source": [
    "device = torch.device(\"cuda\" if torch.cuda.is_available() else \"cpu\")"
   ]
  },
  {
   "cell_type": "markdown",
   "id": "4e44e152-dfd8-4838-bc49-b773a1042b7d",
   "metadata": {},
   "source": [
    "#### Load and Clean Data\n",
    "\n",
    "Data is stored in csv files. We will only consider traces where Csv_breath_hold and Data_breath_hold differs by fewer than 2 seconds"
   ]
  },
  {
   "cell_type": "code",
   "execution_count": 3,
   "id": "f74b2f0b-e7b7-4ec1-9906-92dbcb1ec59f",
   "metadata": {},
   "outputs": [],
   "source": [
    "breath_df = pd.read_pickle('breath_df')\n",
    "under2 = breath_df[abs(breath_df['Csv_breath_holds']\\\n",
    "                       -breath_df['Data_breath_holds'])<=2].reset_index()"
   ]
  },
  {
   "cell_type": "code",
   "execution_count": 4,
   "id": "dc43b44c-f25f-497c-9c0e-c33f849a9010",
   "metadata": {},
   "outputs": [
    {
     "data": {
      "text/html": [
       "<div>\n",
       "<style scoped>\n",
       "    .dataframe tbody tr th:only-of-type {\n",
       "        vertical-align: middle;\n",
       "    }\n",
       "\n",
       "    .dataframe tbody tr th {\n",
       "        vertical-align: top;\n",
       "    }\n",
       "\n",
       "    .dataframe thead th {\n",
       "        text-align: right;\n",
       "    }\n",
       "</style>\n",
       "<table border=\"1\" class=\"dataframe\">\n",
       "  <thead>\n",
       "    <tr style=\"text-align: right;\">\n",
       "      <th></th>\n",
       "      <th>index</th>\n",
       "      <th>Trace</th>\n",
       "      <th>Csv_breath_holds</th>\n",
       "      <th>Data_breath_holds</th>\n",
       "      <th>Full_trace</th>\n",
       "      <th>breathhold_idx</th>\n",
       "      <th>bh_start_end</th>\n",
       "    </tr>\n",
       "  </thead>\n",
       "  <tbody>\n",
       "    <tr>\n",
       "      <th>0</th>\n",
       "      <td>0</td>\n",
       "      <td>[0.1319, 0.1363, 0.1408, 0.1452, 0.1497, 0.154...</td>\n",
       "      <td>31.29</td>\n",
       "      <td>31.69</td>\n",
       "      <td>[0.0003, 0.0006, 0.001, 0.0014, 0.0019, 0.0023...</td>\n",
       "      <td>[2661, 2662, 2663, 2664, 2665, 2666, 2667, 266...</td>\n",
       "      <td>(2661, 5829)</td>\n",
       "    </tr>\n",
       "    <tr>\n",
       "      <th>1</th>\n",
       "      <td>1</td>\n",
       "      <td>[0.4727, 0.4687, 0.4646, 0.4605, 0.4563, 0.452...</td>\n",
       "      <td>30.61</td>\n",
       "      <td>31.40</td>\n",
       "      <td>[0.0006, 0.0009, 0.0013, 0.0017, 0.0022, 0.002...</td>\n",
       "      <td>[2386, 2387, 2388, 2389, 2390, 2391, 2392, 239...</td>\n",
       "      <td>(2386, 5525)</td>\n",
       "    </tr>\n",
       "    <tr>\n",
       "      <th>2</th>\n",
       "      <td>3</td>\n",
       "      <td>[0.0982, 0.0966, 0.095, 0.0934, 0.0919, 0.0904...</td>\n",
       "      <td>30.85</td>\n",
       "      <td>31.84</td>\n",
       "      <td>[0.0013, 0.0027, 0.0034, 0.0041, 0.005, 0.006,...</td>\n",
       "      <td>[2573, 2574, 2575, 2576, 2577, 2578, 2579, 258...</td>\n",
       "      <td>(2573, 5756)</td>\n",
       "    </tr>\n",
       "    <tr>\n",
       "      <th>3</th>\n",
       "      <td>4</td>\n",
       "      <td>[0.0117, 0.0109, 0.0102, 0.0095, 0.0089, 0.008...</td>\n",
       "      <td>32.12</td>\n",
       "      <td>32.53</td>\n",
       "      <td>[0.0012, 0.0015, 0.0019, 0.0023, 0.0029, 0.003...</td>\n",
       "      <td>[2520, 2521, 2522, 2523, 2524, 2525, 2526, 252...</td>\n",
       "      <td>(2520, 5772)</td>\n",
       "    </tr>\n",
       "    <tr>\n",
       "      <th>4</th>\n",
       "      <td>5</td>\n",
       "      <td>[0.1155, 0.1195, 0.1235, 0.1276, 0.1317, 0.135...</td>\n",
       "      <td>30.88</td>\n",
       "      <td>31.02</td>\n",
       "      <td>[0.0008, 0.0011, 0.0014, 0.0018, 0.0023, 0.002...</td>\n",
       "      <td>[2683, 2684, 2685, 2686, 2687, 2688, 2689, 269...</td>\n",
       "      <td>(2683, 5784)</td>\n",
       "    </tr>\n",
       "  </tbody>\n",
       "</table>\n",
       "</div>"
      ],
      "text/plain": [
       "   index                                              Trace  Csv_breath_holds  \\\n",
       "0      0  [0.1319, 0.1363, 0.1408, 0.1452, 0.1497, 0.154...             31.29   \n",
       "1      1  [0.4727, 0.4687, 0.4646, 0.4605, 0.4563, 0.452...             30.61   \n",
       "2      3  [0.0982, 0.0966, 0.095, 0.0934, 0.0919, 0.0904...             30.85   \n",
       "3      4  [0.0117, 0.0109, 0.0102, 0.0095, 0.0089, 0.008...             32.12   \n",
       "4      5  [0.1155, 0.1195, 0.1235, 0.1276, 0.1317, 0.135...             30.88   \n",
       "\n",
       "   Data_breath_holds                                         Full_trace  \\\n",
       "0              31.69  [0.0003, 0.0006, 0.001, 0.0014, 0.0019, 0.0023...   \n",
       "1              31.40  [0.0006, 0.0009, 0.0013, 0.0017, 0.0022, 0.002...   \n",
       "2              31.84  [0.0013, 0.0027, 0.0034, 0.0041, 0.005, 0.006,...   \n",
       "3              32.53  [0.0012, 0.0015, 0.0019, 0.0023, 0.0029, 0.003...   \n",
       "4              31.02  [0.0008, 0.0011, 0.0014, 0.0018, 0.0023, 0.002...   \n",
       "\n",
       "                                      breathhold_idx  bh_start_end  \n",
       "0  [2661, 2662, 2663, 2664, 2665, 2666, 2667, 266...  (2661, 5829)  \n",
       "1  [2386, 2387, 2388, 2389, 2390, 2391, 2392, 239...  (2386, 5525)  \n",
       "2  [2573, 2574, 2575, 2576, 2577, 2578, 2579, 258...  (2573, 5756)  \n",
       "3  [2520, 2521, 2522, 2523, 2524, 2525, 2526, 252...  (2520, 5772)  \n",
       "4  [2683, 2684, 2685, 2686, 2687, 2688, 2689, 269...  (2683, 5784)  "
      ]
     },
     "execution_count": 4,
     "metadata": {},
     "output_type": "execute_result"
    }
   ],
   "source": [
    "under2.head()"
   ]
  },
  {
   "cell_type": "code",
   "execution_count": 5,
   "id": "e270a4bf-93e0-4b20-bf56-994c81db16a7",
   "metadata": {},
   "outputs": [
    {
     "data": {
      "text/plain": [
       "(4793, 7)"
      ]
     },
     "execution_count": 5,
     "metadata": {},
     "output_type": "execute_result"
    }
   ],
   "source": [
    "under2.shape"
   ]
  },
  {
   "cell_type": "markdown",
   "id": "5c3dae2f-eb05-4165-b0be-f71300ae5f16",
   "metadata": {},
   "source": [
    "#### Only Consider Regular Breathing"
   ]
  },
  {
   "cell_type": "code",
   "execution_count": 6,
   "id": "880d7806-90f4-4ad7-bc6e-b2ab9087d1f5",
   "metadata": {},
   "outputs": [],
   "source": [
    "under2['start_idx'] = \\\n",
    "            [bh_range[0] for bh_range in under2['bh_start_end']]"
   ]
  },
  {
   "cell_type": "code",
   "execution_count": 7,
   "id": "7555eda9-5aac-4956-81b4-a583d629f726",
   "metadata": {},
   "outputs": [
    {
     "name": "stdout",
     "output_type": "stream",
     "text": [
      "19.814 32.4 60.9008\n"
     ]
    }
   ],
   "source": [
    "q25 = under2['Data_breath_holds'].quantile(.1)\n",
    "q50 = under2['Data_breath_holds'].quantile(.5)\n",
    "q75 = under2['Data_breath_holds'].quantile(.99)\n",
    "print(q25, q50, q75)"
   ]
  },
  {
   "cell_type": "code",
   "execution_count": 8,
   "id": "02696c0e-eca3-4e0f-a6f7-1683894c3bef",
   "metadata": {},
   "outputs": [
    {
     "data": {
      "image/png": "[encoded data removed]",
      "text/plain": [
       "<Figure size 432x288 with 1 Axes>"
      ]
     },
     "metadata": {
      "needs_background": "light"
     },
     "output_type": "display_data"
    }
   ],
   "source": [
    "plt.plot(under2['Full_trace'][0])\n",
    "plt.axvline(under2['start_idx'][0], c='red')\n",
    "plt.show()"
   ]
  },
  {
   "cell_type": "code",
   "execution_count": 9,
   "id": "ba8ea8ce-033a-4a70-9a57-85999d7f8c14",
   "metadata": {},
   "outputs": [],
   "source": [
    "regular_breathing = []\n",
    "for i in range(len(under2)):\n",
    "    bh_start = under2['start_idx'][i] # breath hold start\n",
    "    trace = under2['Full_trace'][i] # full breathing trace\n",
    "    regular_breathing.append(trace[:bh_start]) # only consider reg breathing\n",
    "under2['regular_breathing'] = regular_breathing"
   ]
  },
  {
   "cell_type": "code",
   "execution_count": 10,
   "id": "a8fd6540-c419-4a5f-bbb7-67ef965bfd5f",
   "metadata": {},
   "outputs": [
    {
     "data": {
      "image/png": "[encoded data removed]",
      "text/plain": [
       "<Figure size 432x288 with 1 Axes>"
      ]
     },
     "metadata": {
      "needs_background": "light"
     },
     "output_type": "display_data"
    }
   ],
   "source": [
    "plt.plot(under2['regular_breathing'][0])\n",
    "plt.axvline(under2['start_idx'][0], c='red')\n",
    "plt.show()"
   ]
  },
  {
   "cell_type": "markdown",
   "id": "0c3778d9-5115-44df-b2c4-3d68ccefadef",
   "metadata": {
    "tags": []
   },
   "source": [
    "#### Memory Usage "
   ]
  },
  {
   "cell_type": "code",
   "execution_count": 11,
   "id": "9d82d061-d488-4467-a8ab-bae7ca4c5b78",
   "metadata": {},
   "outputs": [
    {
     "name": "stdout",
     "output_type": "stream",
     "text": [
      "Mem. usage decreased to  0.22 Mb from  0.33 Mb (33.3% reduction)\n"
     ]
    }
   ],
   "source": [
    "under2 = reduce_memory_usage(under2)"
   ]
  },
  {
   "cell_type": "code",
   "execution_count": 12,
   "id": "3b3b009d-b980-4c23-96dc-14ea9bd9882f",
   "metadata": {},
   "outputs": [],
   "source": [
    "df = under2.copy()"
   ]
  },
  {
   "cell_type": "code",
   "execution_count": 13,
   "id": "48571a34-54db-4ec0-9a3a-79633c765741",
   "metadata": {},
   "outputs": [
    {
     "data": {
      "text/html": [
       "<div>\n",
       "<style scoped>\n",
       "    .dataframe tbody tr th:only-of-type {\n",
       "        vertical-align: middle;\n",
       "    }\n",
       "\n",
       "    .dataframe tbody tr th {\n",
       "        vertical-align: top;\n",
       "    }\n",
       "\n",
       "    .dataframe thead th {\n",
       "        text-align: right;\n",
       "    }\n",
       "</style>\n",
       "<table border=\"1\" class=\"dataframe\">\n",
       "  <thead>\n",
       "    <tr style=\"text-align: right;\">\n",
       "      <th></th>\n",
       "      <th>index</th>\n",
       "      <th>Trace</th>\n",
       "      <th>Csv_breath_holds</th>\n",
       "      <th>Data_breath_holds</th>\n",
       "      <th>Full_trace</th>\n",
       "      <th>breathhold_idx</th>\n",
       "      <th>bh_start_end</th>\n",
       "      <th>start_idx</th>\n",
       "      <th>regular_breathing</th>\n",
       "    </tr>\n",
       "  </thead>\n",
       "  <tbody>\n",
       "    <tr>\n",
       "      <th>0</th>\n",
       "      <td>0</td>\n",
       "      <td>[0.132, 0.1364, 0.1407, 0.1451, 0.1497, 0.1543...</td>\n",
       "      <td>31.296875</td>\n",
       "      <td>31.68750</td>\n",
       "      <td>[0.0003, 0.0006, 0.001, 0.0014, 0.0019, 0.0023...</td>\n",
       "      <td>[2660.0, 2662.0, 2664.0, 2664.0, 2664.0, 2666....</td>\n",
       "      <td>[2660.0, 5828.0]</td>\n",
       "      <td>2661</td>\n",
       "      <td>[0.0003, 0.0006, 0.001, 0.0014, 0.0019, 0.0023...</td>\n",
       "    </tr>\n",
       "    <tr>\n",
       "      <th>1</th>\n",
       "      <td>1</td>\n",
       "      <td>[0.4727, 0.4688, 0.4646, 0.4604, 0.4563, 0.452...</td>\n",
       "      <td>30.609375</td>\n",
       "      <td>31.40625</td>\n",
       "      <td>[0.0006, 0.0009, 0.0013, 0.0017, 0.0022, 0.002...</td>\n",
       "      <td>[2386.0, 2388.0, 2388.0, 2388.0, 2390.0, 2392....</td>\n",
       "      <td>[2386.0, 5524.0]</td>\n",
       "      <td>2386</td>\n",
       "      <td>[0.0006, 0.0009, 0.0013, 0.0017, 0.0022, 0.002...</td>\n",
       "    </tr>\n",
       "  </tbody>\n",
       "</table>\n",
       "</div>"
      ],
      "text/plain": [
       "   index                                              Trace  Csv_breath_holds  \\\n",
       "0      0  [0.132, 0.1364, 0.1407, 0.1451, 0.1497, 0.1543...         31.296875   \n",
       "1      1  [0.4727, 0.4688, 0.4646, 0.4604, 0.4563, 0.452...         30.609375   \n",
       "\n",
       "   Data_breath_holds                                         Full_trace  \\\n",
       "0           31.68750  [0.0003, 0.0006, 0.001, 0.0014, 0.0019, 0.0023...   \n",
       "1           31.40625  [0.0006, 0.0009, 0.0013, 0.0017, 0.0022, 0.002...   \n",
       "\n",
       "                                      breathhold_idx      bh_start_end  \\\n",
       "0  [2660.0, 2662.0, 2664.0, 2664.0, 2664.0, 2666....  [2660.0, 5828.0]   \n",
       "1  [2386.0, 2388.0, 2388.0, 2388.0, 2390.0, 2392....  [2386.0, 5524.0]   \n",
       "\n",
       "   start_idx                                  regular_breathing  \n",
       "0       2661  [0.0003, 0.0006, 0.001, 0.0014, 0.0019, 0.0023...  \n",
       "1       2386  [0.0006, 0.0009, 0.0013, 0.0017, 0.0022, 0.002...  "
      ]
     },
     "execution_count": 13,
     "metadata": {},
     "output_type": "execute_result"
    }
   ],
   "source": [
    "df.head(2)"
   ]
  },
  {
   "cell_type": "markdown",
   "id": "36c4bbde-44f3-4575-9087-5142dfc2cf2f",
   "metadata": {},
   "source": [
    "#### Split Data"
   ]
  },
  {
   "cell_type": "code",
   "execution_count": 14,
   "id": "6af4d2ea-686f-4691-bdde-422e54c022d9",
   "metadata": {},
   "outputs": [
    {
     "name": "stdout",
     "output_type": "stream",
     "text": [
      "train size is: 3355\n",
      "validation size is: 958\n",
      "test size is: 479\n"
     ]
    }
   ],
   "source": [
    "train_size = int((len(df)) * 0.70)\n",
    "valid_size = int((len(df))*.20)\n",
    "test_size = int((len(df))*.10)\n",
    "print(\"train size is:\",train_size)\n",
    "print(\"validation size is:\",valid_size)\n",
    "print(\"test size is:\",test_size)"
   ]
  },
  {
   "cell_type": "code",
   "execution_count": 15,
   "id": "d9a0a000-3104-42f1-bb9a-c51b6785aab3",
   "metadata": {},
   "outputs": [
    {
     "name": "stdout",
     "output_type": "stream",
     "text": [
      "train data shape is: (3355, 9)\n",
      "validation data shape is: (958, 9)\n",
      "test data shape is: (480, 9)\n"
     ]
    }
   ],
   "source": [
    "train = df.iloc[0:train_size]\n",
    "valid = df.iloc[train_size:train_size+valid_size]\n",
    "test = df.iloc[train_size+valid_size:]\n",
    "print(\"train data shape is:\",train.shape)\n",
    "print(\"validation data shape is:\",valid.shape)\n",
    "print(\"test data shape is:\",test.shape)"
   ]
  },
  {
   "cell_type": "markdown",
   "id": "b746a826-0f2e-4ba4-a5ad-549b5d9ad21d",
   "metadata": {},
   "source": [
    "#### Normalize Data`"
   ]
  },
  {
   "cell_type": "code",
   "execution_count": 16,
   "id": "e21214ca-60aa-4417-98a9-952938836865",
   "metadata": {},
   "outputs": [],
   "source": [
    "X_train = list(train['Trace'])\n",
    "X_val = list(valid['Trace'])\n",
    "X_test = list(test['Trace'])"
   ]
  },
  {
   "cell_type": "code",
   "execution_count": 17,
   "id": "2e40f646-e701-437e-ba92-35577fead47f",
   "metadata": {},
   "outputs": [],
   "source": [
    "scaler = MinMaxScaler() # creates the scaler, scales -1 to 1\n",
    "scaler.fit(X_train)\n",
    "x_train2 = scaler.transform(X_train)\n",
    "x_val2 = scaler.transform(X_val)\n",
    "x_test2 = scaler.transform(X_test)"
   ]
  },
  {
   "cell_type": "markdown",
   "id": "cff0a275-6322-4ea5-86cf-5d79b8e10a39",
   "metadata": {},
   "source": [
    "#### Sliding Window\n",
    "\n",
    "We wil use a sliding window of 100 points.\n",
    "Our target(labels) is 10 points"
   ]
  },
  {
   "cell_type": "code",
   "execution_count": 18,
   "id": "2018c81a-8954-4371-8098-cfd91b447bfe",
   "metadata": {},
   "outputs": [],
   "source": [
    "num_outputs = 10"
   ]
  },
  {
   "cell_type": "code",
   "execution_count": 19,
   "id": "c5365814-8405-421f-bc22-585716b7343a",
   "metadata": {},
   "outputs": [],
   "source": [
    "Train = create_windowed_data(n_steps=100, n_output=num_outputs, trace_column=x_train2)\n",
    "Valid = create_windowed_data(n_steps=100, n_output=num_outputs, trace_column=x_val2)\n",
    "Test = create_windowed_data(n_steps=100, n_output=num_outputs, trace_column=x_test2)"
   ]
  },
  {
   "cell_type": "code",
   "execution_count": 20,
   "id": "cbf8e236-4ed0-46fc-aaf1-33dc082d6f4e",
   "metadata": {},
   "outputs": [
    {
     "name": "stdout",
     "output_type": "stream",
     "text": [
      "(43615, 3)\n",
      "(12454, 3)\n",
      "(6240, 3)\n"
     ]
    }
   ],
   "source": [
    "print(Train.shape)\n",
    "print(Valid.shape)\n",
    "print(Test.shape)"
   ]
  },
  {
   "cell_type": "markdown",
   "id": "cd8f7fdc-7494-48c9-9e6c-32710e123cc6",
   "metadata": {},
   "source": [
    "# \n",
    "create new ds to reconstruct trace\n",
    "\n",
    "tune number of layers"
   ]
  },
  {
   "cell_type": "markdown",
   "id": "05758961-b9dd-45ac-8a0f-21d97af718e2",
   "metadata": {},
   "source": [
    "#### Define Dataset\n",
    "\n",
    "Convert data to tensors"
   ]
  },
  {
   "cell_type": "code",
   "execution_count": 21,
   "id": "12c88d0d-3eb2-46a4-95a5-3e0ec0d897f7",
   "metadata": {},
   "outputs": [],
   "source": [
    "def reshape_series(series):\n",
    "    series = np.transpose(np.array(series))\n",
    "    return series.reshape(series.shape[0],series.shape[1], 1)\n",
    "\n",
    "x_train = reshape_series(list(Train['Trace']))\n",
    "x_val = reshape_series(list(Valid['Trace']))\n",
    "x_test = reshape_series(list(Test['Trace']))\n",
    "y_train = reshape_series(list(Train['Next_pts']))\n",
    "y_val = reshape_series(list(Train['Next_pts']))\n",
    "y_test = reshape_series(list(Test['Next_pts']))"
   ]
  },
  {
   "cell_type": "code",
   "execution_count": 22,
   "id": "fee644ab-ea1c-40b8-bb21-83d6d6374df8",
   "metadata": {},
   "outputs": [],
   "source": [
    "#dataset\n",
    "from torch.utils.data import Dataset"
   ]
  },
  {
   "cell_type": "code",
   "execution_count": 23,
   "id": "ce3a42cf-1e0a-4bf0-8aef-78ffd80c3f6d",
   "metadata": {},
   "outputs": [],
   "source": [
    "from torch.utils.data import Dataset\n",
    "\n",
    "class timeseries(Dataset):\n",
    "    def __init__(self,x,y):\n",
    "        self.x = torch.tensor(x,dtype=torch.float32)\n",
    "        self.y = torch.tensor(y,dtype=torch.float32)\n",
    "        self.len = x.shape[0]\n",
    "\n",
    "    def __getitem__(self,idx):\n",
    "        return self.x[idx],self.y[idx]\n",
    "  \n",
    "    def __len__(self):\n",
    "        return self.len"
   ]
  },
  {
   "cell_type": "code",
   "execution_count": 24,
   "id": "d55106a7-9ad5-475d-b6d5-beca81d65e62",
   "metadata": {},
   "outputs": [],
   "source": [
    "train_dataset = timeseries(x_train, y_train)\n",
    "valid_dataset = timeseries(x_val, y_val)\n",
    "test_dataset = timeseries(x_test, y_test)"
   ]
  },
  {
   "cell_type": "code",
   "execution_count": 25,
   "id": "219d78db-ff41-40d9-ab25-7161c818569a",
   "metadata": {},
   "outputs": [
    {
     "name": "stdout",
     "output_type": "stream",
     "text": [
      "train X shape is: torch.Size([100, 43615, 1])\n",
      "train y shape is: torch.Size([10, 43615, 1])\n"
     ]
    }
   ],
   "source": [
    "print (\"train X shape is:\",train_dataset.x.shape)\n",
    "print (\"train y shape is:\",train_dataset.y.shape)"
   ]
  },
  {
   "cell_type": "code",
   "execution_count": 26,
   "id": "6ec5cd91-6e12-4f3f-ae15-b105531930ca",
   "metadata": {},
   "outputs": [
    {
     "data": {
      "image/png": "[encoded data removed]",
      "text/plain": [
       "<Figure size 648x288 with 1 Axes>"
      ]
     },
     "metadata": {
      "needs_background": "light"
     },
     "output_type": "display_data"
    }
   ],
   "source": [
    "iw = 100\n",
    "ow = 10 \n",
    "# plot example of windowed data  \n",
    "plt.figure(figsize = (9, 4)) \n",
    "plt.plot(np.arange(0, iw), x_train[:, 0, 0], 'k', linewidth = 2.2, label = 'Input')\n",
    "plt.plot(np.arange(iw - 1, iw + ow), np.concatenate([[x_train[-1, 0, 0]], y_train[:, 0, 0]]),\n",
    "         color = (0.2, 0.42, 0.72), linewidth = 2.2, label = 'Target')\n",
    "plt.xlim([0, iw + ow - 1])\n",
    "plt.xlabel(r'$t$')\n",
    "plt.ylabel(r'$y$')\n",
    "plt.title('Example of Windowed Training Data')\n",
    "plt.legend(bbox_to_anchor=(1.3, 1))\n",
    "plt.tight_layout() "
   ]
  },
  {
   "cell_type": "code",
   "execution_count": 27,
   "id": "8cb9d7d2-5892-405f-96c3-dc06c3583edc",
   "metadata": {},
   "outputs": [
    {
     "data": {
      "image/png": "[encoded data removed]",
      "text/plain": [
       "<Figure size 648x288 with 1 Axes>"
      ]
     },
     "metadata": {
      "needs_background": "light"
     },
     "output_type": "display_data"
    }
   ],
   "source": [
    "iw = 100\n",
    "ow = 10 \n",
    "# plot example of windowed data  \n",
    "plt.figure(figsize = (9, 4)) \n",
    "plt.plot(np.arange(0, iw), x_train[:, 0, 0], 'k', linewidth = 2.2, label = 'Input')\n",
    "plt.plot(np.arange(iw - 1, iw + ow), np.concatenate([[x_train[-1, 0, 0]], y_train[:, 0, 0]]),\n",
    "         color = (0.2, 0.42, 0.72), linewidth = 2.2, label = 'Target')\n",
    "plt.xlim([0, iw + ow - 1])\n",
    "plt.xlabel(r'$t$')\n",
    "plt.ylabel(r'$y$')\n",
    "plt.title('Example of Windowed Training Data')\n",
    "plt.legend(bbox_to_anchor=(1.3, 1))\n",
    "plt.tight_layout() "
   ]
  },
  {
   "cell_type": "markdown",
   "id": "cd3feeb4-5311-40d2-b9e2-0c9d4f33892f",
   "metadata": {},
   "source": [
    "### Model Definition"
   ]
  },
  {
   "cell_type": "markdown",
   "id": "6059299a-11a1-43ac-83e4-fb36407a471a",
   "metadata": {},
   "source": [
    "#### Define LSTM Encoder and Decoder (Multistep Prediction)"
   ]
  },
  {
   "cell_type": "markdown",
   "id": "f5c46df1-5e26-438d-b730-020c2442df32",
   "metadata": {},
   "source": [
    "Hui's paper:\n",
    "- Num layers = 3\n",
    "- Hidden units per layer = 15\n",
    "- Learning rate = 0.001\n",
    "- Epochs = 30\n",
    "- Optimizer = Adam"
   ]
  },
  {
   "cell_type": "code",
   "execution_count": 28,
   "id": "9197079b-209a-49f0-b6fd-da607773b758",
   "metadata": {},
   "outputs": [],
   "source": [
    "# neural network\n",
    "from torch import nn\n",
    "\n",
    "class lstm_encoder(nn.Module):\n",
    "    ''' Encodes a time series sequence '''\n",
    "    \n",
    "    def __init__(self, input_size=1, hidden_size=5, num_layers=3):\n",
    "\n",
    "        super(lstm_encoder, self).__init__()\n",
    "        self.input_size = input_size # the number of features in the input X\n",
    "        self.hidden_size = hidden_size # the number of features in the hidden state h\n",
    "        self.num_layers = num_layers # number of recurrent layers \n",
    "        \n",
    "        # define an LSTM layer\n",
    "        self.lstm = nn.LSTM(input_size=input_size, hidden_size=hidden_size,\n",
    "                            num_layers=num_layers)\n",
    "        \n",
    "    def forward(self, x):\n",
    "        output, self.hidden = self.lstm(x.view(x.shape[0], x.shape[1], self.input_size))\n",
    "        \n",
    "        return output, self.hidden   # hidden gives the hidden state and cell state for the last element in the sequence \n",
    "                                     # give this to decoder\n",
    "    \n",
    "    def init_hidden(self, batch_size):\n",
    "        return (torch.zeros(self.num_layers, batch_size, self.hidden_size),\n",
    "                torch.zeros(self.num_layers, batch_size, self.hidden_size))\n",
    "    \n",
    "        "
   ]
  },
  {
   "cell_type": "code",
   "execution_count": 29,
   "id": "2939e50e-7ea3-47eb-8815-d843ac9ec13c",
   "metadata": {},
   "outputs": [],
   "source": [
    "class lstm_decoder(nn.Module):\n",
    "    ''' Decodes hidden state output by encoder '''\n",
    "    \n",
    "    def __init__(self, input_size=1, hidden_size=5, num_layers=3):\n",
    "\n",
    "        super(lstm_decoder, self).__init__()\n",
    "        self.input_size = input_size   # the number of features in the input X\n",
    "        self.hidden_size = hidden_size # the number of features in the hidden state h\n",
    "        self.num_layers = num_layers   # number of recurrent layers\n",
    "\n",
    "        # Define LSTM layer and Linear layer\n",
    "        self.lstm = nn.LSTM(input_size = input_size, hidden_size = hidden_size,\n",
    "                            num_layers = num_layers)\n",
    "        self.linear = nn.Linear(hidden_size, input_size)       \n",
    "    \n",
    "    \n",
    "    def forward(self, x, encoder_hidden_states):\n",
    "        output, self.hidden = self.lstm(x.unsqueeze(0), encoder_hidden_states)\n",
    "        output = self.linear(output.squeeze(0))     \n",
    "        \n",
    "        return output, self.hidden\n"
   ]
  },
  {
   "cell_type": "markdown",
   "id": "46a97ff4-6e99-4d88-be45-6d831959a9c2",
   "metadata": {},
   "source": [
    "#### Define Seq2Seq Model (Combining encoder and decoder)"
   ]
  },
  {
   "cell_type": "code",
   "execution_count": 30,
   "id": "a92ae2e4-2bd5-4602-996c-fe91c4484f97",
   "metadata": {},
   "outputs": [],
   "source": [
    "class lstm_seq2seq(nn.Module):\n",
    "    ''' train LSTM encoder-decoder and make predictions '''\n",
    "    \n",
    "    def __init__(self, input_size=1, hidden_size=5, num_layers=3):\n",
    "\n",
    "        super(lstm_seq2seq, self).__init__()\n",
    "\n",
    "        self.input_size = input_size   # number of expected features in the input X\n",
    "        self.hidden_size = hidden_size # number of features in the hidden state h\n",
    "        \n",
    "        # Encoder and decoder\n",
    "        self.encoder = lstm_encoder(input_size=input_size, hidden_size=hidden_size, num_layers=num_layers)\n",
    "        self.decoder = lstm_decoder(input_size=input_size, hidden_size=hidden_size, num_layers=num_layers)\n",
    "    \n",
    "    \n",
    "    def val_metrics(self, input_tensor, target_tensor, batch_size=200, criterion=nn.MSELoss(), target_len=10):\n",
    "\n",
    "        # calculate number of batch iterations\n",
    "        n_batches = int(input_tensor.shape[1] / batch_size)\n",
    "\n",
    "        val_batch_loss = 0.\n",
    "        val_batch_mae = 0.\n",
    "                \n",
    "        for b in range(n_batches):\n",
    "            input_batch = input_tensor[:, b: b + batch_size, :]\n",
    "            target_batch = target_tensor[:, b: b + batch_size, :]\n",
    "\n",
    "            # outputs tensor\n",
    "            outputs = torch.zeros(target_len, batch_size, input_batch.shape[2])\n",
    "\n",
    "            # initialize hidden state\n",
    "            encoder_hidden = self.encoder.init_hidden(batch_size)\n",
    "            encoder_output, encoder_hidden = self.encoder(input_batch)\n",
    "\n",
    "            # decoder with teacher forcing\n",
    "            decoder_input = input_batch[-1, :, :] \n",
    "            decoder_hidden = encoder_hidden\n",
    "\n",
    "            for t in range(target_len): \n",
    "                decoder_output, decoder_hidden = self.decoder(decoder_input, decoder_hidden)\n",
    "                outputs[t] = decoder_output\n",
    "                decoder_input = decoder_output\n",
    "\n",
    "            # compute the loss \n",
    "            loss = criterion(outputs, target_batch)\n",
    "            val_batch_loss += loss.item()\n",
    "            \n",
    "            # compute mae\n",
    "            mae_func = nn.L1Loss()\n",
    "            mae = mae_func(outputs, target_batch)\n",
    "            val_batch_mae += mae.item()\n",
    "        \n",
    "        # loss for epoch \n",
    "        val_batch_loss /= n_batches \n",
    "        val_batch_mae /= n_batches\n",
    "        \n",
    "        return val_batch_loss, val_batch_mae\n",
    "        \n",
    "    \n",
    "    def train_model(self, input_tensor, target_tensor, input_val, target_val, n_epochs, target_len,batch_size=200,learning_rate = 0.01, criterion = nn.MSELoss()):\n",
    "        train_losses = np.full(n_epochs, np.nan)\n",
    "        train_maes = np.full(n_epochs, np.nan)\n",
    "        val_losses = np.full(n_epochs, np.nan)\n",
    "        val_maes = np.full(n_epochs, np.nan)\n",
    "        \n",
    "        optimizer = optim.Adam(self.parameters(), lr = learning_rate)\n",
    "        criterion = criterion\n",
    "\n",
    "        # calculate number of batch iterations\n",
    "        n_batches = int(input_tensor.shape[1] / batch_size)\n",
    "\n",
    "        with trange(n_epochs) as tr:\n",
    "            for it in tr:\n",
    "                train_batch_loss = 0.\n",
    "                train_batch_mae = 0.\n",
    "                #val_batch_loss = 0.\n",
    "                #\n",
    "  \n",
    "                for b in range(n_batches):\n",
    "                    # select data \n",
    "                    input_batch = input_tensor[:, b: b + batch_size, :]\n",
    "                    target_batch = target_tensor[:, b: b + batch_size, :]\n",
    "\n",
    "                    # outputs tensor\n",
    "                    outputs = torch.zeros(target_len, batch_size, input_batch.shape[2])\n",
    "\n",
    "                    # initialize hidden state\n",
    "                    encoder_hidden = self.encoder.init_hidden(batch_size)\n",
    "\n",
    "                    # zero the gradient\n",
    "                    optimizer.zero_grad()\n",
    "\n",
    "                    # encoder outputs\n",
    "                    encoder_output, encoder_hidden = self.encoder(input_batch)\n",
    "\n",
    "                    # decoder with teacher forcing\n",
    "                    decoder_input = input_batch[-1, :, :]   # shape: (batch_size, input_size)\n",
    "                    decoder_hidden = encoder_hidden\n",
    "\n",
    "                    for t in range(target_len): \n",
    "                        decoder_output, decoder_hidden = self.decoder(decoder_input, decoder_hidden)\n",
    "                        outputs[t] = decoder_output\n",
    "                        decoder_input = decoder_output\n",
    "\n",
    "                    # compute the loss \n",
    "                    loss = criterion(outputs, target_batch)\n",
    "                    train_batch_loss += loss.item()\n",
    "                    \n",
    "                    # mae\n",
    "                    mae_func = nn.L1Loss()\n",
    "                    mae = mae_func(outputs, target_batch)\n",
    "                    train_batch_mae += mae.item()\n",
    "\n",
    "                    # backpropagation\n",
    "                    loss.backward()\n",
    "                    optimizer.step()\n",
    "                    \n",
    "            \n",
    "                # loss for epoch \n",
    "                train_batch_loss /= n_batches \n",
    "                train_batch_mae /= n_batches\n",
    "                train_losses[it] = train_batch_loss\n",
    "                train_maes[it] = train_batch_mae\n",
    "                \n",
    "                ### Compute validation metrics ###\n",
    "                val_metrics = self.val_metrics(input_val, target_val, batch_size=batch_size, criterion = criterion, target_len=10)\n",
    "                val_batch_mae = self.val_metrics(input_val, target_val, batch_size=batch_size, criterion = criterion, target_len=10)[1]\n",
    "                valid_batch_loss = self.val_metrics(input_val, target_val, batch_size=batch_size, criterion = criterion, target_len=10)[0]\n",
    "                val_losses[it] = valid_batch_loss\n",
    "                val_maes[it] = val_batch_mae\n",
    "\n",
    "\n",
    "                # progress bar \n",
    "                tr.set_postfix(validation_MSE=\"{0:.3f}\".format(valid_batch_loss), training_MSE = \"{0:.3f}\".format(train_batch_loss))\n",
    "                \n",
    "                \n",
    "        losses = {\"Train\":train_losses, \"Val\":val_losses, \"Train_mae\":train_maes, \"Val_mae\":val_maes}\n",
    "        return losses\n",
    "    \n",
    "\n",
    "    def predict(self, input_tensor, target_len):\n",
    "        \n",
    "        # encode input_tensor\n",
    "        input_tensor = input_tensor.unsqueeze(1)     # add in batch size of 1\n",
    "        encoder_output, encoder_hidden = self.encoder(input_tensor)\n",
    "\n",
    "        # initialize tensor for predictions\n",
    "        outputs = torch.zeros(target_len, input_tensor.shape[2])\n",
    "\n",
    "        # decode input_tensor\n",
    "        decoder_input = input_tensor[-1, :, :]\n",
    "        decoder_hidden = encoder_hidden\n",
    "        \n",
    "        for t in range(target_len):\n",
    "            decoder_output, decoder_hidden = self.decoder(decoder_input, decoder_hidden)\n",
    "            outputs[t] = decoder_output.squeeze(0)\n",
    "            decoder_input = decoder_output\n",
    "            \n",
    "        np_outputs = outputs.detach().numpy()\n",
    "        \n",
    "        return np_outputs\n"
   ]
  },
  {
   "cell_type": "markdown",
   "id": "2a661c11-8be0-4de1-80a7-36e564b9b60e",
   "metadata": {},
   "source": [
    "#### Initialize model and train"
   ]
  },
  {
   "cell_type": "code",
   "execution_count": 38,
   "id": "d26bcfa2-0ba1-4a4d-a157-808fed561cdc",
   "metadata": {},
   "outputs": [
    {
     "name": "stderr",
     "output_type": "stream",
     "text": [
      "100%|██████████| 30/30 [10:15<00:00, 20.52s/it, training_MSE=0.000, validation_MSE=0.037]\n"
     ]
    }
   ],
   "source": [
    "model = lstm_seq2seq(input_size=1, hidden_size=15)\n",
    "losses = model.train_model(train_dataset.x, train_dataset.y,\\\n",
    "                         valid_dataset.x, valid_dataset.y, \\\n",
    "                         n_epochs = 30, target_len = num_outputs,\\\n",
    "                         learning_rate = 0.001,\\\n",
    "                         criterion = nn.MSELoss())\n",
    "torch.save(model, 'best_model')"
   ]
  },
  {
   "cell_type": "code",
   "execution_count": 31,
   "id": "c9b9e7f6-781e-4321-9af6-4902b66533e7",
   "metadata": {},
   "outputs": [],
   "source": [
    "model = lstm_seq2seq(input_size=1, hidden_size=15)\n",
    "model = torch.load('best_model')"
   ]
  },
  {
   "cell_type": "code",
   "execution_count": 51,
   "id": "48896689-9178-4d8f-bba8-95f2280b0896",
   "metadata": {},
   "outputs": [
    {
     "data": {
      "text/plain": [
       "{'Train': array([6.11424672e-03, 3.51585003e-04, 1.22992646e-04, 7.69975328e-05,\n",
       "        9.84653468e-05, 6.08522689e-05, 6.76667169e-05, 3.38220619e-05,\n",
       "        2.98679338e-05, 5.77929967e-05, 6.68508609e-05, 2.10585084e-05,\n",
       "        5.08926862e-05, 2.41850644e-05, 1.96634376e-05, 7.87028274e-05,\n",
       "        3.06709441e-05, 1.96275379e-05, 1.86778598e-05, 4.19894929e-05,\n",
       "        2.23270921e-05, 1.79777353e-05, 4.26736444e-05, 1.86546272e-05,\n",
       "        1.72623549e-05, 5.18453459e-05, 1.83865428e-05, 1.61332838e-05,\n",
       "        2.61697163e-05, 2.36239037e-05]),\n",
       " 'Val': array([0.03917681, 0.03722482, 0.03680084, 0.04299368, 0.04143603,\n",
       "        0.03696325, 0.03498377, 0.0369793 , 0.04192246, 0.04332297,\n",
       "        0.03692916, 0.0369516 , 0.03546669, 0.03690576, 0.0369821 ,\n",
       "        0.03961328, 0.03694023, 0.03696741, 0.03697151, 0.03746387,\n",
       "        0.036932  , 0.03725006, 0.03623461, 0.0369318 , 0.03581997,\n",
       "        0.03614648, 0.03698264, 0.03697889, 0.03569496, 0.03699135]),\n",
       " 'Train_mae': array([0.05169248, 0.01147362, 0.00798683, 0.00640358, 0.00678172,\n",
       "        0.0055772 , 0.00512624, 0.0040951 , 0.00375382, 0.00452841,\n",
       "        0.00510834, 0.00329734, 0.0041777 , 0.00347677, 0.00320364,\n",
       "        0.00468491, 0.0038506 , 0.00320229, 0.00313288, 0.00387131,\n",
       "        0.00336879, 0.0030787 , 0.004069  , 0.00311026, 0.00301345,\n",
       "        0.00430194, 0.00306861, 0.00291891, 0.00327855, 0.00339815]),\n",
       " 'Val_mae': array([0.14698387, 0.14278036, 0.14163618, 0.15526518, 0.15169275,\n",
       "        0.14181063, 0.13763589, 0.14185203, 0.15335249, 0.15691779,\n",
       "        0.14192283, 0.14198971, 0.13881784, 0.1418933 , 0.14209554,\n",
       "        0.14844394, 0.14200625, 0.1420821 , 0.14210619, 0.14331684,\n",
       "        0.14200467, 0.14274257, 0.14052869, 0.14201143, 0.13963664,\n",
       "        0.14035009, 0.14211897, 0.14212052, 0.13942136, 0.14214495])}"
      ]
     },
     "execution_count": 51,
     "metadata": {},
     "output_type": "execute_result"
    }
   ],
   "source": [
    "losses"
   ]
  },
  {
   "cell_type": "code",
   "execution_count": 111,
   "id": "85d977f4-e48e-4bbd-9867-5513387cf145",
   "metadata": {},
   "outputs": [
    {
     "name": "stderr",
     "output_type": "stream",
     "text": [
      "100%|██████████| 30/30 [10:20<00:00, 20.69s/it, training_MSE=0.000, validation_MSE=0.037]\n"
     ]
    }
   ],
   "source": [
    "losses2 = model.train_model(train_dataset.x, train_dataset.y,\\\n",
    "                                                 valid_dataset.x, valid_dataset.y, \\\n",
    "                                                 n_epochs = 30, target_len = num_outputs,\\\n",
    "                                                 learning_rate = 0.0001,\\\n",
    "                                                 criterion = nn.MSELoss())"
   ]
  },
  {
   "cell_type": "markdown",
   "id": "8daf7302-3cbf-48f5-8565-78cd4a6f4264",
   "metadata": {},
   "source": [
    "### Tune Model"
   ]
  },
  {
   "cell_type": "code",
   "execution_count": 32,
   "id": "1d854c5e-657e-4b1d-b4da-624a62e2ab49",
   "metadata": {},
   "outputs": [],
   "source": [
    "num_layers = [1,2,3,5,10]"
   ]
  },
  {
   "cell_type": "code",
   "execution_count": 34,
   "id": "708300aa-7c12-4a7f-b297-3f46f8baf8fd",
   "metadata": {},
   "outputs": [
    {
     "name": "stderr",
     "output_type": "stream",
     "text": [
      "100%|██████████| 15/15 [01:41<00:00,  6.73s/it, training_MSE=0.000, validation_MSE=0.038]\n",
      "100%|██████████| 15/15 [03:22<00:00, 13.51s/it, training_MSE=0.000, validation_MSE=0.037]\n",
      "100%|██████████| 15/15 [05:06<00:00, 20.42s/it, training_MSE=0.000, validation_MSE=0.038]\n",
      "100%|██████████| 15/15 [08:34<00:00, 34.31s/it, training_MSE=0.000, validation_MSE=0.037]\n",
      "100%|██████████| 15/15 [17:32<00:00, 70.15s/it, training_MSE=0.000, validation_MSE=0.038]\n"
     ]
    }
   ],
   "source": [
    "model_losses = []\n",
    "for nl in num_layers:\n",
    "    model = lstm_seq2seq(input_size=1, hidden_size=15, num_layers=nl)\n",
    "    losses = model.train_model(train_dataset.x, train_dataset.y,\\\n",
    "                                                     valid_dataset.x, valid_dataset.y, \\\n",
    "                                                     n_epochs = 15, target_len = num_outputs,\\\n",
    "                                                     learning_rate = 0.001,\\\n",
    "                                                     criterion = nn.MSELoss())\n",
    "    model_losses.append(losses)\n",
    "    "
   ]
  },
  {
   "cell_type": "markdown",
   "id": "3f5393c7-535b-4681-88df-43c1ca3a132d",
   "metadata": {},
   "source": [
    "### Plots\n",
    "\n",
    "#### Loss Plots"
   ]
  },
  {
   "cell_type": "code",
   "execution_count": 52,
   "id": "1c473b73-bf34-45fa-93d8-a70059128f9e",
   "metadata": {},
   "outputs": [
    {
     "data": {
      "text/plain": [
       "Text(0.5, 0, 'Epochs')"
      ]
     },
     "execution_count": 52,
     "metadata": {},
     "output_type": "execute_result"
    },
    {
     "data": {
      "image/png": "[encoded data removed]",
      "text/plain": [
       "<Figure size 1440x864 with 4 Axes>"
      ]
     },
     "metadata": {
      "needs_background": "light"
     },
     "output_type": "display_data"
    }
   ],
   "source": [
    "fig, ax = plt.subplots(2,2,figsize=(20,12))\n",
    "ax[0,0].plot(losses['Train'], color='teal')\n",
    "ax[0,0].set_title('Train MSE')\n",
    "ax[0,0].set_xlabel('Epochs')\n",
    "\n",
    "ax[0,1].plot(losses['Train_mae'], color='orange')\n",
    "ax[0,1].set_title('Train MAE')\n",
    "ax[0,1].set_xlabel('Epochs')\n",
    "\n",
    "ax[1,0].plot(losses['Val'], color='teal')\n",
    "ax[1,0].set_title('Validation MSE')\n",
    "ax[1,0].set_xlabel('Epochs')\n",
    "\n",
    "ax[1,1].plot(losses['Val_mae'], color='orange')\n",
    "ax[1,1].set_title('Validation MAE')\n",
    "ax[1,1].set_xlabel('Epochs')"
   ]
  },
  {
   "cell_type": "code",
   "execution_count": 41,
   "id": "5b8761d4-dde7-46ae-93b2-e4593f7a02eb",
   "metadata": {},
   "outputs": [
    {
     "name": "stdout",
     "output_type": "stream",
     "text": [
      "Test MSE Loss: 1.9062590405566526e-05 \n",
      "Test MAE Loss: 0.002978724930735846\n"
     ]
    }
   ],
   "source": [
    "test_mse, test_mae = model.val_metrics(test_dataset.x, test_dataset.y)\n",
    "print('Test MSE Loss:', test_mse, '\\nTest MAE Loss:', test_mae)"
   ]
  },
  {
   "cell_type": "markdown",
   "id": "d0eade22-a02a-4bf7-a1b3-177de43cb20c",
   "metadata": {},
   "source": [
    "#### Plot test set predictions"
   ]
  },
  {
   "cell_type": "code",
   "execution_count": 42,
   "id": "7b75e03c-e736-4606-8517-fb924be6bce1",
   "metadata": {},
   "outputs": [],
   "source": [
    "def plot_test_preds(idx):\n",
    "    iw = 100\n",
    "    ow = 10 \n",
    "    # plot example of windowed data  \n",
    "    plt.figure(figsize = (9, 4)) \n",
    "    plt.plot(np.arange(0, iw), test_dataset.x[:, idx], 'k', linewidth = 2.2, label = 'Input')\n",
    "    plt.plot(np.arange(iw - 1, iw + ow), \\\n",
    "             np.concatenate([test_dataset.x[-1, idx].detach().numpy(), test_dataset.y[:,idx].detach().numpy().reshape(-1)]),\\\n",
    "             color = (0.2, 0.42, 0.72), linewidth = 2.2, label = 'Target')\n",
    "\n",
    "    plt.plot(np.arange(iw - 1, iw + ow), \\\n",
    "             np.concatenate([test_dataset.x[-1, idx].detach().numpy(), model.predict(test_dataset.x[:, idx], 10).reshape(-1)]),\\\n",
    "             color = 'red', linewidth = 2.2, label = 'Prediction')\n",
    "\n",
    "\n",
    "    plt.xlim([0, iw + ow - 1])\n",
    "    plt.xlabel(r'$t$')\n",
    "    plt.ylabel(r'$y$')\n",
    "    plt.title('Prediction Example')\n",
    "    plt.legend(bbox_to_anchor=(1.3, 1))\n",
    "    plt.tight_layout() "
   ]
  },
  {
   "cell_type": "code",
   "execution_count": 43,
   "id": "d717b3a9-9507-41fb-a26a-73056c8dbc97",
   "metadata": {},
   "outputs": [
    {
     "data": {
      "image/png": "[encoded data removed]",
      "text/plain": [
       "<Figure size 648x288 with 1 Axes>"
      ]
     },
     "metadata": {
      "needs_background": "light"
     },
     "output_type": "display_data"
    }
   ],
   "source": [
    "plot_test_preds(1)"
   ]
  },
  {
   "cell_type": "code",
   "execution_count": 50,
   "id": "907cac42-de00-4c9b-8712-3b63e3490d8c",
   "metadata": {},
   "outputs": [
    {
     "data": {
      "image/png": "[encoded data removed]",
      "text/plain": [
       "<Figure size 648x288 with 1 Axes>"
      ]
     },
     "metadata": {
      "needs_background": "light"
     },
     "output_type": "display_data"
    }
   ],
   "source": [
    "plot_test_preds(102)"
   ]
  },
  {
   "cell_type": "code",
   "execution_count": 48,
   "id": "6b42a395-6158-4ee5-9097-a7a2aa000035",
   "metadata": {},
   "outputs": [
    {
     "data": {
      "image/png": "[encoded data removed]",
      "text/plain": [
       "<Figure size 648x288 with 1 Axes>"
      ]
     },
     "metadata": {
      "needs_background": "light"
     },
     "output_type": "display_data"
    }
   ],
   "source": [
    "plot_test_preds(140)"
   ]
  },
  {
   "cell_type": "code",
   "execution_count": 46,
   "id": "14e008bd-36fd-4d66-ad27-c06f3199677e",
   "metadata": {},
   "outputs": [
    {
     "data": {
      "image/png": "[encoded data removed]",
      "text/plain": [
       "<Figure size 648x288 with 1 Axes>"
      ]
     },
     "metadata": {
      "needs_background": "light"
     },
     "output_type": "display_data"
    }
   ],
   "source": [
    "plot_test_preds(3241)"
   ]
  },
  {
   "cell_type": "code",
   "execution_count": 47,
   "id": "99234bc8-9066-4ebe-81c3-0117e216f189",
   "metadata": {},
   "outputs": [
    {
     "data": {
      "image/png": "[encoded data removed]",
      "text/plain": [
       "<Figure size 648x288 with 1 Axes>"
      ]
     },
     "metadata": {
      "needs_background": "light"
     },
     "output_type": "display_data"
    }
   ],
   "source": [
    "plot_test_preds(4567)"
   ]
  },
  {
   "cell_type": "markdown",
   "id": "b02f2876-4eae-4ccb-acab-2b863c4983c7",
   "metadata": {},
   "source": [
    "#### Reconstruct Traces"
   ]
  },
  {
   "cell_type": "code",
   "execution_count": 76,
   "id": "e7ff9ea4-1a74-4a2e-9242-d69bce02b267",
   "metadata": {},
   "outputs": [],
   "source": [
    "def sliding_split_trace(sequence, n_steps, n_output):\n",
    "    X, y = list(), list()\n",
    "    \n",
    "    i = 0\n",
    "    while i < len(sequence)-n_output:\n",
    "        end_ix = i + n_steps\n",
    "        \n",
    "        # check if we are beyond the sequence\n",
    "        if end_ix > len(sequence)-n_output:\n",
    "            break\n",
    "        seq_x, seq_y = sequence[i:end_ix], sequence[end_ix:end_ix+n_output]\n",
    "        X.append(seq_x)\n",
    "        y.append(seq_y)\n",
    "        \n",
    "        i += n_output\n",
    "        \n",
    "    return np.array(X), np.array(y)"
   ]
  },
  {
   "cell_type": "code",
   "execution_count": 77,
   "id": "45f1394a-cccf-4af2-89e2-d55b06b72c31",
   "metadata": {},
   "outputs": [],
   "source": [
    "traces = []\n",
    "next_pt = []\n",
    "trace_num = []\n",
    "i = 0\n",
    "for row in test['Trace']:\n",
    "    Xs, ys = sliding_split_trace(row, 100, num_outputs)\n",
    "    traces.append(Xs)\n",
    "    next_pt.append(ys)\n",
    "    trace_num.append(np.ones(len(Xs), dtype='int64')*i)\n",
    "    i += 1"
   ]
  },
  {
   "cell_type": "code",
   "execution_count": 78,
   "id": "8f5ed36e-f261-461b-9c31-811b891d02f0",
   "metadata": {},
   "outputs": [],
   "source": [
    "traces2 = [np.array(x, dtype='float32') for sublist in traces for x in sublist]\n",
    "next_pt2 = [x for sublist in next_pt for x in sublist]\n",
    "trace_num2 = [i for row in trace_num for i in row]"
   ]
  },
  {
   "cell_type": "code",
   "execution_count": 79,
   "id": "5394fbe9-46d9-4e60-978b-49c8dee2ff52",
   "metadata": {},
   "outputs": [],
   "source": [
    "test_df2 = pd.DataFrame({\"Trace\":traces2, \"Next_pts\": next_pt2, \"Trace_num\":trace_num2})"
   ]
  },
  {
   "cell_type": "code",
   "execution_count": 80,
   "id": "615be03c-b771-439d-8cab-50acd74289e1",
   "metadata": {},
   "outputs": [
    {
     "data": {
      "text/html": [
       "<div>\n",
       "<style scoped>\n",
       "    .dataframe tbody tr th:only-of-type {\n",
       "        vertical-align: middle;\n",
       "    }\n",
       "\n",
       "    .dataframe tbody tr th {\n",
       "        vertical-align: top;\n",
       "    }\n",
       "\n",
       "    .dataframe thead th {\n",
       "        text-align: right;\n",
       "    }\n",
       "</style>\n",
       "<table border=\"1\" class=\"dataframe\">\n",
       "  <thead>\n",
       "    <tr style=\"text-align: right;\">\n",
       "      <th></th>\n",
       "      <th>Trace</th>\n",
       "      <th>Next_pts</th>\n",
       "      <th>Trace_num</th>\n",
       "    </tr>\n",
       "  </thead>\n",
       "  <tbody>\n",
       "    <tr>\n",
       "      <th>0</th>\n",
       "      <td>[1.2675781, 1.265625, 1.2636719, 1.2617188, 1....</td>\n",
       "      <td>[1.029, 1.026, 1.023, 1.02, 1.017, 1.014, 1.01...</td>\n",
       "      <td>0</td>\n",
       "    </tr>\n",
       "    <tr>\n",
       "      <th>1</th>\n",
       "      <td>[1.2480469, 1.2470703, 1.2451172, 1.2431641, 1...</td>\n",
       "      <td>[0.9976, 0.9946, 0.991, 0.988, 0.9844, 0.9814,...</td>\n",
       "      <td>0</td>\n",
       "    </tr>\n",
       "    <tr>\n",
       "      <th>2</th>\n",
       "      <td>[1.2294922, 1.2265625, 1.2246094, 1.2216797, 1...</td>\n",
       "      <td>[0.9644, 0.9614, 0.9585, 0.9556, 0.9526, 0.949...</td>\n",
       "      <td>0</td>\n",
       "    </tr>\n",
       "    <tr>\n",
       "      <th>3</th>\n",
       "      <td>[1.203125, 1.2001953, 1.1972656, 1.1953125, 1....</td>\n",
       "      <td>[0.9365, 0.9336, 0.9307, 0.928, 0.9253, 0.9224...</td>\n",
       "      <td>0</td>\n",
       "    </tr>\n",
       "    <tr>\n",
       "      <th>4</th>\n",
       "      <td>[1.1816406, 1.1806641, 1.1787109, 1.1767578, 1...</td>\n",
       "      <td>[0.908, 0.9053, 0.9023, 0.8994, 0.8965, 0.893,...</td>\n",
       "      <td>0</td>\n",
       "    </tr>\n",
       "  </tbody>\n",
       "</table>\n",
       "</div>"
      ],
      "text/plain": [
       "                                               Trace  \\\n",
       "0  [1.2675781, 1.265625, 1.2636719, 1.2617188, 1....   \n",
       "1  [1.2480469, 1.2470703, 1.2451172, 1.2431641, 1...   \n",
       "2  [1.2294922, 1.2265625, 1.2246094, 1.2216797, 1...   \n",
       "3  [1.203125, 1.2001953, 1.1972656, 1.1953125, 1....   \n",
       "4  [1.1816406, 1.1806641, 1.1787109, 1.1767578, 1...   \n",
       "\n",
       "                                            Next_pts  Trace_num  \n",
       "0  [1.029, 1.026, 1.023, 1.02, 1.017, 1.014, 1.01...          0  \n",
       "1  [0.9976, 0.9946, 0.991, 0.988, 0.9844, 0.9814,...          0  \n",
       "2  [0.9644, 0.9614, 0.9585, 0.9556, 0.9526, 0.949...          0  \n",
       "3  [0.9365, 0.9336, 0.9307, 0.928, 0.9253, 0.9224...          0  \n",
       "4  [0.908, 0.9053, 0.9023, 0.8994, 0.8965, 0.893,...          0  "
      ]
     },
     "execution_count": 80,
     "metadata": {},
     "output_type": "execute_result"
    }
   ],
   "source": [
    "test_df2.head()"
   ]
  },
  {
   "cell_type": "code",
   "execution_count": 111,
   "id": "c852a81f-b90d-4a75-8465-c36d02410025",
   "metadata": {},
   "outputs": [],
   "source": [
    "def reshape_series(series):\n",
    "    series = np.transpose(np.array(series))\n",
    "    return series.reshape(series.shape[0],series.shape[1], 1)\n",
    "\n",
    "\n",
    "x_test2 = reshape_series(list(test_df2['Trace']))\n",
    "y_test2 = reshape_series(list(test_df2['Next_pts']))"
   ]
  },
  {
   "cell_type": "code",
   "execution_count": 81,
   "id": "9caa0e8c-b791-4913-ab9b-be377c10bf54",
   "metadata": {},
   "outputs": [],
   "source": [
    "test_full_traces = test_df2.groupby('Trace_num')['Next_pts'].apply(list)"
   ]
  },
  {
   "cell_type": "code",
   "execution_count": 118,
   "id": "73d14802-ad0c-446e-8c9e-0b1688457c06",
   "metadata": {},
   "outputs": [
    {
     "data": {
      "text/plain": [
       "[<matplotlib.lines.Line2D at 0x7f1e7780df10>]"
      ]
     },
     "execution_count": 118,
     "metadata": {},
     "output_type": "execute_result"
    },
    {
     "data": {
      "image/png": "[encoded data removed]",
      "text/plain": [
       "<Figure size 432x288 with 1 Axes>"
      ]
     },
     "metadata": {
      "needs_background": "light"
     },
     "output_type": "display_data"
    }
   ],
   "source": [
    "plt.plot([x for sublist in test_full_traces[10] for x in sublist])"
   ]
  },
  {
   "cell_type": "code",
   "execution_count": 119,
   "id": "25be3c45-3d8e-4234-9945-3df9fb5d5662",
   "metadata": {},
   "outputs": [],
   "source": [
    "test_dataset2 = timeseries(x_test2, y_test2)"
   ]
  },
  {
   "cell_type": "code",
   "execution_count": 120,
   "id": "dcc6fff6-f72d-4674-a2a0-7642e3bb70cd",
   "metadata": {},
   "outputs": [],
   "source": [
    "def gather_preds(mymodel, dataset):\n",
    "    preds = []\n",
    "    for i in range(dataset.x.shape[1]):\n",
    "        x_t = dataset.x[:, i, :]\n",
    "        Y_pred = mymodel.predict(x_t, target_len = num_outputs)\n",
    "        preds.append(Y_pred)\n",
    "    return preds"
   ]
  },
  {
   "cell_type": "code",
   "execution_count": null,
   "id": "8cb3d8dd-4575-4df8-b2b4-9ee2d08cd215",
   "metadata": {},
   "outputs": [],
   "source": [
    "test_preds = gather_preds(model, test_dataset2)"
   ]
  },
  {
   "cell_type": "code",
   "execution_count": 109,
   "id": "efc48ea0-6a1f-4314-8605-30f883f34cdd",
   "metadata": {},
   "outputs": [
    {
     "data": {
      "text/plain": [
       "6240"
      ]
     },
     "execution_count": 109,
     "metadata": {},
     "output_type": "execute_result"
    }
   ],
   "source": [
    "len(test_preds)"
   ]
  },
  {
   "cell_type": "code",
   "execution_count": 110,
   "id": "b192e6dd-b025-4f7d-9137-9bfb6644be1a",
   "metadata": {},
   "outputs": [
    {
     "data": {
      "text/plain": [
       "(67200, 3)"
      ]
     },
     "execution_count": 110,
     "metadata": {},
     "output_type": "execute_result"
    }
   ],
   "source": [
    "test_df2.shape"
   ]
  },
  {
   "cell_type": "code",
   "execution_count": null,
   "id": "8da5cc2c-81f4-4a70-8713-7d34559ab691",
   "metadata": {},
   "outputs": [],
   "source": [
    "test_pred_trace = test.groupby('Trace_num')['preds'].apply(list)"
   ]
  }
 ],
 "metadata": {
  "kernelspec": {
   "display_name": "Python 3 (ipykernel)",
   "language": "python",
   "name": "python3"
  },
  "language_info": {
   "codemirror_mode": {
    "name": "ipython",
    "version": 3
   },
   "file_extension": ".py",
   "mimetype": "text/x-python",
   "name": "python",
   "nbconvert_exporter": "python",
   "pygments_lexer": "ipython3",
   "version": "3.9.5"
  }
 },
 "nbformat": 4,
 "nbformat_minor": 5
}
