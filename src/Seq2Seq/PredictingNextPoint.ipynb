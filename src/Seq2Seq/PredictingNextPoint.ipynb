{
 "cells": [
  {
   "cell_type": "code",
   "execution_count": 1,
   "id": "9f179829-ee0d-4a09-97b8-bcfd0ef42479",
   "metadata": {},
   "outputs": [],
   "source": [
    "import os\n",
    "import pandas as pd\n",
    "import numpy as np\n",
    "import matplotlib.pyplot as plt     \n",
    "import numpy as np\n",
    "import re\n",
    "from sklearn.preprocessing import StandardScaler\n",
    "from sklearn.model_selection import train_test_split\n",
    "\n",
    "from sklearn.metrics import mean_squared_error\n",
    "from sklearn.metrics import mean_absolute_error\n",
    "\n",
    "import torch\n",
    "import torch.nn as nn\n",
    "import torch.nn.functional as F\n",
    "from torch.utils.data import Dataset, DataLoader\n",
    "from torch.nn.utils.rnn import pack_padded_sequence, pad_packed_sequence "
   ]
  },
  {
   "cell_type": "markdown",
   "id": "0da807a0-2fb4-4158-8190-8b6f201b5713",
   "metadata": {},
   "source": [
    "## Load Files Function"
   ]
  },
  {
   "cell_type": "code",
   "execution_count": 2,
   "id": "99c3a334-6c79-4ced-98d7-e020381f68cd",
   "metadata": {},
   "outputs": [],
   "source": [
    "def filelist(root):\n",
    "    '''\n",
    "    Return a fully-qualified list of filenames under root directory; \n",
    "    sort names alphabetically.\n",
    "    '''\n",
    "    allfiles = []\n",
    "    for path, subdirs, files in os.walk(root):\n",
    "        for name in files:\n",
    "            allfiles.append(os.path.join(path, name))\n",
    "    return sorted(allfiles)"
   ]
  },
  {
   "cell_type": "markdown",
   "id": "37fe389e-6fb5-4b6d-800c-340da37a1fd4",
   "metadata": {},
   "source": [
    "## Process Files (Helper Functions)"
   ]
  },
  {
   "cell_type": "code",
   "execution_count": 3,
   "id": "af3348d2-89ac-4398-8a46-c018b7dc824b",
   "metadata": {},
   "outputs": [],
   "source": [
    "def longest_true_seq(bool_curve):\n",
    "    '''\n",
    "    Given an array of booleans,\n",
    "    return indices of longest streak\n",
    "    of Trues\n",
    "    '''\n",
    "    longest_streak = 0\n",
    "    longest_streak_idx = []\n",
    "\n",
    "    idx = [] \n",
    "    streak = 0\n",
    "    for i in range(len(bool_curve)):\n",
    "        if bool_curve[i] == True:\n",
    "            streak += 1\n",
    "            idx.append(i)\n",
    "        else:\n",
    "            if streak > longest_streak:\n",
    "                longest_streak = streak\n",
    "                longest_streak_idx = idx     \n",
    "            streak = 0\n",
    "            idx = []\n",
    "    if streak > longest_streak and longest_streak < 150: # Not sure what this val should be\n",
    "        return [0]\n",
    "    return longest_streak_idx"
   ]
  },
  {
   "cell_type": "code",
   "execution_count": 4,
   "id": "85781c09-b9bf-440f-a8bd-4676f17dcf9c",
   "metadata": {},
   "outputs": [],
   "source": [
    "def add_zeros(curve, bh_start_idx, bh_end_idx):\n",
    "    ''' \n",
    "    Return trace with zeros appended to beginning \n",
    "    so length of input trace is 1500\n",
    "    '''\n",
    "    front_of_curve = curve[:bh_start_idx]\n",
    "    num_zeros = 1400 - len(front_of_curve)\n",
    "    zeros = np.zeros([1, num_zeros])[0]\n",
    "    return np.concatenate((zeros, curve[:bh_end_idx]))"
   ]
  },
  {
   "cell_type": "code",
   "execution_count": 5,
   "id": "2c5a1e22-3781-456b-8246-7d0428f0a5f4",
   "metadata": {},
   "outputs": [],
   "source": [
    "def process_curve(curve):\n",
    "    '''\n",
    "    Extract input trace from entire trace\n",
    "    '''\n",
    "    deriv = np.diff(curve)\n",
    "    breath_hold_idx = longest_true_seq(abs(deriv)<=0.001) # Not sure what this val should be\n",
    "    bh_start_idx = breath_hold_idx[0]\n",
    "    \n",
    "    if len(breath_hold_idx) < 100:\n",
    "         return [], 0, 0\n",
    "\n",
    "    bh_end_idx = breath_hold_idx[99] + 1\n",
    "    if bh_start_idx < 1400:\n",
    "        return add_zeros(curve, bh_start_idx, bh_end_idx), len(breath_hold_idx)*.01, breath_hold_idx\n",
    "    \n",
    "    else:\n",
    "        curve_start_idx = bh_start_idx - 1400\n",
    "        return curve[curve_start_idx:bh_end_idx], len(breath_hold_idx)*.01, breath_hold_idx\n",
    "    "
   ]
  },
  {
   "cell_type": "markdown",
   "id": "dfe7b43c-da17-4bf6-9d28-71358207474b",
   "metadata": {},
   "source": [
    "## Create DF of Inputs and Outputs"
   ]
  },
  {
   "cell_type": "code",
   "execution_count": 6,
   "id": "22d75aa2-e7ac-4d3a-b0c9-b4836cfaffdf",
   "metadata": {},
   "outputs": [],
   "source": [
    "def get_inputs_outputs_df(file_root):\n",
    "    '''\n",
    "    Given a root with files, get a dataframe of shape (5680, 2)\n",
    "    with input data traces (arrays) and \n",
    "    output data breath_holds (floats) \n",
    "    '''\n",
    "    filenames = filelist(file_root)\n",
    "    \n",
    "    orig_curves = []\n",
    "    csv_breath_holds = []\n",
    "    traces = []\n",
    "    data_breath_holds = []\n",
    "    bh_idxs = []\n",
    "    bh_start_end = []\n",
    "    next_point = []\n",
    "    \n",
    "    for file in filenames:\n",
    "        if file.endswith('.CSV'):     \n",
    "            df = pd.read_csv(file, header=None)\n",
    "            curve = np.array(df.iloc[3:, 0], dtype='float32')\n",
    "            input_trace, bh_len, bh_idx = process_curve(curve)\n",
    "            if len(input_trace) != 0:\n",
    "                orig_curves.append(curve)\n",
    "                traces.append(input_trace)\n",
    "                csv_breath_holds.append(float(df.iloc[1,1]))\n",
    "                data_breath_holds.append(bh_len)\n",
    "                bh_idxs.append(bh_idx)\n",
    "                bh_start_end.append((bh_idx[0], bh_idx[-1]))\n",
    "                next_point.append(curve[bh_idx[-1]+1])\n",
    "    \n",
    "    data = {'Trace': traces,'Csv_breath_holds': csv_breath_holds, 'Data_breath_holds': data_breath_holds, \n",
    "            'Full_trace': orig_curves, \"breathhold_idx\": bh_idxs, 'bh_start_end':bh_start_end, 'next_pt': next_point}\n",
    "    return pd.DataFrame(data)"
   ]
  },
  {
   "cell_type": "code",
   "execution_count": 7,
   "id": "6ad94f72-e350-4d1a-abfd-89aeb38b4738",
   "metadata": {},
   "outputs": [],
   "source": [
    "breath_df = get_inputs_outputs_df('data_sdx_')"
   ]
  },
  {
   "cell_type": "code",
   "execution_count": 8,
   "id": "f02a7847-edd6-4b2b-b22f-d5daca34e816",
   "metadata": {},
   "outputs": [
    {
     "data": {
      "text/html": [
       "<div>\n",
       "<style scoped>\n",
       "    .dataframe tbody tr th:only-of-type {\n",
       "        vertical-align: middle;\n",
       "    }\n",
       "\n",
       "    .dataframe tbody tr th {\n",
       "        vertical-align: top;\n",
       "    }\n",
       "\n",
       "    .dataframe thead th {\n",
       "        text-align: right;\n",
       "    }\n",
       "</style>\n",
       "<table border=\"1\" class=\"dataframe\">\n",
       "  <thead>\n",
       "    <tr style=\"text-align: right;\">\n",
       "      <th></th>\n",
       "      <th>Trace</th>\n",
       "      <th>Csv_breath_holds</th>\n",
       "      <th>Data_breath_holds</th>\n",
       "      <th>Full_trace</th>\n",
       "      <th>breathhold_idx</th>\n",
       "      <th>bh_start_end</th>\n",
       "      <th>next_pt</th>\n",
       "    </tr>\n",
       "  </thead>\n",
       "  <tbody>\n",
       "    <tr>\n",
       "      <th>0</th>\n",
       "      <td>[0.1319, 0.1363, 0.1408, 0.1452, 0.1497, 0.154...</td>\n",
       "      <td>31.29</td>\n",
       "      <td>31.69</td>\n",
       "      <td>[0.0003, 0.0006, 0.001, 0.0014, 0.0019, 0.0023...</td>\n",
       "      <td>[2661, 2662, 2663, 2664, 2665, 2666, 2667, 266...</td>\n",
       "      <td>(2661, 5829)</td>\n",
       "      <td>0.1944</td>\n",
       "    </tr>\n",
       "    <tr>\n",
       "      <th>1</th>\n",
       "      <td>[0.4727, 0.4687, 0.4646, 0.4605, 0.4563, 0.452...</td>\n",
       "      <td>30.61</td>\n",
       "      <td>31.40</td>\n",
       "      <td>[0.0006, 0.0009, 0.0013, 0.0017, 0.0022, 0.002...</td>\n",
       "      <td>[2386, 2387, 2388, 2389, 2390, 2391, 2392, 239...</td>\n",
       "      <td>(2386, 5525)</td>\n",
       "      <td>0.2460</td>\n",
       "    </tr>\n",
       "    <tr>\n",
       "      <th>2</th>\n",
       "      <td>[0.6466, 0.6496, 0.6526, 0.6555, 0.6583, 0.661...</td>\n",
       "      <td>14.39</td>\n",
       "      <td>18.43</td>\n",
       "      <td>[0.0002, 0.0005, 0.0008, 0.0012, 0.0016, 0.002...</td>\n",
       "      <td>[2118, 2119, 2120, 2121, 2122, 2123, 2124, 212...</td>\n",
       "      <td>(2118, 3960)</td>\n",
       "      <td>0.2159</td>\n",
       "    </tr>\n",
       "    <tr>\n",
       "      <th>3</th>\n",
       "      <td>[0.0982, 0.0966, 0.095, 0.0934, 0.0919, 0.0904...</td>\n",
       "      <td>30.85</td>\n",
       "      <td>31.84</td>\n",
       "      <td>[0.0013, 0.0027, 0.0034, 0.0041, 0.005, 0.006,...</td>\n",
       "      <td>[2573, 2574, 2575, 2576, 2577, 2578, 2579, 258...</td>\n",
       "      <td>(2573, 5756)</td>\n",
       "      <td>0.2265</td>\n",
       "    </tr>\n",
       "    <tr>\n",
       "      <th>4</th>\n",
       "      <td>[0.0117, 0.0109, 0.0102, 0.0095, 0.0089, 0.008...</td>\n",
       "      <td>32.12</td>\n",
       "      <td>32.53</td>\n",
       "      <td>[0.0012, 0.0015, 0.0019, 0.0023, 0.0029, 0.003...</td>\n",
       "      <td>[2520, 2521, 2522, 2523, 2524, 2525, 2526, 252...</td>\n",
       "      <td>(2520, 5772)</td>\n",
       "      <td>0.2582</td>\n",
       "    </tr>\n",
       "  </tbody>\n",
       "</table>\n",
       "</div>"
      ],
      "text/plain": [
       "                                               Trace  Csv_breath_holds  \\\n",
       "0  [0.1319, 0.1363, 0.1408, 0.1452, 0.1497, 0.154...             31.29   \n",
       "1  [0.4727, 0.4687, 0.4646, 0.4605, 0.4563, 0.452...             30.61   \n",
       "2  [0.6466, 0.6496, 0.6526, 0.6555, 0.6583, 0.661...             14.39   \n",
       "3  [0.0982, 0.0966, 0.095, 0.0934, 0.0919, 0.0904...             30.85   \n",
       "4  [0.0117, 0.0109, 0.0102, 0.0095, 0.0089, 0.008...             32.12   \n",
       "\n",
       "   Data_breath_holds                                         Full_trace  \\\n",
       "0              31.69  [0.0003, 0.0006, 0.001, 0.0014, 0.0019, 0.0023...   \n",
       "1              31.40  [0.0006, 0.0009, 0.0013, 0.0017, 0.0022, 0.002...   \n",
       "2              18.43  [0.0002, 0.0005, 0.0008, 0.0012, 0.0016, 0.002...   \n",
       "3              31.84  [0.0013, 0.0027, 0.0034, 0.0041, 0.005, 0.006,...   \n",
       "4              32.53  [0.0012, 0.0015, 0.0019, 0.0023, 0.0029, 0.003...   \n",
       "\n",
       "                                      breathhold_idx  bh_start_end  next_pt  \n",
       "0  [2661, 2662, 2663, 2664, 2665, 2666, 2667, 266...  (2661, 5829)   0.1944  \n",
       "1  [2386, 2387, 2388, 2389, 2390, 2391, 2392, 239...  (2386, 5525)   0.2460  \n",
       "2  [2118, 2119, 2120, 2121, 2122, 2123, 2124, 212...  (2118, 3960)   0.2159  \n",
       "3  [2573, 2574, 2575, 2576, 2577, 2578, 2579, 258...  (2573, 5756)   0.2265  \n",
       "4  [2520, 2521, 2522, 2523, 2524, 2525, 2526, 252...  (2520, 5772)   0.2582  "
      ]
     },
     "execution_count": 8,
     "metadata": {},
     "output_type": "execute_result"
    }
   ],
   "source": [
    "breath_df.head()"
   ]
  },
  {
   "cell_type": "markdown",
   "id": "0efebb74-7c24-42c8-93b2-7c209a409259",
   "metadata": {},
   "source": [
    " "
   ]
  },
  {
   "cell_type": "markdown",
   "id": "71077710-5169-4571-96f2-31da5d03d8a1",
   "metadata": {},
   "source": [
    "----------------------------------------------------------------------------------------------------------------------------------------------------------------------------------"
   ]
  },
  {
   "cell_type": "code",
   "execution_count": 11,
   "id": "cae0cdc2-d397-47fc-841f-71f328513a76",
   "metadata": {},
   "outputs": [],
   "source": [
    "under2 = breath_df[abs(breath_df['Csv_breath_holds']-breath_df['Data_breath_holds'])<=2]"
   ]
  },
  {
   "cell_type": "code",
   "execution_count": 12,
   "id": "40ce7e74-6286-463a-85a6-74aa4c7ab8a8",
   "metadata": {},
   "outputs": [],
   "source": [
    "df = under2"
   ]
  },
  {
   "cell_type": "code",
   "execution_count": 13,
   "id": "82d8b26c-9358-4a83-95b0-d9ca5b24da34",
   "metadata": {},
   "outputs": [],
   "source": [
    "x_train, x_test, y_train, y_test = train_test_split(df['Trace'], df['next_pt'], test_size=0.2)"
   ]
  },
  {
   "cell_type": "code",
   "execution_count": 14,
   "id": "78b1203f-cd85-4a39-8bc0-0c82bed2aa6d",
   "metadata": {},
   "outputs": [],
   "source": [
    "x_train, x_val, y_train, y_val = train_test_split(x_train, y_train, test_size=0.2) #, random_state=1)"
   ]
  },
  {
   "cell_type": "code",
   "execution_count": 15,
   "id": "271273b9-7a12-4f75-ac76-2b21ebb955ba",
   "metadata": {},
   "outputs": [],
   "source": [
    "# Change type of each row from np.array to list to put into scaler\n",
    "x_train = np.array([list(row) for row in x_train])\n",
    "x_val = np.array([list(row) for row in x_val])\n",
    "x_test = np.array([list(row) for row in x_test])\n",
    "\n",
    "y_train = np.array(y_train)\n",
    "y_val = np.array(y_val)\n",
    "y_test = np.array(y_test)"
   ]
  },
  {
   "cell_type": "code",
   "execution_count": 16,
   "id": "0f79c6b4-ca75-4514-af28-2c44b527d550",
   "metadata": {},
   "outputs": [],
   "source": [
    "scaler = StandardScaler() # creates the scaler\n",
    "scaler.fit(x_train)\n",
    "x_train = scaler.transform(x_train)\n",
    "x_val = scaler.transform(x_val)\n",
    "x_test = scaler.transform(x_test)"
   ]
  },
  {
   "cell_type": "markdown",
   "id": "f71dee5e-c047-4e3d-949c-e53a35ad5e62",
   "metadata": {},
   "source": [
    " "
   ]
  },
  {
   "cell_type": "markdown",
   "id": "0e792c22-6e51-4076-9ed5-6ec9ef086243",
   "metadata": {},
   "source": [
    "## Initialize Data for Model"
   ]
  },
  {
   "cell_type": "code",
   "execution_count": 17,
   "id": "3294b7f1-a286-42b9-ba7c-344398408cab",
   "metadata": {},
   "outputs": [],
   "source": [
    "#dataset\n",
    "from torch.utils.data import Dataset"
   ]
  },
  {
   "cell_type": "code",
   "execution_count": 18,
   "id": "c2900eb0-d954-4b1a-ae92-63039f118b33",
   "metadata": {},
   "outputs": [],
   "source": [
    "class timeseries(Dataset):\n",
    "    def __init__(self,x,y):\n",
    "        self.x = torch.tensor(x,dtype=torch.float32)\n",
    "        self.y = torch.tensor(y,dtype=torch.float32)\n",
    "        self.len = x.shape[0]\n",
    "\n",
    "    def __getitem__(self,idx):\n",
    "        return self.x[idx],self.y[idx]\n",
    "  \n",
    "    def __len__(self):\n",
    "        return self.len"
   ]
  },
  {
   "cell_type": "code",
   "execution_count": 19,
   "id": "724654d2-6141-4d48-94b2-dff6413589ff",
   "metadata": {},
   "outputs": [],
   "source": [
    "dataset = timeseries(x_train,y_train)\n",
    "valid_dataset = timeseries(x_val,y_val)\n",
    "test_dataset = timeseries(x_test,y_test)"
   ]
  },
  {
   "cell_type": "code",
   "execution_count": 20,
   "id": "aefe9bcb-8efa-4ae6-96aa-fd97165b0617",
   "metadata": {},
   "outputs": [],
   "source": [
    "train_loader = DataLoader(dataset,shuffle=True,batch_size=50)\n",
    "val_loader = DataLoader(valid_dataset,shuffle=False,batch_size=50)\n",
    "test_loader = DataLoader(test_dataset,shuffle=False,batch_size=50)"
   ]
  },
  {
   "cell_type": "markdown",
   "id": "442d8893-7de2-4e97-b822-30c4f14b4a61",
   "metadata": {},
   "source": [
    "## Define LSTM Model (One Step Prediction)"
   ]
  },
  {
   "cell_type": "code",
   "execution_count": 21,
   "id": "76673e10-6bff-45f5-8cac-10f226e85f32",
   "metadata": {},
   "outputs": [],
   "source": [
    "#neural network\n",
    "from torch import nn\n",
    "\n",
    "class LSTM_Model(nn.Module):\n",
    "    def __init__(self):\n",
    "        super(LSTM_Model,self).__init__()\n",
    "        self.lstm = nn.LSTM(input_size=1,hidden_size=100,num_layers=1,batch_first=True) # change hidden size\n",
    "        self.linear = nn.Linear(in_features=100,out_features=1)\n",
    "        \n",
    "        \n",
    "    def forward(self,x):\n",
    "        output,_status = self.lstm(x)\n",
    "        output = output[:,-1,:]\n",
    "        #output = self.linear(torch.relu(output))\n",
    "        output = self.linear(output)\n",
    "        return output\n",
    "\n",
    "model = LSTM_Model()"
   ]
  },
  {
   "cell_type": "code",
   "execution_count": 22,
   "id": "a0ed150e-79eb-4f92-ad72-70ebad527c32",
   "metadata": {},
   "outputs": [],
   "source": [
    "# Declaring Criterion and Optimizer\n",
    "criterion = torch.nn.MSELoss()\n",
    "optimizer = torch.optim.Adam(model.parameters(),lr=0.01)\n",
    "epochs = 50"
   ]
  },
  {
   "cell_type": "markdown",
   "id": "c421bc38-96ec-4f08-b358-f0c2a108af68",
   "metadata": {},
   "source": [
    "## Training Loop"
   ]
  },
  {
   "cell_type": "code",
   "execution_count": 23,
   "id": "96446d6d-ddb9-470b-b1d7-02a024ceafb9",
   "metadata": {},
   "outputs": [
    {
     "name": "stdout",
     "output_type": "stream",
     "text": [
      "Epoch 1 \t Training Loss: 0.33652969032494096 \tValidation Loss: 0.0011123424737888854\n",
      "\t\t Training MAE: 0.2707622574882642 \tValidation MAE: 0.02547206392046064\n",
      "\t\t Training MSE: 0.3365296713271809 \tValidation MSE: 0.0011123424737888854\n",
      "\n",
      "Epoch 3 \t Training Loss: 0.0001754957793309586 \tValidation Loss: 0.00024177959721782827\n",
      "\t\t Training MAE: 0.008058977809043662 \tValidation MAE: 0.008384603424929082\n",
      "\t\t Training MSE: 0.00017549577821609415 \tValidation MSE: 0.00024177959994631237\n",
      "\n",
      "Epoch 5 \t Training Loss: 0.00012951876235620734 \tValidation Loss: 0.00020384194090183883\n",
      "\t\t Training MAE: 0.006782826929984074 \tValidation MAE: 0.008474534057313576\n",
      "\t\t Training MSE: 0.0001295187642925509 \tValidation MSE: 0.00020384193771860737\n",
      "\n",
      "Epoch 7 \t Training Loss: 0.00014010321577980874 \tValidation Loss: 0.00016477980261697667\n",
      "\t\t Training MAE: 0.007378828997213033 \tValidation MAE: 0.007067062018904835\n",
      "\t\t Training MSE: 0.000140103220914053 \tValidation MSE: 0.0001647798014801083\n",
      "\n",
      "Epoch 9 \t Training Loss: 0.0001322702300380878 \tValidation Loss: 0.00011691088286625018\n",
      "\t\t Training MAE: 0.007121436748533479 \tValidation MAE: 0.004571880301227793\n",
      "\t\t Training MSE: 0.00013227022880586917 \tValidation MSE: 0.00011691088343468437\n",
      "\n",
      "Epoch 11 \t Training Loss: 9.803081448192262e-05 \tValidation Loss: 0.0001364582428777794\n",
      "\t\t Training MAE: 0.004944334516391879 \tValidation MAE: 0.007635998335899785\n",
      "\t\t Training MSE: 9.803081307367276e-05 \tValidation MSE: 0.00013645823787555855\n",
      "\n",
      "Epoch 13 \t Training Loss: 8.371181362939927e-05 \tValidation Loss: 0.00014851580999675207\n",
      "\t\t Training MAE: 0.004856800499011672 \tValidation MAE: 0.007147991127567366\n",
      "\t\t Training MSE: 8.371181361473e-05 \tValidation MSE: 0.0001485158088598837\n",
      "\n"
     ]
    },
    {
     "ename": "KeyboardInterrupt",
     "evalue": "",
     "output_type": "error",
     "traceback": [
      "\u001b[0;31m---------------------------------------------------------------------------\u001b[0m",
      "\u001b[0;31mKeyboardInterrupt\u001b[0m                         Traceback (most recent call last)",
      "\u001b[0;32m<ipython-input-23-8605da1861bd>\u001b[0m in \u001b[0;36m<module>\u001b[0;34m\u001b[0m\n\u001b[1;32m     15\u001b[0m         \u001b[0mloss\u001b[0m \u001b[0;34m=\u001b[0m \u001b[0mcriterion\u001b[0m\u001b[0;34m(\u001b[0m\u001b[0mypred\u001b[0m\u001b[0;34m,\u001b[0m\u001b[0my\u001b[0m\u001b[0;34m.\u001b[0m\u001b[0mview\u001b[0m\u001b[0;34m(\u001b[0m\u001b[0;34m-\u001b[0m\u001b[0;36m1\u001b[0m\u001b[0;34m,\u001b[0m\u001b[0;36m1\u001b[0m\u001b[0;34m)\u001b[0m\u001b[0;34m)\u001b[0m\u001b[0;34m\u001b[0m\u001b[0;34m\u001b[0m\u001b[0m\n\u001b[1;32m     16\u001b[0m         \u001b[0;31m# Calculate gradients\u001b[0m\u001b[0;34m\u001b[0m\u001b[0;34m\u001b[0m\u001b[0;34m\u001b[0m\u001b[0m\n\u001b[0;32m---> 17\u001b[0;31m         \u001b[0mloss\u001b[0m\u001b[0;34m.\u001b[0m\u001b[0mbackward\u001b[0m\u001b[0;34m(\u001b[0m\u001b[0;34m)\u001b[0m\u001b[0;34m\u001b[0m\u001b[0;34m\u001b[0m\u001b[0m\n\u001b[0m\u001b[1;32m     18\u001b[0m         \u001b[0;31m# Update Weights\u001b[0m\u001b[0;34m\u001b[0m\u001b[0;34m\u001b[0m\u001b[0;34m\u001b[0m\u001b[0m\n\u001b[1;32m     19\u001b[0m         \u001b[0moptimizer\u001b[0m\u001b[0;34m.\u001b[0m\u001b[0mstep\u001b[0m\u001b[0;34m(\u001b[0m\u001b[0;34m)\u001b[0m\u001b[0;34m\u001b[0m\u001b[0;34m\u001b[0m\u001b[0m\n",
      "\u001b[0;32m/opt/anaconda3/lib/python3.9/site-packages/torch/_tensor.py\u001b[0m in \u001b[0;36mbackward\u001b[0;34m(self, gradient, retain_graph, create_graph, inputs)\u001b[0m\n\u001b[1;32m    305\u001b[0m                 \u001b[0mcreate_graph\u001b[0m\u001b[0;34m=\u001b[0m\u001b[0mcreate_graph\u001b[0m\u001b[0;34m,\u001b[0m\u001b[0;34m\u001b[0m\u001b[0;34m\u001b[0m\u001b[0m\n\u001b[1;32m    306\u001b[0m                 inputs=inputs)\n\u001b[0;32m--> 307\u001b[0;31m         \u001b[0mtorch\u001b[0m\u001b[0;34m.\u001b[0m\u001b[0mautograd\u001b[0m\u001b[0;34m.\u001b[0m\u001b[0mbackward\u001b[0m\u001b[0;34m(\u001b[0m\u001b[0mself\u001b[0m\u001b[0;34m,\u001b[0m \u001b[0mgradient\u001b[0m\u001b[0;34m,\u001b[0m \u001b[0mretain_graph\u001b[0m\u001b[0;34m,\u001b[0m \u001b[0mcreate_graph\u001b[0m\u001b[0;34m,\u001b[0m \u001b[0minputs\u001b[0m\u001b[0;34m=\u001b[0m\u001b[0minputs\u001b[0m\u001b[0;34m)\u001b[0m\u001b[0;34m\u001b[0m\u001b[0;34m\u001b[0m\u001b[0m\n\u001b[0m\u001b[1;32m    308\u001b[0m \u001b[0;34m\u001b[0m\u001b[0m\n\u001b[1;32m    309\u001b[0m     \u001b[0;32mdef\u001b[0m \u001b[0mregister_hook\u001b[0m\u001b[0;34m(\u001b[0m\u001b[0mself\u001b[0m\u001b[0;34m,\u001b[0m \u001b[0mhook\u001b[0m\u001b[0;34m)\u001b[0m\u001b[0;34m:\u001b[0m\u001b[0;34m\u001b[0m\u001b[0;34m\u001b[0m\u001b[0m\n",
      "\u001b[0;32m/opt/anaconda3/lib/python3.9/site-packages/torch/autograd/__init__.py\u001b[0m in \u001b[0;36mbackward\u001b[0;34m(tensors, grad_tensors, retain_graph, create_graph, grad_variables, inputs)\u001b[0m\n\u001b[1;32m    152\u001b[0m         \u001b[0mretain_graph\u001b[0m \u001b[0;34m=\u001b[0m \u001b[0mcreate_graph\u001b[0m\u001b[0;34m\u001b[0m\u001b[0;34m\u001b[0m\u001b[0m\n\u001b[1;32m    153\u001b[0m \u001b[0;34m\u001b[0m\u001b[0m\n\u001b[0;32m--> 154\u001b[0;31m     Variable._execution_engine.run_backward(\n\u001b[0m\u001b[1;32m    155\u001b[0m         \u001b[0mtensors\u001b[0m\u001b[0;34m,\u001b[0m \u001b[0mgrad_tensors_\u001b[0m\u001b[0;34m,\u001b[0m \u001b[0mretain_graph\u001b[0m\u001b[0;34m,\u001b[0m \u001b[0mcreate_graph\u001b[0m\u001b[0;34m,\u001b[0m \u001b[0minputs\u001b[0m\u001b[0;34m,\u001b[0m\u001b[0;34m\u001b[0m\u001b[0;34m\u001b[0m\u001b[0m\n\u001b[1;32m    156\u001b[0m         allow_unreachable=True, accumulate_grad=True)  # allow_unreachable flag\n",
      "\u001b[0;31mKeyboardInterrupt\u001b[0m: "
     ]
    }
   ],
   "source": [
    "history = []\n",
    "for i in range(epochs):\n",
    "    \n",
    "    train_mse = 0.0\n",
    "    train_mae = 0.0\n",
    "    train_loss = 0.0\n",
    "    train_preds = []\n",
    "    for x, y in train_loader:\n",
    "        \n",
    "        # Clear the gradients\n",
    "        optimizer.zero_grad()\n",
    "        # Forward Pass\n",
    "        ypred = model(x.view(-1,1500,1))       \n",
    "        # Find the Loss\n",
    "        loss = criterion(ypred,y.view(-1,1))      \n",
    "        # Calculate gradients\n",
    "        loss.backward()       \n",
    "        # Update Weights\n",
    "        optimizer.step()      \n",
    "        # Calculate L1 Loss\n",
    "        train_loss += loss.item()\n",
    "        # Calculate MAE\n",
    "        ypred = ypred.detach().numpy()\n",
    "        train_mae += mean_absolute_error(ypred, y.view(-1,1))\n",
    "        # Calculate MSE\n",
    "        train_mse += mean_squared_error(ypred, y.view(-1,1))\n",
    "        # R^2\n",
    "        \n",
    "        train_preds.append(ypred)\n",
    "        \n",
    "    valid_mse = 0.0\n",
    "    valid_mae = 0.0\n",
    "    valid_loss = 0.0\n",
    "    val_preds = []\n",
    "    for x, y in val_loader:\n",
    "        # Forward Pass\n",
    "        ypred = model(x.view(-1,1500,1))\n",
    "        # Find the Loss\n",
    "        loss = criterion(ypred,y.view(-1,1))\n",
    "        # Calculate L1 Loss\n",
    "        valid_loss += loss.item()\n",
    "        # Calculate MAE\n",
    "        ypred = ypred.detach().numpy()\n",
    "        valid_mae += mean_absolute_error(ypred, y.view(-1,1))\n",
    "        # Calculate MSE\n",
    "        valid_mse += mean_squared_error(ypred, y.view(-1,1))\n",
    "        \n",
    "        val_preds.append(ypred)\n",
    "\n",
    "    history.append((train_loss/len(train_loader),valid_loss/len(val_loader)))\n",
    "    if i%2 == 0:\n",
    "        torch.save(model, 'lstm_single_output')\n",
    "        print(f'Epoch {i+1} \\t Training Loss: {train_loss/len(train_loader)} \\tValidation Loss: {valid_loss/len(val_loader)}')\n",
    "        print(f'\\t\\t Training MAE: {train_mae/len(train_loader)} \\tValidation MAE: {valid_mae/len(val_loader)}')\n",
    "        print(f'\\t\\t Training MSE: {train_mse/len(train_loader)} \\tValidation MSE: {valid_mse/len(val_loader)}')\n",
    "        print()\n",
    "    \n",
    "    "
   ]
  },
  {
   "cell_type": "markdown",
   "id": "ff6c0686-94e3-4457-94c3-2cde0be486dc",
   "metadata": {},
   "source": [
    "## Plot Loss"
   ]
  },
  {
   "cell_type": "code",
   "execution_count": null,
   "id": "9f7491fb-a02a-4c51-9da1-34a547645a6e",
   "metadata": {},
   "outputs": [],
   "source": [
    "history = torch.tensor(history)"
   ]
  },
  {
   "cell_type": "code",
   "execution_count": 88,
   "id": "525b2eed-4809-4586-9a68-4c0db7ea218e",
   "metadata": {},
   "outputs": [],
   "source": [
    "#m = torch.load('lstm_single_output')"
   ]
  },
  {
   "cell_type": "code",
   "execution_count": 33,
   "id": "083c1a38-c3d6-4670-bb45-21d9cf4cf73f",
   "metadata": {},
   "outputs": [],
   "source": [
    "#torch.save(model, 'lstm_bh_epochs')"
   ]
  },
  {
   "cell_type": "code",
   "execution_count": 34,
   "id": "c4856509-e27e-4523-ac71-16684807c521",
   "metadata": {},
   "outputs": [],
   "source": [
    "def plot_loss(history, ax=None, maxy=None, file=None):\n",
    "    if ax is None:\n",
    "        fig, ax = plt.subplots(1,1, figsize=(6,3))\n",
    "    ax.set_ylabel(\"Loss\")\n",
    "    ax.set_xlabel(\"Epochs\")\n",
    "    loss = history[:,0]\n",
    "    val_loss = history[:,1]\n",
    "\n",
    "    ax.spines['top'].set_visible(False)    # turns off the top \"spine\" completely\n",
    "    ax.spines['right'].set_visible(False)\n",
    "    ax.spines['left'].set_linewidth(.5)\n",
    "    ax.spines['bottom'].set_linewidth(.5)\n",
    "    ax.plot(loss, label='train_loss')\n",
    "    ax.plot(val_loss, '--', label='val_loss')\n",
    "    ax.legend(loc='upper right')\n",
    "    plt.tight_layout()\n",
    "    if file:\n",
    "        plt.savefig(f\"{file}.pdf\")"
   ]
  },
  {
   "cell_type": "code",
   "execution_count": 35,
   "id": "81ed3991-053e-4bbd-8b89-6537d10c1586",
   "metadata": {},
   "outputs": [
    {
     "data": {
      "image/png": "[encoded data removed]",
      "text/plain": [
       "<Figure size 432x216 with 1 Axes>"
      ]
     },
     "metadata": {
      "needs_background": "light"
     },
     "output_type": "display_data"
    }
   ],
   "source": [
    "plot_loss(history, maxy = 50)"
   ]
  },
  {
   "cell_type": "code",
   "execution_count": 36,
   "id": "a0cc0f88-1eab-484d-b59d-58240aaecb7a",
   "metadata": {},
   "outputs": [],
   "source": [
    "#test set actual vs predicted\n",
    "test_set = timeseries(x_test,y_test)\n",
    "test_pred = model(test_set[:][0].view(-1,1500,1)).view(-1)"
   ]
  },
  {
   "cell_type": "code",
   "execution_count": 37,
   "id": "a1a903df-0a42-4831-af50-a39e895ac712",
   "metadata": {},
   "outputs": [
    {
     "data": {
      "image/png": "[encoded data removed]",
      "text/plain": [
       "<Figure size 432x288 with 1 Axes>"
      ]
     },
     "metadata": {
      "needs_background": "light"
     },
     "output_type": "display_data"
    }
   ],
   "source": [
    "\n",
    "plt.scatter(test_set[:][1].view(-1), test_pred.detach().numpy(),label='predicted')\n",
    "plt.show()"
   ]
  },
  {
   "cell_type": "code",
   "execution_count": 38,
   "id": "416656c0-b79b-4c7c-9fe4-691445b0c1c2",
   "metadata": {},
   "outputs": [],
   "source": [
    "test_pred = model(test_set[:][0].view(-1,1500,1)).view(-1)"
   ]
  },
  {
   "cell_type": "code",
   "execution_count": 39,
   "id": "d6c7a8eb-1bb1-4af6-8da0-30f82f34c1eb",
   "metadata": {},
   "outputs": [
    {
     "data": {
      "text/plain": [
       "tensor([ 1.7923,  0.2850,  1.8599,  0.2635,  0.2525,  0.1950,  0.2689,  0.2882,\n",
       "         2.3196,  0.2631,  0.1886,  0.2399,  0.2257,  0.2286,  0.2300,  0.2550,\n",
       "         1.5822,  0.9709,  0.2126,  0.2403,  0.2583,  0.2707,  0.2407,  0.2412,\n",
       "         1.7500,  0.2543,  0.2650,  0.2104,  0.2077,  0.2021,  2.2390,  0.2593,\n",
       "         0.2435,  1.8586,  0.2412,  1.5603,  0.2157,  2.2482,  1.6232,  0.2461,\n",
       "         0.2871,  0.2060,  1.5611,  0.1955,  1.5448,  1.3955,  2.2169,  1.6687,\n",
       "         1.8557,  1.2352,  0.2520,  0.2290,  1.1281,  0.2865,  1.1508,  0.2300,\n",
       "         1.6847,  0.2758,  1.5545,  0.2313,  0.2253,  2.0814,  0.2222,  0.2456,\n",
       "         1.5091,  0.2736,  1.6586,  1.8316,  0.2015,  1.2663,  0.2891,  0.2555,\n",
       "         0.2217,  2.7697,  0.2082,  0.2287,  0.2567,  2.3706,  2.0105,  0.2210,\n",
       "         1.0989,  1.4636,  0.2332,  0.1596,  0.2457,  0.2145,  1.2155,  1.8537,\n",
       "         0.2368,  0.2231,  0.2699,  2.3481,  0.2926,  1.7904,  1.8680,  2.0668,\n",
       "         0.1850,  0.1642,  0.2001,  0.2662,  2.0792,  0.1814,  0.2033,  0.2404,\n",
       "         0.2493,  0.2763,  1.6477,  1.7817,  0.2292,  0.2664,  0.2574,  1.1520,\n",
       "         0.2761,  2.0550,  0.2416,  2.0249,  0.2405,  2.0616,  0.2706,  0.2823,\n",
       "         0.1994,  0.2231,  1.9200,  1.5791,  0.2169,  1.4387,  0.2454,  0.2855,\n",
       "         1.7956,  0.2623,  0.2437,  0.2265,  0.2641,  0.2551,  0.2859,  0.2372,\n",
       "         0.2491,  1.8072,  0.2142,  1.9146,  1.6427,  0.1787,  0.2175, -0.1604,\n",
       "         1.8345,  0.1972,  0.2361,  2.9246,  0.2333,  1.4005,  0.2651,  2.3676,\n",
       "         0.2015,  0.2213,  0.2474,  0.2367,  1.2643,  1.4726,  0.2704,  1.3125,\n",
       "         0.2430,  2.0380,  1.5659,  1.8665,  0.2384,  0.2221,  0.2372,  0.2258,\n",
       "         0.2250,  2.3143,  0.2181,  0.2848,  0.1808,  1.8729,  0.1619,  0.2101,\n",
       "         0.3081,  0.2034,  1.4520,  0.1682,  0.2444,  0.2457,  1.4772,  1.4321,\n",
       "         0.2764,  0.2473,  2.2357,  2.0532,  2.2832,  1.9750,  0.0649,  0.2003,\n",
       "         0.2255,  2.2938,  0.1966,  1.4350,  2.2211,  1.2442,  0.1913,  0.2844,\n",
       "         0.2697,  0.2812,  0.2466,  1.1336,  0.2645,  1.5503,  2.8118,  0.2052,\n",
       "         1.1784,  0.2090,  0.2834,  0.1531,  0.2083,  2.2126,  1.5744,  1.6661,\n",
       "         1.8163,  1.2594,  2.3053,  0.2191,  0.1876,  1.8483,  0.1953,  0.2466,\n",
       "         0.2478,  1.1480,  1.5137,  1.7539,  0.1991,  1.0624,  0.2630,  0.2463,\n",
       "         1.8773,  0.2047,  2.0352,  1.7544,  1.3576,  0.1731,  1.8151,  0.1557,\n",
       "         2.8952,  0.9408,  0.2279,  0.2689,  2.3885,  0.1979,  0.2602,  1.5657,\n",
       "         0.2653,  1.7646,  1.7291,  0.2359,  1.3202,  0.2478,  1.6385,  0.2351,\n",
       "         0.2727,  0.2475,  1.7275,  0.2580,  0.2611,  0.2678,  0.2549,  1.7070,\n",
       "         0.2616,  0.2352,  0.1521,  1.1519,  0.2403,  0.1118,  0.2326,  0.2222,\n",
       "         0.2512,  0.2540,  1.8890,  1.6298,  0.2065,  1.3669,  0.2480,  0.2881,\n",
       "         2.3329,  0.2225,  0.2093,  0.2624,  0.2843,  0.2737,  2.3268,  0.1577,\n",
       "         2.0179,  1.1413,  1.6809,  0.2931,  0.2380,  1.1639,  1.5334,  0.2484,\n",
       "         0.2178,  0.2282,  0.2699,  0.2608,  0.2804,  0.2453,  0.2450,  0.2183,\n",
       "         0.2210,  1.8149,  0.2171,  0.2445,  0.2309,  0.2263,  0.2421,  1.7989,\n",
       "         2.3299,  0.2967,  1.8212,  0.2548,  2.3773,  0.2526,  0.1879,  2.2515,\n",
       "         0.2170,  0.1663,  0.2303,  0.2315,  0.2014,  1.6964,  0.2585,  0.2809,\n",
       "         0.2514,  0.2425,  0.2581,  2.0534,  0.3281,  0.2182,  2.0141,  0.1939,\n",
       "         0.2382,  0.2319,  0.2354,  0.2079,  0.2516,  0.2379,  2.3036,  1.5750,\n",
       "         2.9297,  2.0007,  1.6061,  1.2328,  0.2737,  2.3328,  0.2394,  1.6961,\n",
       "         1.4551,  0.2568,  0.2495,  0.2360,  0.2746,  1.4196,  1.1195,  0.2339,\n",
       "         1.2137,  1.6352,  0.2077,  2.4070,  1.2135,  2.0716,  0.2576,  0.1830,\n",
       "         1.2546,  0.2525,  0.2000,  0.2482,  0.2446,  0.2328,  2.3865,  1.4435,\n",
       "         0.2548,  1.1961,  0.2255,  0.2388,  0.2274,  0.1948,  0.2554,  1.5504,\n",
       "         0.2146,  1.1820,  0.2887,  0.2244,  0.2369,  1.6038,  1.8602,  0.2142,\n",
       "         1.4595,  0.1990,  0.2271,  2.1268,  0.2075,  0.2467,  0.1994,  0.2691,\n",
       "         0.2372,  1.4950,  1.1405,  0.1904,  0.2331,  0.2582,  1.7373,  0.2299,\n",
       "         0.2419,  0.2745,  0.1737,  1.1230,  1.4400,  0.2290,  0.2369,  0.2646,\n",
       "         2.1119,  1.2361,  0.2140,  0.2772,  0.2540,  0.2910,  0.2871,  0.2314,\n",
       "         1.3062,  0.2877,  2.2017,  1.8866,  0.2982,  1.0110, -0.0280,  0.1872,\n",
       "         0.2472,  1.3419,  1.5889,  1.5777,  1.3147,  0.2333,  0.2398,  0.2327,\n",
       "         0.2072,  0.2623,  0.2557,  0.2377,  1.2369,  0.2249,  0.1939,  0.2326,\n",
       "         0.2167,  0.2821,  2.1040,  0.2422,  1.2620,  2.3950,  0.2221,  0.2800,\n",
       "         0.2358,  0.2653,  1.0363,  0.2742,  0.2329,  0.2785,  1.2999,  1.9170,\n",
       "         0.2628,  0.1957,  1.7564,  1.3084,  2.0555,  0.2384,  0.2027,  0.9847,\n",
       "         0.2698,  1.6680,  0.1952,  0.2727,  1.1203,  0.2831,  0.2223,  0.2012,\n",
       "         1.2338,  2.8829,  0.2799,  2.0234,  0.2165,  0.2611,  0.2666,  0.2519,\n",
       "         0.2294,  1.9728,  1.5050,  0.2558,  0.1769,  0.2756,  0.2550,  1.5186,\n",
       "         0.2210,  0.1950,  0.2841,  0.2117,  2.1169,  0.1790,  0.2077,  1.1124,\n",
       "         0.2245,  0.2836,  0.3232,  0.2249,  0.2641,  0.2807,  2.2691,  1.0683,\n",
       "         0.2825,  0.2283,  0.2606,  0.1929,  0.2367,  0.2105,  1.0728,  1.3825,\n",
       "         0.2619,  0.2623,  2.0169,  0.2635,  0.2437,  1.5717,  1.6660,  1.7170,\n",
       "         0.2005,  0.2957,  1.2303,  0.2002,  2.0707,  1.2085,  1.6064,  0.2047,\n",
       "         1.7357,  0.2671,  0.2744,  0.2779,  0.2367,  0.2456,  0.2737,  1.8794,\n",
       "         1.8366,  0.1792,  0.2274,  0.1920,  0.2101,  0.2599,  0.2515,  1.5459,\n",
       "         0.2506,  0.2118,  0.2236,  1.9364,  0.2656,  1.5706,  0.2542,  0.2420,\n",
       "         1.9225,  0.2696,  0.2331,  0.2306,  0.2175,  1.4988,  0.1913,  1.7977,\n",
       "         0.2247,  0.1904,  1.7490,  0.2376,  0.2285,  1.7120,  0.2404,  1.9750,\n",
       "         0.1777,  2.0246,  0.2579,  0.1966,  1.5053,  1.8709,  0.2206,  0.1907,\n",
       "         0.2393,  1.0517,  1.9204,  2.0073,  0.2444,  1.7396,  0.2489,  2.0473,\n",
       "         0.2364,  1.5925,  0.2564,  0.1942,  2.3039,  0.2054,  0.2457,  0.2909,\n",
       "         1.2711,  0.2107,  1.8704,  1.8629,  0.8927,  2.3666,  1.3698,  1.4247,\n",
       "         0.2365,  0.2280,  0.2612,  1.5232,  0.2202,  1.8570,  0.2859,  0.2697,\n",
       "         2.1478,  1.8296,  1.9892,  1.6046,  0.2245,  2.2556,  0.1841,  0.1777,\n",
       "         0.2581,  1.6921,  0.1411,  1.3874,  1.3739,  0.2675,  1.7814,  0.2623,\n",
       "         1.1270,  0.2669,  1.8295,  2.3099,  0.2170,  0.2774,  1.8672,  0.2011,\n",
       "         0.2286,  0.2668,  0.2792,  1.7083,  2.3105,  1.7116,  1.5498,  0.2748,\n",
       "         0.2356,  0.2016,  1.7616,  0.2380,  0.2512,  0.2479,  0.2392,  0.2563,\n",
       "         1.6326,  0.2261,  2.2181,  0.2848,  0.2235,  0.2035,  0.2487,  1.6585,\n",
       "         0.2479,  0.2514,  0.2162,  0.2104,  0.1965,  0.2120,  0.2209,  0.2292,\n",
       "         0.2592,  0.9243,  0.2483,  0.2880,  0.1757,  0.2503,  1.1816,  0.1900,\n",
       "         0.2207,  0.9167,  0.2454,  0.2123,  1.3933,  0.2973,  1.9150,  0.2332,\n",
       "         0.2420,  0.2192,  0.2707,  0.2392,  1.9164,  0.2430,  0.2440,  0.2351,\n",
       "         1.2379,  1.7436,  0.1755,  1.5642,  2.3149,  1.0335,  0.2488,  0.2632,\n",
       "         0.2846,  1.1359,  0.2478,  2.2676,  0.2231,  0.2331,  0.2595,  0.2632,\n",
       "         0.2312,  2.3318,  0.2808,  0.2239,  0.1659,  0.2538,  2.2496,  0.1942,\n",
       "         1.3440,  0.1092,  1.6766,  0.2342,  1.6889,  0.9717,  0.1835,  0.2097,\n",
       "         0.2690,  0.2804,  1.8205,  0.2712,  0.2664,  0.2497,  0.2279,  1.9455,\n",
       "         2.1881,  0.2060,  0.2316,  2.0833,  0.2650,  0.3070,  0.1868,  0.2060,\n",
       "         0.1903,  0.2649,  0.2279,  2.6997,  0.2694,  0.2163,  0.2531,  0.2699,\n",
       "         2.3637,  1.6324,  1.1999,  0.2764,  0.9518,  1.1836,  0.0670,  1.4039,\n",
       "         1.8995,  0.2128,  1.8248,  1.9434,  0.2325,  0.1658,  0.2473, -0.0134,\n",
       "         0.2754,  0.2596,  0.1574,  1.2644,  0.2543,  0.1918,  0.2392,  0.2318,\n",
       "         1.4118,  0.2219,  2.0280,  0.2907,  0.2080,  0.2377,  0.2567,  0.2682,\n",
       "         1.5561,  0.2609,  0.2844,  2.9331,  0.2802,  0.2433,  1.2223,  1.8488,\n",
       "         1.4746,  0.2349,  1.7422,  0.2690,  1.9730,  1.1652,  0.2480,  0.2803,\n",
       "        -0.0216,  0.2511,  1.8286,  1.3894,  0.2089,  2.3273,  2.3132,  0.2519,\n",
       "         0.2105,  0.2350,  1.8407,  1.5632,  0.2315,  0.2473,  0.2587,  0.2686,\n",
       "         0.2915,  1.9209,  0.2060,  0.1729,  0.2581,  0.2092,  0.2818,  0.2400,\n",
       "         0.2169,  0.2419,  0.2213,  0.2964,  0.2444,  0.2077,  0.2196,  1.3141,\n",
       "         0.2414,  0.2378,  0.2461,  0.1929,  0.2409,  0.1451,  1.2102,  0.2479,\n",
       "         2.0250,  1.8247,  0.2583,  0.2279,  0.2226,  0.2806,  0.2230,  0.2314,\n",
       "         1.9707,  1.2634,  1.8093,  0.2717,  0.2572,  0.2359,  0.2263,  0.2338,\n",
       "         0.2293,  0.2475,  0.2463,  0.2206,  0.2546,  2.9337,  2.2828,  2.2913,\n",
       "         0.2624,  0.2536,  0.1999,  1.7106,  0.2384,  1.7851,  0.2607,  0.2465,\n",
       "         0.2618,  0.2940,  0.2326,  0.1873,  1.0380,  0.2240,  0.2041,  1.2148,\n",
       "         0.2082,  2.3037,  1.5144,  0.2489,  0.2429,  0.1656,  0.2668,  2.0615,\n",
       "         0.2276,  0.2006,  0.2425,  0.2029,  0.4020,  0.1953,  0.2758,  1.8826,\n",
       "         0.2517,  0.2530,  0.2839,  0.2668,  0.2237,  2.0416,  1.7179,  1.0777,\n",
       "         0.1905,  0.2594,  0.2255,  1.4139,  0.2203,  2.0127,  0.2295,  0.2488,\n",
       "         0.3061,  0.1841,  0.2397,  0.3010,  2.2440,  0.1992,  0.2552,  0.2043,\n",
       "         0.2214,  1.8440,  0.2522,  0.2226,  1.5619,  1.8195,  0.2701,  0.2519,\n",
       "         0.2504,  0.2240,  0.2455,  1.2003,  0.2864,  0.2315,  0.2280,  0.2152,\n",
       "         1.5345,  1.7137,  0.2378,  1.5388,  0.2717,  1.7070,  1.8608,  0.2594,\n",
       "         0.2092,  1.1589,  1.6974,  0.2391,  0.2557,  1.6460,  0.1991,  0.2426,\n",
       "         0.2115,  0.2192,  1.7645,  0.2773,  0.9290,  0.1857,  0.2618])"
      ]
     },
     "execution_count": 39,
     "metadata": {},
     "output_type": "execute_result"
    }
   ],
   "source": [
    "np.mean(test_set[:][1].view(-1))"
   ]
  },
  {
   "cell_type": "code",
   "execution_count": 40,
   "id": "b4958e25-daf1-4afb-84bc-7af95c4bc6cf",
   "metadata": {},
   "outputs": [
    {
     "data": {
      "text/plain": [
       "tensor([ 1.7861e+00,  2.8414e-01,  1.8569e+00,  2.6313e-01,  2.4539e-01,\n",
       "         1.9397e-01,  2.6913e-01,  2.8730e-01,  2.3218e+00,  2.6303e-01,\n",
       "         1.9102e-01,  2.3885e-01,  2.2408e-01,  2.2873e-01,  2.3136e-01,\n",
       "         2.5400e-01,  1.5904e+00,  9.7255e-01,  2.1335e-01,  2.3992e-01,\n",
       "         2.5998e-01,  2.6982e-01,  2.3778e-01,  2.4656e-01,  1.7499e+00,\n",
       "         2.5508e-01,  2.6087e-01,  2.0931e-01,  2.0844e-01,  2.0402e-01,\n",
       "         2.2443e+00,  2.5841e-01,  2.3680e-01,  1.8554e+00,  2.4070e-01,\n",
       "         1.5571e+00,  2.1470e-01,  2.2518e+00,  1.6203e+00,  2.4754e-01,\n",
       "         2.8503e-01,  2.0575e-01,  1.5580e+00,  1.9674e-01,  1.5390e+00,\n",
       "         1.3876e+00,  2.2192e+00,  1.6656e+00,  1.8617e+00,  1.2290e+00,\n",
       "         2.5263e-01,  2.2498e-01,  1.1306e+00,  2.8532e-01,  1.2232e+00,\n",
       "         2.3038e-01,  1.6831e+00,  2.9474e-01,  1.5531e+00,  2.3476e-01,\n",
       "         2.2534e-01,  2.0814e+00,  2.1789e-01,  2.4578e-01,  1.5050e+00,\n",
       "         2.7327e-01,  1.6549e+00,  1.8298e+00,  2.0182e-01,  1.2662e+00,\n",
       "         2.8790e-01,  2.5557e-01,  2.1828e-01,  2.7825e+00,  2.0719e-01,\n",
       "         2.2563e-01,  2.5939e-01,  2.3762e+00,  2.0097e+00,  2.2156e-01,\n",
       "         1.0983e+00,  1.4630e+00,  2.3213e-01,  1.6311e-01,  2.4216e-01,\n",
       "         2.1432e-01,  1.2120e+00,  1.8483e+00,  2.3505e-01,  2.2524e-01,\n",
       "         2.6972e-01,  2.3544e+00,  2.8948e-01,  1.7877e+00,  1.8652e+00,\n",
       "         2.0665e+00,  2.0153e-01,  1.6687e-01,  2.0143e-01,  2.6303e-01,\n",
       "         2.0792e+00,  1.8227e-01,  1.9837e-01,  2.4041e-01,  2.4822e-01,\n",
       "         2.7376e-01,  1.6441e+00,  1.7790e+00,  2.2941e-01,  2.5753e-01,\n",
       "         2.6273e-01,  1.1483e+00,  2.7781e-01,  2.0547e+00,  2.4587e-01,\n",
       "         2.0244e+00,  2.3641e-01,  2.0618e+00,  2.6608e-01,  2.8245e-01,\n",
       "         1.9483e-01,  2.2292e-01,  1.9179e+00,  1.5717e+00,  2.1915e-01,\n",
       "         1.4326e+00,  2.4499e-01,  2.8236e-01,  1.7937e+00,  2.5713e-01,\n",
       "         2.4314e-01,  2.2456e-01,  3.1174e-01,  2.5478e-01,  2.8186e-01,\n",
       "         2.3817e-01,  2.4920e-01,  1.8044e+00,  2.1413e-01,  1.9124e+00,\n",
       "         1.6391e+00,  1.8378e-01,  2.1847e-01, -1.0338e-01,  1.8316e+00,\n",
       "         1.9780e-01,  2.3408e-01,  2.9369e+00,  2.2951e-01,  1.3954e+00,\n",
       "         2.6499e-01,  2.3728e+00,  2.1548e-01,  2.4022e-01,  2.4451e-01,\n",
       "         2.3593e-01,  1.2715e+00,  1.4711e+00,  2.6933e-01,  1.3100e+00,\n",
       "         2.3856e-01,  2.0375e+00,  1.5617e+00,  1.8637e+00,  2.3661e-01,\n",
       "         2.2205e-01,  2.3709e-01,  2.2127e-01,  2.2311e-01,  2.3200e+00,\n",
       "         2.1895e-01,  2.8137e-01,  1.9102e-01,  1.8693e+00,  1.7054e-01,\n",
       "         2.1152e-01,  2.7830e-01,  2.1191e-01,  1.4499e+00,  1.6208e-01,\n",
       "         2.4480e-01,  2.4695e-01,  1.4738e+00,  1.4235e+00,  2.7899e-01,\n",
       "         2.5998e-01,  2.2392e+00,  2.0528e+00,  2.2862e+00,  1.9732e+00,\n",
       "         7.8896e-02,  2.0172e-01,  2.2602e-01,  2.2979e+00,  2.3573e-01,\n",
       "         1.4322e+00,  2.2251e+00,  1.2479e+00,  1.9321e-01,  2.7041e-01,\n",
       "         2.6765e-01,  2.7258e-01,  2.4636e-01,  1.1341e+00,  2.5370e-01,\n",
       "         1.5542e+00,  2.8255e+00,  2.0671e-01,  1.1792e+00,  2.1104e-01,\n",
       "         2.8255e-01,  1.5805e-01,  2.0960e-01,  2.2189e+00,  1.5723e+00,\n",
       "         1.6627e+00,  1.8130e+00,  1.2605e+00,  2.3146e+00,  2.1548e-01,\n",
       "         1.8901e-01,  1.8453e+00,  1.9636e-01,  2.4695e-01,  2.4851e-01,\n",
       "         1.1481e+00,  1.5078e+00,  1.7500e+00,  2.0211e-01,  1.0638e+00,\n",
       "         2.6421e-01,  2.4587e-01,  1.8762e+00,  2.0374e-01,  2.0350e+00,\n",
       "         1.7600e+00,  1.3466e+00,  1.7516e-01,  1.8131e+00,  1.7914e-01,\n",
       "         2.9112e+00,  9.4349e-01,  2.2815e-01,  2.6795e-01,  2.3960e+00,\n",
       "         1.9369e-01,  2.5988e-01,  1.5627e+00,  2.6332e-01,  1.7609e+00,\n",
       "         1.7299e+00,  2.4012e-01,  1.3164e+00,  2.4724e-01,  1.6345e+00,\n",
       "         2.3563e-01,  2.7031e-01,  2.4744e-01,  1.7200e+00,  2.5900e-01,\n",
       "         2.6057e-01,  2.8582e-01,  2.5037e-01,  1.7067e+00,  2.5841e-01,\n",
       "         2.3486e-01,  1.5562e-01,  1.1801e+00,  2.3787e-01,  1.1564e-01,\n",
       "         2.3281e-01,  2.1683e-01,  2.5165e-01,  2.5596e-01,  1.8842e+00,\n",
       "         1.6257e+00,  2.0537e-01,  1.3645e+00,  2.4763e-01,  2.8849e-01,\n",
       "         2.3371e+00,  2.2292e-01,  2.0912e-01,  2.6332e-01,  2.8265e-01,\n",
       "         2.7041e-01,  2.3342e+00,  1.6123e-01,  2.0172e+00,  1.1415e+00,\n",
       "         1.6768e+00,  2.9226e-01,  2.3690e-01,  1.1682e+00,  1.5255e+00,\n",
       "         2.4441e-01,  2.1866e-01,  2.2621e-01,  2.6893e-01,  2.6185e-01,\n",
       "         2.7969e-01,  2.4519e-01,  2.4470e-01,  2.1895e-01,  2.2176e-01,\n",
       "         1.8116e+00,  2.1789e-01,  2.4470e-01,  2.3058e-01,  2.2476e-01,\n",
       "         2.3729e-01,  1.7955e+00,  2.3368e+00,  2.9593e-01,  1.8175e+00,\n",
       "         2.5812e-01,  2.3828e+00,  2.5606e-01,  1.8997e-01,  2.2558e+00,\n",
       "         2.0892e-01,  1.7082e-01,  2.3000e-01,  2.3233e-01,  2.0422e-01,\n",
       "         1.6924e+00,  2.5772e-01,  2.8087e-01,  2.5321e-01,  2.4529e-01,\n",
       "         2.5508e-01,  2.0531e+00,  3.1933e-01,  2.1577e-01,  2.0136e+00,\n",
       "         1.9502e-01,  2.3612e-01,  2.3223e-01,  2.3544e-01,  2.0864e-01,\n",
       "         2.5321e-01,  2.3836e-01,  2.3080e+00,  1.5718e+00,  2.9420e+00,\n",
       "         1.9996e+00,  1.6023e+00,  1.2451e+00,  2.7278e-01,  2.3266e+00,\n",
       "         2.4285e-01,  1.6927e+00,  1.4539e+00,  2.5018e-01,  2.5263e-01,\n",
       "         2.3155e-01,  2.7002e-01,  1.4164e+00,  1.1220e+00,  2.3379e-01,\n",
       "         1.2301e+00,  1.6321e+00,  2.0671e-01,  2.4196e+00,  1.2182e+00,\n",
       "         2.0709e+00,  2.5664e-01,  1.8426e-01,  1.2517e+00,  2.5194e-01,\n",
       "         1.9588e-01,  2.4763e-01,  2.4148e-01,  2.3029e-01,  2.3903e+00,\n",
       "         1.4401e+00,  2.4695e-01,  1.1949e+00,  2.2553e-01,  2.3963e-01,\n",
       "         2.2825e-01,  1.9751e-01,  2.5468e-01,  1.5470e+00,  2.1789e-01,\n",
       "         1.1863e+00,  2.9077e-01,  2.2156e-01,  2.5214e-01,  1.5994e+00,\n",
       "         1.8538e+00,  2.1673e-01,  1.4546e+00,  2.0000e-01,  2.2825e-01,\n",
       "         2.1300e+00,  2.1268e-01,  2.4617e-01,  1.9914e-01,  2.6480e-01,\n",
       "         2.3330e-01,  1.4948e+00,  1.1404e+00,  1.9178e-01,  2.3301e-01,\n",
       "         2.5713e-01,  1.7395e+00,  2.3612e-01,  2.4324e-01,  2.7485e-01,\n",
       "         1.8217e-01,  1.1264e+00,  1.4318e+00,  2.2893e-01,  2.3612e-01,\n",
       "         2.5890e-01,  2.1123e+00,  1.2381e+00,  2.1278e-01,  2.7372e-01,\n",
       "         2.5439e-01,  2.9256e-01,  3.0021e-01,  2.3194e-01,  1.3053e+00,\n",
       "         2.8651e-01,  2.2044e+00,  1.8824e+00,  2.9722e-01,  1.0130e+00,\n",
       "         2.2750e-03,  1.8673e-01,  2.4666e-01,  1.3344e+00,  1.5795e+00,\n",
       "         1.5747e+00,  1.3121e+00,  2.3369e-01,  2.3973e-01,  2.3087e-01,\n",
       "         2.0767e-01,  2.6185e-01,  2.5223e-01,  2.3145e-01,  1.2346e+00,\n",
       "         2.3038e-01,  1.9102e-01,  2.2961e-01,  2.1721e-01,  2.8127e-01,\n",
       "         2.1046e+00,  2.4842e-01,  1.2539e+00,  2.3998e+00,  2.1905e-01,\n",
       "         2.7593e-01,  2.3534e-01,  2.6765e-01,  1.0388e+00,  2.7593e-01,\n",
       "         2.2379e-01,  2.8622e-01,  1.2991e+00,  1.9108e+00,  2.6028e-01,\n",
       "         1.9541e-01,  1.7520e+00,  1.3090e+00,  2.0542e+00,  2.3875e-01,\n",
       "         2.0562e-01,  9.8642e-01,  2.7189e-01,  1.6641e+00,  1.9674e-01,\n",
       "         2.7159e-01,  1.1200e+00,  2.8236e-01,  2.2331e-01,  1.9799e-01,\n",
       "         1.2331e+00,  2.8962e+00,  2.8330e-01,  2.0227e+00,  2.2185e-01,\n",
       "         2.6018e-01,  2.6637e-01,  2.5145e-01,  2.2825e-01,  1.9704e+00,\n",
       "         1.5060e+00,  2.5449e-01,  1.7686e-01,  2.7209e-01,  2.4900e-01,\n",
       "         1.5151e+00,  2.3301e-01,  1.9655e-01,  2.8048e-01,  2.1220e-01,\n",
       "         2.1176e+00,  1.8321e-01,  2.1104e-01,  1.1142e+00,  2.1963e-01,\n",
       "         2.8117e-01,  3.1723e-01,  2.2176e-01,  2.6155e-01,  2.7741e-01,\n",
       "         2.2728e+00,  1.0698e+00,  2.7909e-01,  2.2825e-01,  2.6047e-01,\n",
       "         1.9703e-01,  2.3622e-01,  2.1056e-01,  1.0751e+00,  1.3726e+00,\n",
       "         2.6293e-01,  2.6165e-01,  2.0166e+00,  2.6234e-01,  2.4373e-01,\n",
       "         1.5692e+00,  1.6628e+00,  1.7119e+00,  2.0681e-01,  2.9524e-01,\n",
       "         1.2162e+00,  1.9952e-01,  2.0703e+00,  1.2085e+00,  1.6173e+00,\n",
       "         2.0460e-01,  1.7293e+00,  2.5920e-01,  2.7426e-01,  2.7722e-01,\n",
       "         2.3651e-01,  2.4187e-01,  2.7248e-01,  1.8875e+00,  1.8337e+00,\n",
       "         1.9191e-01,  2.2592e-01,  1.9283e-01,  2.0844e-01,  2.5890e-01,\n",
       "         2.5047e-01,  1.5429e+00,  2.4998e-01,  2.1258e-01,  2.2137e-01,\n",
       "         1.9335e+00,  2.6480e-01,  1.5842e+00,  2.5341e-01,  2.4021e-01,\n",
       "         1.9204e+00,  2.6942e-01,  2.2805e-01,  2.3155e-01,  2.1683e-01,\n",
       "         1.4950e+00,  1.9159e-01,  1.7961e+00,  2.2476e-01,  1.9178e-01,\n",
       "         1.7459e+00,  2.3758e-01,  2.2631e-01,  1.7051e+00,  2.3817e-01,\n",
       "         1.9731e+00,  1.7309e-01,  2.0236e+00,  2.5458e-01,  1.9751e-01,\n",
       "         1.5012e+00,  1.8740e+00,  2.2311e-01,  1.9235e-01,  2.3661e-01,\n",
       "         1.0581e+00,  1.9184e+00,  2.0034e+00,  2.5557e-01,  1.7360e+00,\n",
       "         2.5360e-01,  2.0479e+00,  2.3641e-01,  1.5840e+00,  2.5351e-01,\n",
       "         2.2661e-01,  2.3085e+00,  2.0795e-01,  2.5223e-01,  2.8701e-01,\n",
       "         1.2668e+00,  2.1114e-01,  1.8523e+00,  1.8594e+00,  9.0178e-01,\n",
       "         2.3718e+00,  1.3684e+00,  1.4210e+00,  2.4724e-01,  2.1644e-01,\n",
       "         2.5684e-01,  1.5198e+00,  2.1779e-01,  1.8525e+00,  2.7593e-01,\n",
       "         2.6933e-01,  2.1496e+00,  1.8274e+00,  1.9882e+00,  1.6016e+00,\n",
       "         2.2505e-01,  2.2665e+00,  1.8350e-01,  2.1895e-01,  2.6126e-01,\n",
       "         1.6866e+00,  1.4982e-01,  1.3850e+00,  1.3779e+00,  2.6657e-01,\n",
       "         1.7778e+00,  2.6509e-01,  1.1244e+00,  2.6549e-01,  1.8293e+00,\n",
       "         2.3151e+00,  2.1596e-01,  2.7682e-01,  1.8636e+00,  2.0354e-01,\n",
       "         2.2922e-01,  2.6391e-01,  2.7840e-01,  1.7046e+00,  2.3168e+00,\n",
       "         1.7070e+00,  1.5466e+00,  2.7386e-01,  2.3058e-01,  2.0297e-01,\n",
       "         1.7602e+00,  2.3836e-01,  2.4910e-01,  2.4509e-01,  2.3709e-01,\n",
       "         2.5233e-01,  1.6286e+00,  2.2544e-01,  2.2231e+00,  2.8354e-01,\n",
       "         2.3165e-01,  2.0259e-01,  2.4881e-01,  1.6504e+00,  2.4324e-01,\n",
       "         2.4891e-01,  2.1663e-01,  2.1075e-01,  1.8768e-01,  2.1143e-01,\n",
       "         2.2205e-01,  2.2941e-01,  2.5713e-01,  9.2662e-01,  2.5194e-01,\n",
       "         2.8523e-01,  1.7753e-01,  2.4509e-01,  1.1817e+00,  1.9674e-01,\n",
       "         2.4353e-01,  9.1897e-01,  2.4548e-01,  2.0960e-01,  1.3903e+00,\n",
       "         2.9623e-01,  1.9134e+00,  2.3291e-01,  2.4197e-01,  2.3155e-01,\n",
       "         2.6755e-01,  2.3758e-01,  1.9142e+00,  2.4275e-01,  2.4438e-01,\n",
       "         2.4119e-01,  1.2368e+00,  1.7404e+00,  1.7393e-01,  1.5606e+00,\n",
       "         2.3211e+00,  1.0360e+00,  2.4431e-01,  2.5988e-01,  2.7909e-01,\n",
       "         1.1388e+00,  2.5119e-01,  2.2709e+00,  2.2679e-01,  2.3369e-01,\n",
       "         2.5400e-01,  2.5979e-01,  2.2980e-01,  2.3369e+00,  2.8483e-01,\n",
       "         2.2243e-01,  1.6809e-01,  2.5390e-01,  2.2532e+00,  1.9159e-01,\n",
       "         1.3380e+00,  1.1564e-01,  1.6726e+00,  2.3116e-01,  1.6853e+00,\n",
       "         9.7433e-01,  1.8949e-01,  2.1075e-01,  2.6529e-01,  2.7979e-01,\n",
       "         1.8181e+00,  2.7179e-01,  2.6499e-01,  2.4627e-01,  2.2534e-01,\n",
       "         1.9448e+00,  2.1967e+00,  2.0691e-01,  2.3213e-01,  2.0832e+00,\n",
       "         2.5900e-01,  2.9623e-01,  1.7952e-01,  2.0777e-01,  1.9025e-01,\n",
       "         2.5959e-01,  2.2728e-01,  2.7133e+00,  2.6844e-01,  2.1172e-01,\n",
       "         2.5263e-01,  2.6962e-01,  2.3694e+00,  1.6283e+00,  1.1999e+00,\n",
       "         2.7356e-01,  9.5738e-01,  1.1847e+00,  8.2951e-02,  1.4025e+00,\n",
       "         1.8968e+00,  2.1335e-01,  1.8309e+00,  1.9430e+00,  2.3029e-01,\n",
       "         1.5992e-01,  2.4666e-01,  1.1251e-02,  2.7524e-01,  2.5674e-01,\n",
       "         1.5871e-01,  1.2644e+00,  2.4509e-01,  2.1191e-01,  2.6300e-01,\n",
       "         2.3281e-01,  1.4042e+00,  2.2253e-01,  2.0273e+00,  2.9256e-01,\n",
       "         2.0575e-01,  2.4002e-01,  2.5566e-01,  2.6765e-01,  1.5526e+00,\n",
       "         2.5880e-01,  2.8433e-01,  2.9464e+00,  2.7297e-01,  2.4388e-01,\n",
       "         1.2335e+00,  1.8490e+00,  1.4758e+00,  2.3495e-01,  1.7328e+00,\n",
       "         2.6440e-01,  1.9737e+00,  1.1662e+00,  2.3963e-01,  2.7801e-01,\n",
       "        -5.9957e-04,  2.4998e-01,  1.8332e+00,  1.3873e+00,  2.1056e-01,\n",
       "         2.3325e+00,  2.3193e+00,  2.5174e-01,  2.1008e-01,  2.3525e-01,\n",
       "         1.8390e+00,  1.5705e+00,  2.3029e-01,  2.4802e-01,  2.5243e-01,\n",
       "         2.6814e-01,  2.9008e-01,  1.9142e+00,  2.0719e-01,  1.7564e-01,\n",
       "         2.5969e-01,  2.0979e-01,  2.8226e-01,  2.4080e-01,  2.2108e-01,\n",
       "         2.4343e-01,  2.2205e-01,  2.9603e-01,  2.4090e-01,  2.0441e-01,\n",
       "         2.2079e-01,  1.3110e+00,  2.5018e-01,  2.3690e-01,  2.4587e-01,\n",
       "         1.9455e-01,  2.4090e-01,  1.4919e-01,  1.2386e+00,  2.4480e-01,\n",
       "         2.0251e+00,  1.8176e+00,  2.5910e-01,  2.2902e-01,  2.2147e-01,\n",
       "         2.8147e-01,  2.2515e-01,  2.3213e-01,  1.9697e+00,  1.2790e+00,\n",
       "         1.8062e+00,  2.6637e-01,  2.5282e-01,  2.3486e-01,  2.2621e-01,\n",
       "         2.3408e-01,  2.2495e-01,  2.4402e-01,  2.4568e-01,  2.2108e-01,\n",
       "         2.5214e-01,  2.9461e+00,  2.2866e+00,  2.3215e+00,  2.6155e-01,\n",
       "         2.4216e-01,  2.0076e-01,  1.6996e+00,  2.3817e-01,  1.7922e+00,\n",
       "         2.6195e-01,  2.3914e-01,  2.5979e-01,  2.9028e-01,  2.3281e-01,\n",
       "         1.8940e-01,  1.0396e+00,  2.2456e-01,  2.0479e-01,  1.2143e+00,\n",
       "         2.1018e-01,  2.3084e+00,  1.5107e+00,  2.4793e-01,  2.4304e-01,\n",
       "         1.6865e-01,  2.6618e-01,  2.0634e+00,  2.2708e-01,  2.0374e-01,\n",
       "         2.4265e-01,  2.0989e-01,  4.2933e-01,  1.9550e-01,  2.8384e-01,\n",
       "         1.8770e+00,  2.5096e-01,  2.5165e-01,  2.8206e-01,  2.6637e-01,\n",
       "         2.2398e-01,  2.0403e+00,  1.7144e+00,  1.0789e+00,  1.8901e-01,\n",
       "         2.5145e-01,  2.2689e-01,  1.4130e+00,  2.1818e-01,  2.0119e+00,\n",
       "         2.2825e-01,  2.4891e-01,  3.0567e-01,  1.8616e-01,  2.4012e-01,\n",
       "         2.9673e-01,  2.2506e+00,  1.9531e-01,  2.5449e-01,  1.9914e-01,\n",
       "         2.2301e-01,  1.8401e+00,  2.5155e-01,  2.1605e-01,  1.5556e+00,\n",
       "         1.8167e+00,  2.6923e-01,  2.4851e-01,  2.5890e-01,  2.2418e-01,\n",
       "         2.4207e-01,  1.2000e+00,  2.8245e-01,  2.3106e-01,  2.2825e-01,\n",
       "         2.3184e-01,  1.5317e+00,  1.7113e+00,  2.5018e-01,  1.5348e+00,\n",
       "         2.6873e-01,  1.7055e+00,  1.8586e+00,  2.5979e-01,  2.0594e-01,\n",
       "         1.1585e+00,  1.6925e+00,  2.3914e-01,  2.5478e-01,  1.6426e+00,\n",
       "         1.9617e-01,  2.3807e-01,  2.1249e-01,  2.1924e-01,  1.7807e+00,\n",
       "         2.7633e-01,  9.4129e-01,  1.8683e-01,  2.6096e-01],\n",
       "       grad_fn=<ViewBackward0>)"
      ]
     },
     "execution_count": 40,
     "metadata": {},
     "output_type": "execute_result"
    }
   ],
   "source": [
    "test_pred"
   ]
  },
  {
   "cell_type": "code",
   "execution_count": null,
   "id": "c166a699-63ba-4ec3-8b44-6f189a37d9a9",
   "metadata": {},
   "outputs": [],
   "source": []
  },
  {
   "cell_type": "code",
   "execution_count": null,
   "id": "210faf69-ae75-4de3-bf52-530b0cab0661",
   "metadata": {},
   "outputs": [],
   "source": []
  },
  {
   "cell_type": "code",
   "execution_count": null,
   "id": "47193c01-999c-4b68-891a-f4d86a68a079",
   "metadata": {},
   "outputs": [],
   "source": []
  }
 ],
 "metadata": {
  "kernelspec": {
   "display_name": "Python 3 (ipykernel)",
   "language": "python",
   "name": "python3"
  },
  "language_info": {
   "codemirror_mode": {
    "name": "ipython",
    "version": 3
   },
   "file_extension": ".py",
   "mimetype": "text/x-python",
   "name": "python",
   "nbconvert_exporter": "python",
   "pygments_lexer": "ipython3",
   "version": "3.9.5"
  }
 },
 "nbformat": 4,
 "nbformat_minor": 5
}
