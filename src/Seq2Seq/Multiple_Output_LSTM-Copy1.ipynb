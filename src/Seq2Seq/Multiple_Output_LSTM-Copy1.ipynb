{
 "cells": [
  {
   "cell_type": "code",
   "execution_count": 1,
   "id": "bdfbcfec-f9ff-4fc7-ac36-49356423700b",
   "metadata": {},
   "outputs": [],
   "source": [
    "import os\n",
    "import pandas as pd\n",
    "import numpy as np\n",
    "import matplotlib.pyplot as plt     \n",
    "import numpy as np\n",
    "import re\n",
    "from sklearn.preprocessing import StandardScaler\n",
    "from sklearn.model_selection import train_test_split\n",
    "\n",
    "from sklearn.metrics import mean_squared_error\n",
    "from sklearn.metrics import mean_absolute_error\n",
    "\n",
    "import torch\n",
    "import torch.nn as nn\n",
    "import torch.nn.functional as F\n",
    "from torch.utils.data import Dataset, DataLoader\n",
    "from torch.nn.utils.rnn import pack_padded_sequence, pad_packed_sequence "
   ]
  },
  {
   "cell_type": "markdown",
   "id": "bb711cb1-c465-4ee2-96a7-1000353031b8",
   "metadata": {},
   "source": [
    "## Create Data Frame"
   ]
  },
  {
   "cell_type": "code",
   "execution_count": 2,
   "id": "bf504fc6-5d65-43e9-9a61-5557a6cb0d56",
   "metadata": {},
   "outputs": [],
   "source": [
    "breath_df = pd.read_pickle('breath_pickle')"
   ]
  },
  {
   "cell_type": "code",
   "execution_count": 3,
   "id": "492885d5-1c46-470e-a432-f6fbe2c26128",
   "metadata": {},
   "outputs": [],
   "source": [
    "under2 = breath_df[abs(breath_df['Csv_breath_holds']-breath_df['Data_breath_holds'])<=2]"
   ]
  },
  {
   "cell_type": "code",
   "execution_count": 4,
   "id": "4def9f76-4985-484a-890a-8dba0f7d021b",
   "metadata": {},
   "outputs": [
    {
     "data": {
      "text/html": [
       "<div>\n",
       "<style scoped>\n",
       "    .dataframe tbody tr th:only-of-type {\n",
       "        vertical-align: middle;\n",
       "    }\n",
       "\n",
       "    .dataframe tbody tr th {\n",
       "        vertical-align: top;\n",
       "    }\n",
       "\n",
       "    .dataframe thead th {\n",
       "        text-align: right;\n",
       "    }\n",
       "</style>\n",
       "<table border=\"1\" class=\"dataframe\">\n",
       "  <thead>\n",
       "    <tr style=\"text-align: right;\">\n",
       "      <th></th>\n",
       "      <th>Trace</th>\n",
       "      <th>Csv_breath_holds</th>\n",
       "      <th>Data_breath_holds</th>\n",
       "      <th>Full_trace</th>\n",
       "      <th>breathhold_idx</th>\n",
       "      <th>bh_start_end</th>\n",
       "    </tr>\n",
       "  </thead>\n",
       "  <tbody>\n",
       "    <tr>\n",
       "      <th>0</th>\n",
       "      <td>[0.0003, 0.0006, 0.001, 0.0014, 0.0019, 0.0023...</td>\n",
       "      <td>31.29</td>\n",
       "      <td>31.69</td>\n",
       "      <td>[0.0003, 0.0006, 0.001, 0.0014, 0.0019, 0.0023...</td>\n",
       "      <td>[2661, 2662, 2663, 2664, 2665, 2666, 2667, 266...</td>\n",
       "      <td>(2661, 5829)</td>\n",
       "    </tr>\n",
       "    <tr>\n",
       "      <th>1</th>\n",
       "      <td>[0.0006, 0.0009, 0.0013, 0.0017, 0.0022, 0.002...</td>\n",
       "      <td>30.61</td>\n",
       "      <td>31.40</td>\n",
       "      <td>[0.0006, 0.0009, 0.0013, 0.0017, 0.0022, 0.002...</td>\n",
       "      <td>[2386, 2387, 2388, 2389, 2390, 2391, 2392, 239...</td>\n",
       "      <td>(2386, 5525)</td>\n",
       "    </tr>\n",
       "    <tr>\n",
       "      <th>3</th>\n",
       "      <td>[0.0013, 0.0027, 0.0034, 0.0041, 0.005, 0.006,...</td>\n",
       "      <td>30.85</td>\n",
       "      <td>31.84</td>\n",
       "      <td>[0.0013, 0.0027, 0.0034, 0.0041, 0.005, 0.006,...</td>\n",
       "      <td>[2573, 2574, 2575, 2576, 2577, 2578, 2579, 258...</td>\n",
       "      <td>(2573, 5756)</td>\n",
       "    </tr>\n",
       "    <tr>\n",
       "      <th>4</th>\n",
       "      <td>[0.0012, 0.0015, 0.0019, 0.0023, 0.0029, 0.003...</td>\n",
       "      <td>32.12</td>\n",
       "      <td>32.53</td>\n",
       "      <td>[0.0012, 0.0015, 0.0019, 0.0023, 0.0029, 0.003...</td>\n",
       "      <td>[2520, 2521, 2522, 2523, 2524, 2525, 2526, 252...</td>\n",
       "      <td>(2520, 5772)</td>\n",
       "    </tr>\n",
       "    <tr>\n",
       "      <th>5</th>\n",
       "      <td>[0.0008, 0.0011, 0.0014, 0.0018, 0.0023, 0.002...</td>\n",
       "      <td>30.88</td>\n",
       "      <td>31.02</td>\n",
       "      <td>[0.0008, 0.0011, 0.0014, 0.0018, 0.0023, 0.002...</td>\n",
       "      <td>[2683, 2684, 2685, 2686, 2687, 2688, 2689, 269...</td>\n",
       "      <td>(2683, 5784)</td>\n",
       "    </tr>\n",
       "  </tbody>\n",
       "</table>\n",
       "</div>"
      ],
      "text/plain": [
       "                                               Trace  Csv_breath_holds  \\\n",
       "0  [0.0003, 0.0006, 0.001, 0.0014, 0.0019, 0.0023...             31.29   \n",
       "1  [0.0006, 0.0009, 0.0013, 0.0017, 0.0022, 0.002...             30.61   \n",
       "3  [0.0013, 0.0027, 0.0034, 0.0041, 0.005, 0.006,...             30.85   \n",
       "4  [0.0012, 0.0015, 0.0019, 0.0023, 0.0029, 0.003...             32.12   \n",
       "5  [0.0008, 0.0011, 0.0014, 0.0018, 0.0023, 0.002...             30.88   \n",
       "\n",
       "   Data_breath_holds                                         Full_trace  \\\n",
       "0              31.69  [0.0003, 0.0006, 0.001, 0.0014, 0.0019, 0.0023...   \n",
       "1              31.40  [0.0006, 0.0009, 0.0013, 0.0017, 0.0022, 0.002...   \n",
       "3              31.84  [0.0013, 0.0027, 0.0034, 0.0041, 0.005, 0.006,...   \n",
       "4              32.53  [0.0012, 0.0015, 0.0019, 0.0023, 0.0029, 0.003...   \n",
       "5              31.02  [0.0008, 0.0011, 0.0014, 0.0018, 0.0023, 0.002...   \n",
       "\n",
       "                                      breathhold_idx  bh_start_end  \n",
       "0  [2661, 2662, 2663, 2664, 2665, 2666, 2667, 266...  (2661, 5829)  \n",
       "1  [2386, 2387, 2388, 2389, 2390, 2391, 2392, 239...  (2386, 5525)  \n",
       "3  [2573, 2574, 2575, 2576, 2577, 2578, 2579, 258...  (2573, 5756)  \n",
       "4  [2520, 2521, 2522, 2523, 2524, 2525, 2526, 252...  (2520, 5772)  \n",
       "5  [2683, 2684, 2685, 2686, 2687, 2688, 2689, 269...  (2683, 5784)  "
      ]
     },
     "execution_count": 4,
     "metadata": {},
     "output_type": "execute_result"
    }
   ],
   "source": [
    "under2.head()"
   ]
  },
  {
   "cell_type": "code",
   "execution_count": 15,
   "id": "0b2a2b85-16b4-450d-9599-ca1e5122c37a",
   "metadata": {},
   "outputs": [],
   "source": [
    "under2 = under2[0:100]"
   ]
  },
  {
   "cell_type": "code",
   "execution_count": 6,
   "id": "3f650838-ef91-4617-9f9f-27853709c29b",
   "metadata": {},
   "outputs": [],
   "source": [
    "def split_trace(sequence, n_steps, n_output):\n",
    "    X, y = list(), list()\n",
    "    for i in range(len(sequence)):\n",
    "        end_ix = i + n_steps\n",
    "        # check if we are beyond the sequence\n",
    "        if end_ix > len(sequence)-n_output:\n",
    "            break\n",
    "\n",
    "        seq_x, seq_y = sequence[i:end_ix], sequence[end_ix:end_ix+n_output]\n",
    "\n",
    "        X.append(seq_x)\n",
    "        y.append(seq_y)\n",
    "    return np.array(X), np.array(y)"
   ]
  },
  {
   "cell_type": "code",
   "execution_count": 7,
   "id": "04958dcf-d70c-49da-ad39-4a790b389bae",
   "metadata": {},
   "outputs": [],
   "source": [
    "num_outputs = 10"
   ]
  },
  {
   "cell_type": "code",
   "execution_count": 12,
   "id": "4aa8a161-c674-44a1-af51-7c047edb2f99",
   "metadata": {},
   "outputs": [],
   "source": [
    "traces = []\n",
    "next_pt = []\n",
    "for row in under2['Trace']:\n",
    "    Xs, ys = split_trace(row, 100, num_outputs)\n",
    "    traces.append(Xs)\n",
    "    next_pt.append(ys)\n",
    "    "
   ]
  },
  {
   "cell_type": "code",
   "execution_count": 13,
   "id": "4d22b171-4158-44be-b55e-340d31979102",
   "metadata": {},
   "outputs": [],
   "source": [
    "traces2 = [np.array(x, dtype='float32') for sublist in traces for x in sublist]\n",
    "next_pt2 = [x for sublist in next_pt for x in sublist]"
   ]
  },
  {
   "cell_type": "markdown",
   "id": "616c46ab-c8a1-4fdd-8651-621a9bf997d8",
   "metadata": {},
   "source": [
    "## Scale Data"
   ]
  },
  {
   "cell_type": "code",
   "execution_count": null,
   "id": "d5cf0e23-53a6-4473-92c0-60c80159586a",
   "metadata": {},
   "outputs": [],
   "source": [
    "scaler = StandardScaler() # creates the scaler\n",
    "scaler.fit(x_train)\n",
    "x_train = scaler.transform(x_train)\n",
    "x_val = scaler.transform(x_val)\n",
    "x_test = scaler.transform(x_test)"
   ]
  },
  {
   "cell_type": "markdown",
   "id": "4ce1121c-f8be-43a4-b659-ab8b06a4bdbc",
   "metadata": {},
   "source": [
    "## Initialize Data for Model"
   ]
  },
  {
   "cell_type": "code",
   "execution_count": 13,
   "id": "ca94ba43-44ac-4465-b699-e26c93d54868",
   "metadata": {},
   "outputs": [],
   "source": [
    "#dataset\n",
    "from torch.utils.data import Dataset"
   ]
  },
  {
   "cell_type": "code",
   "execution_count": 14,
   "id": "47a26427-83ea-4e7c-a8e0-ba279e1e9ed4",
   "metadata": {},
   "outputs": [],
   "source": [
    "class timeseries(Dataset):\n",
    "    def __init__(self,x,y):\n",
    "        self.x = torch.tensor(x,dtype=torch.float32)\n",
    "        self.y = torch.tensor(y,dtype=torch.float32)\n",
    "        self.len = x.shape[0]\n",
    "\n",
    "    def __getitem__(self,idx):\n",
    "        return self.x[idx],self.y[idx]\n",
    "  \n",
    "    def __len__(self):\n",
    "        return self.len"
   ]
  },
  {
   "cell_type": "code",
   "execution_count": 15,
   "id": "e09dcd61-1d12-46aa-be28-f1363cdd814d",
   "metadata": {},
   "outputs": [],
   "source": [
    "dataset = timeseries(x_train,y_train)\n",
    "valid_dataset = timeseries(x_val,y_val)\n",
    "test_dataset = timeseries(x_test,y_test)"
   ]
  },
  {
   "cell_type": "code",
   "execution_count": 16,
   "id": "34938e4c-9820-4df6-9d75-cb9ca7f97fa0",
   "metadata": {},
   "outputs": [],
   "source": [
    "train_loader = DataLoader(dataset,shuffle=False,batch_size=200)\n",
    "val_loader = DataLoader(valid_dataset,shuffle=False,batch_size=200)\n",
    "test_loader = DataLoader(test_dataset,shuffle=False,batch_size=200)"
   ]
  },
  {
   "cell_type": "markdown",
   "id": "6b566e49-9363-4dec-812b-a04d7c0539ab",
   "metadata": {},
   "source": [
    "## Yannet's Suggestion\n",
    "Add prediction to 'x' and make new prediciton."
   ]
  },
  {
   "cell_type": "code",
   "execution_count": 17,
   "id": "6334f9ee-e5e4-49a6-b762-8e7e2f582034",
   "metadata": {},
   "outputs": [],
   "source": [
    "#neural network\n",
    "from torch import nn\n",
    "\n",
    "class LSTM_Model(nn.Module):\n",
    "    def __init__(self):\n",
    "        super(LSTM_Model,self).__init__()\n",
    "        self.lstm = nn.LSTM(input_size=1,hidden_size=5,num_layers=1,batch_first=True)\n",
    "        self.linear = nn.Linear(in_features=5,out_features=1)\n",
    "        \n",
    "    def forward(self,x):\n",
    "        output,_status = self.lstm(x)\n",
    "        output = output[:,-1,:]\n",
    "        output = self.linear(torch.relu(output))\n",
    "        return output"
   ]
  },
  {
   "cell_type": "code",
   "execution_count": 18,
   "id": "69203e9c-18e0-4f91-a14d-0964b0d2d762",
   "metadata": {},
   "outputs": [],
   "source": [
    "model = torch.load('lstm_single_output_1000_epochs')"
   ]
  },
  {
   "cell_type": "code",
   "execution_count": 19,
   "id": "d46e4deb-3852-4940-8c54-cec9095fa18f",
   "metadata": {},
   "outputs": [
    {
     "data": {
      "text/plain": [
       "LSTM_Model(\n",
       "  (lstm): LSTM(1, 5, batch_first=True)\n",
       "  (linear): Linear(in_features=5, out_features=1, bias=True)\n",
       ")"
      ]
     },
     "execution_count": 19,
     "metadata": {},
     "output_type": "execute_result"
    }
   ],
   "source": [
    "model"
   ]
  },
  {
   "cell_type": "code",
   "execution_count": 20,
   "id": "29875092-a717-447d-ac93-fa6990ecfe2d",
   "metadata": {},
   "outputs": [],
   "source": [
    "def make_pred(x_test, y_test, n_preds):\n",
    "    \n",
    "    test_set = timeseries(x_test,y_test)\n",
    "    x = test_set[:][0]\n",
    "   \n",
    "    preds = []\n",
    "    \n",
    "    for i in range(10, 10+n_preds):\n",
    "        test_pred = model(x.view(-1,i,1)).view(-1)\n",
    "        preds.append(test_pred)\n",
    "        x = torch.cat((x, test_pred.view(-1,1)), 1)\n",
    "    \n",
    "    return preds"
   ]
  },
  {
   "cell_type": "code",
   "execution_count": 21,
   "id": "df2426ba-c61f-4901-9740-9fa3de2ba70d",
   "metadata": {},
   "outputs": [],
   "source": [
    "preds = make_pred(x_test, y_test, 20)"
   ]
  },
  {
   "cell_type": "code",
   "execution_count": 25,
   "id": "15afbcc5-39a8-4ec1-b794-559ae7d122b0",
   "metadata": {},
   "outputs": [
    {
     "data": {
      "text/plain": [
       "array([-0.822081,  0.809876,  0.143455, ..., -0.472583, -0.144097,\n",
       "        0.874191])"
      ]
     },
     "execution_count": 25,
     "metadata": {},
     "output_type": "execute_result"
    }
   ],
   "source": [
    "y_test"
   ]
  },
  {
   "cell_type": "code",
   "execution_count": 24,
   "id": "eead771b-ed69-461d-a08e-a83154911de3",
   "metadata": {},
   "outputs": [
    {
     "data": {
      "text/plain": [
       "[tensor([-0.8239,  0.8103,  0.1427,  ..., -0.4734, -0.1450,  0.8758],\n",
       "        grad_fn=<ViewBackward0>),\n",
       " tensor([0.2459, 0.6077, 0.5805,  ..., 0.3583, 0.4773, 0.5938],\n",
       "        grad_fn=<ViewBackward0>),\n",
       " tensor([0.4456, 0.5188, 0.7006,  ..., 0.5344, 0.6286, 0.4626],\n",
       "        grad_fn=<ViewBackward0>),\n",
       " tensor([0.5635, 0.6180, 0.6355,  ..., 0.5929, 0.6117, 0.5988],\n",
       "        grad_fn=<ViewBackward0>),\n",
       " tensor([0.6219, 0.7428, 0.5829,  ..., 0.6146, 0.5911, 0.7626],\n",
       "        grad_fn=<ViewBackward0>),\n",
       " tensor([0.6612, 0.7239, 0.6287,  ..., 0.6570, 0.6423, 0.7329],\n",
       "        grad_fn=<ViewBackward0>),\n",
       " tensor([0.6821, 0.6211, 0.7080,  ..., 0.6946, 0.7079, 0.5988],\n",
       "        grad_fn=<ViewBackward0>),\n",
       " tensor([0.6801, 0.5754, 0.7183,  ..., 0.6936, 0.7112, 0.5491],\n",
       "        grad_fn=<ViewBackward0>),\n",
       " tensor([0.6658, 0.6346, 0.6631,  ..., 0.6647, 0.6628, 0.6359],\n",
       "        grad_fn=<ViewBackward0>),\n",
       " tensor([0.6568, 0.7070, 0.6193,  ..., 0.6448, 0.6277, 0.7281],\n",
       "        grad_fn=<ViewBackward0>),\n",
       " tensor([0.6594, 0.6994, 0.6342,  ..., 0.6521, 0.6416, 0.7088],\n",
       "        grad_fn=<ViewBackward0>),\n",
       " tensor([0.6651, 0.6403, 0.6768,  ..., 0.6694, 0.6756, 0.6295],\n",
       "        grad_fn=<ViewBackward0>),\n",
       " tensor([0.6640, 0.6116, 0.6873,  ..., 0.6713, 0.6820, 0.5971],\n",
       "        grad_fn=<ViewBackward0>),\n",
       " tensor([0.6571, 0.6426, 0.6593,  ..., 0.6574, 0.6579, 0.6430],\n",
       "        grad_fn=<ViewBackward0>),\n",
       " tensor([0.6527, 0.6839, 0.6342,  ..., 0.6467, 0.6381, 0.6958],\n",
       "        grad_fn=<ViewBackward0>),\n",
       " tensor([0.6549, 0.6821, 0.6415,  ..., 0.6509, 0.6452, 0.6882],\n",
       "        grad_fn=<ViewBackward0>),\n",
       " tensor([0.6590, 0.6490, 0.6657,  ..., 0.6614, 0.6648, 0.6433],\n",
       "        grad_fn=<ViewBackward0>),\n",
       " tensor([0.6593, 0.6312, 0.6733,  ..., 0.6637, 0.6701, 0.6229],\n",
       "        grad_fn=<ViewBackward0>),\n",
       " tensor([0.6560, 0.6474, 0.6585,  ..., 0.6566, 0.6574, 0.6471],\n",
       "        grad_fn=<ViewBackward0>),\n",
       " tensor([0.6537, 0.6710, 0.6439,  ..., 0.6505, 0.6459, 0.6775],\n",
       "        grad_fn=<ViewBackward0>)]"
      ]
     },
     "execution_count": 24,
     "metadata": {},
     "output_type": "execute_result"
    }
   ],
   "source": [
    "preds"
   ]
  },
  {
   "cell_type": "code",
   "execution_count": null,
   "id": "aec06d70-5086-44f2-83c7-f047444fb4e9",
   "metadata": {},
   "outputs": [],
   "source": []
  }
 ],
 "metadata": {
  "kernelspec": {
   "display_name": "Python 3 (ipykernel)",
   "language": "python",
   "name": "python3"
  },
  "language_info": {
   "codemirror_mode": {
    "name": "ipython",
    "version": 3
   },
   "file_extension": ".py",
   "mimetype": "text/x-python",
   "name": "python",
   "nbconvert_exporter": "python",
   "pygments_lexer": "ipython3",
   "version": "3.9.5"
  }
 },
 "nbformat": 4,
 "nbformat_minor": 5
}
