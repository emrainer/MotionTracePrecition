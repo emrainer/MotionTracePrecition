{
 "cells": [
  {
   "cell_type": "code",
   "execution_count": 1,
   "id": "a6e69f15-96d5-432a-ab3e-e85b0fafa71e",
   "metadata": {},
   "outputs": [],
   "source": [
    "##########################Load Libraries  ####################################\n",
    "import pandas as pd\n",
    "import numpy as np\n",
    "import matplotlib.pyplot as plt     \n",
    "import re\n",
    "from sklearn.preprocessing import MinMaxScaler,StandardScaler\n",
    "from sklearn.model_selection import train_test_split\n",
    "\n",
    "from sklearn.metrics import mean_squared_error\n",
    "from sklearn.metrics import mean_absolute_error\n",
    "from sklearn.model_selection import GridSearchCV, KFold\n",
    "from sklearn.metrics import mean_absolute_error\n",
    "from Data_Processing import reduce_memory_usage\n",
    "\n",
    "import torch\n",
    "import torch.nn as nn\n",
    "from torch import optim\n",
    "import torch.nn.functional as F\n",
    "from torch.utils.data import Dataset, DataLoader\n",
    "from torch.nn.utils.rnn import pack_padded_sequence, pad_packed_sequence \n",
    "\n",
    "from window_data import *\n",
    "\n",
    "import os, errno\n",
    "import sys\n",
    "from tqdm import trange\n",
    "\n",
    "\n",
    "import warnings\n",
    "warnings.filterwarnings('ignore')"
   ]
  },
  {
   "cell_type": "markdown",
   "id": "e97c262a-4d50-4042-9f97-80f8e4897911",
   "metadata": {},
   "source": [
    "### Pre Processing & Dataset Preparation"
   ]
  },
  {
   "cell_type": "markdown",
   "id": "f9681bac-edf3-43b1-a5c8-1f12a5cabccd",
   "metadata": {},
   "source": [
    "#### GPU use\n",
    "Emply GPU to accelerate the training of the deep learning model."
   ]
  },
  {
   "cell_type": "code",
   "execution_count": 3,
   "id": "6a64c7f8-61de-40c4-91a8-4a6c5074b115",
   "metadata": {},
   "outputs": [],
   "source": [
    "device = torch.device(\"cuda\" if torch.cuda.is_available() else \"cpu\")"
   ]
  },
  {
   "cell_type": "markdown",
   "id": "4e44e152-dfd8-4838-bc49-b773a1042b7d",
   "metadata": {},
   "source": [
    "#### Load and Clean Data\n",
    "\n",
    "Data is stored in csv files. We will only consider traces where Csv_breath_hold and Data_breath_hold differs by fewer than 2 seconds"
   ]
  },
  {
   "cell_type": "code",
   "execution_count": 4,
   "id": "f74b2f0b-e7b7-4ec1-9906-92dbcb1ec59f",
   "metadata": {},
   "outputs": [],
   "source": [
    "breath_df = pd.read_pickle('breath_df')\n",
    "under2 = breath_df[abs(breath_df['Csv_breath_holds']\\\n",
    "                       -breath_df['Data_breath_holds'])<=2].reset_index()"
   ]
  },
  {
   "cell_type": "code",
   "execution_count": 4,
   "id": "dc43b44c-f25f-497c-9c0e-c33f849a9010",
   "metadata": {},
   "outputs": [
    {
     "data": {
      "text/html": [
       "<div>\n",
       "<style scoped>\n",
       "    .dataframe tbody tr th:only-of-type {\n",
       "        vertical-align: middle;\n",
       "    }\n",
       "\n",
       "    .dataframe tbody tr th {\n",
       "        vertical-align: top;\n",
       "    }\n",
       "\n",
       "    .dataframe thead th {\n",
       "        text-align: right;\n",
       "    }\n",
       "</style>\n",
       "<table border=\"1\" class=\"dataframe\">\n",
       "  <thead>\n",
       "    <tr style=\"text-align: right;\">\n",
       "      <th></th>\n",
       "      <th>index</th>\n",
       "      <th>Trace</th>\n",
       "      <th>Csv_breath_holds</th>\n",
       "      <th>Data_breath_holds</th>\n",
       "      <th>Full_trace</th>\n",
       "      <th>breathhold_idx</th>\n",
       "      <th>bh_start_end</th>\n",
       "    </tr>\n",
       "  </thead>\n",
       "  <tbody>\n",
       "    <tr>\n",
       "      <th>0</th>\n",
       "      <td>0</td>\n",
       "      <td>[0.1319, 0.1363, 0.1408, 0.1452, 0.1497, 0.154...</td>\n",
       "      <td>31.29</td>\n",
       "      <td>31.69</td>\n",
       "      <td>[0.0003, 0.0006, 0.001, 0.0014, 0.0019, 0.0023...</td>\n",
       "      <td>[2661, 2662, 2663, 2664, 2665, 2666, 2667, 266...</td>\n",
       "      <td>(2661, 5829)</td>\n",
       "    </tr>\n",
       "    <tr>\n",
       "      <th>1</th>\n",
       "      <td>1</td>\n",
       "      <td>[0.4727, 0.4687, 0.4646, 0.4605, 0.4563, 0.452...</td>\n",
       "      <td>30.61</td>\n",
       "      <td>31.40</td>\n",
       "      <td>[0.0006, 0.0009, 0.0013, 0.0017, 0.0022, 0.002...</td>\n",
       "      <td>[2386, 2387, 2388, 2389, 2390, 2391, 2392, 239...</td>\n",
       "      <td>(2386, 5525)</td>\n",
       "    </tr>\n",
       "    <tr>\n",
       "      <th>2</th>\n",
       "      <td>3</td>\n",
       "      <td>[0.0982, 0.0966, 0.095, 0.0934, 0.0919, 0.0904...</td>\n",
       "      <td>30.85</td>\n",
       "      <td>31.84</td>\n",
       "      <td>[0.0013, 0.0027, 0.0034, 0.0041, 0.005, 0.006,...</td>\n",
       "      <td>[2573, 2574, 2575, 2576, 2577, 2578, 2579, 258...</td>\n",
       "      <td>(2573, 5756)</td>\n",
       "    </tr>\n",
       "    <tr>\n",
       "      <th>3</th>\n",
       "      <td>4</td>\n",
       "      <td>[0.0117, 0.0109, 0.0102, 0.0095, 0.0089, 0.008...</td>\n",
       "      <td>32.12</td>\n",
       "      <td>32.53</td>\n",
       "      <td>[0.0012, 0.0015, 0.0019, 0.0023, 0.0029, 0.003...</td>\n",
       "      <td>[2520, 2521, 2522, 2523, 2524, 2525, 2526, 252...</td>\n",
       "      <td>(2520, 5772)</td>\n",
       "    </tr>\n",
       "    <tr>\n",
       "      <th>4</th>\n",
       "      <td>5</td>\n",
       "      <td>[0.1155, 0.1195, 0.1235, 0.1276, 0.1317, 0.135...</td>\n",
       "      <td>30.88</td>\n",
       "      <td>31.02</td>\n",
       "      <td>[0.0008, 0.0011, 0.0014, 0.0018, 0.0023, 0.002...</td>\n",
       "      <td>[2683, 2684, 2685, 2686, 2687, 2688, 2689, 269...</td>\n",
       "      <td>(2683, 5784)</td>\n",
       "    </tr>\n",
       "  </tbody>\n",
       "</table>\n",
       "</div>"
      ],
      "text/plain": [
       "   index                                              Trace  Csv_breath_holds  \\\n",
       "0      0  [0.1319, 0.1363, 0.1408, 0.1452, 0.1497, 0.154...             31.29   \n",
       "1      1  [0.4727, 0.4687, 0.4646, 0.4605, 0.4563, 0.452...             30.61   \n",
       "2      3  [0.0982, 0.0966, 0.095, 0.0934, 0.0919, 0.0904...             30.85   \n",
       "3      4  [0.0117, 0.0109, 0.0102, 0.0095, 0.0089, 0.008...             32.12   \n",
       "4      5  [0.1155, 0.1195, 0.1235, 0.1276, 0.1317, 0.135...             30.88   \n",
       "\n",
       "   Data_breath_holds                                         Full_trace  \\\n",
       "0              31.69  [0.0003, 0.0006, 0.001, 0.0014, 0.0019, 0.0023...   \n",
       "1              31.40  [0.0006, 0.0009, 0.0013, 0.0017, 0.0022, 0.002...   \n",
       "2              31.84  [0.0013, 0.0027, 0.0034, 0.0041, 0.005, 0.006,...   \n",
       "3              32.53  [0.0012, 0.0015, 0.0019, 0.0023, 0.0029, 0.003...   \n",
       "4              31.02  [0.0008, 0.0011, 0.0014, 0.0018, 0.0023, 0.002...   \n",
       "\n",
       "                                      breathhold_idx  bh_start_end  \n",
       "0  [2661, 2662, 2663, 2664, 2665, 2666, 2667, 266...  (2661, 5829)  \n",
       "1  [2386, 2387, 2388, 2389, 2390, 2391, 2392, 239...  (2386, 5525)  \n",
       "2  [2573, 2574, 2575, 2576, 2577, 2578, 2579, 258...  (2573, 5756)  \n",
       "3  [2520, 2521, 2522, 2523, 2524, 2525, 2526, 252...  (2520, 5772)  \n",
       "4  [2683, 2684, 2685, 2686, 2687, 2688, 2689, 269...  (2683, 5784)  "
      ]
     },
     "execution_count": 4,
     "metadata": {},
     "output_type": "execute_result"
    }
   ],
   "source": [
    "under2.head()"
   ]
  },
  {
   "cell_type": "markdown",
   "id": "5c3dae2f-eb05-4165-b0be-f71300ae5f16",
   "metadata": {},
   "source": [
    "#### Only Consider Regular Breathing"
   ]
  },
  {
   "cell_type": "code",
   "execution_count": 5,
   "id": "880d7806-90f4-4ad7-bc6e-b2ab9087d1f5",
   "metadata": {},
   "outputs": [],
   "source": [
    "under2['start_idx'] = \\\n",
    "            [bh_range[0] for bh_range in under2['bh_start_end']]"
   ]
  },
  {
   "cell_type": "code",
   "execution_count": 6,
   "id": "02696c0e-eca3-4e0f-a6f7-1683894c3bef",
   "metadata": {},
   "outputs": [
    {
     "data": {
      "image/png": "[encoded data removed]",
      "text/plain": [
       "<Figure size 432x288 with 1 Axes>"
      ]
     },
     "metadata": {
      "needs_background": "light"
     },
     "output_type": "display_data"
    }
   ],
   "source": [
    "plt.plot(under2['Full_trace'][0])\n",
    "plt.axvline(2661, c='red')\n",
    "plt.show()"
   ]
  },
  {
   "cell_type": "code",
   "execution_count": 7,
   "id": "ba8ea8ce-033a-4a70-9a57-85999d7f8c14",
   "metadata": {},
   "outputs": [],
   "source": [
    "regular_breathing = []\n",
    "for i in range(len(under2)):\n",
    "    bh_start = under2['start_idx'][i]\n",
    "    trace = under2['Full_trace'][i]\n",
    "    regular_breathing.append(trace[:bh_start])\n",
    "under2['regular_breathing'] = regular_breathing"
   ]
  },
  {
   "cell_type": "code",
   "execution_count": 8,
   "id": "a8fd6540-c419-4a5f-bbb7-67ef965bfd5f",
   "metadata": {},
   "outputs": [
    {
     "data": {
      "image/png": "[encoded data removed]",
      "text/plain": [
       "<Figure size 432x288 with 1 Axes>"
      ]
     },
     "metadata": {
      "needs_background": "light"
     },
     "output_type": "display_data"
    }
   ],
   "source": [
    "plt.plot(under2['regular_breathing'][0])\n",
    "plt.axvline(2661, c='red')\n",
    "plt.show()"
   ]
  },
  {
   "cell_type": "markdown",
   "id": "0c3778d9-5115-44df-b2c4-3d68ccefadef",
   "metadata": {
    "tags": []
   },
   "source": [
    "#### Memory Usage "
   ]
  },
  {
   "cell_type": "code",
   "execution_count": 9,
   "id": "9d82d061-d488-4467-a8ab-bae7ca4c5b78",
   "metadata": {},
   "outputs": [
    {
     "name": "stdout",
     "output_type": "stream",
     "text": [
      "Mem. usage decreased to  0.22 Mb from  0.33 Mb (33.3% reduction)\n"
     ]
    }
   ],
   "source": [
    "under2 = reduce_memory_usage(under2)"
   ]
  },
  {
   "cell_type": "code",
   "execution_count": 10,
   "id": "3b3b009d-b980-4c23-96dc-14ea9bd9882f",
   "metadata": {},
   "outputs": [],
   "source": [
    "df = under2.copy()"
   ]
  },
  {
   "cell_type": "code",
   "execution_count": 11,
   "id": "48571a34-54db-4ec0-9a3a-79633c765741",
   "metadata": {},
   "outputs": [
    {
     "data": {
      "text/html": [
       "<div>\n",
       "<style scoped>\n",
       "    .dataframe tbody tr th:only-of-type {\n",
       "        vertical-align: middle;\n",
       "    }\n",
       "\n",
       "    .dataframe tbody tr th {\n",
       "        vertical-align: top;\n",
       "    }\n",
       "\n",
       "    .dataframe thead th {\n",
       "        text-align: right;\n",
       "    }\n",
       "</style>\n",
       "<table border=\"1\" class=\"dataframe\">\n",
       "  <thead>\n",
       "    <tr style=\"text-align: right;\">\n",
       "      <th></th>\n",
       "      <th>index</th>\n",
       "      <th>Trace</th>\n",
       "      <th>Csv_breath_holds</th>\n",
       "      <th>Data_breath_holds</th>\n",
       "      <th>Full_trace</th>\n",
       "      <th>breathhold_idx</th>\n",
       "      <th>bh_start_end</th>\n",
       "      <th>start_idx</th>\n",
       "      <th>regular_breathing</th>\n",
       "    </tr>\n",
       "  </thead>\n",
       "  <tbody>\n",
       "    <tr>\n",
       "      <th>0</th>\n",
       "      <td>0</td>\n",
       "      <td>[0.132, 0.1364, 0.1407, 0.1451, 0.1497, 0.1543...</td>\n",
       "      <td>31.296875</td>\n",
       "      <td>31.68750</td>\n",
       "      <td>[0.0003, 0.0006, 0.001, 0.0014, 0.0019, 0.0023...</td>\n",
       "      <td>[2660.0, 2662.0, 2664.0, 2664.0, 2664.0, 2666....</td>\n",
       "      <td>[2660.0, 5828.0]</td>\n",
       "      <td>2661</td>\n",
       "      <td>[0.0003, 0.0006, 0.001, 0.0014, 0.0019, 0.0023...</td>\n",
       "    </tr>\n",
       "    <tr>\n",
       "      <th>1</th>\n",
       "      <td>1</td>\n",
       "      <td>[0.4727, 0.4688, 0.4646, 0.4604, 0.4563, 0.452...</td>\n",
       "      <td>30.609375</td>\n",
       "      <td>31.40625</td>\n",
       "      <td>[0.0006, 0.0009, 0.0013, 0.0017, 0.0022, 0.002...</td>\n",
       "      <td>[2386.0, 2388.0, 2388.0, 2388.0, 2390.0, 2392....</td>\n",
       "      <td>[2386.0, 5524.0]</td>\n",
       "      <td>2386</td>\n",
       "      <td>[0.0006, 0.0009, 0.0013, 0.0017, 0.0022, 0.002...</td>\n",
       "    </tr>\n",
       "  </tbody>\n",
       "</table>\n",
       "</div>"
      ],
      "text/plain": [
       "   index                                              Trace  Csv_breath_holds  \\\n",
       "0      0  [0.132, 0.1364, 0.1407, 0.1451, 0.1497, 0.1543...         31.296875   \n",
       "1      1  [0.4727, 0.4688, 0.4646, 0.4604, 0.4563, 0.452...         30.609375   \n",
       "\n",
       "   Data_breath_holds                                         Full_trace  \\\n",
       "0           31.68750  [0.0003, 0.0006, 0.001, 0.0014, 0.0019, 0.0023...   \n",
       "1           31.40625  [0.0006, 0.0009, 0.0013, 0.0017, 0.0022, 0.002...   \n",
       "\n",
       "                                      breathhold_idx      bh_start_end  \\\n",
       "0  [2660.0, 2662.0, 2664.0, 2664.0, 2664.0, 2666....  [2660.0, 5828.0]   \n",
       "1  [2386.0, 2388.0, 2388.0, 2388.0, 2390.0, 2392....  [2386.0, 5524.0]   \n",
       "\n",
       "   start_idx                                  regular_breathing  \n",
       "0       2661  [0.0003, 0.0006, 0.001, 0.0014, 0.0019, 0.0023...  \n",
       "1       2386  [0.0006, 0.0009, 0.0013, 0.0017, 0.0022, 0.002...  "
      ]
     },
     "execution_count": 11,
     "metadata": {},
     "output_type": "execute_result"
    }
   ],
   "source": [
    "df.head(2)"
   ]
  },
  {
   "cell_type": "code",
   "execution_count": 12,
   "id": "4832b1d0-b23d-4e7d-95f1-c8c9ed31a785",
   "metadata": {},
   "outputs": [
    {
     "data": {
      "text/plain": [
       "0       [0.0003, 0.0006, 0.001, 0.0014, 0.0019, 0.0023...\n",
       "1       [0.0006, 0.0009, 0.0013, 0.0017, 0.0022, 0.002...\n",
       "2       [0.0013, 0.0027, 0.0034, 0.0041, 0.005, 0.006,...\n",
       "3       [0.0012, 0.0015, 0.0019, 0.0023, 0.0029, 0.003...\n",
       "4       [0.0008, 0.0011, 0.0014, 0.0018, 0.0023, 0.002...\n",
       "                              ...                        \n",
       "4788    [0.0003, 0.0007, 0.0012, 0.0016, 0.002, 0.0023...\n",
       "4789    [0.0015, 0.0019, 0.0024, 0.0032, 0.0041, 0.005...\n",
       "4790    [0.0002, 0.0005, 0.0009, 0.0014, 0.0021, 0.002...\n",
       "4791    [0.0019, 0.0024, 0.0031, 0.004, 0.0051, 0.0064...\n",
       "4792    [0.0031, 0.0038, 0.0049, 0.0063, 0.0081, 0.010...\n",
       "Name: regular_breathing, Length: 4793, dtype: object"
      ]
     },
     "execution_count": 12,
     "metadata": {},
     "output_type": "execute_result"
    }
   ],
   "source": [
    "df['regular_breathing']"
   ]
  },
  {
   "cell_type": "markdown",
   "id": "36c4bbde-44f3-4575-9087-5142dfc2cf2f",
   "metadata": {},
   "source": [
    "#### Split Data"
   ]
  },
  {
   "cell_type": "code",
   "execution_count": 13,
   "id": "6af4d2ea-686f-4691-bdde-422e54c022d9",
   "metadata": {},
   "outputs": [
    {
     "name": "stdout",
     "output_type": "stream",
     "text": [
      "train size is: 3355\n",
      "validation size is: 958\n",
      "test size is: 479\n"
     ]
    }
   ],
   "source": [
    "train_size = int((len(df)) * 0.70)\n",
    "valid_size = int((len(df))*.20)\n",
    "test_size = int((len(df))*.10)\n",
    "print(\"train size is:\",train_size)\n",
    "print(\"validation size is:\",valid_size)\n",
    "print(\"test size is:\",test_size)"
   ]
  },
  {
   "cell_type": "code",
   "execution_count": 14,
   "id": "d9a0a000-3104-42f1-bb9a-c51b6785aab3",
   "metadata": {},
   "outputs": [
    {
     "name": "stdout",
     "output_type": "stream",
     "text": [
      "train data shape is: (3355, 9)\n",
      "validation data shape is: (958, 9)\n",
      "test data shape is: (480, 9)\n"
     ]
    }
   ],
   "source": [
    "train = df.iloc[0:train_size]\n",
    "valid = df.iloc[train_size:train_size+valid_size]\n",
    "test = df.iloc[train_size+valid_size:]\n",
    "print(\"train data shape is:\",train.shape)\n",
    "print(\"validation data shape is:\",valid.shape)\n",
    "print(\"test data shape is:\",test.shape)"
   ]
  },
  {
   "cell_type": "markdown",
   "id": "b746a826-0f2e-4ba4-a5ad-549b5d9ad21d",
   "metadata": {},
   "source": [
    "#### Normalize Data`"
   ]
  },
  {
   "cell_type": "code",
   "execution_count": 20,
   "id": "e21214ca-60aa-4417-98a9-952938836865",
   "metadata": {},
   "outputs": [],
   "source": [
    "X_train = list(train['Trace'])\n",
    "X_val = list(valid['Trace'])\n",
    "X_test = list(test['Trace'])"
   ]
  },
  {
   "cell_type": "code",
   "execution_count": 21,
   "id": "2e40f646-e701-437e-ba92-35577fead47f",
   "metadata": {},
   "outputs": [],
   "source": [
    "scaler = StandardScaler() # creates the scaler\n",
    "scaler.fit(X_train)\n",
    "x_train2 = scaler.transform(X_train)\n",
    "x_val2 = scaler.transform(X_val)\n",
    "x_test2 = scaler.transform(X_test)"
   ]
  },
  {
   "cell_type": "code",
   "execution_count": 59,
   "id": "d047bbf9-fd07-45b5-899b-1915dc3d0ed7",
   "metadata": {},
   "outputs": [],
   "source": [
    "# -1 1"
   ]
  },
  {
   "cell_type": "markdown",
   "id": "cff0a275-6322-4ea5-86cf-5d79b8e10a39",
   "metadata": {},
   "source": [
    "#### Sliding Window\n",
    "\n",
    "We wil use a sliding window of 100 points.\n",
    "Our target(labels) is 10 points"
   ]
  },
  {
   "cell_type": "code",
   "execution_count": 22,
   "id": "2018c81a-8954-4371-8098-cfd91b447bfe",
   "metadata": {},
   "outputs": [],
   "source": [
    "num_outputs = 10"
   ]
  },
  {
   "cell_type": "code",
   "execution_count": 24,
   "id": "c5365814-8405-421f-bc22-585716b7343a",
   "metadata": {},
   "outputs": [],
   "source": [
    "Train = create_windowed_data(n_steps=100, num_outputs=num_outputs, dataset=x_train2)\n",
    "Valid = create_windowed_data(n_steps=100, num_outputs=num_outputs, dataset=x_val2)\n",
    "Test = create_windowed_data(n_steps=100, num_outputs=num_outputs, dataset=x_test2)"
   ]
  },
  {
   "cell_type": "markdown",
   "id": "05758961-b9dd-45ac-8a0f-21d97af718e2",
   "metadata": {},
   "source": [
    "#### Define Dataset\n",
    "\n",
    "Convert data to tensors"
   ]
  },
  {
   "cell_type": "code",
   "execution_count": 31,
   "id": "12c88d0d-3eb2-46a4-95a5-3e0ec0d897f7",
   "metadata": {},
   "outputs": [],
   "source": [
    "def reshape_series(series):\n",
    "    series = np.transpose(np.array(series))\n",
    "    return series.reshape(series.shape[0],series.shape[1], 1)\n",
    "\n",
    "x_train = reshape_series(list(Train['Trace']))\n",
    "x_val = reshape_series(list(Valid['Trace']))\n",
    "x_test = reshape_series(list(Test['Trace']))\n",
    "y_train = reshape_series(list(Train['Next_pts']))\n",
    "y_val = reshape_series(list(Train['Next_pts']))\n",
    "y_test = reshape_series(list(Test['Next_pts']))"
   ]
  },
  {
   "cell_type": "code",
   "execution_count": 32,
   "id": "fee644ab-ea1c-40b8-bb21-83d6d6374df8",
   "metadata": {},
   "outputs": [],
   "source": [
    "#dataset\n",
    "from torch.utils.data import Dataset"
   ]
  },
  {
   "cell_type": "code",
   "execution_count": 33,
   "id": "ce3a42cf-1e0a-4bf0-8aef-78ffd80c3f6d",
   "metadata": {},
   "outputs": [],
   "source": [
    "from torch.utils.data import Dataset\n",
    "\n",
    "class timeseries(Dataset):\n",
    "    def __init__(self,x,y):\n",
    "        self.x = torch.tensor(x,dtype=torch.float32)\n",
    "        self.y = torch.tensor(y,dtype=torch.float32)\n",
    "        self.len = x.shape[0]\n",
    "\n",
    "    def __getitem__(self,idx):\n",
    "        return self.x[idx],self.y[idx]\n",
    "  \n",
    "    def __len__(self):\n",
    "        return self.len"
   ]
  },
  {
   "cell_type": "code",
   "execution_count": 34,
   "id": "d55106a7-9ad5-475d-b6d5-beca81d65e62",
   "metadata": {},
   "outputs": [],
   "source": [
    "train_dataset = timeseries(x_train, y_train)\n",
    "valid_dataset = timeseries(x_val, y_val)\n",
    "test_dataset = timeseries(x_test, y_test)"
   ]
  },
  {
   "cell_type": "code",
   "execution_count": 35,
   "id": "219d78db-ff41-40d9-ab25-7161c818569a",
   "metadata": {},
   "outputs": [
    {
     "name": "stdout",
     "output_type": "stream",
     "text": [
      "train X shape is: torch.Size([100, 43615, 1])\n",
      "train y shape is: torch.Size([10, 43615, 1])\n"
     ]
    }
   ],
   "source": [
    "print (\"train X shape is:\",train_dataset.x.shape)\n",
    "print (\"train y shape is:\",train_dataset.y.shape)"
   ]
  },
  {
   "cell_type": "code",
   "execution_count": 38,
   "id": "6ec5cd91-6e12-4f3f-ae15-b105531930ca",
   "metadata": {},
   "outputs": [
    {
     "data": {
      "image/png": "[encoded data removed]",
      "text/plain": [
       "<Figure size 648x288 with 1 Axes>"
      ]
     },
     "metadata": {
      "needs_background": "light"
     },
     "output_type": "display_data"
    }
   ],
   "source": [
    "iw = 100\n",
    "ow = 10 \n",
    "# plot example of windowed data  \n",
    "plt.figure(figsize = (9, 4)) \n",
    "plt.plot(np.arange(0, iw), x_train[:, 0, 0], 'k', linewidth = 2.2, label = 'Input')\n",
    "plt.plot(np.arange(iw - 1, iw + ow), np.concatenate([[x_train[-1, 0, 0]], y_train[:, 0, 0]]),\n",
    "         color = (0.2, 0.42, 0.72), linewidth = 2.2, label = 'Target')\n",
    "plt.xlim([0, iw + ow - 1])\n",
    "plt.xlabel(r'$t$')\n",
    "plt.ylabel(r'$y$')\n",
    "plt.title('Example of Windowed Training Data')\n",
    "plt.legend(bbox_to_anchor=(1.3, 1))\n",
    "plt.tight_layout() "
   ]
  },
  {
   "cell_type": "markdown",
   "id": "cd3feeb4-5311-40d2-b9e2-0c9d4f33892f",
   "metadata": {},
   "source": [
    "### Model Definition"
   ]
  },
  {
   "cell_type": "markdown",
   "id": "6059299a-11a1-43ac-83e4-fb36407a471a",
   "metadata": {},
   "source": [
    "#### Define LSTM Encoder and Decoder (Multistep Prediction)"
   ]
  },
  {
   "cell_type": "code",
   "execution_count": 39,
   "id": "9197079b-209a-49f0-b6fd-da607773b758",
   "metadata": {},
   "outputs": [],
   "source": [
    "# neural network\n",
    "from torch import nn\n",
    "\n",
    "class lstm_encoder(nn.Module):\n",
    "    ''' Encodes a time series sequence '''\n",
    "    \n",
    "    def __init__(self, input_size=1, hidden_size=5, num_layers=1):\n",
    "\n",
    "        super(lstm_encoder, self).__init__()\n",
    "        self.input_size = input_size # the number of features in the input X\n",
    "        self.hidden_size = hidden_size # the number of features in the hidden state h\n",
    "        self.num_layers = num_layers # number of recurrent layers \n",
    "        \n",
    "        # define an LSTM layer\n",
    "        self.lstm = nn.LSTM(input_size=input_size, hidden_size=hidden_size,\n",
    "                            num_layers=num_layers)\n",
    "        \n",
    "    def forward(self, x):\n",
    "        output, self.hidden = self.lstm(x.view(x.shape[0], x.shape[1], self.input_size))\n",
    "        \n",
    "        return output, self.hidden   # hidden gives the hidden state and cell state for the last element in the sequence \n",
    "                                     # give this to decoder\n",
    "    \n",
    "    def init_hidden(self, batch_size):\n",
    "        return (torch.zeros(self.num_layers, batch_size, self.hidden_size),\n",
    "                torch.zeros(self.num_layers, batch_size, self.hidden_size))\n",
    "    \n",
    "        "
   ]
  },
  {
   "cell_type": "code",
   "execution_count": 40,
   "id": "2939e50e-7ea3-47eb-8815-d843ac9ec13c",
   "metadata": {},
   "outputs": [],
   "source": [
    "class lstm_decoder(nn.Module):\n",
    "    ''' Decodes hidden state output by encoder '''\n",
    "    \n",
    "    def __init__(self, input_size=1, hidden_size=5, num_layers=1):\n",
    "\n",
    "        super(lstm_decoder, self).__init__()\n",
    "        self.input_size = input_size   # the number of features in the input X\n",
    "        self.hidden_size = hidden_size # the number of features in the hidden state h\n",
    "        self.num_layers = num_layers   # number of recurrent layers\n",
    "\n",
    "        # Define LSTM layer and Linear layer\n",
    "        self.lstm = nn.LSTM(input_size = input_size, hidden_size = hidden_size,\n",
    "                            num_layers = num_layers)\n",
    "        self.linear = nn.Linear(hidden_size, input_size)       \n",
    "    \n",
    "    \n",
    "    def forward(self, x, encoder_hidden_states):\n",
    "        output, self.hidden = self.lstm(x.unsqueeze(0), encoder_hidden_states)\n",
    "        output = self.linear(output.squeeze(0))     \n",
    "        \n",
    "        return output, self.hidden\n"
   ]
  },
  {
   "cell_type": "markdown",
   "id": "46a97ff4-6e99-4d88-be45-6d831959a9c2",
   "metadata": {},
   "source": [
    "#### Define Seq2Seq Model (Combining encoder and decoder)"
   ]
  },
  {
   "cell_type": "code",
   "execution_count": 41,
   "id": "a92ae2e4-2bd5-4602-996c-fe91c4484f97",
   "metadata": {},
   "outputs": [],
   "source": [
    "class lstm_seq2seq(nn.Module):\n",
    "    ''' train LSTM encoder-decoder and make predictions '''\n",
    "    \n",
    "    def __init__(self, input_size=1, hidden_size=5):\n",
    "\n",
    "        super(lstm_seq2seq, self).__init__()\n",
    "\n",
    "        self.input_size = input_size   # number of expected features in the input X\n",
    "        self.hidden_size = hidden_size # number of features in the hidden state h\n",
    "        \n",
    "        # Encoder and decoder\n",
    "        self.encoder = lstm_encoder(input_size=input_size, hidden_size=hidden_size)\n",
    "        self.decoder = lstm_decoder(input_size=input_size, hidden_size=hidden_size)\n",
    "    \n",
    "    \n",
    "    def val_metrics(self, input_tensor, target_tensor, batch_size=200, criterion=nn.MSELoss(), target_len=10):\n",
    "\n",
    "        # calculate number of batch iterations\n",
    "        n_batches = int(input_tensor.shape[1] / batch_size)\n",
    "\n",
    "        val_batch_loss = 0.\n",
    "        val_batch_mae = 0.\n",
    "                \n",
    "        for b in range(n_batches):\n",
    "            input_batch = input_tensor[:, b: b + batch_size, :]\n",
    "            target_batch = target_tensor[:, b: b + batch_size, :]\n",
    "\n",
    "            # outputs tensor\n",
    "            outputs = torch.zeros(target_len, batch_size, input_batch.shape[2])\n",
    "\n",
    "            # initialize hidden state\n",
    "            encoder_hidden = self.encoder.init_hidden(batch_size)\n",
    "            encoder_output, encoder_hidden = self.encoder(input_batch)\n",
    "\n",
    "            # decoder with teacher forcing\n",
    "            decoder_input = input_batch[-1, :, :] \n",
    "            decoder_hidden = encoder_hidden\n",
    "\n",
    "            for t in range(target_len): \n",
    "                decoder_output, decoder_hidden = self.decoder(decoder_input, decoder_hidden)\n",
    "                outputs[t] = decoder_output\n",
    "                decoder_input = decoder_output\n",
    "\n",
    "            # compute the loss \n",
    "            loss = criterion(outputs, target_batch)\n",
    "            val_batch_loss += loss.item()\n",
    "            \n",
    "            # compute mae\n",
    "            mae_func = nn.L1Loss()\n",
    "            mae = mae_func(outputs, target_batch)\n",
    "            val_batch_mae += mae.item()\n",
    "        \n",
    "        # loss for epoch \n",
    "        val_batch_loss /= n_batches \n",
    "        val_batch_mae /= n_batches\n",
    "        \n",
    "        return val_batch_loss, val_batch_mae\n",
    "        \n",
    "    \n",
    "    def train_model(self, input_tensor, target_tensor, input_val, target_val, n_epochs, target_len,batch_size=200,learning_rate = 0.01, criterion = nn.MSELoss()):\n",
    "        train_losses = np.full(n_epochs, np.nan)\n",
    "        train_maes = np.full(n_epochs, np.nan)\n",
    "        val_losses = np.full(n_epochs, np.nan)\n",
    "        val_maes = np.full(n_epochs, np.nan)\n",
    "        \n",
    "        optimizer = optim.Adam(self.parameters(), lr = learning_rate)\n",
    "        criterion = criterion\n",
    "\n",
    "        # calculate number of batch iterations\n",
    "        n_batches = int(input_tensor.shape[1] / batch_size)\n",
    "\n",
    "        with trange(n_epochs) as tr:\n",
    "            for it in tr:\n",
    "                train_batch_loss = 0.\n",
    "                train_batch_mae = 0.\n",
    "                #val_batch_loss = 0.\n",
    "                #\n",
    "  \n",
    "                for b in range(n_batches):\n",
    "                    # select data \n",
    "                    input_batch = input_tensor[:, b: b + batch_size, :]\n",
    "                    target_batch = target_tensor[:, b: b + batch_size, :]\n",
    "\n",
    "                    # outputs tensor\n",
    "                    outputs = torch.zeros(target_len, batch_size, input_batch.shape[2])\n",
    "\n",
    "                    # initialize hidden state\n",
    "                    encoder_hidden = self.encoder.init_hidden(batch_size)\n",
    "\n",
    "                    # zero the gradient\n",
    "                    optimizer.zero_grad()\n",
    "\n",
    "                    # encoder outputs\n",
    "                    encoder_output, encoder_hidden = self.encoder(input_batch)\n",
    "\n",
    "                    # decoder with teacher forcing\n",
    "                    decoder_input = input_batch[-1, :, :]   # shape: (batch_size, input_size)\n",
    "                    decoder_hidden = encoder_hidden\n",
    "\n",
    "                    for t in range(target_len): \n",
    "                        decoder_output, decoder_hidden = self.decoder(decoder_input, decoder_hidden)\n",
    "                        outputs[t] = decoder_output\n",
    "                        decoder_input = decoder_output\n",
    "\n",
    "                    # compute the loss \n",
    "                    loss = criterion(outputs, target_batch)\n",
    "                    train_batch_loss += loss.item()\n",
    "                    \n",
    "                    # mae\n",
    "                    mae_func = nn.L1Loss()\n",
    "                    mae = mae_func(outputs, target_batch)\n",
    "                    train_batch_mae += mae.item()\n",
    "\n",
    "                    # backpropagation\n",
    "                    loss.backward()\n",
    "                    optimizer.step()\n",
    "                    \n",
    "            \n",
    "                # loss for epoch \n",
    "                train_batch_loss /= n_batches \n",
    "                train_batch_mae /= n_batches\n",
    "                train_losses[it] = train_batch_loss\n",
    "                train_maes[it] = train_batch_mae\n",
    "                \n",
    "                ### Compute validation metrics ###\n",
    "                val_metrics = self.val_metrics(input_val, target_val, batch_size=batch_size, criterion = criterion, target_len=10)\n",
    "                val_batch_mae = self.val_metrics(input_val, target_val, batch_size=batch_size, criterion = criterion, target_len=10)[1]\n",
    "                valid_batch_loss = self.val_metrics(input_val, target_val, batch_size=batch_size, criterion = criterion, target_len=10)[0]\n",
    "                val_losses[it] = valid_batch_loss\n",
    "                val_maes[it] = val_batch_mae\n",
    "\n",
    "\n",
    "                # progress bar \n",
    "                tr.set_postfix(validation_MSE=\"{0:.3f}\".format(valid_batch_loss), training_MSE = \"{0:.3f}\".format(train_batch_loss))\n",
    "                \n",
    "                \n",
    "        losses = {\"Train\":train_losses, \"Val\":val_losses, \"Train_mae\":train_maes, \"Val_mae\":val_maes}\n",
    "        return losses\n",
    "    \n",
    "\n",
    "    def predict(self, input_tensor, target_len):\n",
    "        \n",
    "        # encode input_tensor\n",
    "        input_tensor = input_tensor.unsqueeze(1)     # add in batch size of 1\n",
    "        encoder_output, encoder_hidden = self.encoder(input_tensor)\n",
    "\n",
    "        # initialize tensor for predictions\n",
    "        outputs = torch.zeros(target_len, input_tensor.shape[2])\n",
    "\n",
    "        # decode input_tensor\n",
    "        decoder_input = input_tensor[-1, :, :]\n",
    "        decoder_hidden = encoder_hidden\n",
    "        \n",
    "        for t in range(target_len):\n",
    "            decoder_output, decoder_hidden = self.decoder(decoder_input, decoder_hidden)\n",
    "            outputs[t] = decoder_output.squeeze(0)\n",
    "            decoder_input = decoder_output\n",
    "            \n",
    "        np_outputs = outputs.detach().numpy()\n",
    "        \n",
    "        return np_outputs\n"
   ]
  },
  {
   "cell_type": "markdown",
   "id": "9f36939a-036d-4c13-8664-5e9ed134e166",
   "metadata": {},
   "source": [
    "### Hyper Parameter Grid Search"
   ]
  },
  {
   "cell_type": "markdown",
   "id": "ffab0ab8-ec97-4d6c-b494-713f31962fb4",
   "metadata": {},
   "source": [
    "#### Parameters"
   ]
  },
  {
   "cell_type": "code",
   "execution_count": 2,
   "id": "50dd9a69-160f-42ff-b706-1bf6b87cdbd3",
   "metadata": {},
   "outputs": [],
   "source": [
    "hidden_sizes = [1,2,3]\n",
    "learning_rates = [0.0001, 0.001, 0.01]\n",
    "epochs = [10, 20, 50]"
   ]
  },
  {
   "cell_type": "markdown",
   "id": "abb6b930-df56-477d-a3d3-f9411ce81674",
   "metadata": {},
   "source": [
    "#### Search"
   ]
  },
  {
   "cell_type": "code",
   "execution_count": null,
   "id": "777cfc60-712b-4a6c-a17a-30c2e4e405aa",
   "metadata": {},
   "outputs": [
    {
     "name": "stdout",
     "output_type": "stream",
     "text": [
      "1 Hidden size: 1 Learning rate: 0.0001 Epochs: 10\n",
      "2 Hidden size: 1 Learning rate: 0.0001 Epochs: 20\n",
      "3 Hidden size: 1 Learning rate: 0.0001 Epochs: 50\n",
      "4 Hidden size: 1 Learning rate: 0.001 Epochs: 10\n",
      "5 Hidden size: 1 Learning rate: 0.001 Epochs: 20\n",
      "6 Hidden size: 1 Learning rate: 0.001 Epochs: 50\n",
      "7 Hidden size: 1 Learning rate: 0.01 Epochs: 10\n",
      "8 Hidden size: 1 Learning rate: 0.01 Epochs: 20\n",
      "9 Hidden size: 1 Learning rate: 0.01 Epochs: 50\n",
      "10 Hidden size: 2 Learning rate: 0.0001 Epochs: 10\n",
      "11 Hidden size: 2 Learning rate: 0.0001 Epochs: 20\n",
      "12 Hidden size: 2 Learning rate: 0.0001 Epochs: 50\n",
      "13 Hidden size: 2 Learning rate: 0.001 Epochs: 10\n",
      "14 Hidden size: 2 Learning rate: 0.001 Epochs: 20\n",
      "15 Hidden size: 2 Learning rate: 0.001 Epochs: 50\n",
      "16 Hidden size: 2 Learning rate: 0.01 Epochs: 10\n",
      "17 Hidden size: 2 Learning rate: 0.01 Epochs: 20\n",
      "18 Hidden size: 2 Learning rate: 0.01 Epochs: 50\n",
      "19 Hidden size: 3 Learning rate: 0.0001 Epochs: 10\n",
      "20 Hidden size: 3 Learning rate: 0.0001 Epochs: 20\n",
      "21 Hidden size: 3 Learning rate: 0.0001 Epochs: 50\n",
      "22 Hidden size: 3 Learning rate: 0.001 Epochs: 10\n",
      "23 Hidden size: 3 Learning rate: 0.001 Epochs: 20\n",
      "24 Hidden size: 3 Learning rate: 0.001 Epochs: 50\n",
      "25 Hidden size: 3 Learning rate: 0.01 Epochs: 10\n",
      "26 Hidden size: 3 Learning rate: 0.01 Epochs: 20\n",
      "27 Hidden size: 3 Learning rate: 0.01 Epochs: 50\n"
     ]
    }
   ],
   "source": [
    "i = 0\n",
    "for hs in hidden_sizes:\n",
    "    for lr in learning_rates:\n",
    "        for e in epochs:\n",
    "            criterion = nn.MSELoss()\n",
    "            i += 1\n",
    "            print(i, 'Hidden size:',hs, 'Learning rate:', lr, 'Epochs:', e)"
   ]
  },
  {
   "cell_type": "code",
   "execution_count": 67,
   "id": "5234a739-4986-41b7-b92a-0754ad93b2bf",
   "metadata": {},
   "outputs": [],
   "source": [
    "best_mod = None\n",
    "best_losses = None\n",
    "best_val_loss = 100"
   ]
  },
  {
   "cell_type": "code",
   "execution_count": 68,
   "id": "42c0c670-6433-4ea1-8ffb-97dbe7449d7a",
   "metadata": {},
   "outputs": [],
   "source": [
    "trainlosses = []\n",
    "vallosses = []"
   ]
  },
  {
   "cell_type": "code",
   "execution_count": 69,
   "id": "3c617e4e-2c8e-4c43-b193-b59f225b4092",
   "metadata": {},
   "outputs": [
    {
     "name": "stderr",
     "output_type": "stream",
     "text": [
      "100%|██████████| 10/10 [00:48<00:00,  4.82s/it, training_MSE=0.162, validation_MSE=0.152]\n"
     ]
    },
    {
     "name": "stdout",
     "output_type": "stream",
     "text": [
      "Hidden size: 1 Learning rate: 0.0001 Epochs: 10\n",
      "Train Loss: [0.263479   0.24356775 0.22960457 0.21843147 0.2090559  0.20058567\n",
      " 0.19227312 0.18348305 0.17362887 0.16227126] Val loss: [0.09954169 0.09628698 0.09642844 0.09936807 0.10454528 0.11138602\n",
      " 0.11948947 0.12876348 0.13942395 0.15188345]\n"
     ]
    },
    {
     "name": "stderr",
     "output_type": "stream",
     "text": [
      "100%|██████████| 20/20 [01:35<00:00,  4.77s/it, training_MSE=0.237, validation_MSE=0.110]\n"
     ]
    },
    {
     "name": "stdout",
     "output_type": "stream",
     "text": [
      "Hidden size: 1 Learning rate: 0.0001 Epochs: 20\n",
      "Train Loss: [1.74432678 1.44019292 1.20770491 0.99560769 0.78800549 0.62258494\n",
      " 0.51074396 0.43486738 0.38125345 0.34240921 0.31400005 0.29323878\n",
      " 0.27814702 0.26721342 0.25923333 0.25324089 0.24848673 0.24443584\n",
      " 0.24076287 0.23732037] Val loss: [1.18281143 0.9465259  0.75305193 0.56461438 0.398792   0.2873776\n",
      " 0.21747322 0.17224922 0.14252705 0.12329194 0.11145744 0.10489127\n",
      " 0.10198559 0.10147343 0.10235889 0.10389925 0.10559978 0.10719379\n",
      " 0.10859344 0.10981686]\n"
     ]
    },
    {
     "name": "stderr",
     "output_type": "stream",
     "text": [
      "100%|██████████| 50/50 [04:07<00:00,  4.96s/it, training_MSE=0.039, validation_MSE=0.351]\n"
     ]
    },
    {
     "name": "stdout",
     "output_type": "stream",
     "text": [
      "Hidden size: 1 Learning rate: 0.0001 Epochs: 50\n",
      "Train Loss: [0.22707257 0.22639579 0.22565435 0.22487801 0.22408005 0.22325541\n",
      " 0.22239538 0.22148863 0.220517   0.21945591 0.21827707 0.21694096\n",
      " 0.21537778 0.21346447 0.21100393 0.20770871 0.20322656 0.19728199\n",
      " 0.18966302 0.17934877 0.16390963 0.14166104 0.11902317 0.10431098\n",
      " 0.09571099 0.09000591 0.08565396 0.08210229 0.07912704 0.07649923\n",
      " 0.07400624 0.07145553 0.06885005 0.06631243 0.06398438 0.06188868\n",
      " 0.05997382 0.05817813 0.05645488 0.05478257 0.05315692 0.05157244\n",
      " 0.05001863 0.04848475 0.04696262 0.04544706 0.04393562 0.04242885\n",
      " 0.04093037 0.03944638] Val loss: [0.11722438 0.11771927 0.11790725 0.11802099 0.11814193 0.11830434\n",
      " 0.11852471 0.11881493 0.11918825 0.11965825 0.1202387  0.12095091\n",
      " 0.12183879 0.12297935 0.12448411 0.12650681 0.12921084 0.1326335\n",
      " 0.1366965  0.14166926 0.14901789 0.1620089  0.18142517 0.20129289\n",
      " 0.21785892 0.23077281 0.24122789 0.25022025 0.25775145 0.26364242\n",
      " 0.26791312 0.27152858 0.2759697  0.28135549 0.28701547 0.29241551\n",
      " 0.29739998 0.30206911 0.30662904 0.31123872 0.31592377 0.32061133\n",
      " 0.32520357 0.32962439 0.33382463 0.33777435 0.34145419 0.34485072\n",
      " 0.3479544  0.35076146]\n"
     ]
    },
    {
     "name": "stderr",
     "output_type": "stream",
     "text": [
      "100%|██████████| 10/10 [00:50<00:00,  5.05s/it, training_MSE=0.003, validation_MSE=0.356]\n"
     ]
    },
    {
     "name": "stdout",
     "output_type": "stream",
     "text": [
      "Hidden size: 1 Learning rate: 0.001 Epochs: 10\n",
      "Train Loss: [0.19042429 0.06188482 0.03615541 0.01525157 0.00884722 0.00642753\n",
      " 0.00501475 0.00406086 0.00338876 0.00289773] Val loss: [0.20211376 0.43166605 0.39406355 0.37144866 0.36141763 0.3582163\n",
      " 0.35719948 0.35697392 0.35667972 0.35614269]\n"
     ]
    },
    {
     "name": "stderr",
     "output_type": "stream",
     "text": [
      "100%|██████████| 20/20 [01:37<00:00,  4.89s/it, training_MSE=0.003, validation_MSE=0.363]\n"
     ]
    },
    {
     "name": "stdout",
     "output_type": "stream",
     "text": [
      "Hidden size: 1 Learning rate: 0.001 Epochs: 20\n",
      "Train Loss: [0.29508514 0.22048056 0.22294221 0.22046789 0.21778703 0.21552052\n",
      " 0.21329579 0.21079783 0.1453067  0.0417515  0.02546297 0.01711923\n",
      " 0.0119111  0.0089185  0.00697721 0.00563636 0.00470938 0.00406466\n",
      " 0.00354606 0.00308627] Val loss: [0.11614543 0.15343821 0.16360928 0.17120742 0.17828407 0.18485519\n",
      " 0.19131936 0.19817454 0.24035545 0.30781284 0.33427478 0.34638773\n",
      " 0.35233349 0.35578454 0.36002995 0.36231118 0.36400059 0.36346351\n",
      " 0.36220944 0.36270115]\n"
     ]
    },
    {
     "name": "stderr",
     "output_type": "stream",
     "text": [
      "100%|██████████| 50/50 [04:02<00:00,  4.85s/it, training_MSE=0.001, validation_MSE=0.357]\n"
     ]
    },
    {
     "name": "stdout",
     "output_type": "stream",
     "text": [
      "Hidden size: 1 Learning rate: 0.001 Epochs: 50\n",
      "Train Loss: [0.32787985 0.24544108 0.20214666 0.08822989 0.06944989 0.04969524\n",
      " 0.02730639 0.01384548 0.0098481  0.00743509 0.0057454  0.00457253\n",
      " 0.00374113 0.0031112  0.00261683 0.00223726 0.00195632 0.00174717\n",
      " 0.00158495 0.00145662 0.0013553  0.00127622 0.00121487 0.00116694\n",
      " 0.00112866 0.0010971  0.00107037 0.00104751 0.0010281  0.00101193\n",
      " 0.00099876 0.00098825 0.00097998 0.00097351 0.00096842 0.00096433\n",
      " 0.00096097 0.00095812 0.00095565 0.00095346 0.00095149 0.00094971\n",
      " 0.00094807 0.00094657 0.00094517 0.00094388 0.00094268 0.00094155\n",
      " 0.0009405  0.00093951] Val loss: [0.19085953 0.13643873 0.16727172 0.3205157  0.34627816 0.35814794\n",
      " 0.34813739 0.34946261 0.35066399 0.35426455 0.35761224 0.35922759\n",
      " 0.35902836 0.35859854 0.35820185 0.35778791 0.35745458 0.357137\n",
      " 0.3568165  0.35655799 0.35644428 0.35640828 0.35639375 0.35640074\n",
      " 0.35643253 0.35646395 0.3564666  0.35643996 0.35639491 0.3563451\n",
      " 0.35630372 0.35627706 0.35626745 0.35627645 0.35630429 0.3563478\n",
      " 0.35640142 0.35646019 0.35651965 0.35657821 0.35663553 0.35669213\n",
      " 0.35674932 0.35680741 0.35686771 0.3569304  0.35699596 0.35706394\n",
      " 0.35713444 0.35720794]\n"
     ]
    },
    {
     "name": "stderr",
     "output_type": "stream",
     "text": [
      "100%|██████████| 10/10 [00:48<00:00,  4.86s/it, training_MSE=0.001, validation_MSE=0.354]\n"
     ]
    },
    {
     "name": "stdout",
     "output_type": "stream",
     "text": [
      "Hidden size: 1 Learning rate: 0.01 Epochs: 10\n",
      "Train Loss: [0.03466476 0.00163842 0.00118751 0.00103776 0.00096491 0.00094045\n",
      " 0.00092327 0.00091288 0.0009217  0.00089519] Val loss: [0.3586481  0.35841179 0.35802895 0.35748569 0.35729093 0.3579439\n",
      " 0.36170108 0.35748758 0.35669085 0.35439292]\n"
     ]
    },
    {
     "name": "stderr",
     "output_type": "stream",
     "text": [
      "100%|██████████| 20/20 [01:40<00:00,  5.04s/it, training_MSE=0.001, validation_MSE=0.344]\n"
     ]
    },
    {
     "name": "stdout",
     "output_type": "stream",
     "text": [
      "Hidden size: 1 Learning rate: 0.01 Epochs: 20\n",
      "Train Loss: [0.04224182 0.00241155 0.0015571  0.00132343 0.00122018 0.00118039\n",
      " 0.00114095 0.00112039 0.0011124  0.00107722 0.00110303 0.00106686\n",
      " 0.00106476 0.00105266 0.00104742 0.00104114 0.00102516 0.00103675\n",
      " 0.00100704 0.00089445] Val loss: [0.37380142 0.34840182 0.35503634 0.35512245 0.35707941 0.37083146\n",
      " 0.36239715 0.37403442 0.36848508 0.39257037 0.36752759 0.37262646\n",
      " 0.36894834 0.34756476 0.34906543 0.34244798 0.39270913 0.35948026\n",
      " 0.35579315 0.34444606]\n"
     ]
    },
    {
     "name": "stderr",
     "output_type": "stream",
     "text": [
      "100%|██████████| 50/50 [04:02<00:00,  4.84s/it, training_MSE=0.000, validation_MSE=0.360]\n"
     ]
    },
    {
     "name": "stdout",
     "output_type": "stream",
     "text": [
      "Hidden size: 1 Learning rate: 0.01 Epochs: 50\n",
      "Train Loss: [0.16000875 0.02014479 0.00752872 0.0032926  0.00232161 0.00170656\n",
      " 0.00174483 0.00112533 0.00102434 0.00139093 0.00083936 0.00083989\n",
      " 0.00096606 0.00075385 0.00100267 0.00067229 0.00118289 0.00065155\n",
      " 0.00068215 0.00111347 0.00061353 0.00072679 0.00067255 0.00112956\n",
      " 0.00057617 0.0007944  0.00062354 0.00076745 0.00059221 0.00114959\n",
      " 0.00053731 0.00059681 0.00109011 0.00052037 0.00058232 0.00104042\n",
      " 0.00050362 0.00060142 0.00070301 0.00055821 0.00065206 0.00055233\n",
      " 0.00105515 0.00047032 0.00051137 0.00123756 0.00046939 0.00046663\n",
      " 0.00099982 0.00044971] Val loss: [0.29065263 0.37753101 0.37346363 0.3682791  0.36315453 0.36062814\n",
      " 0.35918357 0.35813528 0.35683218 0.3572667  0.3567146  0.35701227\n",
      " 0.35652914 0.35658446 0.35559215 0.3568705  0.35574943 0.3579594\n",
      " 0.35859385 0.35725706 0.35947849 0.35716224 0.36059065 0.35814136\n",
      " 0.35785359 0.3596726  0.36012765 0.35799527 0.35714429 0.35772925\n",
      " 0.35698645 0.36093415 0.35776036 0.35854572 0.36078863 0.35738154\n",
      " 0.35976484 0.36018704 0.35964228 0.35937875 0.3548447  0.36746705\n",
      " 0.35667056 0.35610731 0.36063976 0.35666728 0.35566646 0.35499892\n",
      " 0.35613356 0.36023357]\n"
     ]
    },
    {
     "name": "stderr",
     "output_type": "stream",
     "text": [
      "100%|██████████| 10/10 [00:59<00:00,  5.97s/it, training_MSE=0.219, validation_MSE=0.116]\n"
     ]
    },
    {
     "name": "stdout",
     "output_type": "stream",
     "text": [
      "Hidden size: 2 Learning rate: 0.0001 Epochs: 10\n",
      "Train Loss: [0.28462491 0.25726908 0.24297283 0.23545258 0.23102584 0.22803748\n",
      " 0.22571889 0.2236578  0.22153742 0.21887847] Val loss: [0.16666059 0.14038469 0.12712549 0.12055639 0.11734621 0.11583768\n",
      " 0.115202   0.11503608 0.11519896 0.11582782]\n"
     ]
    },
    {
     "name": "stderr",
     "output_type": "stream",
     "text": [
      "100%|██████████| 20/20 [01:59<00:00,  5.96s/it, training_MSE=0.046, validation_MSE=0.336]\n"
     ]
    },
    {
     "name": "stdout",
     "output_type": "stream",
     "text": [
      "Hidden size: 2 Learning rate: 0.0001 Epochs: 20\n",
      "Train Loss: [0.23807787 0.23420794 0.23234827 0.23121877 0.23041366 0.22958934\n",
      " 0.22805063 0.22495777 0.21955205 0.21091549 0.19812877 0.17984903\n",
      " 0.15474903 0.12437068 0.09446701 0.07263003 0.06134349 0.05562016\n",
      " 0.0509834  0.04622959] Val loss: [0.09756618 0.1004017  0.10273949 0.10450513 0.10569476 0.10636994\n",
      " 0.10695593 0.10792542 0.1097631  0.11303524 0.11822782 0.126417\n",
      " 0.140871   0.16692303 0.20668862 0.25128026 0.2868618  0.30977049\n",
      " 0.32449079 0.33560311]\n"
     ]
    },
    {
     "name": "stderr",
     "output_type": "stream",
     "text": [
      "100%|██████████| 50/50 [04:57<00:00,  5.96s/it, training_MSE=0.007, validation_MSE=0.365]\n"
     ]
    },
    {
     "name": "stdout",
     "output_type": "stream",
     "text": [
      "Hidden size: 2 Learning rate: 0.0001 Epochs: 50\n",
      "Train Loss: [0.82586538 0.72797526 0.63871045 0.55678817 0.48314196 0.4188149\n",
      " 0.36506043 0.32305746 0.2926344  0.2714375  0.25496315 0.240241\n",
      " 0.23196523 0.22872854 0.22658784 0.22441619 0.22130563 0.21550778\n",
      " 0.20578304 0.19382112 0.17948072 0.16116978 0.13905073 0.11536491\n",
      " 0.0940132  0.07870957 0.06922583 0.06295391 0.05827198 0.05437644\n",
      " 0.05083119 0.04742374 0.04408029 0.04080118 0.03761287 0.03454002\n",
      " 0.03159949 0.02880449 0.02615628 0.02362348 0.02115098 0.01870418\n",
      " 0.01630203 0.01405551 0.01210402 0.01050053 0.00921246 0.00817566\n",
      " 0.00732811 0.00662093] Val loss: [0.46988771 0.39238469 0.32189692 0.25936774 0.2059878  0.16296759\n",
      " 0.13143045 0.11160797 0.10196028 0.09936965 0.10070841 0.10473612\n",
      " 0.10880606 0.11158011 0.11331555 0.11441459 0.11526951 0.11677905\n",
      " 0.12070116 0.12716079 0.13533168 0.14597376 0.1612617  0.18296\n",
      " 0.20965126 0.23525875 0.25595573 0.27293947 0.28759855 0.30043516\n",
      " 0.31171001 0.321682   0.3305927  0.33862076 0.3458534  0.35229877\n",
      " 0.35791579 0.36263438 0.36635702 0.36901221 0.37064502 0.371299\n",
      " 0.37097985 0.37002829 0.36885205 0.36768954 0.36666098 0.36580303\n",
      " 0.36509798 0.36453015]\n"
     ]
    },
    {
     "name": "stderr",
     "output_type": "stream",
     "text": [
      "100%|██████████| 10/10 [01:00<00:00,  6.07s/it, training_MSE=0.002, validation_MSE=0.357]\n"
     ]
    },
    {
     "name": "stdout",
     "output_type": "stream",
     "text": [
      "Hidden size: 2 Learning rate: 0.001 Epochs: 10\n",
      "Train Loss: [0.11757036 0.01814589 0.0102964  0.00663866 0.00420142 0.00308757\n",
      " 0.00243826 0.00207551 0.00185999 0.00169444] Val loss: [0.39908465 0.36201916 0.36345362 0.36429981 0.36379644 0.35941069\n",
      " 0.35698675 0.35759864 0.35790859 0.35718693]\n"
     ]
    },
    {
     "name": "stderr",
     "output_type": "stream",
     "text": [
      "100%|██████████| 20/20 [02:04<00:00,  6.22s/it, training_MSE=0.001, validation_MSE=0.357]\n"
     ]
    },
    {
     "name": "stdout",
     "output_type": "stream",
     "text": [
      "Hidden size: 2 Learning rate: 0.001 Epochs: 20\n",
      "Train Loss: [0.10934896 0.01712383 0.00840871 0.0053855  0.00382092 0.00300035\n",
      " 0.00247575 0.00210592 0.00184416 0.0016575  0.00152142 0.00142017\n",
      " 0.00134287 0.00128255 0.00123375 0.00119376 0.00116066 0.00113258\n",
      " 0.00110877 0.00108839] Val loss: [0.37940878 0.36550855 0.35941552 0.35770247 0.35852043 0.3581191\n",
      " 0.35718974 0.35681229 0.35682124 0.35675713 0.35690525 0.356878\n",
      " 0.35680714 0.35589753 0.35605221 0.35659164 0.35693812 0.35672733\n",
      " 0.35654626 0.35725049]\n"
     ]
    },
    {
     "name": "stderr",
     "output_type": "stream",
     "text": [
      "100%|██████████| 50/50 [05:41<00:00,  6.83s/it, training_MSE=0.001, validation_MSE=0.360]\n"
     ]
    },
    {
     "name": "stdout",
     "output_type": "stream",
     "text": [
      "Hidden size: 2 Learning rate: 0.001 Epochs: 50\n",
      "Train Loss: [0.11977513 0.02850772 0.01794302 0.00986241 0.00567988 0.003676\n",
      " 0.0027744  0.0023087  0.00202144 0.00182214 0.00167428 0.00155989\n",
      " 0.00146887 0.00139461 0.00133343 0.00128294 0.00124094 0.00120526\n",
      " 0.00117322 0.00114225 0.00111046 0.00107911 0.00105215 0.00103117\n",
      " 0.00101499 0.00100204 0.00099118 0.00098171 0.00097321 0.00096539\n",
      " 0.00095805 0.00095103 0.00094417 0.00093732 0.00093032 0.00092298\n",
      " 0.0009151  0.00090637 0.00089642 0.00088471 0.00087047 0.00085268\n",
      " 0.00083002 0.00080117 0.00076601 0.00072635 0.00068327 0.00063755\n",
      " 0.00058687 0.00054022] Val loss: [0.36987636 0.39982203 0.38917493 0.37060509 0.36169984 0.35989554\n",
      " 0.3571816  0.35530049 0.35406526 0.35385487 0.35470123 0.35611284\n",
      " 0.35599981 0.35532911 0.35601856 0.35631595 0.35640204 0.35621943\n",
      " 0.35642848 0.3570291  0.35731561 0.35735989 0.35741995 0.35750072\n",
      " 0.35756045 0.35757088 0.35752217 0.35742298 0.35730995 0.35723543\n",
      " 0.35722265 0.35725241 0.35729133 0.35732485 0.35735211 0.35737044\n",
      " 0.3573763  0.35736679 0.35732855 0.35723899 0.35705688 0.35672732\n",
      " 0.35613407 0.35565095 0.35683635 0.35884862 0.36037554 0.35625955\n",
      " 0.36077267 0.36004876]\n"
     ]
    },
    {
     "name": "stderr",
     "output_type": "stream",
     "text": [
      "100%|██████████| 10/10 [01:06<00:00,  6.64s/it, training_MSE=0.001, validation_MSE=0.357]\n"
     ]
    },
    {
     "name": "stdout",
     "output_type": "stream",
     "text": [
      "Hidden size: 2 Learning rate: 0.01 Epochs: 10\n",
      "Train Loss: [0.02719134 0.00129466 0.00112512 0.00108321 0.00099999 0.00101888\n",
      " 0.0009096  0.00089719 0.00080946 0.00081978] Val loss: [0.36707636 0.36399669 0.3677576  0.36538732 0.37287565 0.35893476\n",
      " 0.38923271 0.36534518 0.36119618 0.35723945]\n"
     ]
    },
    {
     "name": "stderr",
     "output_type": "stream",
     "text": [
      "100%|██████████| 20/20 [02:04<00:00,  6.22s/it, training_MSE=0.000, validation_MSE=0.366]\n"
     ]
    },
    {
     "name": "stdout",
     "output_type": "stream",
     "text": [
      "Hidden size: 2 Learning rate: 0.01 Epochs: 20\n",
      "Train Loss: [2.73625174e-02 1.12802807e-03 1.06235162e-03 1.02597083e-03\n",
      " 9.81618189e-04 8.83808095e-04 6.55006235e-04 2.93586034e-04\n",
      " 1.59265315e-04 1.59773540e-04 1.32514246e-04 1.15842913e-04\n",
      " 1.13489742e-04 1.12738704e-04 1.06303020e-04 8.64847220e-05\n",
      " 9.96260662e-05 7.12790271e-05 9.58384115e-05 6.86952353e-05] Val loss: [0.358353   0.36098942 0.34897107 0.35764525 0.36451231 0.34458732\n",
      " 0.36927506 0.36254245 0.35649201 0.34623711 0.3671131  0.35514805\n",
      " 0.35551575 0.33149234 0.36784598 0.3383831  0.35948252 0.34549148\n",
      " 0.35414043 0.36583641]\n"
     ]
    },
    {
     "name": "stderr",
     "output_type": "stream",
     "text": [
      "100%|██████████| 50/50 [05:04<00:00,  6.09s/it, training_MSE=0.000, validation_MSE=0.366]\n"
     ]
    },
    {
     "name": "stdout",
     "output_type": "stream",
     "text": [
      "Hidden size: 2 Learning rate: 0.01 Epochs: 50\n",
      "Train Loss: [0.02564638 0.00124911 0.00113766 0.00106379 0.00104698 0.00098287\n",
      " 0.00103049 0.0009465  0.00091948 0.00097098 0.00090157 0.00087886\n",
      " 0.0009113  0.0009156  0.00087739 0.00084539 0.00086548 0.00076525\n",
      " 0.00069367 0.00056706 0.00050707 0.00050577 0.000409   0.00034666\n",
      " 0.00038793 0.00030513 0.00027682 0.00028303 0.00025367 0.00029586\n",
      " 0.0002598  0.00024723 0.00028379 0.00024021 0.00023783 0.00027543\n",
      " 0.00026163 0.00024254 0.00024289 0.00026217 0.00025865 0.00023887\n",
      " 0.00024276 0.00025595 0.00023882 0.0002405  0.00025718 0.00023308\n",
      " 0.0002457  0.0002468 ] Val loss: [0.37601449 0.36416179 0.36323436 0.34774433 0.37832684 0.36011182\n",
      " 0.36355636 0.35900486 0.36098834 0.36333233 0.35818582 0.36021394\n",
      " 0.34248983 0.35866687 0.34928354 0.37423726 0.36577052 0.35790863\n",
      " 0.35037683 0.35623948 0.36128819 0.34118716 0.35631741 0.36028249\n",
      " 0.3387667  0.35592107 0.34973594 0.34207422 0.35322766 0.35384558\n",
      " 0.36479537 0.35374465 0.34272924 0.35387824 0.35472779 0.35587215\n",
      " 0.33839315 0.35450969 0.37360722 0.35507954 0.3586758  0.35390421\n",
      " 0.35517794 0.36675003 0.35356145 0.35193841 0.35578279 0.35341561\n",
      " 0.35428528 0.36583097]\n"
     ]
    },
    {
     "name": "stderr",
     "output_type": "stream",
     "text": [
      "100%|██████████| 10/10 [01:03<00:00,  6.34s/it, training_MSE=0.098, validation_MSE=0.235]\n"
     ]
    },
    {
     "name": "stdout",
     "output_type": "stream",
     "text": [
      "Hidden size: 3 Learning rate: 0.0001 Epochs: 10\n",
      "Train Loss: [0.23874854 0.23637861 0.234138   0.23135639 0.22648866 0.21632234\n",
      " 0.19757614 0.16997998 0.13379352 0.09780554] Val loss: [0.10766637 0.10781531 0.10797176 0.10830564 0.10914089 0.11219756\n",
      " 0.12403414 0.14897434 0.1871014  0.23467404]\n"
     ]
    },
    {
     "name": "stderr",
     "output_type": "stream",
     "text": [
      "100%|██████████| 20/20 [02:06<00:00,  6.34s/it, training_MSE=0.039, validation_MSE=0.297]\n"
     ]
    },
    {
     "name": "stdout",
     "output_type": "stream",
     "text": [
      "Hidden size: 3 Learning rate: 0.0001 Epochs: 20\n",
      "Train Loss: [0.93223523 0.76937322 0.61674942 0.46839729 0.33511178 0.24392017\n",
      " 0.19940624 0.17899538 0.16517598 0.15213324 0.13816278 0.12281413\n",
      " 0.10674931 0.09118607 0.07727727 0.06576336 0.05677627 0.04980497\n",
      " 0.04405001 0.0389441 ] Val loss: [0.53197492 0.40341826 0.28393885 0.18021195 0.11517066 0.1003232\n",
      " 0.11131761 0.1260885  0.13847109 0.14875965 0.15840584 0.16924988\n",
      " 0.18275244 0.19918483 0.21769989 0.23700265 0.25560655 0.27211565\n",
      " 0.28587153 0.29720742]\n"
     ]
    },
    {
     "name": "stderr",
     "output_type": "stream",
     "text": [
      "100%|██████████| 50/50 [05:16<00:00,  6.34s/it, training_MSE=0.002, validation_MSE=0.358]\n"
     ]
    },
    {
     "name": "stdout",
     "output_type": "stream",
     "text": [
      "Hidden size: 3 Learning rate: 0.0001 Epochs: 50\n",
      "Train Loss: [1.21507305 0.9416247  0.76485334 0.63912712 0.5371517  0.44582915\n",
      " 0.36162495 0.28902681 0.23469082 0.19964192 0.17769735 0.16175012\n",
      " 0.14626362 0.12961371 0.11330632 0.09803602 0.08455601 0.07310257\n",
      " 0.06354603 0.05558213 0.04886727 0.04308096 0.03795353 0.03328864\n",
      " 0.02897681 0.02499238 0.02136742 0.01815332 0.01539533 0.01310744\n",
      " 0.01125021 0.00974426 0.00850635 0.00747098 0.00659257 0.00584002\n",
      " 0.00519156 0.00463106 0.00414564 0.00372445 0.00335815 0.00303892\n",
      " 0.00276039 0.00251736 0.00230515 0.00211903 0.00195389 0.00180407\n",
      " 0.00166401 0.00153131] Val loss: [0.71983956 0.53466912 0.41403744 0.32528959 0.25254442 0.190019\n",
      " 0.13940541 0.10806239 0.09570479 0.09843724 0.10678649 0.11839351\n",
      " 0.13417848 0.15294142 0.17082645 0.18684644 0.20176848 0.21662331\n",
      " 0.2316612  0.24685556 0.26207257 0.27708667 0.29161391 0.305297\n",
      " 0.31792992 0.32966593 0.34009522 0.34817989 0.35349282 0.35654892\n",
      " 0.35818447 0.35910026 0.3597034  0.36013266 0.36039966 0.36051526\n",
      " 0.36053599 0.36051262 0.36046157 0.36040376 0.36035156 0.36026904\n",
      " 0.36010094 0.35982088 0.35945269 0.35907253 0.3587104  0.3583368\n",
      " 0.35792738 0.35754108]\n"
     ]
    },
    {
     "name": "stderr",
     "output_type": "stream",
     "text": [
      "100%|██████████| 10/10 [01:04<00:00,  6.44s/it, training_MSE=0.001, validation_MSE=0.355]\n"
     ]
    },
    {
     "name": "stdout",
     "output_type": "stream",
     "text": [
      "Hidden size: 3 Learning rate: 0.001 Epochs: 10\n",
      "Train Loss: [0.08191853 0.00978086 0.00480804 0.00324798 0.00234773 0.0017984\n",
      " 0.00143851 0.00118138 0.00096833 0.00076536] Val loss: [0.3607893  0.35500383 0.35735062 0.35757921 0.35409052 0.35307479\n",
      " 0.35421443 0.35545775 0.3543407  0.35535084]\n"
     ]
    },
    {
     "name": "stderr",
     "output_type": "stream",
     "text": [
      "100%|██████████| 20/20 [02:17<00:00,  6.88s/it, training_MSE=0.000, validation_MSE=0.358]\n"
     ]
    },
    {
     "name": "stdout",
     "output_type": "stream",
     "text": [
      "Hidden size: 3 Learning rate: 0.001 Epochs: 20\n",
      "Train Loss: [0.04895904 0.00343802 0.00203326 0.00167612 0.0014931  0.00137537\n",
      " 0.00129384 0.00123338 0.00118468 0.00114089 0.00109456 0.00103271\n",
      " 0.00094388 0.00083209 0.00065871 0.00046839 0.00035276 0.00027812\n",
      " 0.00022449 0.00019373] Val loss: [0.36984194 0.35771453 0.35702954 0.35741182 0.3568585  0.35595763\n",
      " 0.35758597 0.35808207 0.35717663 0.35711414 0.35690288 0.3566728\n",
      " 0.3576418  0.35907437 0.3566485  0.35615614 0.35550308 0.3539437\n",
      " 0.36137472 0.35813209]\n"
     ]
    },
    {
     "name": "stderr",
     "output_type": "stream",
     "text": [
      "100%|██████████| 50/50 [05:16<00:00,  6.33s/it, training_MSE=0.000, validation_MSE=0.353]\n"
     ]
    },
    {
     "name": "stdout",
     "output_type": "stream",
     "text": [
      "Hidden size: 3 Learning rate: 0.001 Epochs: 50\n",
      "Train Loss: [1.54863744e-01 1.35321775e-02 5.73445910e-03 3.03054900e-03\n",
      " 2.01798396e-03 1.41847581e-03 1.00647649e-03 7.20121061e-04\n",
      " 5.34475598e-04 3.97001131e-04 3.13958751e-04 2.37997505e-04\n",
      " 1.94033344e-04 1.70790736e-04 1.37045451e-04 1.21348191e-04\n",
      " 1.04485127e-04 1.06907112e-04 8.35779950e-05 7.80676095e-05\n",
      " 8.08479636e-05 6.79239673e-05 6.68901381e-05 6.86197879e-05\n",
      " 5.93729821e-05 6.01335967e-05 5.68192161e-05 5.62677935e-05\n",
      " 5.26532729e-05 5.82051767e-05 4.78294288e-05 4.71392558e-05\n",
      " 6.02047068e-05 4.20582139e-05 4.30640407e-05 4.94946997e-05\n",
      " 3.98899486e-05 4.49064110e-05 3.95836700e-05 4.31601515e-05\n",
      " 3.88550870e-05 3.65237078e-05 5.18580275e-05 3.25155786e-05\n",
      " 3.40275049e-05 3.98474333e-05 3.27548973e-05 3.75977792e-05\n",
      " 3.39239504e-05 3.06902433e-05] Val loss: [0.39438458 0.36120862 0.35893772 0.35926392 0.35790758 0.35589001\n",
      " 0.35604521 0.35695171 0.35514007 0.35551852 0.35317202 0.35410654\n",
      " 0.35177861 0.35367191 0.35229432 0.35609286 0.35587846 0.35366813\n",
      " 0.35538718 0.35621559 0.35395565 0.35569855 0.35471254 0.35469488\n",
      " 0.35272188 0.35443079 0.3565766  0.3546164  0.35206984 0.35404919\n",
      " 0.35719104 0.35590938 0.35407231 0.3544687  0.3538414  0.35424235\n",
      " 0.35880915 0.35438959 0.35587563 0.35441682 0.35803641 0.35579728\n",
      " 0.35390997 0.35432435 0.35158939 0.35428092 0.35300981 0.3542043\n",
      " 0.35655183 0.35345969]\n"
     ]
    },
    {
     "name": "stderr",
     "output_type": "stream",
     "text": [
      " 10%|█         | 1/10 [00:12<01:50, 12.26s/it, training_MSE=0.034, validation_MSE=0.339]\n"
     ]
    },
    {
     "ename": "KeyboardInterrupt",
     "evalue": "",
     "output_type": "error",
     "traceback": [
      "\u001b[0;31m---------------------------------------------------------------------------\u001b[0m",
      "\u001b[0;31mKeyboardInterrupt\u001b[0m                         Traceback (most recent call last)",
      "\u001b[0;32m<ipython-input-69-075f50164685>\u001b[0m in \u001b[0;36m<module>\u001b[0;34m\u001b[0m\n\u001b[1;32m      5\u001b[0m             \u001b[0mc\u001b[0m \u001b[0;34m=\u001b[0m \u001b[0mnn\u001b[0m\u001b[0;34m.\u001b[0m\u001b[0mMSELoss\u001b[0m\u001b[0;34m(\u001b[0m\u001b[0;34m)\u001b[0m\u001b[0;34m\u001b[0m\u001b[0;34m\u001b[0m\u001b[0m\n\u001b[1;32m      6\u001b[0m             \u001b[0mmymodel\u001b[0m \u001b[0;34m=\u001b[0m \u001b[0mlstm_seq2seq\u001b[0m\u001b[0;34m(\u001b[0m\u001b[0minput_size\u001b[0m\u001b[0;34m=\u001b[0m\u001b[0;36m1\u001b[0m\u001b[0;34m,\u001b[0m \u001b[0mhidden_size\u001b[0m\u001b[0;34m=\u001b[0m\u001b[0mhs\u001b[0m\u001b[0;34m)\u001b[0m\u001b[0;34m\u001b[0m\u001b[0;34m\u001b[0m\u001b[0m\n\u001b[0;32m----> 7\u001b[0;31m             losses = mymodel.train_model(train_dataset.x, train_dataset.y,\\\n\u001b[0m\u001b[1;32m      8\u001b[0m                                              \u001b[0mvalid_dataset\u001b[0m\u001b[0;34m.\u001b[0m\u001b[0mx\u001b[0m\u001b[0;34m,\u001b[0m \u001b[0mvalid_dataset\u001b[0m\u001b[0;34m.\u001b[0m\u001b[0my\u001b[0m\u001b[0;34m,\u001b[0m\u001b[0;31m \u001b[0m\u001b[0;31m\\\u001b[0m\u001b[0;34m\u001b[0m\u001b[0;34m\u001b[0m\u001b[0m\n\u001b[1;32m      9\u001b[0m                                              \u001b[0mn_epochs\u001b[0m \u001b[0;34m=\u001b[0m \u001b[0me\u001b[0m\u001b[0;34m,\u001b[0m \u001b[0mtarget_len\u001b[0m \u001b[0;34m=\u001b[0m \u001b[0mnum_outputs\u001b[0m\u001b[0;34m,\u001b[0m\u001b[0;31m\\\u001b[0m\u001b[0;34m\u001b[0m\u001b[0;34m\u001b[0m\u001b[0m\n",
      "\u001b[0;32m<ipython-input-61-07ade82fc59b>\u001b[0m in \u001b[0;36mtrain_model\u001b[0;34m(self, input_tensor, target_tensor, input_val, target_val, n_epochs, target_len, batch_size, learning_rate, criterion)\u001b[0m\n\u001b[1;32m    126\u001b[0m                 \u001b[0mval_metrics\u001b[0m \u001b[0;34m=\u001b[0m \u001b[0mself\u001b[0m\u001b[0;34m.\u001b[0m\u001b[0mval_metrics\u001b[0m\u001b[0;34m(\u001b[0m\u001b[0minput_val\u001b[0m\u001b[0;34m,\u001b[0m \u001b[0mtarget_val\u001b[0m\u001b[0;34m,\u001b[0m \u001b[0mbatch_size\u001b[0m\u001b[0;34m=\u001b[0m\u001b[0mbatch_size\u001b[0m\u001b[0;34m,\u001b[0m \u001b[0mcriterion\u001b[0m \u001b[0;34m=\u001b[0m \u001b[0mcriterion\u001b[0m\u001b[0;34m,\u001b[0m \u001b[0mtarget_len\u001b[0m\u001b[0;34m=\u001b[0m\u001b[0;36m10\u001b[0m\u001b[0;34m)\u001b[0m\u001b[0;34m\u001b[0m\u001b[0;34m\u001b[0m\u001b[0m\n\u001b[1;32m    127\u001b[0m                 \u001b[0mval_batch_mae\u001b[0m \u001b[0;34m=\u001b[0m \u001b[0mself\u001b[0m\u001b[0;34m.\u001b[0m\u001b[0mval_metrics\u001b[0m\u001b[0;34m(\u001b[0m\u001b[0minput_val\u001b[0m\u001b[0;34m,\u001b[0m \u001b[0mtarget_val\u001b[0m\u001b[0;34m,\u001b[0m \u001b[0mbatch_size\u001b[0m\u001b[0;34m=\u001b[0m\u001b[0mbatch_size\u001b[0m\u001b[0;34m,\u001b[0m \u001b[0mcriterion\u001b[0m \u001b[0;34m=\u001b[0m \u001b[0mcriterion\u001b[0m\u001b[0;34m,\u001b[0m \u001b[0mtarget_len\u001b[0m\u001b[0;34m=\u001b[0m\u001b[0;36m10\u001b[0m\u001b[0;34m)\u001b[0m\u001b[0;34m[\u001b[0m\u001b[0;36m1\u001b[0m\u001b[0;34m]\u001b[0m\u001b[0;34m\u001b[0m\u001b[0;34m\u001b[0m\u001b[0m\n\u001b[0;32m--> 128\u001b[0;31m                 \u001b[0mvalid_batch_loss\u001b[0m \u001b[0;34m=\u001b[0m \u001b[0mself\u001b[0m\u001b[0;34m.\u001b[0m\u001b[0mval_metrics\u001b[0m\u001b[0;34m(\u001b[0m\u001b[0minput_val\u001b[0m\u001b[0;34m,\u001b[0m \u001b[0mtarget_val\u001b[0m\u001b[0;34m,\u001b[0m \u001b[0mbatch_size\u001b[0m\u001b[0;34m=\u001b[0m\u001b[0mbatch_size\u001b[0m\u001b[0;34m,\u001b[0m \u001b[0mcriterion\u001b[0m \u001b[0;34m=\u001b[0m \u001b[0mcriterion\u001b[0m\u001b[0;34m,\u001b[0m \u001b[0mtarget_len\u001b[0m\u001b[0;34m=\u001b[0m\u001b[0;36m10\u001b[0m\u001b[0;34m)\u001b[0m\u001b[0;34m[\u001b[0m\u001b[0;36m0\u001b[0m\u001b[0;34m]\u001b[0m\u001b[0;34m\u001b[0m\u001b[0;34m\u001b[0m\u001b[0m\n\u001b[0m\u001b[1;32m    129\u001b[0m                 \u001b[0mval_losses\u001b[0m\u001b[0;34m[\u001b[0m\u001b[0mit\u001b[0m\u001b[0;34m]\u001b[0m \u001b[0;34m=\u001b[0m \u001b[0mvalid_batch_loss\u001b[0m\u001b[0;34m\u001b[0m\u001b[0;34m\u001b[0m\u001b[0m\n\u001b[1;32m    130\u001b[0m                 \u001b[0mval_maes\u001b[0m\u001b[0;34m[\u001b[0m\u001b[0mit\u001b[0m\u001b[0;34m]\u001b[0m \u001b[0;34m=\u001b[0m \u001b[0mval_batch_mae\u001b[0m\u001b[0;34m\u001b[0m\u001b[0;34m\u001b[0m\u001b[0m\n",
      "\u001b[0;32m<ipython-input-61-07ade82fc59b>\u001b[0m in \u001b[0;36mval_metrics\u001b[0;34m(self, input_tensor, target_tensor, batch_size, criterion, target_len)\u001b[0m\n\u001b[1;32m     31\u001b[0m             \u001b[0;31m# initialize hidden state\u001b[0m\u001b[0;34m\u001b[0m\u001b[0;34m\u001b[0m\u001b[0;34m\u001b[0m\u001b[0m\n\u001b[1;32m     32\u001b[0m             \u001b[0mencoder_hidden\u001b[0m \u001b[0;34m=\u001b[0m \u001b[0mself\u001b[0m\u001b[0;34m.\u001b[0m\u001b[0mencoder\u001b[0m\u001b[0;34m.\u001b[0m\u001b[0minit_hidden\u001b[0m\u001b[0;34m(\u001b[0m\u001b[0mbatch_size\u001b[0m\u001b[0;34m)\u001b[0m\u001b[0;34m\u001b[0m\u001b[0;34m\u001b[0m\u001b[0m\n\u001b[0;32m---> 33\u001b[0;31m             \u001b[0mencoder_output\u001b[0m\u001b[0;34m,\u001b[0m \u001b[0mencoder_hidden\u001b[0m \u001b[0;34m=\u001b[0m \u001b[0mself\u001b[0m\u001b[0;34m.\u001b[0m\u001b[0mencoder\u001b[0m\u001b[0;34m(\u001b[0m\u001b[0minput_batch\u001b[0m\u001b[0;34m)\u001b[0m\u001b[0;34m\u001b[0m\u001b[0;34m\u001b[0m\u001b[0m\n\u001b[0m\u001b[1;32m     34\u001b[0m \u001b[0;34m\u001b[0m\u001b[0m\n\u001b[1;32m     35\u001b[0m             \u001b[0;31m# decoder with teacher forcing\u001b[0m\u001b[0;34m\u001b[0m\u001b[0;34m\u001b[0m\u001b[0;34m\u001b[0m\u001b[0m\n",
      "\u001b[0;32m/opt/anaconda3/lib/python3.9/site-packages/torch/nn/modules/module.py\u001b[0m in \u001b[0;36m_call_impl\u001b[0;34m(self, *input, **kwargs)\u001b[0m\n\u001b[1;32m   1108\u001b[0m         if not (self._backward_hooks or self._forward_hooks or self._forward_pre_hooks or _global_backward_hooks\n\u001b[1;32m   1109\u001b[0m                 or _global_forward_hooks or _global_forward_pre_hooks):\n\u001b[0;32m-> 1110\u001b[0;31m             \u001b[0;32mreturn\u001b[0m \u001b[0mforward_call\u001b[0m\u001b[0;34m(\u001b[0m\u001b[0;34m*\u001b[0m\u001b[0minput\u001b[0m\u001b[0;34m,\u001b[0m \u001b[0;34m**\u001b[0m\u001b[0mkwargs\u001b[0m\u001b[0;34m)\u001b[0m\u001b[0;34m\u001b[0m\u001b[0;34m\u001b[0m\u001b[0m\n\u001b[0m\u001b[1;32m   1111\u001b[0m         \u001b[0;31m# Do not call functions when jit is used\u001b[0m\u001b[0;34m\u001b[0m\u001b[0;34m\u001b[0m\u001b[0;34m\u001b[0m\u001b[0m\n\u001b[1;32m   1112\u001b[0m         \u001b[0mfull_backward_hooks\u001b[0m\u001b[0;34m,\u001b[0m \u001b[0mnon_full_backward_hooks\u001b[0m \u001b[0;34m=\u001b[0m \u001b[0;34m[\u001b[0m\u001b[0;34m]\u001b[0m\u001b[0;34m,\u001b[0m \u001b[0;34m[\u001b[0m\u001b[0;34m]\u001b[0m\u001b[0;34m\u001b[0m\u001b[0;34m\u001b[0m\u001b[0m\n",
      "\u001b[0;32m<ipython-input-59-551c2a18036b>\u001b[0m in \u001b[0;36mforward\u001b[0;34m(self, x)\u001b[0m\n\u001b[1;32m     17\u001b[0m \u001b[0;34m\u001b[0m\u001b[0m\n\u001b[1;32m     18\u001b[0m     \u001b[0;32mdef\u001b[0m \u001b[0mforward\u001b[0m\u001b[0;34m(\u001b[0m\u001b[0mself\u001b[0m\u001b[0;34m,\u001b[0m \u001b[0mx\u001b[0m\u001b[0;34m)\u001b[0m\u001b[0;34m:\u001b[0m\u001b[0;34m\u001b[0m\u001b[0;34m\u001b[0m\u001b[0m\n\u001b[0;32m---> 19\u001b[0;31m         \u001b[0moutput\u001b[0m\u001b[0;34m,\u001b[0m \u001b[0mself\u001b[0m\u001b[0;34m.\u001b[0m\u001b[0mhidden\u001b[0m \u001b[0;34m=\u001b[0m \u001b[0mself\u001b[0m\u001b[0;34m.\u001b[0m\u001b[0mlstm\u001b[0m\u001b[0;34m(\u001b[0m\u001b[0mx\u001b[0m\u001b[0;34m.\u001b[0m\u001b[0mview\u001b[0m\u001b[0;34m(\u001b[0m\u001b[0mx\u001b[0m\u001b[0;34m.\u001b[0m\u001b[0mshape\u001b[0m\u001b[0;34m[\u001b[0m\u001b[0;36m0\u001b[0m\u001b[0;34m]\u001b[0m\u001b[0;34m,\u001b[0m \u001b[0mx\u001b[0m\u001b[0;34m.\u001b[0m\u001b[0mshape\u001b[0m\u001b[0;34m[\u001b[0m\u001b[0;36m1\u001b[0m\u001b[0;34m]\u001b[0m\u001b[0;34m,\u001b[0m \u001b[0mself\u001b[0m\u001b[0;34m.\u001b[0m\u001b[0minput_size\u001b[0m\u001b[0;34m)\u001b[0m\u001b[0;34m)\u001b[0m\u001b[0;34m\u001b[0m\u001b[0;34m\u001b[0m\u001b[0m\n\u001b[0m\u001b[1;32m     20\u001b[0m \u001b[0;34m\u001b[0m\u001b[0m\n\u001b[1;32m     21\u001b[0m         \u001b[0;32mreturn\u001b[0m \u001b[0moutput\u001b[0m\u001b[0;34m,\u001b[0m \u001b[0mself\u001b[0m\u001b[0;34m.\u001b[0m\u001b[0mhidden\u001b[0m   \u001b[0;31m# hidden gives the hidden state and cell state for the last element in the sequence\u001b[0m\u001b[0;34m\u001b[0m\u001b[0;34m\u001b[0m\u001b[0m\n",
      "\u001b[0;32m/opt/anaconda3/lib/python3.9/site-packages/torch/nn/modules/module.py\u001b[0m in \u001b[0;36m_call_impl\u001b[0;34m(self, *input, **kwargs)\u001b[0m\n\u001b[1;32m   1108\u001b[0m         if not (self._backward_hooks or self._forward_hooks or self._forward_pre_hooks or _global_backward_hooks\n\u001b[1;32m   1109\u001b[0m                 or _global_forward_hooks or _global_forward_pre_hooks):\n\u001b[0;32m-> 1110\u001b[0;31m             \u001b[0;32mreturn\u001b[0m \u001b[0mforward_call\u001b[0m\u001b[0;34m(\u001b[0m\u001b[0;34m*\u001b[0m\u001b[0minput\u001b[0m\u001b[0;34m,\u001b[0m \u001b[0;34m**\u001b[0m\u001b[0mkwargs\u001b[0m\u001b[0;34m)\u001b[0m\u001b[0;34m\u001b[0m\u001b[0;34m\u001b[0m\u001b[0m\n\u001b[0m\u001b[1;32m   1111\u001b[0m         \u001b[0;31m# Do not call functions when jit is used\u001b[0m\u001b[0;34m\u001b[0m\u001b[0;34m\u001b[0m\u001b[0;34m\u001b[0m\u001b[0m\n\u001b[1;32m   1112\u001b[0m         \u001b[0mfull_backward_hooks\u001b[0m\u001b[0;34m,\u001b[0m \u001b[0mnon_full_backward_hooks\u001b[0m \u001b[0;34m=\u001b[0m \u001b[0;34m[\u001b[0m\u001b[0;34m]\u001b[0m\u001b[0;34m,\u001b[0m \u001b[0;34m[\u001b[0m\u001b[0;34m]\u001b[0m\u001b[0;34m\u001b[0m\u001b[0;34m\u001b[0m\u001b[0m\n",
      "\u001b[0;32m/opt/anaconda3/lib/python3.9/site-packages/torch/nn/modules/rnn.py\u001b[0m in \u001b[0;36mforward\u001b[0;34m(self, input, hx)\u001b[0m\n\u001b[1;32m    759\u001b[0m         \u001b[0mself\u001b[0m\u001b[0;34m.\u001b[0m\u001b[0mcheck_forward_args\u001b[0m\u001b[0;34m(\u001b[0m\u001b[0minput\u001b[0m\u001b[0;34m,\u001b[0m \u001b[0mhx\u001b[0m\u001b[0;34m,\u001b[0m \u001b[0mbatch_sizes\u001b[0m\u001b[0;34m)\u001b[0m\u001b[0;34m\u001b[0m\u001b[0;34m\u001b[0m\u001b[0m\n\u001b[1;32m    760\u001b[0m         \u001b[0;32mif\u001b[0m \u001b[0mbatch_sizes\u001b[0m \u001b[0;32mis\u001b[0m \u001b[0;32mNone\u001b[0m\u001b[0;34m:\u001b[0m\u001b[0;34m\u001b[0m\u001b[0;34m\u001b[0m\u001b[0m\n\u001b[0;32m--> 761\u001b[0;31m             result = _VF.lstm(input, hx, self._flat_weights, self.bias, self.num_layers,\n\u001b[0m\u001b[1;32m    762\u001b[0m                               self.dropout, self.training, self.bidirectional, self.batch_first)\n\u001b[1;32m    763\u001b[0m         \u001b[0;32melse\u001b[0m\u001b[0;34m:\u001b[0m\u001b[0;34m\u001b[0m\u001b[0;34m\u001b[0m\u001b[0m\n",
      "\u001b[0;31mKeyboardInterrupt\u001b[0m: "
     ]
    }
   ],
   "source": [
    "### Grid Search ###\n",
    "for hs in hidden_sizes:\n",
    "    for lr in learning_rates:\n",
    "        for e in epochs:\n",
    "            c = nn.MSELoss()\n",
    "            mymodel = lstm_seq2seq(input_size=1, hidden_size=hs)\n",
    "            losses = mymodel.train_model(train_dataset.x, train_dataset.y,\\\n",
    "                                             valid_dataset.x, valid_dataset.y, \\\n",
    "                                             n_epochs = e, target_len = num_outputs,\\\n",
    "                                             learning_rate = lr,\\\n",
    "                                             criterion = c)\n",
    "            trainlosses.append(losses['Train'])\n",
    "            vallosses.append(losses['Val'])\n",
    "            print('Hidden size:',hs, 'Learning rate:', lr, 'Epochs:', e)  \n",
    "            print('Train Loss:',losses['Train'], 'Val loss:',losses['Val'])   \n",
    "                                    \n",
    "            if losses['Val'][-1] < best_val_loss:\n",
    "                best_val_loss = losses['Val'][-1]\n",
    "                best_losses = losses\n",
    "                best_mod = mymodel\n",
    "                torch.save(mymodel, 'best_model_on_validation_set')"
   ]
  },
  {
   "cell_type": "code",
   "execution_count": 43,
   "id": "b5db89f8-8333-4f1b-9976-13389f82b20a",
   "metadata": {},
   "outputs": [],
   "source": [
    "mod = lstm_seq2seq(input_size=1, hidden_size=1)"
   ]
  },
  {
   "cell_type": "code",
   "execution_count": 46,
   "id": "17fe0195-4450-4ad8-8fe9-a88c2b9326ff",
   "metadata": {},
   "outputs": [
    {
     "data": {
      "text/plain": [
       "lstm_seq2seq(\n",
       "  (encoder): lstm_encoder(\n",
       "    (lstm): LSTM(1, 1)\n",
       "  )\n",
       "  (decoder): lstm_decoder(\n",
       "    (lstm): LSTM(1, 1)\n",
       "    (linear): Linear(in_features=1, out_features=1, bias=True)\n",
       "  )\n",
       ")"
      ]
     },
     "execution_count": 46,
     "metadata": {},
     "output_type": "execute_result"
    }
   ],
   "source": [
    "mod = torch.load('best_model_on_validation_set')\n",
    "mod"
   ]
  },
  {
   "cell_type": "code",
   "execution_count": 55,
   "id": "01843ce2-02d3-46ec-848a-971295bcfab0",
   "metadata": {},
   "outputs": [
    {
     "name": "stderr",
     "output_type": "stream",
     "text": [
      "100%|██████████| 50/50 [02:48<00:00,  3.37s/it, training_MSE=0.240, validation_MSE=1.036]\n"
     ]
    }
   ],
   "source": [
    "model = lstm_seq2seq(input_size=1, hidden_size=1)\n",
    "losses = model.train_model(train_dataset.x, train_dataset.y,\\\n",
    "                                                 valid_dataset.x, valid_dataset.y, \\\n",
    "                                                 n_epochs = 50, target_len = num_outputs,\\\n",
    "                                                 learning_rate = 0.0001,\\\n",
    "                                                 criterion = nn.MSELoss())"
   ]
  },
  {
   "cell_type": "code",
   "execution_count": 56,
   "id": "a405d53e-3eba-4e26-83bd-0010503969bc",
   "metadata": {},
   "outputs": [
    {
     "data": {
      "image/png": "[encoded data removed]",
      "text/plain": [
       "<Figure size 720x360 with 1 Axes>"
      ]
     },
     "metadata": {
      "needs_background": "light"
     },
     "output_type": "display_data"
    }
   ],
   "source": [
    "fig, ax = plt.subplots(figsize=(10,5))\n",
    "plt.plot(losses['Val'], label=\"Validation loss\")\n",
    "plt.plot(losses['Train'], label= \"Training loss\")\n",
    "plt.xlabel('Epochs')\n",
    "plt.ylabel(\"MSE Loss\")\n",
    "plt.title(\"MSE vs Epochs\")\n",
    "plt.legend()\n",
    "plt.show()"
   ]
  },
  {
   "cell_type": "code",
   "execution_count": 3,
   "id": "b960caaf-f26d-4825-a70c-6fac85efe760",
   "metadata": {},
   "outputs": [
    {
     "ename": "NameError",
     "evalue": "name 'losses' is not defined",
     "output_type": "error",
     "traceback": [
      "\u001b[0;31m---------------------------------------------------------------------------\u001b[0m",
      "\u001b[0;31mNameError\u001b[0m                                 Traceback (most recent call last)",
      "\u001b[0;32m<ipython-input-3-b68ce72345f1>\u001b[0m in \u001b[0;36m<module>\u001b[0;34m\u001b[0m\n\u001b[1;32m      1\u001b[0m \u001b[0mfig\u001b[0m\u001b[0;34m,\u001b[0m \u001b[0max\u001b[0m \u001b[0;34m=\u001b[0m \u001b[0mplt\u001b[0m\u001b[0;34m.\u001b[0m\u001b[0msubplots\u001b[0m\u001b[0;34m(\u001b[0m\u001b[0mfigsize\u001b[0m\u001b[0;34m=\u001b[0m\u001b[0;34m(\u001b[0m\u001b[0;36m10\u001b[0m\u001b[0;34m,\u001b[0m\u001b[0;36m5\u001b[0m\u001b[0;34m)\u001b[0m\u001b[0;34m)\u001b[0m\u001b[0;34m\u001b[0m\u001b[0;34m\u001b[0m\u001b[0m\n\u001b[0;32m----> 2\u001b[0;31m \u001b[0mplt\u001b[0m\u001b[0;34m.\u001b[0m\u001b[0mplot\u001b[0m\u001b[0;34m(\u001b[0m\u001b[0mnp\u001b[0m\u001b[0;34m.\u001b[0m\u001b[0msqrt\u001b[0m\u001b[0;34m(\u001b[0m\u001b[0mlosses\u001b[0m\u001b[0;34m[\u001b[0m\u001b[0;34m'Val'\u001b[0m\u001b[0;34m]\u001b[0m\u001b[0;34m)\u001b[0m\u001b[0;34m,\u001b[0m \u001b[0mlabel\u001b[0m\u001b[0;34m=\u001b[0m\u001b[0;34m\"Validation loss\"\u001b[0m\u001b[0;34m)\u001b[0m\u001b[0;34m\u001b[0m\u001b[0;34m\u001b[0m\u001b[0m\n\u001b[0m\u001b[1;32m      3\u001b[0m \u001b[0mplt\u001b[0m\u001b[0;34m.\u001b[0m\u001b[0mplot\u001b[0m\u001b[0;34m(\u001b[0m\u001b[0mnp\u001b[0m\u001b[0;34m.\u001b[0m\u001b[0msqrt\u001b[0m\u001b[0;34m(\u001b[0m\u001b[0mlosses\u001b[0m\u001b[0;34m[\u001b[0m\u001b[0;34m'Train'\u001b[0m\u001b[0;34m]\u001b[0m\u001b[0;34m)\u001b[0m\u001b[0;34m,\u001b[0m \u001b[0mlabel\u001b[0m\u001b[0;34m=\u001b[0m \u001b[0;34m\"Training loss\"\u001b[0m\u001b[0;34m)\u001b[0m\u001b[0;34m\u001b[0m\u001b[0;34m\u001b[0m\u001b[0m\n\u001b[1;32m      4\u001b[0m \u001b[0mplt\u001b[0m\u001b[0;34m.\u001b[0m\u001b[0mxlabel\u001b[0m\u001b[0;34m(\u001b[0m\u001b[0;34m'Epochs'\u001b[0m\u001b[0;34m)\u001b[0m\u001b[0;34m\u001b[0m\u001b[0;34m\u001b[0m\u001b[0m\n\u001b[1;32m      5\u001b[0m \u001b[0mplt\u001b[0m\u001b[0;34m.\u001b[0m\u001b[0mylabel\u001b[0m\u001b[0;34m(\u001b[0m\u001b[0;34m\"RMSE Loss\"\u001b[0m\u001b[0;34m)\u001b[0m\u001b[0;34m\u001b[0m\u001b[0;34m\u001b[0m\u001b[0m\n",
      "\u001b[0;31mNameError\u001b[0m: name 'losses' is not defined"
     ]
    },
    {
     "data": {
      "image/png": "[encoded data removed]",
      "text/plain": [
       "<Figure size 720x360 with 1 Axes>"
      ]
     },
     "metadata": {
      "needs_background": "light"
     },
     "output_type": "display_data"
    }
   ],
   "source": [
    "fig, ax = plt.subplots(figsize=(10,5))\n",
    "plt.plot(np.sqrt(losses['Val']), label=\"Validation loss\")\n",
    "plt.plot(np.sqrt(losses['Train']), label= \"Training loss\")\n",
    "plt.xlabel('Epochs')\n",
    "plt.ylabel(\"RMSE Loss\")\n",
    "plt.title(\"RMSE vs Epochs\")\n",
    "plt.legend()\n",
    "\n",
    "plt.show()"
   ]
  },
  {
   "cell_type": "code",
   "execution_count": 58,
   "id": "149e1ef7-08ed-4ba3-a8cf-694d68d91f4c",
   "metadata": {},
   "outputs": [
    {
     "data": {
      "image/png": "[encoded data removed]",
      "text/plain": [
       "<Figure size 720x360 with 1 Axes>"
      ]
     },
     "metadata": {
      "needs_background": "light"
     },
     "output_type": "display_data"
    }
   ],
   "source": [
    "fig, ax = plt.subplots(figsize=(10,5))\n",
    "plt.plot(losses['Val_mae'], label=\"Validation loss\")\n",
    "plt.plot(losses['Train_mae'], label= \"Training loss\")\n",
    "plt.xlabel('Epochs')\n",
    "plt.ylabel(\"MAE Loss\")\n",
    "plt.title(\"MAE vs Epochs\")\n",
    "plt.legend()\n",
    "plt.show()"
   ]
  }
 ],
 "metadata": {
  "kernelspec": {
   "display_name": "Python 3 (ipykernel)",
   "language": "python",
   "name": "python3"
  },
  "language_info": {
   "codemirror_mode": {
    "name": "ipython",
    "version": 3
   },
   "file_extension": ".py",
   "mimetype": "text/x-python",
   "name": "python",
   "nbconvert_exporter": "python",
   "pygments_lexer": "ipython3",
   "version": "3.9.5"
  }
 },
 "nbformat": 4,
 "nbformat_minor": 5
}
