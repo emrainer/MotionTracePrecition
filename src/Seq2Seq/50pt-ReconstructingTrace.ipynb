{
 "cells": [
  {
   "cell_type": "code",
   "execution_count": 1,
   "id": "79b5faf6",
   "metadata": {},
   "outputs": [],
   "source": [
    "import os\n",
    "import pandas as pd\n",
    "import numpy as np\n",
    "import matplotlib.pyplot as plt     \n",
    "import re\n",
    "from sklearn.preprocessing import StandardScaler\n",
    "from sklearn.model_selection import train_test_split\n",
    "\n",
    "from sklearn.metrics import mean_squared_error\n",
    "from sklearn.metrics import mean_absolute_error\n",
    "\n",
    "import torch\n",
    "import torch.nn as nn\n",
    "import torch.nn.functional as F\n",
    "from torch.utils.data import Dataset, DataLoader\n",
    "from torch.nn.utils.rnn import pack_padded_sequence, pad_packed_sequence \n",
    "\n",
    "from window_data import *\n",
    "\n",
    "import os, errno\n",
    "import sys\n",
    "from tqdm import trange\n",
    "\n",
    "import torch\n",
    "import torch.nn as nn\n",
    "from torch import optim\n",
    "import torch.nn.functional as F"
   ]
  },
  {
   "cell_type": "code",
   "execution_count": 76,
   "id": "7e7ea6ce-08f0-4de9-b7c9-fc1eaaed2e00",
   "metadata": {},
   "outputs": [],
   "source": [
    "breath_df = pd.read_pickle('breath_pickle')"
   ]
  },
  {
   "cell_type": "code",
   "execution_count": 77,
   "id": "f688e782-e330-4c3e-a46c-0e1e65953741",
   "metadata": {},
   "outputs": [],
   "source": [
    "under2 = breath_df[abs(breath_df['Csv_breath_holds']-breath_df['Data_breath_holds'])<=2]"
   ]
  },
  {
   "cell_type": "code",
   "execution_count": 78,
   "id": "40218e03-c3ce-4e6a-9ced-772259ee33d3",
   "metadata": {},
   "outputs": [],
   "source": [
    "under2 = under2[0:100]"
   ]
  },
  {
   "cell_type": "code",
   "execution_count": 79,
   "id": "dd82a79b-d963-45f2-8d5c-8e0e68b5c80d",
   "metadata": {},
   "outputs": [
    {
     "data": {
      "text/html": [
       "<div>\n",
       "<style scoped>\n",
       "    .dataframe tbody tr th:only-of-type {\n",
       "        vertical-align: middle;\n",
       "    }\n",
       "\n",
       "    .dataframe tbody tr th {\n",
       "        vertical-align: top;\n",
       "    }\n",
       "\n",
       "    .dataframe thead th {\n",
       "        text-align: right;\n",
       "    }\n",
       "</style>\n",
       "<table border=\"1\" class=\"dataframe\">\n",
       "  <thead>\n",
       "    <tr style=\"text-align: right;\">\n",
       "      <th></th>\n",
       "      <th>Trace</th>\n",
       "      <th>Csv_breath_holds</th>\n",
       "      <th>Data_breath_holds</th>\n",
       "      <th>Full_trace</th>\n",
       "      <th>breathhold_idx</th>\n",
       "      <th>bh_start_end</th>\n",
       "    </tr>\n",
       "  </thead>\n",
       "  <tbody>\n",
       "    <tr>\n",
       "      <th>0</th>\n",
       "      <td>[0.0003, 0.0006, 0.001, 0.0014, 0.0019, 0.0023...</td>\n",
       "      <td>31.29</td>\n",
       "      <td>31.69</td>\n",
       "      <td>[0.0003, 0.0006, 0.001, 0.0014, 0.0019, 0.0023...</td>\n",
       "      <td>[2661, 2662, 2663, 2664, 2665, 2666, 2667, 266...</td>\n",
       "      <td>(2661, 5829)</td>\n",
       "    </tr>\n",
       "    <tr>\n",
       "      <th>1</th>\n",
       "      <td>[0.0006, 0.0009, 0.0013, 0.0017, 0.0022, 0.002...</td>\n",
       "      <td>30.61</td>\n",
       "      <td>31.40</td>\n",
       "      <td>[0.0006, 0.0009, 0.0013, 0.0017, 0.0022, 0.002...</td>\n",
       "      <td>[2386, 2387, 2388, 2389, 2390, 2391, 2392, 239...</td>\n",
       "      <td>(2386, 5525)</td>\n",
       "    </tr>\n",
       "    <tr>\n",
       "      <th>3</th>\n",
       "      <td>[0.0013, 0.0027, 0.0034, 0.0041, 0.005, 0.006,...</td>\n",
       "      <td>30.85</td>\n",
       "      <td>31.84</td>\n",
       "      <td>[0.0013, 0.0027, 0.0034, 0.0041, 0.005, 0.006,...</td>\n",
       "      <td>[2573, 2574, 2575, 2576, 2577, 2578, 2579, 258...</td>\n",
       "      <td>(2573, 5756)</td>\n",
       "    </tr>\n",
       "    <tr>\n",
       "      <th>4</th>\n",
       "      <td>[0.0012, 0.0015, 0.0019, 0.0023, 0.0029, 0.003...</td>\n",
       "      <td>32.12</td>\n",
       "      <td>32.53</td>\n",
       "      <td>[0.0012, 0.0015, 0.0019, 0.0023, 0.0029, 0.003...</td>\n",
       "      <td>[2520, 2521, 2522, 2523, 2524, 2525, 2526, 252...</td>\n",
       "      <td>(2520, 5772)</td>\n",
       "    </tr>\n",
       "  </tbody>\n",
       "</table>\n",
       "</div>"
      ],
      "text/plain": [
       "                                               Trace  Csv_breath_holds  \\\n",
       "0  [0.0003, 0.0006, 0.001, 0.0014, 0.0019, 0.0023...             31.29   \n",
       "1  [0.0006, 0.0009, 0.0013, 0.0017, 0.0022, 0.002...             30.61   \n",
       "3  [0.0013, 0.0027, 0.0034, 0.0041, 0.005, 0.006,...             30.85   \n",
       "4  [0.0012, 0.0015, 0.0019, 0.0023, 0.0029, 0.003...             32.12   \n",
       "\n",
       "   Data_breath_holds                                         Full_trace  \\\n",
       "0              31.69  [0.0003, 0.0006, 0.001, 0.0014, 0.0019, 0.0023...   \n",
       "1              31.40  [0.0006, 0.0009, 0.0013, 0.0017, 0.0022, 0.002...   \n",
       "3              31.84  [0.0013, 0.0027, 0.0034, 0.0041, 0.005, 0.006,...   \n",
       "4              32.53  [0.0012, 0.0015, 0.0019, 0.0023, 0.0029, 0.003...   \n",
       "\n",
       "                                      breathhold_idx  bh_start_end  \n",
       "0  [2661, 2662, 2663, 2664, 2665, 2666, 2667, 266...  (2661, 5829)  \n",
       "1  [2386, 2387, 2388, 2389, 2390, 2391, 2392, 239...  (2386, 5525)  \n",
       "3  [2573, 2574, 2575, 2576, 2577, 2578, 2579, 258...  (2573, 5756)  \n",
       "4  [2520, 2521, 2522, 2523, 2524, 2525, 2526, 252...  (2520, 5772)  "
      ]
     },
     "execution_count": 79,
     "metadata": {},
     "output_type": "execute_result"
    }
   ],
   "source": [
    "under2.head(4)"
   ]
  },
  {
   "cell_type": "markdown",
   "id": "736c5f7b-deb9-4bad-84c9-2c872262fad3",
   "metadata": {},
   "source": [
    "## Create Windowed Data"
   ]
  },
  {
   "cell_type": "code",
   "execution_count": 80,
   "id": "0729016a-8906-4d58-81c7-5bb133c7b315",
   "metadata": {},
   "outputs": [],
   "source": [
    "def split_trace(sequence, n_steps, n_output):\n",
    "    X, y = list(), list()\n",
    "    \n",
    "    i = 0\n",
    "    while i < len(sequence)-n_output:\n",
    "        end_ix = i + n_steps\n",
    "        # check if we are beyond the sequence\n",
    "        if end_ix > len(sequence)-n_output:\n",
    "            break\n",
    "        seq_x, seq_y = sequence[i:end_ix], sequence[end_ix:end_ix+n_output]\n",
    "        X.append(seq_x)\n",
    "        y.append(seq_y)\n",
    "        \n",
    "        i += n_output\n",
    "        \n",
    "    return np.array(X), np.array(y)\n",
    "    "
   ]
  },
  {
   "cell_type": "code",
   "execution_count": 145,
   "id": "f3f9fcee-8a8e-4df6-a5c4-1033f70c793d",
   "metadata": {},
   "outputs": [
    {
     "data": {
      "text/plain": [
       "(array([[10, 11, 12],\n",
       "        [12, 13, 14],\n",
       "        [14, 15, 16],\n",
       "        [16, 17, 18]]),\n",
       " array([[13, 14],\n",
       "        [15, 16],\n",
       "        [17, 18],\n",
       "        [19, 20]]))"
      ]
     },
     "execution_count": 145,
     "metadata": {},
     "output_type": "execute_result"
    }
   ],
   "source": [
    "t = [10, 11, 12,13,14,15,16,17,18,19,20]\n",
    "split_trace(t,3,2)"
   ]
  },
  {
   "cell_type": "code",
   "execution_count": 81,
   "id": "5645c0e6-4fdb-475b-aeea-5539d3f8993d",
   "metadata": {},
   "outputs": [],
   "source": [
    "num_outputs = 50"
   ]
  },
  {
   "cell_type": "code",
   "execution_count": 82,
   "id": "b79aa9e0-0291-420b-9f01-c7662881e944",
   "metadata": {},
   "outputs": [],
   "source": [
    "traces = []\n",
    "next_pt = []\n",
    "trace_num = []\n",
    "i = 0\n",
    "for row in under2['Trace']:\n",
    "    Xs, ys = split_trace(row, 100, num_outputs)\n",
    "    traces.append(Xs)\n",
    "    next_pt.append(ys)\n",
    "    trace_num.append(np.ones(len(Xs), dtype='int64')*i)\n",
    "    i += 1"
   ]
  },
  {
   "cell_type": "code",
   "execution_count": 83,
   "id": "4c2bacab-12f5-4912-a647-9bc133000a4f",
   "metadata": {},
   "outputs": [],
   "source": [
    "traces2 = [np.array(x, dtype='float32') for sublist in traces for x in sublist]\n",
    "next_pt2 = [x for sublist in next_pt for x in sublist]\n",
    "trace_num2 = [i for row in trace_num for i in row]"
   ]
  },
  {
   "cell_type": "code",
   "execution_count": 84,
   "id": "a890c207-0cea-46cf-8292-4d624b9c476f",
   "metadata": {},
   "outputs": [],
   "source": [
    "breath_df2 = pd.DataFrame({\"Trace\":traces2, \"Next_pts\": next_pt2, \"Trace_num\":trace_num2})"
   ]
  },
  {
   "cell_type": "code",
   "execution_count": 85,
   "id": "c1b717e4-cd9e-4a6e-86bb-09df14b24a2e",
   "metadata": {},
   "outputs": [
    {
     "data": {
      "text/html": [
       "<div>\n",
       "<style scoped>\n",
       "    .dataframe tbody tr th:only-of-type {\n",
       "        vertical-align: middle;\n",
       "    }\n",
       "\n",
       "    .dataframe tbody tr th {\n",
       "        vertical-align: top;\n",
       "    }\n",
       "\n",
       "    .dataframe thead th {\n",
       "        text-align: right;\n",
       "    }\n",
       "</style>\n",
       "<table border=\"1\" class=\"dataframe\">\n",
       "  <thead>\n",
       "    <tr style=\"text-align: right;\">\n",
       "      <th></th>\n",
       "      <th>Trace</th>\n",
       "      <th>Next_pts</th>\n",
       "      <th>Trace_num</th>\n",
       "    </tr>\n",
       "  </thead>\n",
       "  <tbody>\n",
       "    <tr>\n",
       "      <th>0</th>\n",
       "      <td>[0.0003, 0.0006, 0.001, 0.0014, 0.0019, 0.0023...</td>\n",
       "      <td>[0.3095, 0.3149, 0.3203, 0.3257, 0.331, 0.3362...</td>\n",
       "      <td>0</td>\n",
       "    </tr>\n",
       "    <tr>\n",
       "      <th>1</th>\n",
       "      <td>[0.0522, 0.056, 0.0598, 0.0638, 0.0678, 0.0718...</td>\n",
       "      <td>[0.5461, 0.55, 0.5538, 0.5575, 0.5612, 0.5649,...</td>\n",
       "      <td>0</td>\n",
       "    </tr>\n",
       "    <tr>\n",
       "      <th>2</th>\n",
       "      <td>[0.3095, 0.3149, 0.3203, 0.3257, 0.331, 0.3362...</td>\n",
       "      <td>[0.7072, 0.7096, 0.7119, 0.714, 0.716, 0.7177,...</td>\n",
       "      <td>0</td>\n",
       "    </tr>\n",
       "    <tr>\n",
       "      <th>3</th>\n",
       "      <td>[0.5461, 0.55, 0.5538, 0.5575, 0.5612, 0.5649,...</td>\n",
       "      <td>[0.7257, 0.7248, 0.7239, 0.7229, 0.7218, 0.720...</td>\n",
       "      <td>0</td>\n",
       "    </tr>\n",
       "    <tr>\n",
       "      <th>4</th>\n",
       "      <td>[0.7072, 0.7096, 0.7119, 0.714, 0.716, 0.7177,...</td>\n",
       "      <td>[0.6169, 0.6139, 0.6108, 0.6077, 0.6045, 0.601...</td>\n",
       "      <td>0</td>\n",
       "    </tr>\n",
       "  </tbody>\n",
       "</table>\n",
       "</div>"
      ],
      "text/plain": [
       "                                               Trace  \\\n",
       "0  [0.0003, 0.0006, 0.001, 0.0014, 0.0019, 0.0023...   \n",
       "1  [0.0522, 0.056, 0.0598, 0.0638, 0.0678, 0.0718...   \n",
       "2  [0.3095, 0.3149, 0.3203, 0.3257, 0.331, 0.3362...   \n",
       "3  [0.5461, 0.55, 0.5538, 0.5575, 0.5612, 0.5649,...   \n",
       "4  [0.7072, 0.7096, 0.7119, 0.714, 0.716, 0.7177,...   \n",
       "\n",
       "                                            Next_pts  Trace_num  \n",
       "0  [0.3095, 0.3149, 0.3203, 0.3257, 0.331, 0.3362...          0  \n",
       "1  [0.5461, 0.55, 0.5538, 0.5575, 0.5612, 0.5649,...          0  \n",
       "2  [0.7072, 0.7096, 0.7119, 0.714, 0.716, 0.7177,...          0  \n",
       "3  [0.7257, 0.7248, 0.7239, 0.7229, 0.7218, 0.720...          0  \n",
       "4  [0.6169, 0.6139, 0.6108, 0.6077, 0.6045, 0.601...          0  "
      ]
     },
     "execution_count": 85,
     "metadata": {},
     "output_type": "execute_result"
    }
   ],
   "source": [
    "breath_df2.head()"
   ]
  },
  {
   "cell_type": "markdown",
   "id": "83dd5e27-0cc1-4cc4-b4ea-1ff89c551f6c",
   "metadata": {},
   "source": [
    "## Train Test Split"
   ]
  },
  {
   "cell_type": "code",
   "execution_count": 86,
   "id": "a8034fbf-f19a-4f97-b932-b9ac09b4d3c5",
   "metadata": {},
   "outputs": [],
   "source": [
    "df = breath_df2.copy()"
   ]
  },
  {
   "cell_type": "code",
   "execution_count": 87,
   "id": "46ac5d18-f6b5-43af-84a0-406f4796ed7c",
   "metadata": {},
   "outputs": [
    {
     "data": {
      "text/plain": [
       "array([ 0,  1,  2,  3,  4,  5,  6,  7,  8,  9, 10, 11, 12, 13, 14, 15, 16,\n",
       "       17, 18, 19, 20, 21, 22, 23, 24, 25, 26, 27, 28, 29, 30, 31, 32, 33,\n",
       "       34, 35, 36, 37, 38, 39, 40, 41, 42, 43, 44, 45, 46, 47, 48, 49, 50,\n",
       "       51, 52, 53, 54, 55, 56, 57, 58, 59, 60, 61, 62, 63, 64, 65, 66, 67,\n",
       "       68, 69, 70, 71, 72, 73, 74, 75, 76, 77, 78, 79, 80, 81, 82, 83, 84,\n",
       "       85, 86, 87, 88, 89, 90, 91, 92, 93, 94, 95, 96, 97, 98, 99])"
      ]
     },
     "execution_count": 87,
     "metadata": {},
     "output_type": "execute_result"
    }
   ],
   "source": [
    "df['Trace_num'].unique()"
   ]
  },
  {
   "cell_type": "code",
   "execution_count": 88,
   "id": "51c4fafe-4740-4e71-ab63-658f92492e01",
   "metadata": {},
   "outputs": [],
   "source": [
    "train = df[df['Trace_num']>=51]\n",
    "valid = df[(df['Trace_num']>=40) & (df['Trace_num']<51)]\n",
    "test = df[df['Trace_num']<40]"
   ]
  },
  {
   "cell_type": "code",
   "execution_count": 89,
   "id": "42878379-d022-4a29-9985-6a35400fa35f",
   "metadata": {},
   "outputs": [],
   "source": [
    "X_train = train['Trace']\n",
    "y_train = train['Next_pts']\n",
    "\n",
    "X_val = valid['Trace']\n",
    "y_val = valid['Next_pts']\n",
    "\n",
    "X_test = test['Trace']\n",
    "y_test = test['Next_pts']"
   ]
  },
  {
   "cell_type": "markdown",
   "id": "bf1793b5-76aa-4496-82b7-07156a2672fc",
   "metadata": {},
   "source": [
    "## Scale Data"
   ]
  },
  {
   "cell_type": "code",
   "execution_count": 90,
   "id": "9d4c315c-5f9d-47b7-b414-7a9ec4f0db01",
   "metadata": {},
   "outputs": [],
   "source": [
    "def normalize(x_train, x_val):\n",
    "    u = np.mean([item for sublist in x_train for item in sublist])\n",
    "    std = np.std([item for sublist in x_train for item in sublist])\n",
    "    \n",
    "    train = []\n",
    "    for row in x_train:\n",
    "        normalized_row = []\n",
    "        for x in row:\n",
    "            normalized_row.append((x-u)/std)\n",
    "        train.append(normalized_row)\n",
    "    \n",
    "    val = []\n",
    "    for row in x_val:\n",
    "        normalized_row = []\n",
    "        for x in row:\n",
    "            normalized_row.append((x-u)/std)\n",
    "        val.append(normalized_row)\n",
    "    \n",
    "    return train, val"
   ]
  },
  {
   "cell_type": "code",
   "execution_count": 91,
   "id": "d09322d0-201a-48ae-8dbd-53b12b483500",
   "metadata": {},
   "outputs": [],
   "source": [
    "x_train, x_val = normalize(X_train, X_val)"
   ]
  },
  {
   "cell_type": "code",
   "execution_count": 92,
   "id": "67b7604d-ac35-4f8a-a881-d6b9ef8ffd6c",
   "metadata": {},
   "outputs": [],
   "source": [
    "x_train, x_test = normalize(X_train, X_test)"
   ]
  },
  {
   "cell_type": "markdown",
   "id": "116155ac-9816-47bb-8a4a-18d167513f05",
   "metadata": {
    "tags": []
   },
   "source": [
    "## Reshape"
   ]
  },
  {
   "cell_type": "code",
   "execution_count": 93,
   "id": "ac48c7a0-3b43-415a-b003-637d247cfd7f",
   "metadata": {},
   "outputs": [],
   "source": [
    "def reshape_series(series):\n",
    "    series = np.transpose(series)\n",
    "    return series.reshape(series.shape[0],series.shape[1], 1)"
   ]
  },
  {
   "cell_type": "code",
   "execution_count": 94,
   "id": "661ddaf4-e45e-4c70-9a8d-49ddfbf22757",
   "metadata": {},
   "outputs": [],
   "source": [
    "x_train = reshape_series(x_train)\n",
    "x_val = reshape_series(x_val)\n",
    "x_test = reshape_series(x_test)"
   ]
  },
  {
   "cell_type": "code",
   "execution_count": 95,
   "id": "8c83d45f-dea2-464e-bddd-5796091fa8e7",
   "metadata": {},
   "outputs": [],
   "source": [
    "y_train2 = reshape_series(list(y_train))\n",
    "y_val2 = reshape_series(list(y_val))\n",
    "y_test2 = reshape_series(list(y_test))"
   ]
  },
  {
   "cell_type": "markdown",
   "id": "6a06bf26-c66b-4f69-ae74-e072edb841ee",
   "metadata": {},
   "source": [
    "## Initialize Data for Model"
   ]
  },
  {
   "cell_type": "code",
   "execution_count": 96,
   "id": "0ec43f79-bdd2-44fa-843b-fe6ad578a6d3",
   "metadata": {},
   "outputs": [],
   "source": [
    "#dataset\n",
    "from torch.utils.data import Dataset"
   ]
  },
  {
   "cell_type": "code",
   "execution_count": 97,
   "id": "ecec2786-4d95-4971-bcd1-c20f5ba836f2",
   "metadata": {},
   "outputs": [],
   "source": [
    "class timeseries(Dataset):\n",
    "    def __init__(self,x,y):\n",
    "        self.x = torch.tensor(x,dtype=torch.float32)\n",
    "        self.y = torch.tensor(y,dtype=torch.float32)\n",
    "        self.len = x.shape[0]\n",
    "\n",
    "    def __getitem__(self,idx):\n",
    "        return self.x[idx],self.y[idx]\n",
    "  \n",
    "    def __len__(self):\n",
    "        return self.len"
   ]
  },
  {
   "cell_type": "code",
   "execution_count": 98,
   "id": "69b78e30-f223-43dd-8a55-48ed3e952565",
   "metadata": {},
   "outputs": [],
   "source": [
    "dataset = timeseries(x_train,y_train2)\n",
    "test_dataset = timeseries(x_val,y_val2)"
   ]
  },
  {
   "cell_type": "code",
   "execution_count": 100,
   "id": "08e08a50-eaed-40bd-82d2-1010731e9c59",
   "metadata": {},
   "outputs": [],
   "source": [
    "final_test_dataset = timeseries(x_test,y_test2)"
   ]
  },
  {
   "cell_type": "code",
   "execution_count": 101,
   "id": "621608fa-5c06-45c2-8412-3ac10cba7321",
   "metadata": {},
   "outputs": [],
   "source": [
    "train_loader = DataLoader(dataset,shuffle=False,batch_size=200)\n",
    "test_loader = DataLoader(test_dataset,shuffle=False,batch_size=200)"
   ]
  },
  {
   "cell_type": "markdown",
   "id": "4c8eea69-d90b-41ca-984f-3241b61c1a7a",
   "metadata": {},
   "source": [
    "## Define LSTM Encoder and Decoder (Multistep Prediction)"
   ]
  },
  {
   "cell_type": "code",
   "execution_count": 102,
   "id": "236caad2-2e37-4552-acaf-a721296a3fd4",
   "metadata": {},
   "outputs": [],
   "source": [
    "# neural network\n",
    "from torch import nn\n",
    "\n",
    "class lstm_encoder(nn.Module):\n",
    "    ''' Encodes a time series sequence '''\n",
    "    \n",
    "    def __init__(self, input_size=1, hidden_size=5, num_layers=1):\n",
    "\n",
    "        super(lstm_encoder, self).__init__()\n",
    "        self.input_size = input_size # the number of features in the input X\n",
    "        self.hidden_size = hidden_size # the number of features in the hidden state h\n",
    "        self.num_layers = num_layers # number of recurrent layers \n",
    "        \n",
    "        # define an LSTM layer\n",
    "        self.lstm = nn.LSTM(input_size=input_size, hidden_size=hidden_size,\n",
    "                            num_layers=num_layers)\n",
    "        \n",
    "    def forward(self, x):\n",
    "        output, self.hidden = self.lstm(x.view(x.shape[0], x.shape[1], self.input_size))\n",
    "        \n",
    "        return output, self.hidden   # hidden gives the hidden state and cell state for the last element in the sequence \n",
    "                                     # give this to decoder\n",
    "    \n",
    "    def init_hidden(self, batch_size):\n",
    "        return (torch.zeros(self.num_layers, batch_size, self.hidden_size),\n",
    "                torch.zeros(self.num_layers, batch_size, self.hidden_size))\n",
    "    \n",
    "        "
   ]
  },
  {
   "cell_type": "code",
   "execution_count": 103,
   "id": "acc6082a-5b8e-4854-8b0a-6b924ca0e3e0",
   "metadata": {},
   "outputs": [],
   "source": [
    "class lstm_decoder(nn.Module):\n",
    "    ''' Decodes hidden state output by encoder '''\n",
    "    \n",
    "    def __init__(self, input_size=1, hidden_size=5, num_layers=1):\n",
    "\n",
    "        super(lstm_decoder, self).__init__()\n",
    "        self.input_size = input_size   # the number of features in the input X\n",
    "        self.hidden_size = hidden_size # the number of features in the hidden state h\n",
    "        self.num_layers = num_layers   # number of recurrent layers\n",
    "\n",
    "        # Define LSTM layer and Linear layer\n",
    "        self.lstm = nn.LSTM(input_size = input_size, hidden_size = hidden_size,\n",
    "                            num_layers = num_layers)\n",
    "        self.linear = nn.Linear(hidden_size, input_size)       \n",
    "    \n",
    "    \n",
    "    def forward(self, x, encoder_hidden_states):\n",
    "        output, self.hidden = self.lstm(x.unsqueeze(0), encoder_hidden_states)\n",
    "        output = self.linear(output.squeeze(0))     \n",
    "        \n",
    "        return output, self.hidden\n"
   ]
  },
  {
   "cell_type": "markdown",
   "id": "74de17f6-f045-4824-87a0-1d08b17159b1",
   "metadata": {},
   "source": [
    "## Define Model"
   ]
  },
  {
   "cell_type": "code",
   "execution_count": 104,
   "id": "d67156e9-70cf-44ed-81f1-6b4517065095",
   "metadata": {},
   "outputs": [],
   "source": [
    "class lstm_seq2seq(nn.Module):\n",
    "    ''' train LSTM encoder-decoder and make predictions '''\n",
    "    \n",
    "    def __init__(self, input_size=1, hidden_size=5):\n",
    "\n",
    "        super(lstm_seq2seq, self).__init__()\n",
    "\n",
    "        self.input_size = input_size   # number of expected features in the input X\n",
    "        self.hidden_size = hidden_size # number of features in the hidden state h\n",
    "        \n",
    "        # Encoder and decoder\n",
    "        self.encoder = lstm_encoder(input_size=input_size, hidden_size=hidden_size)\n",
    "        self.decoder = lstm_decoder(input_size=input_size, hidden_size=hidden_size)\n",
    "        \n",
    "    \n",
    "    def train_model(self, input_tensor, target_tensor, n_epochs, target_len,batch_size,learning_rate = 0.01):\n",
    "        losses = np.full(n_epochs, np.nan)\n",
    "\n",
    "        optimizer = optim.Adam(self.parameters(), lr = learning_rate)\n",
    "        criterion = nn.MSELoss()\n",
    "\n",
    "        # calculate number of batch iterations\n",
    "        n_batches = int(input_tensor.shape[1] / batch_size)\n",
    "\n",
    "        with trange(n_epochs) as tr:\n",
    "            for it in tr:\n",
    "                batch_loss = 0.\n",
    "  \n",
    "                for b in range(n_batches):\n",
    "                    # select data \n",
    "                    input_batch = input_tensor[:, b: b + batch_size, :]\n",
    "                    target_batch = target_tensor[:, b: b + batch_size, :]\n",
    "\n",
    "                    # outputs tensor\n",
    "                    outputs = torch.zeros(target_len, batch_size, input_batch.shape[2])\n",
    "\n",
    "                    # initialize hidden state\n",
    "                    encoder_hidden = self.encoder.init_hidden(batch_size)\n",
    "\n",
    "                    # zero the gradient\n",
    "                    optimizer.zero_grad()\n",
    "\n",
    "                    # encoder outputs\n",
    "                    encoder_output, encoder_hidden = self.encoder(input_batch)\n",
    "\n",
    "                    # decoder with teacher forcing\n",
    "                    decoder_input = input_batch[-1, :, :]   # shape: (batch_size, input_size)\n",
    "                    decoder_hidden = encoder_hidden\n",
    "\n",
    "                    for t in range(target_len): \n",
    "                        decoder_output, decoder_hidden = self.decoder(decoder_input, decoder_hidden)\n",
    "                        outputs[t] = decoder_output\n",
    "                        decoder_input = decoder_output\n",
    "\n",
    "                    # compute the loss \n",
    "                    loss = criterion(outputs, target_batch)\n",
    "                    batch_loss += loss.item()\n",
    "\n",
    "                    # backpropagation\n",
    "                    loss.backward()\n",
    "                    optimizer.step()\n",
    "\n",
    "                # loss for epoch \n",
    "                batch_loss /= n_batches \n",
    "                losses[it] = batch_loss\n",
    "\n",
    "                # progress bar \n",
    "                tr.set_postfix(loss=\"{0:.3f}\".format(batch_loss))\n",
    "\n",
    "        return losses\n",
    "\n",
    "        \n",
    "    def predict(self, input_tensor, target_len):\n",
    "        \n",
    "        # encode input_tensor\n",
    "        input_tensor = input_tensor.unsqueeze(1)     # add in batch size of 1\n",
    "        encoder_output, encoder_hidden = self.encoder(input_tensor)\n",
    "\n",
    "        # initialize tensor for predictions\n",
    "        outputs = torch.zeros(target_len, input_tensor.shape[2])\n",
    "\n",
    "        # decode input_tensor\n",
    "        decoder_input = input_tensor[-1, :, :]\n",
    "        decoder_hidden = encoder_hidden\n",
    "        \n",
    "        for t in range(target_len):\n",
    "            decoder_output, decoder_hidden = self.decoder(decoder_input, decoder_hidden)\n",
    "            outputs[t] = decoder_output.squeeze(0)\n",
    "            decoder_input = decoder_output\n",
    "            \n",
    "        np_outputs = outputs.detach().numpy()\n",
    "        \n",
    "        return np_outputs\n"
   ]
  },
  {
   "cell_type": "markdown",
   "id": "7c7f77fb-6753-44e7-b805-12d7e3deefe8",
   "metadata": {},
   "source": [
    "## Best Model"
   ]
  },
  {
   "cell_type": "code",
   "execution_count": 106,
   "id": "916afec0-c92b-4616-9f37-c8d3da3aa94e",
   "metadata": {},
   "outputs": [
    {
     "name": "stdout",
     "output_type": "stream",
     "text": [
      "Model Details - Hidden Size 5 \t Learning Rate: 0.001\n"
     ]
    },
    {
     "name": "stderr",
     "output_type": "stream",
     "text": [
      "100%|██████████| 15/15 [00:12<00:00,  1.21it/s, loss=0.622]\n"
     ]
    }
   ],
   "source": [
    "mymodel = lstm_seq2seq(input_size=1, hidden_size=5)\n",
    "print(f'Model Details - Hidden Size {5} \\t Learning Rate: {0.001}')\n",
    "train_loss = mymodel.train_model(dataset.x, dataset.y, n_epochs = 15, target_len = num_outputs, batch_size = 200, learning_rate = 0.001)\n",
    "modname = 'lstm_encode_decode_' + '50'\n",
    "torch.save(mymodel, modname)\n"
   ]
  },
  {
   "cell_type": "markdown",
   "id": "7de431e9-f36c-42a2-afb3-1ff48c642914",
   "metadata": {},
   "source": [
    "## Plots"
   ]
  },
  {
   "cell_type": "code",
   "execution_count": 107,
   "id": "fa79dc34-5915-4d72-a1a4-329352a15894",
   "metadata": {},
   "outputs": [],
   "source": [
    "mod = lstm_seq2seq(input_size=1, hidden_size=5)\n",
    "mod = torch.load('lstm_encode_decode_50')"
   ]
  },
  {
   "cell_type": "code",
   "execution_count": 108,
   "id": "e4abfeb5-25a7-4bcf-87a6-ecda8d556c58",
   "metadata": {},
   "outputs": [
    {
     "data": {
      "text/plain": [
       "lstm_seq2seq(\n",
       "  (encoder): lstm_encoder(\n",
       "    (lstm): LSTM(1, 5)\n",
       "  )\n",
       "  (decoder): lstm_decoder(\n",
       "    (lstm): LSTM(1, 5)\n",
       "    (linear): Linear(in_features=5, out_features=1, bias=True)\n",
       "  )\n",
       ")"
      ]
     },
     "execution_count": 108,
     "metadata": {},
     "output_type": "execute_result"
    }
   ],
   "source": [
    "mod"
   ]
  },
  {
   "cell_type": "code",
   "execution_count": 109,
   "id": "6e25d6a5-a189-43f1-bef8-1a3ef67551c8",
   "metadata": {},
   "outputs": [],
   "source": [
    "def plot_train_test_results(lstm_model, Xtrain, Ytrain, Xtest, Ytest, unscaled_xtrain, unscaled_xtest, num_rows = 4):\n",
    "\n",
    "    # input window size\n",
    "    iw = Xtrain.shape[0]\n",
    "    ow = Ytest.shape[0]\n",
    "\n",
    "    # figure setup \n",
    "    num_cols = 2\n",
    "    num_plots = num_rows * num_cols\n",
    "\n",
    "    fig, ax = plt.subplots(num_rows, num_cols, figsize = (10, 13))\n",
    "\n",
    "    # plot training/test predictionsabs\n",
    "    for ii in range(num_rows):\n",
    "        # train set\n",
    "        xt = reshape_series(list(unscaled_xtrain))\n",
    "        \n",
    "        jj = np.random.randint(0, len(Xtrain))\n",
    "        X_train_plt = Xtrain[:, jj, :]\n",
    "        Y_train_pred = lstm_model.predict(torch.from_numpy(X_train_plt).type(torch.Tensor), target_len = ow)\n",
    "\n",
    "        ax[ii, 0].plot(np.arange(0, iw), xt[:, jj, 0], 'k', linewidth = 2, label = 'Input')\n",
    "        ax[ii, 0].plot(np.arange(iw - 1, iw + ow), np.concatenate([[xt[-1, jj, 0]], Ytrain[:, jj, 0]]),\n",
    "                     color = (0.2, 0.42, 0.72), linewidth = 2, label = 'Target')\n",
    "        ax[ii, 0].plot(np.arange(iw - 1, iw + ow),  np.concatenate([[xt[-1, jj, 0]], Y_train_pred[:, 0]]),\n",
    "                     color = (0.76, 0.01, 0.01), linewidth = 2, label = 'Prediction')\n",
    "        ax[ii, 0].set_xlim([0, iw + ow - 1])\n",
    "        ax[ii, 0].set_xlabel('$t$')\n",
    "        ax[ii, 0].set_ylabel('$y$')\n",
    "\n",
    "        # test set\n",
    "        xt = reshape_series(list(unscaled_xtest))\n",
    "        X_test_plt = Xtest[:, jj, :]\n",
    "        Y_test_pred = lstm_model.predict(torch.from_numpy(X_test_plt).type(torch.Tensor), target_len = ow)\n",
    "        \n",
    "        ax[ii, 1].plot(np.arange(0, iw), xt[:, jj, 0], 'k', linewidth = 2, label = 'Input')\n",
    "        ax[ii, 1].plot(np.arange(iw - 1, iw + ow), np.concatenate([[xt[-1, jj, 0]], Ytest[:, jj, 0]]),\n",
    "                     color = (0.2, 0.42, 0.72), linewidth = 2, label = 'Target')\n",
    "        \n",
    "        ax[ii, 1].plot(np.arange(iw - 1, iw + ow), np.concatenate([[xt[-1, jj, 0]], Y_test_pred[:, 0]]),\n",
    "                      color = (0.76, 0.01, 0.01), linewidth = 2, label = 'Prediction')\n",
    "        ax[ii, 1].set_xlim([0, iw + ow - 1])\n",
    "        ax[ii, 1].set_xlabel('$t$')\n",
    "        ax[ii, 1].set_ylabel('$y$')\n",
    "        \n",
    "        # Labels\n",
    "        if ii == 0:\n",
    "            ax[ii, 0].set_title('Train')\n",
    "\n",
    "            ax[ii, 1].legend(bbox_to_anchor=(1, 1))\n",
    "            ax[ii, 1].set_title('Test')\n",
    "\n",
    "        plt.suptitle('LSTM Encoder-Decoder Prediction Examples', x = 0.445, y = 1.)\n",
    "        plt.tight_layout()\n",
    "        plt.subplots_adjust(top = 0.95)\n",
    "        \n",
    "        plt.savefig('prediction_examples4.png')\n",
    "\n",
    "\n",
    "    return "
   ]
  },
  {
   "cell_type": "code",
   "execution_count": 110,
   "id": "41fd9862-135f-4f04-853a-d1d9e4264f45",
   "metadata": {},
   "outputs": [
    {
     "data": {
      "image/png": "[encoded data removed]",
      "text/plain": [
       "<Figure size 720x936 with 12 Axes>"
      ]
     },
     "metadata": {
      "needs_background": "light"
     },
     "output_type": "display_data"
    }
   ],
   "source": [
    "plot_train_test_results(mod, x_train, y_train2, x_val, y_val2, X_train, X_val, 6)"
   ]
  },
  {
   "cell_type": "markdown",
   "id": "c949d130-1cde-437e-b233-db56783a4286",
   "metadata": {},
   "source": [
    "## Plots"
   ]
  },
  {
   "cell_type": "code",
   "execution_count": 111,
   "id": "bfb651cf-8461-4939-81c5-455f89a5da9e",
   "metadata": {},
   "outputs": [
    {
     "data": {
      "text/plain": [
       "torch.Size([100, 4644, 1])"
      ]
     },
     "execution_count": 111,
     "metadata": {},
     "output_type": "execute_result"
    }
   ],
   "source": [
    "final_test_dataset.x.shape"
   ]
  },
  {
   "cell_type": "code",
   "execution_count": 135,
   "id": "ac4dfdbc-964f-41ac-ae04-dbdfc994b842",
   "metadata": {},
   "outputs": [],
   "source": [
    "train_full_traces = train.groupby('Trace_num')['Next_pts'].apply(list)\n",
    "valid_full_traces = valid.groupby('Trace_num')['Next_pts'].apply(list)\n",
    "test_full_traces = test.groupby('Trace_num')['Next_pts'].apply(list)"
   ]
  },
  {
   "cell_type": "code",
   "execution_count": 136,
   "id": "a8f147a7-0310-4e10-ad9c-290232e3378f",
   "metadata": {},
   "outputs": [],
   "source": [
    "def gather_preds(mymodel, dataset):\n",
    "    preds = []\n",
    "    for i in range(dataset.x.shape[1]):\n",
    "        x_t = dataset.x[:, i, :]\n",
    "        Y_pred = mymodel.predict(x_t, target_len = num_outputs)\n",
    "        preds.append(Y_pred)\n",
    "    return preds"
   ]
  },
  {
   "cell_type": "code",
   "execution_count": 137,
   "id": "54c168d8-dbc6-4479-8849-a04f563b763c",
   "metadata": {},
   "outputs": [],
   "source": [
    "test_preds = gather_preds(mod, final_test_dataset)\n",
    "valid_preds = gather_preds(mod, test_dataset)\n",
    "train_preds = gather_preds(mod, dataset)"
   ]
  },
  {
   "cell_type": "code",
   "execution_count": 146,
   "id": "c6335a48-1d1c-47e8-986b-7a9fc6b0d0a3",
   "metadata": {},
   "outputs": [
    {
     "name": "stderr",
     "output_type": "stream",
     "text": [
      "<ipython-input-146-9221ef3f2022>:1: SettingWithCopyWarning: \n",
      "A value is trying to be set on a copy of a slice from a DataFrame.\n",
      "Try using .loc[row_indexer,col_indexer] = value instead\n",
      "\n",
      "See the caveats in the documentation: https://pandas.pydata.org/pandas-docs/stable/user_guide/indexing.html#returning-a-view-versus-a-copy\n",
      "  train['preds'] = train_preds\n",
      "<ipython-input-146-9221ef3f2022>:2: SettingWithCopyWarning: \n",
      "A value is trying to be set on a copy of a slice from a DataFrame.\n",
      "Try using .loc[row_indexer,col_indexer] = value instead\n",
      "\n",
      "See the caveats in the documentation: https://pandas.pydata.org/pandas-docs/stable/user_guide/indexing.html#returning-a-view-versus-a-copy\n",
      "  valid['preds'] = valid_preds\n",
      "<ipython-input-146-9221ef3f2022>:3: SettingWithCopyWarning: \n",
      "A value is trying to be set on a copy of a slice from a DataFrame.\n",
      "Try using .loc[row_indexer,col_indexer] = value instead\n",
      "\n",
      "See the caveats in the documentation: https://pandas.pydata.org/pandas-docs/stable/user_guide/indexing.html#returning-a-view-versus-a-copy\n",
      "  test['preds'] = test_preds\n"
     ]
    }
   ],
   "source": [
    "train['preds'] = train_preds\n",
    "valid['preds'] = valid_preds\n",
    "test['preds'] = test_preds"
   ]
  },
  {
   "cell_type": "code",
   "execution_count": 121,
   "id": "5f3a7a55-bacb-47f0-a418-852c8cbb0b13",
   "metadata": {},
   "outputs": [],
   "source": [
    "train.to_pickle(\"train_df_50.pkl\")  \n",
    "valid.to_pickle(\"valid_df_50.pkl\")  \n",
    "test.to_pickle(\"test_df_50.pkl\")  "
   ]
  },
  {
   "cell_type": "code",
   "execution_count": 156,
   "id": "2ce2a9cc-630e-4e92-9419-9f60ac34dce1",
   "metadata": {},
   "outputs": [
    {
     "data": {
      "text/html": [
       "<div>\n",
       "<style scoped>\n",
       "    .dataframe tbody tr th:only-of-type {\n",
       "        vertical-align: middle;\n",
       "    }\n",
       "\n",
       "    .dataframe tbody tr th {\n",
       "        vertical-align: top;\n",
       "    }\n",
       "\n",
       "    .dataframe thead th {\n",
       "        text-align: right;\n",
       "    }\n",
       "</style>\n",
       "<table border=\"1\" class=\"dataframe\">\n",
       "  <thead>\n",
       "    <tr style=\"text-align: right;\">\n",
       "      <th></th>\n",
       "      <th>Trace</th>\n",
       "      <th>Next_pts</th>\n",
       "      <th>Trace_num</th>\n",
       "      <th>preds</th>\n",
       "    </tr>\n",
       "  </thead>\n",
       "  <tbody>\n",
       "    <tr>\n",
       "      <th>6265</th>\n",
       "      <td>[0.0002, 0.0006, 0.001, 0.0017, 0.0025, 0.0037...</td>\n",
       "      <td>[0.7513, 0.7615, 0.7716, 0.7817, 0.7917, 0.801...</td>\n",
       "      <td>51</td>\n",
       "      <td>[[-0.15809974], [0.05758515], [0.31070963], [0...</td>\n",
       "    </tr>\n",
       "    <tr>\n",
       "      <th>6266</th>\n",
       "      <td>[0.2925, 0.3013, 0.3101, 0.319, 0.3279, 0.3369...</td>\n",
       "      <td>[1.2132, 1.2214, 1.2295, 1.2374, 1.2452, 1.252...</td>\n",
       "      <td>51</td>\n",
       "      <td>[[0.6427573], [0.89818597], [1.1180383], [1.28...</td>\n",
       "    </tr>\n",
       "    <tr>\n",
       "      <th>6267</th>\n",
       "      <td>[0.7513, 0.7615, 0.7716, 0.7817, 0.7917, 0.801...</td>\n",
       "      <td>[1.6083, 1.6162, 1.624, 1.6319, 1.6399, 1.6478...</td>\n",
       "      <td>51</td>\n",
       "      <td>[[1.2398167], [1.4341568], [1.5436797], [1.599...</td>\n",
       "    </tr>\n",
       "  </tbody>\n",
       "</table>\n",
       "</div>"
      ],
      "text/plain": [
       "                                                  Trace  \\\n",
       "6265  [0.0002, 0.0006, 0.001, 0.0017, 0.0025, 0.0037...   \n",
       "6266  [0.2925, 0.3013, 0.3101, 0.319, 0.3279, 0.3369...   \n",
       "6267  [0.7513, 0.7615, 0.7716, 0.7817, 0.7917, 0.801...   \n",
       "\n",
       "                                               Next_pts  Trace_num  \\\n",
       "6265  [0.7513, 0.7615, 0.7716, 0.7817, 0.7917, 0.801...         51   \n",
       "6266  [1.2132, 1.2214, 1.2295, 1.2374, 1.2452, 1.252...         51   \n",
       "6267  [1.6083, 1.6162, 1.624, 1.6319, 1.6399, 1.6478...         51   \n",
       "\n",
       "                                                  preds  \n",
       "6265  [[-0.15809974], [0.05758515], [0.31070963], [0...  \n",
       "6266  [[0.6427573], [0.89818597], [1.1180383], [1.28...  \n",
       "6267  [[1.2398167], [1.4341568], [1.5436797], [1.599...  "
      ]
     },
     "execution_count": 156,
     "metadata": {},
     "output_type": "execute_result"
    }
   ],
   "source": [
    "train.head(3)\n"
   ]
  },
  {
   "cell_type": "code",
   "execution_count": 160,
   "id": "e62c4f47-c6de-454c-a463-c75a2ce2703d",
   "metadata": {},
   "outputs": [
    {
     "data": {
      "text/plain": [
       "[<matplotlib.lines.Line2D at 0x7f6280287790>]"
      ]
     },
     "execution_count": 160,
     "metadata": {},
     "output_type": "execute_result"
    },
    {
     "data": {
      "image/png": "[encoded data removed]",
      "text/plain": [
       "<Figure size 432x288 with 1 Axes>"
      ]
     },
     "metadata": {
      "needs_background": "light"
     },
     "output_type": "display_data"
    }
   ],
   "source": [
    "plt.plot(train['Next_pts'][6269])\n",
    "plt.plot(train['preds'][6269])"
   ]
  },
  {
   "cell_type": "code",
   "execution_count": 161,
   "id": "efc75856-6ab3-49ee-bd69-00ecb6207e33",
   "metadata": {},
   "outputs": [],
   "source": [
    "train_full_traces = train.groupby('Trace_num')['Next_pts'].apply(list)\n",
    "valid_full_traces = valid.groupby('Trace_num')['Next_pts'].apply(list)\n",
    "test_full_traces = test.groupby('Trace_num')['Next_pts'].apply(list)"
   ]
  },
  {
   "cell_type": "code",
   "execution_count": 162,
   "id": "556d7c30-7ffe-4c18-a7df-7905577a6eec",
   "metadata": {},
   "outputs": [],
   "source": [
    "train_pred_trace = train.groupby('Trace_num')['preds'].apply(list)\n",
    "valid_pred_trace = valid.groupby('Trace_num')['preds'].apply(list)\n",
    "test_pred_trace = test.groupby('Trace_num')['preds'].apply(list)"
   ]
  },
  {
   "cell_type": "code",
   "execution_count": 165,
   "id": "43869717-62eb-4364-a474-3cefb75aa4db",
   "metadata": {},
   "outputs": [
    {
     "ename": "ValueError",
     "evalue": "x and y can be no greater than 2D, but have shapes (110,) and (110, 50, 1)",
     "output_type": "error",
     "traceback": [
      "\u001b[0;31m---------------------------------------------------------------------------\u001b[0m",
      "\u001b[0;31mValueError\u001b[0m                                Traceback (most recent call last)",
      "\u001b[0;32m<ipython-input-165-821a1c9a0cdf>\u001b[0m in \u001b[0;36m<module>\u001b[0;34m\u001b[0m\n\u001b[1;32m      4\u001b[0m         \u001b[0midx\u001b[0m \u001b[0;34m=\u001b[0m \u001b[0mnp\u001b[0m\u001b[0;34m.\u001b[0m\u001b[0mrandom\u001b[0m\u001b[0;34m.\u001b[0m\u001b[0mchoice\u001b[0m\u001b[0;34m(\u001b[0m\u001b[0mtest_full_traces\u001b[0m\u001b[0;34m.\u001b[0m\u001b[0mindex\u001b[0m\u001b[0;34m)\u001b[0m\u001b[0;34m\u001b[0m\u001b[0;34m\u001b[0m\u001b[0m\n\u001b[1;32m      5\u001b[0m         \u001b[0maxs\u001b[0m\u001b[0;34m[\u001b[0m\u001b[0mi\u001b[0m\u001b[0;34m,\u001b[0m\u001b[0mj\u001b[0m\u001b[0;34m]\u001b[0m\u001b[0;34m.\u001b[0m\u001b[0mplot\u001b[0m\u001b[0;34m(\u001b[0m\u001b[0mtest_full_traces\u001b[0m\u001b[0;34m[\u001b[0m\u001b[0midx\u001b[0m\u001b[0;34m]\u001b[0m\u001b[0;34m,\u001b[0m \u001b[0;34m'lightblue'\u001b[0m\u001b[0;34m)\u001b[0m\u001b[0;34m\u001b[0m\u001b[0;34m\u001b[0m\u001b[0m\n\u001b[0;32m----> 6\u001b[0;31m         \u001b[0maxs\u001b[0m\u001b[0;34m[\u001b[0m\u001b[0mi\u001b[0m\u001b[0;34m,\u001b[0m\u001b[0mj\u001b[0m\u001b[0;34m]\u001b[0m\u001b[0;34m.\u001b[0m\u001b[0mplot\u001b[0m\u001b[0;34m(\u001b[0m\u001b[0mtest_pred_trace\u001b[0m\u001b[0;34m[\u001b[0m\u001b[0midx\u001b[0m\u001b[0;34m]\u001b[0m\u001b[0;34m,\u001b[0m \u001b[0;34m'hotpink'\u001b[0m\u001b[0;34m,\u001b[0m\u001b[0mlinestyle\u001b[0m\u001b[0;34m=\u001b[0m\u001b[0;34m'--'\u001b[0m\u001b[0;34m)\u001b[0m\u001b[0;34m\u001b[0m\u001b[0;34m\u001b[0m\u001b[0m\n\u001b[0m\u001b[1;32m      7\u001b[0m \u001b[0mplt\u001b[0m\u001b[0;34m.\u001b[0m\u001b[0mshow\u001b[0m\u001b[0;34m(\u001b[0m\u001b[0;34m)\u001b[0m\u001b[0;34m\u001b[0m\u001b[0;34m\u001b[0m\u001b[0m\n",
      "\u001b[0;32m/opt/anaconda3/lib/python3.9/site-packages/matplotlib/axes/_axes.py\u001b[0m in \u001b[0;36mplot\u001b[0;34m(self, scalex, scaley, data, *args, **kwargs)\u001b[0m\n\u001b[1;32m   1630\u001b[0m         \"\"\"\n\u001b[1;32m   1631\u001b[0m         \u001b[0mkwargs\u001b[0m \u001b[0;34m=\u001b[0m \u001b[0mcbook\u001b[0m\u001b[0;34m.\u001b[0m\u001b[0mnormalize_kwargs\u001b[0m\u001b[0;34m(\u001b[0m\u001b[0mkwargs\u001b[0m\u001b[0;34m,\u001b[0m \u001b[0mmlines\u001b[0m\u001b[0;34m.\u001b[0m\u001b[0mLine2D\u001b[0m\u001b[0;34m)\u001b[0m\u001b[0;34m\u001b[0m\u001b[0;34m\u001b[0m\u001b[0m\n\u001b[0;32m-> 1632\u001b[0;31m         \u001b[0mlines\u001b[0m \u001b[0;34m=\u001b[0m \u001b[0;34m[\u001b[0m\u001b[0;34m*\u001b[0m\u001b[0mself\u001b[0m\u001b[0;34m.\u001b[0m\u001b[0m_get_lines\u001b[0m\u001b[0;34m(\u001b[0m\u001b[0;34m*\u001b[0m\u001b[0margs\u001b[0m\u001b[0;34m,\u001b[0m \u001b[0mdata\u001b[0m\u001b[0;34m=\u001b[0m\u001b[0mdata\u001b[0m\u001b[0;34m,\u001b[0m \u001b[0;34m**\u001b[0m\u001b[0mkwargs\u001b[0m\u001b[0;34m)\u001b[0m\u001b[0;34m]\u001b[0m\u001b[0;34m\u001b[0m\u001b[0;34m\u001b[0m\u001b[0m\n\u001b[0m\u001b[1;32m   1633\u001b[0m         \u001b[0;32mfor\u001b[0m \u001b[0mline\u001b[0m \u001b[0;32min\u001b[0m \u001b[0mlines\u001b[0m\u001b[0;34m:\u001b[0m\u001b[0;34m\u001b[0m\u001b[0;34m\u001b[0m\u001b[0m\n\u001b[1;32m   1634\u001b[0m             \u001b[0mself\u001b[0m\u001b[0;34m.\u001b[0m\u001b[0madd_line\u001b[0m\u001b[0;34m(\u001b[0m\u001b[0mline\u001b[0m\u001b[0;34m)\u001b[0m\u001b[0;34m\u001b[0m\u001b[0;34m\u001b[0m\u001b[0m\n",
      "\u001b[0;32m/opt/anaconda3/lib/python3.9/site-packages/matplotlib/axes/_base.py\u001b[0m in \u001b[0;36m__call__\u001b[0;34m(self, data, *args, **kwargs)\u001b[0m\n\u001b[1;32m    310\u001b[0m                 \u001b[0mthis\u001b[0m \u001b[0;34m+=\u001b[0m \u001b[0margs\u001b[0m\u001b[0;34m[\u001b[0m\u001b[0;36m0\u001b[0m\u001b[0;34m]\u001b[0m\u001b[0;34m,\u001b[0m\u001b[0;34m\u001b[0m\u001b[0;34m\u001b[0m\u001b[0m\n\u001b[1;32m    311\u001b[0m                 \u001b[0margs\u001b[0m \u001b[0;34m=\u001b[0m \u001b[0margs\u001b[0m\u001b[0;34m[\u001b[0m\u001b[0;36m1\u001b[0m\u001b[0;34m:\u001b[0m\u001b[0;34m]\u001b[0m\u001b[0;34m\u001b[0m\u001b[0;34m\u001b[0m\u001b[0m\n\u001b[0;32m--> 312\u001b[0;31m             \u001b[0;32myield\u001b[0m \u001b[0;32mfrom\u001b[0m \u001b[0mself\u001b[0m\u001b[0;34m.\u001b[0m\u001b[0m_plot_args\u001b[0m\u001b[0;34m(\u001b[0m\u001b[0mthis\u001b[0m\u001b[0;34m,\u001b[0m \u001b[0mkwargs\u001b[0m\u001b[0;34m)\u001b[0m\u001b[0;34m\u001b[0m\u001b[0;34m\u001b[0m\u001b[0m\n\u001b[0m\u001b[1;32m    313\u001b[0m \u001b[0;34m\u001b[0m\u001b[0m\n\u001b[1;32m    314\u001b[0m     \u001b[0;32mdef\u001b[0m \u001b[0mget_next_color\u001b[0m\u001b[0;34m(\u001b[0m\u001b[0mself\u001b[0m\u001b[0;34m)\u001b[0m\u001b[0;34m:\u001b[0m\u001b[0;34m\u001b[0m\u001b[0;34m\u001b[0m\u001b[0m\n",
      "\u001b[0;32m/opt/anaconda3/lib/python3.9/site-packages/matplotlib/axes/_base.py\u001b[0m in \u001b[0;36m_plot_args\u001b[0;34m(self, tup, kwargs, return_kwargs)\u001b[0m\n\u001b[1;32m    499\u001b[0m                              f\"have shapes {x.shape} and {y.shape}\")\n\u001b[1;32m    500\u001b[0m         \u001b[0;32mif\u001b[0m \u001b[0mx\u001b[0m\u001b[0;34m.\u001b[0m\u001b[0mndim\u001b[0m \u001b[0;34m>\u001b[0m \u001b[0;36m2\u001b[0m \u001b[0;32mor\u001b[0m \u001b[0my\u001b[0m\u001b[0;34m.\u001b[0m\u001b[0mndim\u001b[0m \u001b[0;34m>\u001b[0m \u001b[0;36m2\u001b[0m\u001b[0;34m:\u001b[0m\u001b[0;34m\u001b[0m\u001b[0;34m\u001b[0m\u001b[0m\n\u001b[0;32m--> 501\u001b[0;31m             raise ValueError(f\"x and y can be no greater than 2D, but have \"\n\u001b[0m\u001b[1;32m    502\u001b[0m                              f\"shapes {x.shape} and {y.shape}\")\n\u001b[1;32m    503\u001b[0m         \u001b[0;32mif\u001b[0m \u001b[0mx\u001b[0m\u001b[0;34m.\u001b[0m\u001b[0mndim\u001b[0m \u001b[0;34m==\u001b[0m \u001b[0;36m1\u001b[0m\u001b[0;34m:\u001b[0m\u001b[0;34m\u001b[0m\u001b[0;34m\u001b[0m\u001b[0m\n",
      "\u001b[0;31mValueError\u001b[0m: x and y can be no greater than 2D, but have shapes (110,) and (110, 50, 1)"
     ]
    },
    {
     "data": {
      "image/png": "[encoded data removed]",
      "text/plain": [
       "<Figure size 1080x1080 with 16 Axes>"
      ]
     },
     "metadata": {
      "needs_background": "light"
     },
     "output_type": "display_data"
    }
   ],
   "source": [
    "fig, axs = plt.subplots(4,4,figsize=(15,15))\n",
    "for i in range(4):\n",
    "    for j in range(4):\n",
    "        idx = np.random.choice(test_full_traces.index)\n",
    "        axs[i,j].plot(test_full_traces[idx], 'lightblue')\n",
    "        axs[i,j].plot(test_pred_trace[idx], 'hotpink',linestyle='--')\n",
    "plt.show()"
   ]
  },
  {
   "cell_type": "code",
   "execution_count": null,
   "id": "5566d76e-f285-41ee-a214-c278264776f8",
   "metadata": {},
   "outputs": [],
   "source": []
  }
 ],
 "metadata": {
  "kernelspec": {
   "display_name": "Python 3 (ipykernel)",
   "language": "python",
   "name": "python3"
  },
  "language_info": {
   "codemirror_mode": {
    "name": "ipython",
    "version": 3
   },
   "file_extension": ".py",
   "mimetype": "text/x-python",
   "name": "python",
   "nbconvert_exporter": "python",
   "pygments_lexer": "ipython3",
   "version": "3.9.5"
  }
 },
 "nbformat": 4,
 "nbformat_minor": 5
}
