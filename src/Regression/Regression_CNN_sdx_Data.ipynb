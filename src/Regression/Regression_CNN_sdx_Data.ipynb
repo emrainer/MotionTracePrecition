{
 "cells": [
  {
   "cell_type": "code",
   "execution_count": 1,
   "id": "4a91a5dc-309c-476e-b5d7-51aa3971f329",
   "metadata": {},
   "outputs": [],
   "source": [
    "import os\n",
    "import pandas as pd\n",
    "import numpy as np\n",
    "import matplotlib.pyplot as plt     \n",
    "import re\n",
    "# File Loading\n",
    "from trace_file_loader import get_breath_df\n",
    "from lossplots import plot_loss\n",
    "# SkLearn Packages\n",
    "from sklearn.preprocessing import StandardScaler\n",
    "from sklearn.model_selection import train_test_split\n",
    "from sklearn.metrics import mean_squared_error\n",
    "from sklearn.metrics import mean_absolute_error\n",
    "# Torch Packages\n",
    "import torch\n",
    "import torch.nn as nn\n",
    "import torch.nn.functional as F\n",
    "from torch import nn\n",
    "from torch.utils.data import Dataset, DataLoader\n",
    "from torch.nn.utils.rnn import pack_padded_sequence, pad_packed_sequence \n",
    "from torch.autograd import Variable\n",
    "# Warnings\n",
    "import warnings\n",
    "warnings.filterwarnings('ignore')"
   ]
  },
  {
   "cell_type": "markdown",
   "id": "2f2ae59a",
   "metadata": {},
   "source": [
    "# Load and Clean Data\n",
    "\n",
    "CNNs assume a fixed input size so we need to assume a fixed size and truncate or pad the sentences as needed."
   ]
  },
  {
   "cell_type": "code",
   "execution_count": 2,
   "id": "a6c8d98e-a991-4350-a15a-2eab4127d34b",
   "metadata": {},
   "outputs": [],
   "source": [
    "# breath_df = get_breath_df('data_sdx_',full_trace=True)\n",
    "# breath_df.to_pickle('breath_pickle_full_trace')"
   ]
  },
  {
   "cell_type": "code",
   "execution_count": 3,
   "id": "2b4ccb03",
   "metadata": {},
   "outputs": [
    {
     "data": {
      "text/html": [
       "<div>\n",
       "<style scoped>\n",
       "    .dataframe tbody tr th:only-of-type {\n",
       "        vertical-align: middle;\n",
       "    }\n",
       "\n",
       "    .dataframe tbody tr th {\n",
       "        vertical-align: top;\n",
       "    }\n",
       "\n",
       "    .dataframe thead th {\n",
       "        text-align: right;\n",
       "    }\n",
       "</style>\n",
       "<table border=\"1\" class=\"dataframe\">\n",
       "  <thead>\n",
       "    <tr style=\"text-align: right;\">\n",
       "      <th></th>\n",
       "      <th>Trace</th>\n",
       "      <th>Csv_breath_holds</th>\n",
       "      <th>Data_breath_holds</th>\n",
       "      <th>Full_trace</th>\n",
       "      <th>breathhold_idx</th>\n",
       "      <th>bh_start_end</th>\n",
       "    </tr>\n",
       "  </thead>\n",
       "  <tbody>\n",
       "    <tr>\n",
       "      <th>0</th>\n",
       "      <td>[0.0003, 0.0006, 0.001, 0.0014, 0.0019, 0.0023...</td>\n",
       "      <td>31.29</td>\n",
       "      <td>31.69</td>\n",
       "      <td>[0.0003, 0.0006, 0.001, 0.0014, 0.0019, 0.0023...</td>\n",
       "      <td>[2661, 2662, 2663, 2664, 2665, 2666, 2667, 266...</td>\n",
       "      <td>(2661, 5829)</td>\n",
       "    </tr>\n",
       "    <tr>\n",
       "      <th>1</th>\n",
       "      <td>[0.0006, 0.0009, 0.0013, 0.0017, 0.0022, 0.002...</td>\n",
       "      <td>30.61</td>\n",
       "      <td>31.40</td>\n",
       "      <td>[0.0006, 0.0009, 0.0013, 0.0017, 0.0022, 0.002...</td>\n",
       "      <td>[2386, 2387, 2388, 2389, 2390, 2391, 2392, 239...</td>\n",
       "      <td>(2386, 5525)</td>\n",
       "    </tr>\n",
       "  </tbody>\n",
       "</table>\n",
       "</div>"
      ],
      "text/plain": [
       "                                               Trace  Csv_breath_holds  \\\n",
       "0  [0.0003, 0.0006, 0.001, 0.0014, 0.0019, 0.0023...             31.29   \n",
       "1  [0.0006, 0.0009, 0.0013, 0.0017, 0.0022, 0.002...             30.61   \n",
       "\n",
       "   Data_breath_holds                                         Full_trace  \\\n",
       "0              31.69  [0.0003, 0.0006, 0.001, 0.0014, 0.0019, 0.0023...   \n",
       "1              31.40  [0.0006, 0.0009, 0.0013, 0.0017, 0.0022, 0.002...   \n",
       "\n",
       "                                      breathhold_idx  bh_start_end  \n",
       "0  [2661, 2662, 2663, 2664, 2665, 2666, 2667, 266...  (2661, 5829)  \n",
       "1  [2386, 2387, 2388, 2389, 2390, 2391, 2392, 239...  (2386, 5525)  "
      ]
     },
     "execution_count": 3,
     "metadata": {},
     "output_type": "execute_result"
    }
   ],
   "source": [
    "breath_df = pd.read_pickle('breath_pickle_full_trace')\n",
    "breath_df.head(2)"
   ]
  },
  {
   "cell_type": "code",
   "execution_count": 4,
   "id": "21d0ea60",
   "metadata": {},
   "outputs": [],
   "source": [
    "under2 = breath_df[abs(breath_df['Csv_breath_holds']-breath_df['Data_breath_holds'])<=2]"
   ]
  },
  {
   "cell_type": "code",
   "execution_count": 5,
   "id": "f0513342",
   "metadata": {},
   "outputs": [],
   "source": [
    "median_bh = under2['Data_breath_holds'].median()\n",
    "under2['class'] = np.where(under2['Data_breath_holds'] < median_bh, 0, 1) # create encoded column: short (0), long (1)"
   ]
  },
  {
   "cell_type": "code",
   "execution_count": 6,
   "id": "d6edf60f",
   "metadata": {},
   "outputs": [],
   "source": [
    "q25 = under2['Data_breath_holds'].quantile(.25)\n",
    "q75 = under2['Data_breath_holds'].quantile(.75)"
   ]
  },
  {
   "cell_type": "code",
   "execution_count": 7,
   "id": "a6f899f0",
   "metadata": {},
   "outputs": [],
   "source": [
    "under2 = under2[(under2['Data_breath_holds'] < q25) | (under2['Data_breath_holds'] > q75)] # only consider breathholds in upper and lower quartiles"
   ]
  },
  {
   "cell_type": "code",
   "execution_count": 8,
   "id": "6ca9cbd9",
   "metadata": {},
   "outputs": [],
   "source": [
    "under2['class'] = np.where(under2['Data_breath_holds'] < q25, 0, 1) # create encoded column: short (0), long (1)"
   ]
  },
  {
   "cell_type": "code",
   "execution_count": 9,
   "id": "f898d997",
   "metadata": {},
   "outputs": [
    {
     "data": {
      "text/html": [
       "<div>\n",
       "<style scoped>\n",
       "    .dataframe tbody tr th:only-of-type {\n",
       "        vertical-align: middle;\n",
       "    }\n",
       "\n",
       "    .dataframe tbody tr th {\n",
       "        vertical-align: top;\n",
       "    }\n",
       "\n",
       "    .dataframe thead th {\n",
       "        text-align: right;\n",
       "    }\n",
       "</style>\n",
       "<table border=\"1\" class=\"dataframe\">\n",
       "  <thead>\n",
       "    <tr style=\"text-align: right;\">\n",
       "      <th></th>\n",
       "      <th>Trace</th>\n",
       "      <th>Csv_breath_holds</th>\n",
       "      <th>Data_breath_holds</th>\n",
       "      <th>Full_trace</th>\n",
       "      <th>breathhold_idx</th>\n",
       "      <th>bh_start_end</th>\n",
       "      <th>class</th>\n",
       "    </tr>\n",
       "  </thead>\n",
       "  <tbody>\n",
       "    <tr>\n",
       "      <th>9</th>\n",
       "      <td>[0.0008, 0.0018, 0.0021, 0.0024, 0.0028, 0.003...</td>\n",
       "      <td>25.44</td>\n",
       "      <td>25.05</td>\n",
       "      <td>[0.0008, 0.0018, 0.0021, 0.0024, 0.0028, 0.003...</td>\n",
       "      <td>[2205, 2206, 2207, 2208, 2209, 2210, 2211, 221...</td>\n",
       "      <td>(2205, 4709)</td>\n",
       "      <td>0</td>\n",
       "    </tr>\n",
       "    <tr>\n",
       "      <th>13</th>\n",
       "      <td>[0.0004, 0.0011, 0.002, 0.0032, 0.0045, 0.006,...</td>\n",
       "      <td>24.41</td>\n",
       "      <td>24.44</td>\n",
       "      <td>[0.0004, 0.0011, 0.002, 0.0032, 0.0045, 0.006,...</td>\n",
       "      <td>[2095, 2096, 2097, 2098, 2099, 2100, 2101, 210...</td>\n",
       "      <td>(2095, 4538)</td>\n",
       "      <td>0</td>\n",
       "    </tr>\n",
       "    <tr>\n",
       "      <th>14</th>\n",
       "      <td>[0.0002, 0.0006, 0.001, 0.0015, 0.002, 0.0026,...</td>\n",
       "      <td>26.02</td>\n",
       "      <td>25.66</td>\n",
       "      <td>[0.0002, 0.0006, 0.001, 0.0015, 0.002, 0.0026,...</td>\n",
       "      <td>[2069, 2070, 2071, 2072, 2073, 2074, 2075, 207...</td>\n",
       "      <td>(2069, 4634)</td>\n",
       "      <td>0</td>\n",
       "    </tr>\n",
       "    <tr>\n",
       "      <th>15</th>\n",
       "      <td>[0.0002, 0.0007, 0.0015, 0.0026, 0.004, 0.0057...</td>\n",
       "      <td>26.43</td>\n",
       "      <td>25.11</td>\n",
       "      <td>[0.0002, 0.0007, 0.0015, 0.0026, 0.004, 0.0057...</td>\n",
       "      <td>[2070, 2071, 2072, 2073, 2074, 2075, 2076, 207...</td>\n",
       "      <td>(2070, 4580)</td>\n",
       "      <td>0</td>\n",
       "    </tr>\n",
       "    <tr>\n",
       "      <th>16</th>\n",
       "      <td>[0.0016, 0.0021, 0.0028, 0.0037, 0.0047, 0.005...</td>\n",
       "      <td>25.27</td>\n",
       "      <td>25.06</td>\n",
       "      <td>[0.0016, 0.0021, 0.0028, 0.0037, 0.0047, 0.005...</td>\n",
       "      <td>[2171, 2172, 2173, 2174, 2175, 2176, 2177, 217...</td>\n",
       "      <td>(2171, 4676)</td>\n",
       "      <td>0</td>\n",
       "    </tr>\n",
       "  </tbody>\n",
       "</table>\n",
       "</div>"
      ],
      "text/plain": [
       "                                                Trace  Csv_breath_holds  \\\n",
       "9   [0.0008, 0.0018, 0.0021, 0.0024, 0.0028, 0.003...             25.44   \n",
       "13  [0.0004, 0.0011, 0.002, 0.0032, 0.0045, 0.006,...             24.41   \n",
       "14  [0.0002, 0.0006, 0.001, 0.0015, 0.002, 0.0026,...             26.02   \n",
       "15  [0.0002, 0.0007, 0.0015, 0.0026, 0.004, 0.0057...             26.43   \n",
       "16  [0.0016, 0.0021, 0.0028, 0.0037, 0.0047, 0.005...             25.27   \n",
       "\n",
       "    Data_breath_holds                                         Full_trace  \\\n",
       "9               25.05  [0.0008, 0.0018, 0.0021, 0.0024, 0.0028, 0.003...   \n",
       "13              24.44  [0.0004, 0.0011, 0.002, 0.0032, 0.0045, 0.006,...   \n",
       "14              25.66  [0.0002, 0.0006, 0.001, 0.0015, 0.002, 0.0026,...   \n",
       "15              25.11  [0.0002, 0.0007, 0.0015, 0.0026, 0.004, 0.0057...   \n",
       "16              25.06  [0.0016, 0.0021, 0.0028, 0.0037, 0.0047, 0.005...   \n",
       "\n",
       "                                       breathhold_idx  bh_start_end  class  \n",
       "9   [2205, 2206, 2207, 2208, 2209, 2210, 2211, 221...  (2205, 4709)      0  \n",
       "13  [2095, 2096, 2097, 2098, 2099, 2100, 2101, 210...  (2095, 4538)      0  \n",
       "14  [2069, 2070, 2071, 2072, 2073, 2074, 2075, 207...  (2069, 4634)      0  \n",
       "15  [2070, 2071, 2072, 2073, 2074, 2075, 2076, 207...  (2070, 4580)      0  \n",
       "16  [2171, 2172, 2173, 2174, 2175, 2176, 2177, 217...  (2171, 4676)      0  "
      ]
     },
     "execution_count": 9,
     "metadata": {},
     "output_type": "execute_result"
    }
   ],
   "source": [
    "under2.head()"
   ]
  },
  {
   "cell_type": "markdown",
   "id": "cd814487",
   "metadata": {},
   "source": [
    "# Split and Normalize Data"
   ]
  },
  {
   "cell_type": "code",
   "execution_count": 10,
   "id": "85d452e1",
   "metadata": {},
   "outputs": [],
   "source": [
    "df = under2"
   ]
  },
  {
   "cell_type": "code",
   "execution_count": 11,
   "id": "4c0af501",
   "metadata": {},
   "outputs": [],
   "source": [
    "x_train, x_test, y_train, y_test = train_test_split(df['Trace'], df['Data_breath_holds'], test_size=0.70)"
   ]
  },
  {
   "cell_type": "code",
   "execution_count": 12,
   "id": "c62686f0",
   "metadata": {},
   "outputs": [],
   "source": [
    "x_train, x_val, y_train, y_val = train_test_split(x_train, y_train, test_size=0.4, random_state=1)"
   ]
  },
  {
   "cell_type": "code",
   "execution_count": 13,
   "id": "3c91c61b",
   "metadata": {},
   "outputs": [],
   "source": [
    "def normalize(x_train, x_val):\n",
    "    u = np.mean([item for sublist in x_train for item in sublist])\n",
    "    std = np.std([item for sublist in x_train for item in sublist])\n",
    "    \n",
    "    train = []\n",
    "    for row in x_train:\n",
    "        normalized_row = []\n",
    "        for x in row:\n",
    "            normalized_row.append((x-u)/std)\n",
    "        train.append(normalized_row)\n",
    "    \n",
    "    val = []\n",
    "    for row in x_val:\n",
    "        normalized_row = []\n",
    "        for x in row:\n",
    "            normalized_row.append((x-u)/std)\n",
    "        val.append(normalized_row)\n",
    "    \n",
    "    return train, val"
   ]
  },
  {
   "cell_type": "code",
   "execution_count": 14,
   "id": "3ab3e9c2-5bbd-4745-a039-2ba36129c355",
   "metadata": {},
   "outputs": [],
   "source": [
    "x_train2, x_val2 = normalize(x_train, x_val)\n",
    "x_train2, x_test2 = normalize(x_train, x_test)"
   ]
  },
  {
   "cell_type": "code",
   "execution_count": 15,
   "id": "952f27da-3882-42af-a5c3-571aab3280fb",
   "metadata": {},
   "outputs": [
    {
     "data": {
      "image/png": "[encoded data removed]",
      "text/plain": [
       "<Figure size 432x288 with 1 Axes>"
      ]
     },
     "metadata": {
      "needs_background": "light"
     },
     "output_type": "display_data"
    },
    {
     "data": {
      "image/png": "[encoded data removed]",
      "text/plain": [
       "<Figure size 432x288 with 1 Axes>"
      ]
     },
     "metadata": {
      "needs_background": "light"
     },
     "output_type": "display_data"
    },
    {
     "data": {
      "image/png": "[encoded data removed]",
      "text/plain": [
       "<Figure size 432x288 with 1 Axes>"
      ]
     },
     "metadata": {
      "needs_background": "light"
     },
     "output_type": "display_data"
    },
    {
     "data": {
      "image/png": "[encoded data removed]",
      "text/plain": [
       "<Figure size 432x288 with 1 Axes>"
      ]
     },
     "metadata": {
      "needs_background": "light"
     },
     "output_type": "display_data"
    },
    {
     "data": {
      "image/png": "[encoded data removed]",
      "text/plain": [
       "<Figure size 432x288 with 1 Axes>"
      ]
     },
     "metadata": {
      "needs_background": "light"
     },
     "output_type": "display_data"
    }
   ],
   "source": [
    "for i in range(5):\n",
    "    j = np.random.randint(len(x_train2))\n",
    "    plt.plot(x_train2[j])\n",
    "    plt.show()"
   ]
  },
  {
   "cell_type": "markdown",
   "id": "af8e124f-d781-4ae1-828e-4cd4496a27a3",
   "metadata": {},
   "source": [
    "## Equalize Lengths"
   ]
  },
  {
   "cell_type": "code",
   "execution_count": 16,
   "id": "95c16f9a-25b6-4c15-bf9f-2cc1208b268c",
   "metadata": {},
   "outputs": [],
   "source": [
    "y_train = np.array(y_train)\n",
    "y_val = np.array(y_val)\n",
    "y_test = np.array(y_test)"
   ]
  },
  {
   "cell_type": "code",
   "execution_count": 17,
   "id": "b9787b79-00d4-4c8a-8552-bedcc87dde7f",
   "metadata": {},
   "outputs": [],
   "source": [
    "def equalize_lengths(df, trim_len):\n",
    "    equal_traces = []\n",
    "    for i in range(len(df)):\n",
    "        curve = df[i]\n",
    "        if len(curve) > trim_len:\n",
    "            start_idx = len(curve)-trim_len\n",
    "            equal_traces.append(curve[start_idx:])\n",
    "        elif len(curve) < trim_len:\n",
    "            num_zeros = trim_len - len(curve)\n",
    "            \n",
    "            random_nums = (np.random.random_sample(num_zeros)-0.5)\n",
    "            box_pts = 100\n",
    "            box = np.ones(box_pts)/box_pts\n",
    "            random_nums = np.convolve(random_nums, box, mode = 'same')\n",
    "            random_nums = random_nums[:num_zeros]\n",
    "            #zeros = np.zeros([1, num_zeros])[0]\n",
    "            equal_traces.append(np.concatenate((random_nums, curve)))\n",
    "        else:\n",
    "            equal_traces.append(curve)\n",
    " \n",
    "    return np.array(equal_traces)"
   ]
  },
  {
   "cell_type": "code",
   "execution_count": 18,
   "id": "f670b74a-f7d0-4bd7-b38c-4c8e3e45c562",
   "metadata": {},
   "outputs": [],
   "source": [
    "x_train3 = equalize_lengths(x_train2, 10000)\n",
    "x_val3 = equalize_lengths(x_val2, 10000)\n",
    "x_test3 = equalize_lengths(x_test2, 10000)"
   ]
  },
  {
   "cell_type": "code",
   "execution_count": 19,
   "id": "5fee0d5d-7cee-4a82-b7ba-627a1578d5ce",
   "metadata": {},
   "outputs": [
    {
     "data": {
      "image/png": "[encoded data removed]",
      "text/plain": [
       "<Figure size 432x288 with 1 Axes>"
      ]
     },
     "metadata": {
      "needs_background": "light"
     },
     "output_type": "display_data"
    },
    {
     "data": {
      "image/png": "[encoded data removed]",
      "text/plain": [
       "<Figure size 432x288 with 1 Axes>"
      ]
     },
     "metadata": {
      "needs_background": "light"
     },
     "output_type": "display_data"
    },
    {
     "data": {
      "image/png": "[encoded data removed]",
      "text/plain": [
       "<Figure size 432x288 with 1 Axes>"
      ]
     },
     "metadata": {
      "needs_background": "light"
     },
     "output_type": "display_data"
    },
    {
     "data": {
      "image/png": "[encoded data removed]",
      "text/plain": [
       "<Figure size 432x288 with 1 Axes>"
      ]
     },
     "metadata": {
      "needs_background": "light"
     },
     "output_type": "display_data"
    },
    {
     "data": {
      "image/png": "[encoded data removed]",
      "text/plain": [
       "<Figure size 432x288 with 1 Axes>"
      ]
     },
     "metadata": {
      "needs_background": "light"
     },
     "output_type": "display_data"
    }
   ],
   "source": [
    "for i in range(5):\n",
    "    j = np.random.randint(len(x_train3))\n",
    "    plt.plot(x_train3[j])\n",
    "    plt.show()"
   ]
  },
  {
   "cell_type": "markdown",
   "id": "c1800476",
   "metadata": {},
   "source": [
    "## Playing and debugging CNN layers"
   ]
  },
  {
   "cell_type": "code",
   "execution_count": 20,
   "id": "1186e40c",
   "metadata": {},
   "outputs": [],
   "source": [
    "D = 300\n",
    "N = 40"
   ]
  },
  {
   "cell_type": "code",
   "execution_count": 21,
   "id": "30bb0bf2",
   "metadata": {},
   "outputs": [
    {
     "data": {
      "text/plain": [
       "(2, 10000)"
      ]
     },
     "execution_count": 21,
     "metadata": {},
     "output_type": "execute_result"
    }
   ],
   "source": [
    "x = x_train3[:2]\n",
    "x.shape"
   ]
  },
  {
   "cell_type": "code",
   "execution_count": 22,
   "id": "1fd90d7f",
   "metadata": {},
   "outputs": [
    {
     "data": {
      "text/plain": [
       "torch.Size([2, 10000])"
      ]
     },
     "execution_count": 22,
     "metadata": {},
     "output_type": "execute_result"
    }
   ],
   "source": [
    "x = torch.tensor(x,dtype=torch.float32)\n",
    "x.shape"
   ]
  },
  {
   "cell_type": "code",
   "execution_count": 23,
   "id": "f686b76c",
   "metadata": {},
   "outputs": [
    {
     "data": {
      "text/plain": [
       "torch.Size([2, 1, 10000])"
      ]
     },
     "execution_count": 23,
     "metadata": {},
     "output_type": "execute_result"
    }
   ],
   "source": [
    "x1 = torch.unsqueeze(x, dim=1)  # needs to convert x to (batch, embedding_dim, sentence_len)\n",
    "x1.shape\n"
   ]
  },
  {
   "cell_type": "code",
   "execution_count": 24,
   "id": "c0172152",
   "metadata": {},
   "outputs": [],
   "source": [
    "conv_3=nn.Conv1d(in_channels=1, out_channels=100, kernel_size=3)"
   ]
  },
  {
   "cell_type": "code",
   "execution_count": 25,
   "id": "9249fe27",
   "metadata": {},
   "outputs": [
    {
     "data": {
      "text/plain": [
       "torch.Size([2, 100, 9998])"
      ]
     },
     "execution_count": 25,
     "metadata": {},
     "output_type": "execute_result"
    }
   ],
   "source": [
    "x3 = conv_3(x1)\n",
    "x3.size()"
   ]
  },
  {
   "cell_type": "code",
   "execution_count": 26,
   "id": "dda9168e",
   "metadata": {},
   "outputs": [],
   "source": [
    "conv_4 = nn.Conv1d(in_channels=1, out_channels=100, kernel_size=4)\n",
    "conv_5 = nn.Conv1d(in_channels=1, out_channels=100, kernel_size=5)"
   ]
  },
  {
   "cell_type": "code",
   "execution_count": 27,
   "id": "61257239",
   "metadata": {},
   "outputs": [
    {
     "name": "stdout",
     "output_type": "stream",
     "text": [
      "torch.Size([2, 100, 9997]) torch.Size([2, 100, 9996])\n"
     ]
    }
   ],
   "source": [
    "x4 = conv_4(x1)\n",
    "x5 = conv_5(x1)\n",
    "print(x4.size(), x5.size())"
   ]
  },
  {
   "cell_type": "code",
   "execution_count": 28,
   "id": "330a0ee8",
   "metadata": {},
   "outputs": [
    {
     "data": {
      "text/plain": [
       "torch.Size([2, 100, 1])"
      ]
     },
     "execution_count": 28,
     "metadata": {},
     "output_type": "execute_result"
    }
   ],
   "source": [
    "# 100 3-gram detectors\n",
    "x3 = nn.ReLU()(x3)\n",
    "x3 = nn.MaxPool1d(kernel_size = 9998)(x3)\n",
    "x3.size()"
   ]
  },
  {
   "cell_type": "code",
   "execution_count": 29,
   "id": "29610c62",
   "metadata": {},
   "outputs": [
    {
     "data": {
      "text/plain": [
       "torch.Size([2, 100, 1])"
      ]
     },
     "execution_count": 29,
     "metadata": {},
     "output_type": "execute_result"
    }
   ],
   "source": [
    "# 100 4-gram detectors\n",
    "x4 = nn.ReLU()(x4)\n",
    "x4 = nn.MaxPool1d(kernel_size = 9997)(x4)\n",
    "x4.size()"
   ]
  },
  {
   "cell_type": "code",
   "execution_count": 30,
   "id": "bdebeb32",
   "metadata": {},
   "outputs": [
    {
     "data": {
      "text/plain": [
       "torch.Size([2, 100, 1])"
      ]
     },
     "execution_count": 30,
     "metadata": {},
     "output_type": "execute_result"
    }
   ],
   "source": [
    "# 100 5-gram detectors\n",
    "x5 = nn.ReLU()(x5)\n",
    "x5 = nn.MaxPool1d(kernel_size = 9996)(x5)\n",
    "x5.size()"
   ]
  },
  {
   "cell_type": "code",
   "execution_count": 31,
   "id": "47bd8224",
   "metadata": {},
   "outputs": [
    {
     "data": {
      "text/plain": [
       "torch.Size([2, 100, 3])"
      ]
     },
     "execution_count": 31,
     "metadata": {},
     "output_type": "execute_result"
    }
   ],
   "source": [
    "# concatenate x3, x4, x5\n",
    "out = torch.cat([x3, x4, x5], 2)\n",
    "out.size()"
   ]
  },
  {
   "cell_type": "code",
   "execution_count": 32,
   "id": "6663b18e",
   "metadata": {},
   "outputs": [
    {
     "data": {
      "text/plain": [
       "torch.Size([2, 300])"
      ]
     },
     "execution_count": 32,
     "metadata": {},
     "output_type": "execute_result"
    }
   ],
   "source": [
    "out = out.view(out.size(0), -1)\n",
    "out.size()"
   ]
  },
  {
   "cell_type": "markdown",
   "id": "7d817e5b",
   "metadata": {},
   "source": [
    "## CNN Model"
   ]
  },
  {
   "cell_type": "code",
   "execution_count": 33,
   "id": "d9c35dbb",
   "metadata": {},
   "outputs": [],
   "source": [
    "class myCNN(nn.Module):\n",
    "    \n",
    "    def __init__(self, D):\n",
    "        super(myCNN, self).__init__()\n",
    "        self.conv_3 = nn.Conv1d(in_channels=1, out_channels=100, kernel_size=3)\n",
    "        self.conv_4 = nn.Conv1d(in_channels=1, out_channels=100, kernel_size=4)\n",
    "        self.conv_5 = nn.Conv1d(in_channels=1, out_channels=100, kernel_size=5)\n",
    "        \n",
    "        self.dropout = nn.Dropout(p=0.5)\n",
    "        self.fc = nn.Linear(300, 1)\n",
    "        \n",
    "    def forward(self, x):\n",
    "        x = torch.unsqueeze(x, dim=1)\n",
    "        x3 = F.relu(self.conv_3(x))\n",
    "        x4 = F.relu(self.conv_4(x))\n",
    "        x5 = F.relu(self.conv_5(x))\n",
    "        \n",
    "        x3 = nn.MaxPool1d(kernel_size = 9998)(x3)\n",
    "        x4 = nn.MaxPool1d(kernel_size = 9997)(x4)\n",
    "        x5 = nn.MaxPool1d(kernel_size = 9996)(x5)\n",
    "        \n",
    "        out = torch.cat([x3, x4, x5], 2)\n",
    "        out = out.view(out.size(0), -1)\n",
    "        out = self.dropout(out)\n",
    "        \n",
    "        return self.fc(out) "
   ]
  },
  {
   "cell_type": "code",
   "execution_count": 34,
   "id": "34f1dd89",
   "metadata": {},
   "outputs": [],
   "source": [
    "# Testing the model\n",
    "model = myCNN(1)"
   ]
  },
  {
   "cell_type": "code",
   "execution_count": 35,
   "id": "4c48e191",
   "metadata": {},
   "outputs": [
    {
     "data": {
      "text/plain": [
       "tensor([[ 0.0605],\n",
       "        [-0.1634],\n",
       "        [ 0.1358],\n",
       "        [-0.3524],\n",
       "        [-0.8888],\n",
       "        [ 0.2475],\n",
       "        [-0.8715],\n",
       "        [-0.1162],\n",
       "        [ 0.7575],\n",
       "        [ 0.4429]], grad_fn=<AddmmBackward0>)"
      ]
     },
     "execution_count": 35,
     "metadata": {},
     "output_type": "execute_result"
    }
   ],
   "source": [
    "x = x_train3[:10]\n",
    "x = torch.tensor(x,dtype=torch.float32)\n",
    "model(x)"
   ]
  },
  {
   "cell_type": "markdown",
   "id": "eb7b884e-dde9-4409-959b-a58fbcef2ae7",
   "metadata": {},
   "source": [
    "# Dataset and Dataloader"
   ]
  },
  {
   "cell_type": "code",
   "execution_count": 36,
   "id": "6e0b91af-2ba3-46c3-93d0-b1873a42966e",
   "metadata": {},
   "outputs": [],
   "source": [
    "from torch.utils.data import Dataset\n",
    "\n",
    "class timeseries(Dataset):\n",
    "    def __init__(self,x,y):\n",
    "        self.x = torch.tensor(x,dtype=torch.float32)\n",
    "        self.y = torch.tensor(y,dtype=torch.float32)\n",
    "        self.len = x.shape[0]\n",
    "\n",
    "    def __getitem__(self,idx):\n",
    "        return self.x[idx],self.y[idx]\n",
    "  \n",
    "    def __len__(self):\n",
    "        return self.len"
   ]
  },
  {
   "cell_type": "code",
   "execution_count": 37,
   "id": "7040d426-ecaf-4fd3-ae1e-2f4da724e456",
   "metadata": {},
   "outputs": [],
   "source": [
    "dataset = timeseries(x_train3,y_train)\n",
    "valid_dataset = timeseries(x_val3,y_val)\n",
    "test_dataset = timeseries(x_test3,y_test)"
   ]
  },
  {
   "cell_type": "code",
   "execution_count": 38,
   "id": "ca5dd85f-4b8e-4436-89f4-578214854b87",
   "metadata": {},
   "outputs": [],
   "source": [
    "train_loader = DataLoader(dataset,shuffle=True,batch_size=50)\n",
    "val_loader = DataLoader(valid_dataset,shuffle=False,batch_size=50)\n",
    "test_loader = DataLoader(test_dataset,shuffle=False,batch_size=50)"
   ]
  },
  {
   "cell_type": "markdown",
   "id": "8cd42e20",
   "metadata": {},
   "source": [
    "## Training"
   ]
  },
  {
   "cell_type": "code",
   "execution_count": 39,
   "id": "d9dfb23b-d080-482c-91e1-bad6171c2510",
   "metadata": {},
   "outputs": [],
   "source": [
    "x_train4 = x_train3"
   ]
  },
  {
   "cell_type": "code",
   "execution_count": 40,
   "id": "bb6978e5",
   "metadata": {},
   "outputs": [],
   "source": [
    "#def train(model, x_train, y_train):\n",
    "model = myCNN(1).cuda()"
   ]
  },
  {
   "cell_type": "code",
   "execution_count": 47,
   "id": "06ed9bfb",
   "metadata": {},
   "outputs": [],
   "source": [
    "# this filters parameters with p.requires_grad=True\n",
    "parameters = filter(lambda p: p.requires_grad, model.parameters())\n",
    "optimizer = torch.optim.Adam(parameters, lr=0.01)\n",
    "criterion = torch.nn.MSELoss()"
   ]
  },
  {
   "cell_type": "code",
   "execution_count": 48,
   "id": "e59785c4",
   "metadata": {},
   "outputs": [],
   "source": [
    "def train_epocs(model, epochs=10, lr=0.01, fname='1'):\n",
    "    parameters = filter(lambda p: p.requires_grad, model.parameters())\n",
    "    optimizer = torch.optim.Adam(parameters, lr=lr)\n",
    "    \n",
    "    losses = []\n",
    "    for i in range(epochs):\n",
    "        model.train()\n",
    "        #losses = []\n",
    "        for x, y in train_loader:\n",
    "            x = x.cuda()\n",
    "            y = y.unsqueeze(1).cuda()\n",
    "            y_hat = model(x).unsqueeze(1).cuda()\n",
    "            #loss = F.binary_cross_entropy_with_logits(y_hat, y)\n",
    "            loss = criterion(y_hat, y)\n",
    "            optimizer.zero_grad()\n",
    "            loss.backward()\n",
    "            optimizer.step()\n",
    "            print(loss.item())\n",
    "        losses.append(loss.item()/len(train_loader))\n",
    "        test_metrics(model)\n",
    "    filename = 'losses_' + fname + '.csv'\n",
    "    np.savetxt(filename, losses, delimiter=\",\")\n",
    "    return losses"
   ]
  },
  {
   "cell_type": "code",
   "execution_count": 49,
   "id": "a386d93e",
   "metadata": {},
   "outputs": [],
   "source": [
    "def test_metrics(m):\n",
    "    m.eval()\n",
    "    losses = []\n",
    "    for x, y in val_loader:\n",
    "        x = x.cuda()\n",
    "        y = y.unsqueeze(1).cuda()\n",
    "        y_hat = m(x).unsqueeze(1).cuda()\n",
    "        loss = torch.nn.MSELoss(y_hat, y)\n",
    "        losses.append(loss.item())\n",
    "        y_pred = y_hat > 0\n",
    "        correct = (y_pred.float() == y).float().sum()\n",
    "        accuracy = correct/y_pred.shape[0]\n",
    "    print(\"test loss %.3f and accuracy %.3f\" % (np.mean(losses), accuracy))"
   ]
  },
  {
   "cell_type": "code",
   "execution_count": 50,
   "id": "a69a3f74-7047-4bbf-9c81-616a6df8abce",
   "metadata": {},
   "outputs": [],
   "source": [
    "learning_rates = [0.0001, 0.0005, 0.001, 0.005, 0.01, 0.02, 0.05, 0.1]"
   ]
  },
  {
   "cell_type": "code",
   "execution_count": 51,
   "id": "7a4370d9",
   "metadata": {},
   "outputs": [
    {
     "ename": "RuntimeError",
     "evalue": "CUDA out of memory. Tried to allocate 192.00 MiB (GPU 0; 7.80 GiB total capacity; 766.74 MiB already allocated; 155.06 MiB free; 790.00 MiB reserved in total by PyTorch) If reserved memory is >> allocated memory try setting max_split_size_mb to avoid fragmentation.  See documentation for Memory Management and PYTORCH_CUDA_ALLOC_CONF",
     "output_type": "error",
     "traceback": [
      "\u001b[0;31m---------------------------------------------------------------------------\u001b[0m",
      "\u001b[0;31mRuntimeError\u001b[0m                              Traceback (most recent call last)",
      "\u001b[0;32m<ipython-input-51-c6c9c9e62d9a>\u001b[0m in \u001b[0;36m<module>\u001b[0;34m\u001b[0m\n\u001b[1;32m      1\u001b[0m \u001b[0mlosses\u001b[0m \u001b[0;34m=\u001b[0m \u001b[0;34m[\u001b[0m\u001b[0;34m]\u001b[0m\u001b[0;34m\u001b[0m\u001b[0;34m\u001b[0m\u001b[0m\n\u001b[1;32m      2\u001b[0m \u001b[0;32mfor\u001b[0m \u001b[0mlr\u001b[0m \u001b[0;32min\u001b[0m \u001b[0mlearning_rates\u001b[0m\u001b[0;34m:\u001b[0m\u001b[0;34m\u001b[0m\u001b[0;34m\u001b[0m\u001b[0m\n\u001b[0;32m----> 3\u001b[0;31m     \u001b[0mloss\u001b[0m \u001b[0;34m=\u001b[0m \u001b[0mtrain_epocs\u001b[0m\u001b[0;34m(\u001b[0m\u001b[0mmodel\u001b[0m\u001b[0;34m,\u001b[0m \u001b[0mepochs\u001b[0m\u001b[0;34m=\u001b[0m\u001b[0;36m30\u001b[0m\u001b[0;34m,\u001b[0m \u001b[0mlr\u001b[0m\u001b[0;34m=\u001b[0m\u001b[0mlr\u001b[0m\u001b[0;34m,\u001b[0m \u001b[0mfname\u001b[0m\u001b[0;34m=\u001b[0m\u001b[0mstr\u001b[0m\u001b[0;34m(\u001b[0m\u001b[0mlr\u001b[0m\u001b[0;34m)\u001b[0m\u001b[0;34m)\u001b[0m\u001b[0;34m\u001b[0m\u001b[0;34m\u001b[0m\u001b[0m\n\u001b[0m\u001b[1;32m      4\u001b[0m     \u001b[0mlosses\u001b[0m\u001b[0;34m.\u001b[0m\u001b[0mappend\u001b[0m\u001b[0;34m(\u001b[0m\u001b[0mloss\u001b[0m\u001b[0;34m)\u001b[0m\u001b[0;34m\u001b[0m\u001b[0;34m\u001b[0m\u001b[0m\n",
      "\u001b[0;32m<ipython-input-48-fb51e6115d79>\u001b[0m in \u001b[0;36mtrain_epocs\u001b[0;34m(model, epochs, lr, fname)\u001b[0m\n\u001b[1;32m     10\u001b[0m             \u001b[0mx\u001b[0m \u001b[0;34m=\u001b[0m \u001b[0mx\u001b[0m\u001b[0;34m.\u001b[0m\u001b[0mcuda\u001b[0m\u001b[0;34m(\u001b[0m\u001b[0;34m)\u001b[0m\u001b[0;34m\u001b[0m\u001b[0;34m\u001b[0m\u001b[0m\n\u001b[1;32m     11\u001b[0m             \u001b[0my\u001b[0m \u001b[0;34m=\u001b[0m \u001b[0my\u001b[0m\u001b[0;34m.\u001b[0m\u001b[0munsqueeze\u001b[0m\u001b[0;34m(\u001b[0m\u001b[0;36m1\u001b[0m\u001b[0;34m)\u001b[0m\u001b[0;34m.\u001b[0m\u001b[0mcuda\u001b[0m\u001b[0;34m(\u001b[0m\u001b[0;34m)\u001b[0m\u001b[0;34m\u001b[0m\u001b[0;34m\u001b[0m\u001b[0m\n\u001b[0;32m---> 12\u001b[0;31m             \u001b[0my_hat\u001b[0m \u001b[0;34m=\u001b[0m \u001b[0mmodel\u001b[0m\u001b[0;34m(\u001b[0m\u001b[0mx\u001b[0m\u001b[0;34m)\u001b[0m\u001b[0;34m.\u001b[0m\u001b[0munsqueeze\u001b[0m\u001b[0;34m(\u001b[0m\u001b[0;36m1\u001b[0m\u001b[0;34m)\u001b[0m\u001b[0;34m.\u001b[0m\u001b[0mcuda\u001b[0m\u001b[0;34m(\u001b[0m\u001b[0;34m)\u001b[0m\u001b[0;34m\u001b[0m\u001b[0;34m\u001b[0m\u001b[0m\n\u001b[0m\u001b[1;32m     13\u001b[0m             \u001b[0;31m#loss = F.binary_cross_entropy_with_logits(y_hat, y)\u001b[0m\u001b[0;34m\u001b[0m\u001b[0;34m\u001b[0m\u001b[0;34m\u001b[0m\u001b[0m\n\u001b[1;32m     14\u001b[0m             \u001b[0mloss\u001b[0m \u001b[0;34m=\u001b[0m \u001b[0mcriterion\u001b[0m\u001b[0;34m(\u001b[0m\u001b[0my_hat\u001b[0m\u001b[0;34m,\u001b[0m \u001b[0my\u001b[0m\u001b[0;34m)\u001b[0m\u001b[0;34m\u001b[0m\u001b[0;34m\u001b[0m\u001b[0m\n",
      "\u001b[0;32m/opt/anaconda3/lib/python3.9/site-packages/torch/nn/modules/module.py\u001b[0m in \u001b[0;36m_call_impl\u001b[0;34m(self, *input, **kwargs)\u001b[0m\n\u001b[1;32m   1100\u001b[0m         if not (self._backward_hooks or self._forward_hooks or self._forward_pre_hooks or _global_backward_hooks\n\u001b[1;32m   1101\u001b[0m                 or _global_forward_hooks or _global_forward_pre_hooks):\n\u001b[0;32m-> 1102\u001b[0;31m             \u001b[0;32mreturn\u001b[0m \u001b[0mforward_call\u001b[0m\u001b[0;34m(\u001b[0m\u001b[0;34m*\u001b[0m\u001b[0minput\u001b[0m\u001b[0;34m,\u001b[0m \u001b[0;34m**\u001b[0m\u001b[0mkwargs\u001b[0m\u001b[0;34m)\u001b[0m\u001b[0;34m\u001b[0m\u001b[0;34m\u001b[0m\u001b[0m\n\u001b[0m\u001b[1;32m   1103\u001b[0m         \u001b[0;31m# Do not call functions when jit is used\u001b[0m\u001b[0;34m\u001b[0m\u001b[0;34m\u001b[0m\u001b[0;34m\u001b[0m\u001b[0m\n\u001b[1;32m   1104\u001b[0m         \u001b[0mfull_backward_hooks\u001b[0m\u001b[0;34m,\u001b[0m \u001b[0mnon_full_backward_hooks\u001b[0m \u001b[0;34m=\u001b[0m \u001b[0;34m[\u001b[0m\u001b[0;34m]\u001b[0m\u001b[0;34m,\u001b[0m \u001b[0;34m[\u001b[0m\u001b[0;34m]\u001b[0m\u001b[0;34m\u001b[0m\u001b[0;34m\u001b[0m\u001b[0m\n",
      "\u001b[0;32m<ipython-input-33-b45ece3ca6f3>\u001b[0m in \u001b[0;36mforward\u001b[0;34m(self, x)\u001b[0m\n\u001b[1;32m     12\u001b[0m     \u001b[0;32mdef\u001b[0m \u001b[0mforward\u001b[0m\u001b[0;34m(\u001b[0m\u001b[0mself\u001b[0m\u001b[0;34m,\u001b[0m \u001b[0mx\u001b[0m\u001b[0;34m)\u001b[0m\u001b[0;34m:\u001b[0m\u001b[0;34m\u001b[0m\u001b[0;34m\u001b[0m\u001b[0m\n\u001b[1;32m     13\u001b[0m         \u001b[0mx\u001b[0m \u001b[0;34m=\u001b[0m \u001b[0mtorch\u001b[0m\u001b[0;34m.\u001b[0m\u001b[0munsqueeze\u001b[0m\u001b[0;34m(\u001b[0m\u001b[0mx\u001b[0m\u001b[0;34m,\u001b[0m \u001b[0mdim\u001b[0m\u001b[0;34m=\u001b[0m\u001b[0;36m1\u001b[0m\u001b[0;34m)\u001b[0m\u001b[0;34m\u001b[0m\u001b[0;34m\u001b[0m\u001b[0m\n\u001b[0;32m---> 14\u001b[0;31m         \u001b[0mx3\u001b[0m \u001b[0;34m=\u001b[0m \u001b[0mF\u001b[0m\u001b[0;34m.\u001b[0m\u001b[0mrelu\u001b[0m\u001b[0;34m(\u001b[0m\u001b[0mself\u001b[0m\u001b[0;34m.\u001b[0m\u001b[0mconv_3\u001b[0m\u001b[0;34m(\u001b[0m\u001b[0mx\u001b[0m\u001b[0;34m)\u001b[0m\u001b[0;34m)\u001b[0m\u001b[0;34m\u001b[0m\u001b[0;34m\u001b[0m\u001b[0m\n\u001b[0m\u001b[1;32m     15\u001b[0m         \u001b[0mx4\u001b[0m \u001b[0;34m=\u001b[0m \u001b[0mF\u001b[0m\u001b[0;34m.\u001b[0m\u001b[0mrelu\u001b[0m\u001b[0;34m(\u001b[0m\u001b[0mself\u001b[0m\u001b[0;34m.\u001b[0m\u001b[0mconv_4\u001b[0m\u001b[0;34m(\u001b[0m\u001b[0mx\u001b[0m\u001b[0;34m)\u001b[0m\u001b[0;34m)\u001b[0m\u001b[0;34m\u001b[0m\u001b[0;34m\u001b[0m\u001b[0m\n\u001b[1;32m     16\u001b[0m         \u001b[0mx5\u001b[0m \u001b[0;34m=\u001b[0m \u001b[0mF\u001b[0m\u001b[0;34m.\u001b[0m\u001b[0mrelu\u001b[0m\u001b[0;34m(\u001b[0m\u001b[0mself\u001b[0m\u001b[0;34m.\u001b[0m\u001b[0mconv_5\u001b[0m\u001b[0;34m(\u001b[0m\u001b[0mx\u001b[0m\u001b[0;34m)\u001b[0m\u001b[0;34m)\u001b[0m\u001b[0;34m\u001b[0m\u001b[0;34m\u001b[0m\u001b[0m\n",
      "\u001b[0;32m/opt/anaconda3/lib/python3.9/site-packages/torch/nn/functional.py\u001b[0m in \u001b[0;36mrelu\u001b[0;34m(input, inplace)\u001b[0m\n\u001b[1;32m   1297\u001b[0m         \u001b[0mresult\u001b[0m \u001b[0;34m=\u001b[0m \u001b[0mtorch\u001b[0m\u001b[0;34m.\u001b[0m\u001b[0mrelu_\u001b[0m\u001b[0;34m(\u001b[0m\u001b[0minput\u001b[0m\u001b[0;34m)\u001b[0m\u001b[0;34m\u001b[0m\u001b[0;34m\u001b[0m\u001b[0m\n\u001b[1;32m   1298\u001b[0m     \u001b[0;32melse\u001b[0m\u001b[0;34m:\u001b[0m\u001b[0;34m\u001b[0m\u001b[0;34m\u001b[0m\u001b[0m\n\u001b[0;32m-> 1299\u001b[0;31m         \u001b[0mresult\u001b[0m \u001b[0;34m=\u001b[0m \u001b[0mtorch\u001b[0m\u001b[0;34m.\u001b[0m\u001b[0mrelu\u001b[0m\u001b[0;34m(\u001b[0m\u001b[0minput\u001b[0m\u001b[0;34m)\u001b[0m\u001b[0;34m\u001b[0m\u001b[0;34m\u001b[0m\u001b[0m\n\u001b[0m\u001b[1;32m   1300\u001b[0m     \u001b[0;32mreturn\u001b[0m \u001b[0mresult\u001b[0m\u001b[0;34m\u001b[0m\u001b[0;34m\u001b[0m\u001b[0m\n\u001b[1;32m   1301\u001b[0m \u001b[0;34m\u001b[0m\u001b[0m\n",
      "\u001b[0;31mRuntimeError\u001b[0m: CUDA out of memory. Tried to allocate 192.00 MiB (GPU 0; 7.80 GiB total capacity; 766.74 MiB already allocated; 155.06 MiB free; 790.00 MiB reserved in total by PyTorch) If reserved memory is >> allocated memory try setting max_split_size_mb to avoid fragmentation.  See documentation for Memory Management and PYTORCH_CUDA_ALLOC_CONF"
     ]
    }
   ],
   "source": [
    "losses = []\n",
    "for lr in learning_rates:\n",
    "    loss = train_epocs(model, epochs=30, lr=lr, fname=str(lr))\n",
    "    losses.append(loss)"
   ]
  },
  {
   "cell_type": "code",
   "execution_count": 55,
   "id": "b6c7a830-d44e-4d27-aeff-a7e8dc10225c",
   "metadata": {},
   "outputs": [
    {
     "data": {
      "text/plain": [
       "[0.14556742906570436,\n",
       " [0.12657766342163085],\n",
       " [0.1470730185508728],\n",
       " [0.1292658567428589],\n",
       " [0.1273938775062561],\n",
       " [0.12751874923706055],\n",
       " [0.13949084281921387],\n",
       " [0.1294490098953247]]"
      ]
     },
     "execution_count": 55,
     "metadata": {},
     "output_type": "execute_result"
    }
   ],
   "source": [
    "losses"
   ]
  },
  {
   "cell_type": "code",
   "execution_count": null,
   "id": "6f5e1533",
   "metadata": {},
   "outputs": [],
   "source": [
    "plt.plot(losses)\n",
    "plt.ylim(0,1)\n",
    "plt.title('Loss')\n",
    "plt.show()"
   ]
  },
  {
   "cell_type": "code",
   "execution_count": null,
   "id": "da1d6c6a-92bf-4461-ae4d-6f80ad5f7e6c",
   "metadata": {},
   "outputs": [],
   "source": [
    "# data loader"
   ]
  },
  {
   "cell_type": "code",
   "execution_count": 74,
   "id": "2ba4c2f6-4c56-42d6-b593-b0f6f9c9a821",
   "metadata": {},
   "outputs": [
    {
     "data": {
      "text/plain": [
       "'|===========================================================================|\\n|                  PyTorch CUDA memory summary, device ID 0                 |\\n|---------------------------------------------------------------------------|\\n|            CUDA OOMs: 5            |        cudaMalloc retries: 5         |\\n|===========================================================================|\\n|        Metric         | Cur Usage  | Peak Usage | Tot Alloc  | Tot Freed  |\\n|---------------------------------------------------------------------------|\\n| Allocated memory      |     771 MB |     784 MB |    2560 MB |    1788 MB |\\n|       from large pool |     771 MB |     784 MB |    2560 MB |    1788 MB |\\n|       from small pool |       0 MB |       0 MB |       0 MB |       0 MB |\\n|---------------------------------------------------------------------------|\\n| Active memory         |     771 MB |     784 MB |    2560 MB |    1788 MB |\\n|       from large pool |     771 MB |     784 MB |    2560 MB |    1788 MB |\\n|       from small pool |       0 MB |       0 MB |       0 MB |       0 MB |\\n|---------------------------------------------------------------------------|\\n| GPU reserved memory   |     786 MB |     786 MB |     786 MB |       0 B  |\\n|       from large pool |     784 MB |     784 MB |     784 MB |       0 B  |\\n|       from small pool |       2 MB |       2 MB |       2 MB |       0 B  |\\n|---------------------------------------------------------------------------|\\n| Non-releasable memory |   14510 KB |  409798 KB |    1043 MB |    1029 MB |\\n|       from large pool |   12666 KB |  407760 KB |    1041 MB |    1029 MB |\\n|       from small pool |    1844 KB |    2046 KB |       2 MB |       0 MB |\\n|---------------------------------------------------------------------------|\\n| Allocations           |      26    |      26    |      54    |      28    |\\n|       from large pool |       8    |       8    |      22    |      14    |\\n|       from small pool |      18    |      19    |      32    |      14    |\\n|---------------------------------------------------------------------------|\\n| Active allocs         |      26    |      26    |      54    |      28    |\\n|       from large pool |       8    |       8    |      22    |      14    |\\n|       from small pool |      18    |      19    |      32    |      14    |\\n|---------------------------------------------------------------------------|\\n| GPU reserved segments |       4    |       4    |       4    |       0    |\\n|       from large pool |       3    |       3    |       3    |       0    |\\n|       from small pool |       1    |       1    |       1    |       0    |\\n|---------------------------------------------------------------------------|\\n| Non-releasable allocs |       8    |       9    |      15    |       7    |\\n|       from large pool |       2    |       4    |       9    |       7    |\\n|       from small pool |       6    |       6    |       6    |       0    |\\n|---------------------------------------------------------------------------|\\n| Oversize allocations  |       0    |       0    |       0    |       0    |\\n|---------------------------------------------------------------------------|\\n| Oversize GPU segments |       0    |       0    |       0    |       0    |\\n|===========================================================================|\\n'"
      ]
     },
     "execution_count": 74,
     "metadata": {},
     "output_type": "execute_result"
    }
   ],
   "source": [
    "torch.cuda.memory_summary(device=None, abbreviated=False)"
   ]
  },
  {
   "cell_type": "code",
   "execution_count": null,
   "id": "7598715b-814f-4ff8-8a94-6179bd0dd971",
   "metadata": {},
   "outputs": [],
   "source": []
  }
 ],
 "metadata": {
  "kernelspec": {
   "display_name": "Python 3 (ipykernel)",
   "language": "python",
   "name": "python3"
  },
  "language_info": {
   "codemirror_mode": {
    "name": "ipython",
    "version": 3
   },
   "file_extension": ".py",
   "mimetype": "text/x-python",
   "name": "python",
   "nbconvert_exporter": "python",
   "pygments_lexer": "ipython3",
   "version": "3.9.5"
  }
 },
 "nbformat": 4,
 "nbformat_minor": 5
}
