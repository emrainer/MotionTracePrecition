{
 "cells": [
  {
   "cell_type": "code",
   "execution_count": 1,
   "id": "9f179829-ee0d-4a09-97b8-bcfd0ef42479",
   "metadata": {},
   "outputs": [],
   "source": [
    "import os\n",
    "import pandas as pd\n",
    "import numpy as np\n",
    "import matplotlib.pyplot as plt     \n",
    "import re\n",
    "# File Loading\n",
    "from trace_file_loader import get_breath_df, equalize_len_trace\n",
    "from lossplots import plot_loss\n",
    "# SkLearn Packages\n",
    "from sklearn.preprocessing import StandardScaler\n",
    "from sklearn.model_selection import train_test_split\n",
    "from sklearn.metrics import mean_squared_error\n",
    "from sklearn.metrics import mean_absolute_error\n",
    "# Torch Packages\n",
    "import torch\n",
    "import torch.nn as nn\n",
    "import torch.nn.functional as F\n",
    "from torch import nn\n",
    "from torch.utils.data import Dataset, DataLoader\n",
    "from torch.nn.utils.rnn import pack_padded_sequence, pad_packed_sequence "
   ]
  },
  {
   "cell_type": "markdown",
   "id": "a35394c7-fd4b-468e-84e9-c8fcffe39131",
   "metadata": {},
   "source": [
    "# Experiment 1\n",
    "## Parameters:\n",
    "- Hidden layers = 100\n",
    "- Num_layers = 1\n",
    "- Trace Length = 1500\n",
    "- Regression"
   ]
  },
  {
   "cell_type": "markdown",
   "id": "0da807a0-2fb4-4158-8190-8b6f201b5713",
   "metadata": {},
   "source": [
    "# Load and Clean Data\n",
    "\n",
    "Data is stored in csv files. A data frame is created with the values:\n",
    "- Trace - Shortened trace to be used as model input (ex. 1400 points before start of breathold, 100 points after start of breathhold)\n",
    "- Csv_breath_holds - Breath hold length listed in CSV file\n",
    "- Data_breath_holds - Breath hold length found using the derivative of the full trace\n",
    "- Full_trace - Complete breath trace data (given in CSV file)\n",
    "- breathhold_idx - Indices of the full trace identified as breathhold due to the derivative being zero\n",
    "- bh_start_end - Indices of the full trace where the breathhold starts and ends (based on breathhold_idx)"
   ]
  },
  {
   "cell_type": "code",
   "execution_count": 29,
   "id": "8e409853-159e-477c-993b-5aed878c975a",
   "metadata": {},
   "outputs": [],
   "source": [
    "beforeBH_len = 1400\n",
    "afterBH_len = 100\n",
    "trace_len = beforeBH_len+afterBH_len"
   ]
  },
  {
   "cell_type": "code",
   "execution_count": 30,
   "id": "f6e1323a-3904-437f-9a86-e226789bb91e",
   "metadata": {},
   "outputs": [
    {
     "data": {
      "text/html": [
       "<div>\n",
       "<style scoped>\n",
       "    .dataframe tbody tr th:only-of-type {\n",
       "        vertical-align: middle;\n",
       "    }\n",
       "\n",
       "    .dataframe tbody tr th {\n",
       "        vertical-align: top;\n",
       "    }\n",
       "\n",
       "    .dataframe thead th {\n",
       "        text-align: right;\n",
       "    }\n",
       "</style>\n",
       "<table border=\"1\" class=\"dataframe\">\n",
       "  <thead>\n",
       "    <tr style=\"text-align: right;\">\n",
       "      <th></th>\n",
       "      <th>Trace</th>\n",
       "      <th>Csv_breath_holds</th>\n",
       "      <th>Data_breath_holds</th>\n",
       "      <th>Full_trace</th>\n",
       "      <th>breathhold_idx</th>\n",
       "      <th>bh_start_end</th>\n",
       "    </tr>\n",
       "  </thead>\n",
       "  <tbody>\n",
       "    <tr>\n",
       "      <th>0</th>\n",
       "      <td>[0.1319, 0.1363, 0.1408, 0.1452, 0.1497, 0.154...</td>\n",
       "      <td>31.29</td>\n",
       "      <td>31.69</td>\n",
       "      <td>[0.0003, 0.0006, 0.001, 0.0014, 0.0019, 0.0023...</td>\n",
       "      <td>[2661, 2662, 2663, 2664, 2665, 2666, 2667, 266...</td>\n",
       "      <td>(2661, 5829)</td>\n",
       "    </tr>\n",
       "  </tbody>\n",
       "</table>\n",
       "</div>"
      ],
      "text/plain": [
       "                                               Trace  Csv_breath_holds  \\\n",
       "0  [0.1319, 0.1363, 0.1408, 0.1452, 0.1497, 0.154...             31.29   \n",
       "\n",
       "   Data_breath_holds                                         Full_trace  \\\n",
       "0              31.69  [0.0003, 0.0006, 0.001, 0.0014, 0.0019, 0.0023...   \n",
       "\n",
       "                                      breathhold_idx  bh_start_end  \n",
       "0  [2661, 2662, 2663, 2664, 2665, 2666, 2667, 266...  (2661, 5829)  "
      ]
     },
     "execution_count": 30,
     "metadata": {},
     "output_type": "execute_result"
    }
   ],
   "source": [
    "# breath_df = get_breath_df('data_sdx_', 1400, 100)\n",
    "# breath_df.to_pickle('breath_pickle')\n",
    "breath_df = pd.read_pickle('breath_pickle')\n",
    "breath_df.head(1)"
   ]
  },
  {
   "cell_type": "markdown",
   "id": "eb2e5ccd-3e24-4998-b20f-8e3b6fbf88b8",
   "metadata": {},
   "source": [
    "**Discrepancies:** Only considering files where the breathhold length listed in the CSV files is within 2 seconds of the breathhold length identified using the derivative of the trace to avoid using innacurate breath hold indices."
   ]
  },
  {
   "cell_type": "code",
   "execution_count": 31,
   "id": "ad86a887-531d-415c-b832-103997a981e7",
   "metadata": {},
   "outputs": [
    {
     "data": {
      "text/html": [
       "<div>\n",
       "<style scoped>\n",
       "    .dataframe tbody tr th:only-of-type {\n",
       "        vertical-align: middle;\n",
       "    }\n",
       "\n",
       "    .dataframe tbody tr th {\n",
       "        vertical-align: top;\n",
       "    }\n",
       "\n",
       "    .dataframe thead th {\n",
       "        text-align: right;\n",
       "    }\n",
       "</style>\n",
       "<table border=\"1\" class=\"dataframe\">\n",
       "  <thead>\n",
       "    <tr style=\"text-align: right;\">\n",
       "      <th></th>\n",
       "      <th>Trace</th>\n",
       "      <th>Csv_breath_holds</th>\n",
       "      <th>Data_breath_holds</th>\n",
       "      <th>Full_trace</th>\n",
       "      <th>breathhold_idx</th>\n",
       "      <th>bh_start_end</th>\n",
       "    </tr>\n",
       "  </thead>\n",
       "  <tbody>\n",
       "    <tr>\n",
       "      <th>0</th>\n",
       "      <td>[0.1319, 0.1363, 0.1408, 0.1452, 0.1497, 0.154...</td>\n",
       "      <td>31.29</td>\n",
       "      <td>31.69</td>\n",
       "      <td>[0.0003, 0.0006, 0.001, 0.0014, 0.0019, 0.0023...</td>\n",
       "      <td>[2661, 2662, 2663, 2664, 2665, 2666, 2667, 266...</td>\n",
       "      <td>(2661, 5829)</td>\n",
       "    </tr>\n",
       "  </tbody>\n",
       "</table>\n",
       "</div>"
      ],
      "text/plain": [
       "                                               Trace  Csv_breath_holds  \\\n",
       "0  [0.1319, 0.1363, 0.1408, 0.1452, 0.1497, 0.154...             31.29   \n",
       "\n",
       "   Data_breath_holds                                         Full_trace  \\\n",
       "0              31.69  [0.0003, 0.0006, 0.001, 0.0014, 0.0019, 0.0023...   \n",
       "\n",
       "                                      breathhold_idx  bh_start_end  \n",
       "0  [2661, 2662, 2663, 2664, 2665, 2666, 2667, 266...  (2661, 5829)  "
      ]
     },
     "execution_count": 31,
     "metadata": {},
     "output_type": "execute_result"
    }
   ],
   "source": [
    "under2 = breath_df[abs(breath_df['Csv_breath_holds']-breath_df['Data_breath_holds'])<=2]\n",
    "under2 = under2.reset_index(drop=True)\n",
    "under2.head(1)"
   ]
  },
  {
   "cell_type": "markdown",
   "id": "fb378eb4-382e-4c72-ad85-42dd3f4c93fa",
   "metadata": {},
   "source": [
    "## Plot of Breath Holds"
   ]
  },
  {
   "cell_type": "code",
   "execution_count": 33,
   "id": "88cc5044-4d38-48c0-b071-e7ddbbf7dc59",
   "metadata": {},
   "outputs": [
    {
     "data": {
      "image/png": "[encoded data removed]",
      "text/plain": [
       "<Figure size 432x288 with 1 Axes>"
      ]
     },
     "metadata": {
      "needs_background": "light"
     },
     "output_type": "display_data"
    }
   ],
   "source": [
    "fig, ax = plt.subplots(figsize=(6,4))\n",
    "bh = np.array(under2['Data_breath_holds'], dtype = 'float32')\n",
    "ax.hist(bh, bins = 25, color = 'lightblue', edgecolor = \"grey\")\n",
    "ax.vlines(x = np.mean(under2['Data_breath_holds']), ymin = 0, ymax = 1500, linestyle='dashed', color = \"red\", linewidth = 2, label=f\"{np.mean(under2['Data_breath_holds']):.2f}\")\n",
    "ax.legend(title = 'Average Breath Hold Length', loc = 'best')\n",
    "ax.set_title('Breath Hold Lengths')\n",
    "ax.set_xlabel('Breath Hold (Seconds)')\n",
    "ax.set_ylabel('Frequency')\n",
    "\n",
    "plt.show()"
   ]
  },
  {
   "cell_type": "markdown",
   "id": "0efebb74-7c24-42c8-93b2-7c209a409259",
   "metadata": {},
   "source": [
    " "
   ]
  },
  {
   "cell_type": "markdown",
   "id": "71077710-5169-4571-96f2-31da5d03d8a1",
   "metadata": {},
   "source": [
    "----------------------------------------------------------------------------------------------------------------------------------------------------------------------------------"
   ]
  },
  {
   "cell_type": "markdown",
   "id": "77a8c939-10ae-419f-b3e4-6d899ad284b7",
   "metadata": {},
   "source": [
    "# Split and Normalize Data"
   ]
  },
  {
   "cell_type": "code",
   "execution_count": 34,
   "id": "40ce7e74-6286-463a-85a6-74aa4c7ab8a8",
   "metadata": {},
   "outputs": [],
   "source": [
    "df = under2"
   ]
  },
  {
   "cell_type": "code",
   "execution_count": 35,
   "id": "82d8b26c-9358-4a83-95b0-d9ca5b24da34",
   "metadata": {},
   "outputs": [],
   "source": [
    "x_train, x_test, y_train, y_test = train_test_split(df['Trace'], df['Data_breath_holds'], test_size=0.15)"
   ]
  },
  {
   "cell_type": "code",
   "execution_count": 36,
   "id": "78b1203f-cd85-4a39-8bc0-0c82bed2aa6d",
   "metadata": {},
   "outputs": [],
   "source": [
    "x_train, x_val, y_train, y_val = train_test_split(x_train, y_train, test_size=0.4, random_state=1)"
   ]
  },
  {
   "cell_type": "code",
   "execution_count": 37,
   "id": "271273b9-7a12-4f75-ac76-2b21ebb955ba",
   "metadata": {},
   "outputs": [],
   "source": [
    "# Change type of each row from np.array to list to put into scaler\n",
    "x_train = np.array([list(row) for row in x_train])\n",
    "x_val = np.array([list(row) for row in x_val])\n",
    "x_test = np.array([list(row) for row in x_test])\n",
    "\n",
    "y_train = np.array(y_train)\n",
    "y_val = np.array(y_val)\n",
    "y_test = np.array(y_test)"
   ]
  },
  {
   "cell_type": "code",
   "execution_count": 38,
   "id": "0f79c6b4-ca75-4514-af28-2c44b527d550",
   "metadata": {},
   "outputs": [],
   "source": [
    "scaler = StandardScaler() # creates the scaler\n",
    "scaler.fit(x_train)\n",
    "x_train = scaler.transform(x_train)\n",
    "x_val = scaler.transform(x_val)\n",
    "x_test = scaler.transform(x_test)"
   ]
  },
  {
   "cell_type": "markdown",
   "id": "f71dee5e-c047-4e3d-949c-e53a35ad5e62",
   "metadata": {},
   "source": [
    " "
   ]
  },
  {
   "cell_type": "markdown",
   "id": "ea5980f3-18d1-4cc1-b110-d6f879dcf30f",
   "metadata": {},
   "source": [
    "### What does the data look like after being scaled?"
   ]
  },
  {
   "cell_type": "code",
   "execution_count": 39,
   "id": "b9d9c9b3-7a27-4c1d-848d-c5b456a5328f",
   "metadata": {},
   "outputs": [
    {
     "name": "stdout",
     "output_type": "stream",
     "text": [
      "[[ 0.46074345  0.46295383  0.46538108 ... -0.67841517 -0.67840425\n",
      "  -0.67839292]\n",
      " [ 0.60972806  0.6312029   0.65287878 ...  2.64280041  2.64279835\n",
      "   2.64279419]]\n",
      "(2443, 1500)\n"
     ]
    }
   ],
   "source": [
    "print(x_train[0:2])\n",
    "print(x_train.shape)"
   ]
  },
  {
   "cell_type": "code",
   "execution_count": 41,
   "id": "6b746dac-c814-412d-89b4-63d16d3d66dd",
   "metadata": {},
   "outputs": [
    {
     "data": {
      "image/png": "[encoded data removed]",
      "text/plain": [
       "<Figure size 432x288 with 1 Axes>"
      ]
     },
     "metadata": {
      "needs_background": "light"
     },
     "output_type": "display_data"
    }
   ],
   "source": [
    "plt.plot(x_train[1020])\n",
    "plt.show()"
   ]
  },
  {
   "cell_type": "code",
   "execution_count": 42,
   "id": "ac4bd748-a2e5-4c3c-9efc-2d34b199328a",
   "metadata": {},
   "outputs": [
    {
     "name": "stdout",
     "output_type": "stream",
     "text": [
      "(719, 1500)\n"
     ]
    }
   ],
   "source": [
    "print(x_test.shape)"
   ]
  },
  {
   "cell_type": "markdown",
   "id": "0e792c22-6e51-4076-9ed5-6ec9ef086243",
   "metadata": {},
   "source": [
    "# Initialize Data for Model and Create DataLoader"
   ]
  },
  {
   "cell_type": "code",
   "execution_count": 43,
   "id": "3294b7f1-a286-42b9-ba7c-344398408cab",
   "metadata": {},
   "outputs": [],
   "source": [
    "#dataset\n",
    "from torch.utils.data import Dataset"
   ]
  },
  {
   "cell_type": "code",
   "execution_count": 44,
   "id": "c2900eb0-d954-4b1a-ae92-63039f118b33",
   "metadata": {},
   "outputs": [],
   "source": [
    "class timeseries(Dataset):\n",
    "    def __init__(self,x,y):\n",
    "        self.x = torch.tensor(x,dtype=torch.float32)\n",
    "        self.y = torch.tensor(y,dtype=torch.float32)\n",
    "        self.len = x.shape[0]\n",
    "\n",
    "    def __getitem__(self,idx):\n",
    "        return self.x[idx],self.y[idx]\n",
    "  \n",
    "    def __len__(self):\n",
    "        return self.len"
   ]
  },
  {
   "cell_type": "code",
   "execution_count": 45,
   "id": "724654d2-6141-4d48-94b2-dff6413589ff",
   "metadata": {},
   "outputs": [],
   "source": [
    "dataset = timeseries(x_train,y_train)\n",
    "valid_dataset = timeseries(x_val,y_val)\n",
    "test_dataset = timeseries(x_test,y_test)"
   ]
  },
  {
   "cell_type": "code",
   "execution_count": 46,
   "id": "aefe9bcb-8efa-4ae6-96aa-fd97165b0617",
   "metadata": {},
   "outputs": [],
   "source": [
    "train_loader = DataLoader(dataset,shuffle=True,batch_size=100)\n",
    "val_loader = DataLoader(valid_dataset,shuffle=False,batch_size=100)\n",
    "test_loader = DataLoader(test_dataset,shuffle=False,batch_size=100)"
   ]
  },
  {
   "cell_type": "markdown",
   "id": "442d8893-7de2-4e97-b822-30c4f14b4a61",
   "metadata": {},
   "source": [
    "## Define LSTM Model (One Step Prediction)"
   ]
  },
  {
   "cell_type": "code",
   "execution_count": 47,
   "id": "76673e10-6bff-45f5-8cac-10f226e85f32",
   "metadata": {},
   "outputs": [],
   "source": [
    "#neural network\n",
    "from torch import nn\n",
    "\n",
    "class LSTM_Model(nn.Module):\n",
    "    def __init__(self):\n",
    "        super(LSTM_Model,self).__init__()\n",
    "        self.lstm = nn.LSTM(input_size=1,hidden_size=100,num_layers=1,batch_first=True) # change hidden size\n",
    "        self.linear = nn.Linear(in_features=100,out_features=1)\n",
    "        \n",
    "        \n",
    "    def forward(self,x):\n",
    "        output,_status = self.lstm(x)\n",
    "        output = output[:,-1,:]\n",
    "        #output = self.linear(torch.relu(output))\n",
    "        output = self.linear(output)\n",
    "        return output\n",
    "\n",
    "model = LSTM_Model()"
   ]
  },
  {
   "cell_type": "code",
   "execution_count": 48,
   "id": "a0ed150e-79eb-4f92-ad72-70ebad527c32",
   "metadata": {},
   "outputs": [],
   "source": [
    "# Declaring Criterion and Optimizer\n",
    "criterion = torch.nn.MSELoss()\n",
    "optimizer = torch.optim.Adam(model.parameters(),lr=0.001)\n",
    "epochs = 50"
   ]
  },
  {
   "cell_type": "markdown",
   "id": "c421bc38-96ec-4f08-b358-f0c2a108af68",
   "metadata": {},
   "source": [
    "## Training Loop"
   ]
  },
  {
   "cell_type": "code",
   "execution_count": 49,
   "id": "96446d6d-ddb9-470b-b1d7-02a024ceafb9",
   "metadata": {},
   "outputs": [
    {
     "name": "stdout",
     "output_type": "stream",
     "text": [
      "Epoch 1 \t Training Loss: 1104.5338159179687 \tValidation Loss: 947.6842256433823\n",
      "\t\t Training MAE: 31.45291130065918 \tValidation MAE: 29.06017438103171\n",
      "\t\t Training MSE: 1104.5338256835937 \tValidation MSE: 947.6842005112592\n",
      "\n",
      "Epoch 3 \t Training Loss: 612.6196203613281 \tValidation Loss: 527.794386919807\n",
      "\t\t Training MAE: 22.86048355102539 \tValidation MAE: 21.201464148128736\n",
      "\t\t Training MSE: 612.6196240234375 \tValidation MSE: 527.7943851246554\n",
      "\n",
      "Epoch 5 \t Training Loss: 385.9055871582031 \tValidation Loss: 336.80261050953584\n",
      "\t\t Training MAE: 17.768428382873534 \tValidation MAE: 16.56061778349035\n",
      "\t\t Training MSE: 385.90559936523437 \tValidation MSE: 336.80261050953584\n",
      "\n",
      "Epoch 7 \t Training Loss: 263.91483215332033 \tValidation Loss: 230.03091430664062\n",
      "\t\t Training MAE: 14.240935440063476 \tValidation MAE: 13.255262094385484\n",
      "\t\t Training MSE: 263.9148376464844 \tValidation MSE: 230.0309134090648\n",
      "\n",
      "Epoch 9 \t Training Loss: 191.02193725585937 \tValidation Loss: 168.92812975715188\n",
      "\t\t Training MAE: 11.642076034545898 \tValidation MAE: 10.894475936889648\n",
      "\t\t Training MSE: 191.02193664550782 \tValidation MSE: 168.9281234741211\n",
      "\n",
      "Epoch 11 \t Training Loss: 153.05127471923828 \tValidation Loss: 136.16992815803079\n",
      "\t\t Training MAE: 9.910495185852051 \tValidation MAE: 9.309117148904239\n",
      "\t\t Training MSE: 153.05127410888673 \tValidation MSE: 136.1699317483341\n",
      "\n",
      "Epoch 13 \t Training Loss: 132.09474487304686 \tValidation Loss: 119.35438537597656\n",
      "\t\t Training MAE: 8.780123710632324 \tValidation MAE: 8.318481894100413\n",
      "\t\t Training MSE: 132.09474426269531 \tValidation MSE: 119.35438402961282\n",
      "\n",
      "Epoch 15 \t Training Loss: 122.15754425048829 \tValidation Loss: 111.57172909904929\n",
      "\t\t Training MAE: 8.080595188140869 \tValidation MAE: 7.698567698983585\n",
      "\t\t Training MSE: 122.15754608154298 \tValidation MSE: 111.57172909904929\n",
      "\n",
      "Epoch 17 \t Training Loss: 118.93157012939453 \tValidation Loss: 108.33648883595185\n",
      "\t\t Training MAE: 7.734113578796387 \tValidation MAE: 7.369251195122214\n",
      "\t\t Training MSE: 118.93157043457032 \tValidation MSE: 108.33648636761833\n",
      "\n",
      "Epoch 19 \t Training Loss: 116.54787643432617 \tValidation Loss: 107.02203638413373\n",
      "\t\t Training MAE: 7.556892280578613 \tValidation MAE: 7.23397440068862\n",
      "\t\t Training MSE: 116.54787750244141 \tValidation MSE: 107.02203952564912\n",
      "\n",
      "Epoch 21 \t Training Loss: 114.93627166748047 \tValidation Loss: 106.55914306640625\n",
      "\t\t Training MAE: 7.459859867095947 \tValidation MAE: 7.187028660493739\n",
      "\t\t Training MSE: 114.93627075195313 \tValidation MSE: 106.55914553473977\n",
      "\n",
      "Epoch 23 \t Training Loss: 114.4902264404297 \tValidation Loss: 106.42221495684456\n",
      "\t\t Training MAE: 7.421414451599121 \tValidation MAE: 7.171714558320887\n",
      "\t\t Training MSE: 114.49022369384765 \tValidation MSE: 106.42221607881434\n",
      "\n",
      "Epoch 25 \t Training Loss: 116.35779510498047 \tValidation Loss: 106.36575182746438\n",
      "\t\t Training MAE: 7.488164367675782 \tValidation MAE: 7.1650693276349235\n",
      "\t\t Training MSE: 116.35779266357422 \tValidation MSE: 106.36574801276711\n",
      "\n",
      "Epoch 27 \t Training Loss: 116.15402557373046 \tValidation Loss: 106.3546007941751\n",
      "\t\t Training MAE: 7.487016639709473 \tValidation MAE: 7.163444603190703\n",
      "\t\t Training MSE: 116.15402252197265 \tValidation MSE: 106.35459989659927\n",
      "\n",
      "Epoch 29 \t Training Loss: 116.34236938476562 \tValidation Loss: 106.35246456370635\n",
      "\t\t Training MAE: 7.477834224700928 \tValidation MAE: 7.163102626800537\n",
      "\t\t Training MSE: 116.3423715209961 \tValidation MSE: 106.35246950037339\n",
      "\n",
      "Epoch 31 \t Training Loss: 115.75493896484375 \tValidation Loss: 106.35200096579159\n",
      "\t\t Training MAE: 7.46337194442749 \tValidation MAE: 7.162719670464011\n",
      "\t\t Training MSE: 115.75494110107422 \tValidation MSE: 106.35200051700367\n",
      "\n",
      "Epoch 33 \t Training Loss: 115.03462097167969 \tValidation Loss: 106.35194800881779\n",
      "\t\t Training MAE: 7.43919584274292 \tValidation MAE: 7.163053652819465\n",
      "\t\t Training MSE: 115.034619140625 \tValidation MSE: 106.35193993063534\n",
      "\n",
      "Epoch 35 \t Training Loss: 115.32692474365234 \tValidation Loss: 106.35172563440659\n",
      "\t\t Training MAE: 7.42042163848877 \tValidation MAE: 7.162690162658691\n",
      "\t\t Training MSE: 115.326923828125 \tValidation MSE: 106.35172653198242\n",
      "\n",
      "Epoch 37 \t Training Loss: 116.11862823486328 \tValidation Loss: 106.35365452485927\n",
      "\t\t Training MAE: 7.478838081359863 \tValidation MAE: 7.162634653203628\n",
      "\t\t Training MSE: 116.11862976074218 \tValidation MSE: 106.353655871223\n",
      "\n",
      "Epoch 39 \t Training Loss: 116.88977386474609 \tValidation Loss: 106.35088752297794\n",
      "\t\t Training MAE: 7.487298011779785 \tValidation MAE: 7.162729235256419\n",
      "\t\t Training MSE: 116.88977325439453 \tValidation MSE: 106.35088572782628\n",
      "\n",
      "Epoch 41 \t Training Loss: 116.1811456298828 \tValidation Loss: 106.35032788444968\n",
      "\t\t Training MAE: 7.470564651489258 \tValidation MAE: 7.162718015558579\n",
      "\t\t Training MSE: 116.1811459350586 \tValidation MSE: 106.35032766005573\n",
      "\n",
      "Epoch 43 \t Training Loss: 115.18623229980469 \tValidation Loss: 106.31154004265281\n",
      "\t\t Training MAE: 7.43239501953125 \tValidation MAE: 7.161375522613525\n",
      "\t\t Training MSE: 115.18623168945312 \tValidation MSE: 106.31154206219841\n",
      "\n",
      "Epoch 45 \t Training Loss: 116.10132186889649 \tValidation Loss: 106.30839762968175\n",
      "\t\t Training MAE: 7.471881256103516 \tValidation MAE: 7.164589152616613\n",
      "\t\t Training MSE: 116.10131942749024 \tValidation MSE: 106.30839493695427\n",
      "\n",
      "Epoch 47 \t Training Loss: 115.00441833496093 \tValidation Loss: 105.73705448823817\n",
      "\t\t Training MAE: 7.428570289611816 \tValidation MAE: 7.142384753507726\n",
      "\t\t Training MSE: 115.00442199707031 \tValidation MSE: 105.7370558346019\n",
      "\n",
      "Epoch 49 \t Training Loss: 115.04005035400391 \tValidation Loss: 106.376049266142\n",
      "\t\t Training MAE: 7.445307312011718 \tValidation MAE: 7.166620815501494\n",
      "\t\t Training MSE: 115.040048828125 \tValidation MSE: 106.37604993932388\n",
      "\n"
     ]
    }
   ],
   "source": [
    "history = []\n",
    "for i in range(epochs):\n",
    "    \n",
    "    train_mse = 0.0\n",
    "    train_mae = 0.0\n",
    "    train_loss = 0.0\n",
    "    train_preds = []\n",
    "    for x, y in train_loader:\n",
    "        \n",
    "        # Clear the gradients\n",
    "        optimizer.zero_grad()\n",
    "        # Forward Pass\n",
    "        ypred = model(x.view(-1,1500,1))       \n",
    "        # Find the Loss\n",
    "        loss = criterion(ypred,y.view(-1,1))      \n",
    "        # Calculate gradients\n",
    "        loss.backward()       \n",
    "        # Update Weights\n",
    "        optimizer.step()      \n",
    "        # Calculate L1 Loss\n",
    "        train_loss += loss.item()\n",
    "        # Calculate MAE\n",
    "        ypred = ypred.detach().numpy()\n",
    "        train_mae += mean_absolute_error(ypred, y.view(-1,1))\n",
    "        # Calculate MSE\n",
    "        train_mse += mean_squared_error(ypred, y.view(-1,1))\n",
    "        # R^2\n",
    "        \n",
    "        train_preds.append(ypred)\n",
    "        \n",
    "    valid_mse = 0.0\n",
    "    valid_mae = 0.0\n",
    "    valid_loss = 0.0\n",
    "    val_preds = []\n",
    "    for x, y in val_loader:\n",
    "        # Forward Pass\n",
    "        ypred = model(x.view(-1,1500,1))\n",
    "        # Find the Loss\n",
    "        loss = criterion(ypred,y.view(-1,1))\n",
    "        # Calculate L1 Loss\n",
    "        valid_loss += loss.item()\n",
    "        # Calculate MAE\n",
    "        ypred = ypred.detach().numpy()\n",
    "        valid_mae += mean_absolute_error(ypred, y.view(-1,1))\n",
    "        # Calculate MSE\n",
    "        valid_mse += mean_squared_error(ypred, y.view(-1,1))\n",
    "        \n",
    "        val_preds.append(ypred)\n",
    "\n",
    "    history.append((train_loss/len(train_loader),valid_loss/len(val_loader)))\n",
    "    if i%2 == 0:\n",
    "        torch.save(model, 'lstm_single_output')\n",
    "        print(f'Epoch {i+1} \\t Training Loss: {train_loss/len(train_loader)} \\tValidation Loss: {valid_loss/len(val_loader)}')\n",
    "        print(f'\\t\\t Training MAE: {train_mae/len(train_loader)} \\tValidation MAE: {valid_mae/len(val_loader)}')\n",
    "        print(f'\\t\\t Training MSE: {train_mse/len(train_loader)} \\tValidation MSE: {valid_mse/len(val_loader)}')\n",
    "        print()\n",
    "    \n",
    "    "
   ]
  },
  {
   "cell_type": "markdown",
   "id": "ff6c0686-94e3-4457-94c3-2cde0be486dc",
   "metadata": {},
   "source": [
    "## Plot Loss"
   ]
  },
  {
   "cell_type": "code",
   "execution_count": 50,
   "id": "9f7491fb-a02a-4c51-9da1-34a547645a6e",
   "metadata": {},
   "outputs": [],
   "source": [
    "history = torch.tensor(history)"
   ]
  },
  {
   "cell_type": "code",
   "execution_count": 51,
   "id": "083c1a38-c3d6-4670-bb45-21d9cf4cf73f",
   "metadata": {},
   "outputs": [],
   "source": [
    "#torch.save(model, 'lstm_bh_epochs')"
   ]
  },
  {
   "cell_type": "code",
   "execution_count": 54,
   "id": "81ed3991-053e-4bbd-8b89-6537d10c1586",
   "metadata": {},
   "outputs": [
    {
     "data": {
      "image/png": "[encoded data removed]",
      "text/plain": [
       "<Figure size 432x216 with 1 Axes>"
      ]
     },
     "metadata": {
      "needs_background": "light"
     },
     "output_type": "display_data"
    }
   ],
   "source": [
    "plot_loss(history, maxy = 50)"
   ]
  },
  {
   "cell_type": "code",
   "execution_count": null,
   "id": "a1a903df-0a42-4831-af50-a39e895ac712",
   "metadata": {},
   "outputs": [],
   "source": [
    "#test set actual vs predicted\n",
    "test_set = timeseries(x_test,y_test)\n",
    "test_pred = model(test_set[:][0].view(-1,1500,1)).view(-1)\n",
    "plt.scatter(test_set[:][1].view(-1), test_pred.detach().numpy(),label='predicted')\n",
    "plt.show()"
   ]
  },
  {
   "cell_type": "code",
   "execution_count": 50,
   "id": "416656c0-b79b-4c7c-9fe4-691445b0c1c2",
   "metadata": {},
   "outputs": [],
   "source": [
    "test_pred = model(test_set[:][0].view(-1,1500,1)).view(-1)"
   ]
  }
 ],
 "metadata": {
  "kernelspec": {
   "display_name": "Python 3 (ipykernel)",
   "language": "python",
   "name": "python3"
  },
  "language_info": {
   "codemirror_mode": {
    "name": "ipython",
    "version": 3
   },
   "file_extension": ".py",
   "mimetype": "text/x-python",
   "name": "python",
   "nbconvert_exporter": "python",
   "pygments_lexer": "ipython3",
   "version": "3.9.5"
  }
 },
 "nbformat": 4,
 "nbformat_minor": 5
}
