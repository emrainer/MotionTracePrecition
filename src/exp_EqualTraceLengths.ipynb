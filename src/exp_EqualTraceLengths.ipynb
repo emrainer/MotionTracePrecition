{
 "cells": [
  {
   "cell_type": "code",
   "execution_count": 2,
   "id": "9f179829-ee0d-4a09-97b8-bcfd0ef42479",
   "metadata": {},
   "outputs": [],
   "source": [
    "import os\n",
    "import pandas as pd\n",
    "import numpy as np\n",
    "import matplotlib.pyplot as plt     \n",
    "import re\n",
    "# File Loading\n",
    "from trace_file_loader import get_breath_df, equalize_len_trace\n",
    "from lossplots import plot_loss\n",
    "# SkLearn Packages\n",
    "from sklearn.preprocessing import StandardScaler\n",
    "from sklearn.model_selection import train_test_split\n",
    "from sklearn.metrics import mean_squared_error\n",
    "from sklearn.metrics import mean_absolute_error\n",
    "# Torch Packages\n",
    "import torch\n",
    "import torch.nn as nn\n",
    "import torch.nn.functional as F\n",
    "from torch import nn\n",
    "from torch.utils.data import Dataset, DataLoader\n",
    "from torch.nn.utils.rnn import pack_padded_sequence, pad_packed_sequence "
   ]
  },
  {
   "cell_type": "markdown",
   "id": "8f0a96d9-2f0f-4ba4-824d-6c7fc1670b02",
   "metadata": {},
   "source": [
    "# Load and Clean Data\n",
    "\n",
    "Data is stored in csv files. A data frame is created with the values:\n",
    "- Trace - Shortened trace to be used as model input (ex. 1400 points before start of breathold, 100 points after start of breathhold)\n",
    "- Csv_breath_holds - Breath hold length listed in CSV file\n",
    "- Data_breath_holds - Breath hold length found using the derivative of the full trace\n",
    "- Full_trace - Complete breath trace data (given in CSV file)\n",
    "- breathhold_idx - Indices of the full trace identified as breathhold due to the derivative being zero\n",
    "- bh_start_end - Indices of the full trace where the breathhold starts and ends (based on breathhold_idx)"
   ]
  },
  {
   "cell_type": "code",
   "execution_count": 3,
   "id": "9d54ad53-6243-4304-bd6e-b431de5fd9b3",
   "metadata": {},
   "outputs": [],
   "source": [
    "beforeBH_len = 1400\n",
    "afterBH_len = 100\n",
    "trace_len = beforeBH_len+afterBH_len"
   ]
  },
  {
   "cell_type": "code",
   "execution_count": 4,
   "id": "6ad94f72-e350-4d1a-abfd-89aeb38b4738",
   "metadata": {},
   "outputs": [],
   "source": [
    "# breath_df = get_breath_df('data_sdx_', 1400, 100, True)\n",
    "# breath_df.to_pickle('breath_pickle')"
   ]
  },
  {
   "cell_type": "code",
   "execution_count": 5,
   "id": "baf72878-4ffa-474f-b4e8-208fcd35a9f1",
   "metadata": {},
   "outputs": [],
   "source": [
    "breath_df = pd.read_pickle('breath_pickle')"
   ]
  },
  {
   "cell_type": "code",
   "execution_count": 6,
   "id": "35d2f0b5-4adf-49e6-9961-66ae68be57c7",
   "metadata": {},
   "outputs": [],
   "source": [
    "under2 = breath_df[abs(breath_df['Csv_breath_holds']-breath_df['Data_breath_holds'])<=2]\n",
    "under2 = under2.reset_index(drop=True)"
   ]
  },
  {
   "cell_type": "code",
   "execution_count": 7,
   "id": "0ccf24e1-d8c8-4b50-a808-8fd07674f962",
   "metadata": {},
   "outputs": [],
   "source": [
    "trace_lens = [len(row) for row in under2['Trace']]"
   ]
  },
  {
   "cell_type": "code",
   "execution_count": 8,
   "id": "7ee46496-ba44-4fee-91d3-7a2c2cfeaecc",
   "metadata": {},
   "outputs": [
    {
     "name": "stdout",
     "output_type": "stream",
     "text": [
      "Average trace len: 5751.174911292006 \t75th Percentile: 6312.5 \tMax trace len: 24720\n"
     ]
    }
   ],
   "source": [
    "print('Average trace len:', np.mean(trace_lens), '\\t75th Percentile:', np.percentile(trace_lens, 75), '\\tMax trace len:',max(trace_lens))"
   ]
  },
  {
   "cell_type": "code",
   "execution_count": null,
   "id": "0b83dc19-492b-4e5d-b2d6-ccd9fe89821c",
   "metadata": {},
   "outputs": [],
   "source": []
  },
  {
   "cell_type": "code",
   "execution_count": null,
   "id": "19a7024c-eed1-4227-bca7-90900f7a0929",
   "metadata": {},
   "outputs": [],
   "source": []
  },
  {
   "cell_type": "code",
   "execution_count": 9,
   "id": "a3ee8305-8acb-454d-8091-dff4c7141328",
   "metadata": {},
   "outputs": [],
   "source": [
    "# trace_len = 10000\n",
    "# equalize_len_trace(under2, trace_len)"
   ]
  },
  {
   "cell_type": "markdown",
   "id": "33e3abb6-8dca-436c-b4ae-b915f2d8126e",
   "metadata": {},
   "source": [
    "**Discrepancies:** Only considering files where the breathhold length listed in the CSV files is within 2 seconds of the breathhold length identified using the derivative of the trace to avoid using innacurate breath hold indices."
   ]
  },
  {
   "cell_type": "markdown",
   "id": "12844402-cb01-4b65-9adf-6d6d33d5d951",
   "metadata": {},
   "source": [
    "# Classification \n",
    "\n",
    "- **Goal:** Binary classification. \"Short\" breathholds are in the lower quartile of breath hold lengths and \"long\" breatholds are in the upper quartile of breath hold lengths.\n",
    "- **Encoded as:** short (0) and long (1)"
   ]
  },
  {
   "cell_type": "markdown",
   "id": "0efebb74-7c24-42c8-93b2-7c209a409259",
   "metadata": {},
   "source": [
    " "
   ]
  },
  {
   "cell_type": "code",
   "execution_count": 10,
   "id": "69d24444-087d-4319-a326-b2b7b085a5ad",
   "metadata": {},
   "outputs": [],
   "source": [
    "q25 = under2['Data_breath_holds'].quantile(.10)\n",
    "q75 = under2['Data_breath_holds'].quantile(.90)"
   ]
  },
  {
   "cell_type": "code",
   "execution_count": 11,
   "id": "a806a296-00f7-4021-8b78-ff6477865e52",
   "metadata": {},
   "outputs": [],
   "source": [
    "under2 = under2[(under2['Data_breath_holds'] < q25) | (under2['Data_breath_holds'] > q75)] # only consider breathholds in upper and lower quartiles"
   ]
  },
  {
   "cell_type": "code",
   "execution_count": 12,
   "id": "af361727-2e77-4375-a5d3-de89cd7b1486",
   "metadata": {},
   "outputs": [],
   "source": [
    "under2['class'] = np.where(under2['Data_breath_holds'] < q25, 0, 1) # create encoded column: short (0), long (1)"
   ]
  },
  {
   "cell_type": "code",
   "execution_count": 13,
   "id": "ff1f6b7c-db98-4dff-9576-2693b40977bb",
   "metadata": {},
   "outputs": [],
   "source": [
    "short = under2[under2['class']==0]\n",
    "long = under2[under2['class']==1]"
   ]
  },
  {
   "cell_type": "code",
   "execution_count": 14,
   "id": "eaf6a329-03f7-4f08-ade8-932a475d011f",
   "metadata": {},
   "outputs": [
    {
     "name": "stdout",
     "output_type": "stream",
     "text": [
      "(476, 7) (478, 7)\n"
     ]
    }
   ],
   "source": [
    "print(long.shape, short.shape)"
   ]
  },
  {
   "cell_type": "code",
   "execution_count": 15,
   "id": "70e041ab-3236-40e0-b5c5-3d2d8e685633",
   "metadata": {},
   "outputs": [],
   "source": [
    "trace_lens2 = [len(row) for row in under2['Trace']]"
   ]
  },
  {
   "cell_type": "code",
   "execution_count": 16,
   "id": "6ca76e41-6493-4a9f-a88c-f5129fcb5970",
   "metadata": {},
   "outputs": [
    {
     "data": {
      "text/plain": [
       "21258"
      ]
     },
     "execution_count": 16,
     "metadata": {},
     "output_type": "execute_result"
    }
   ],
   "source": [
    "max(trace_lens2)"
   ]
  },
  {
   "cell_type": "markdown",
   "id": "a7dc4cfb-2ace-462e-a2f7-426df7ec05c0",
   "metadata": {},
   "source": [
    "# Split and Normalize Data"
   ]
  },
  {
   "cell_type": "code",
   "execution_count": 17,
   "id": "9dda7cea-7102-41f7-816c-9e4151d98055",
   "metadata": {},
   "outputs": [],
   "source": [
    "df = under2"
   ]
  },
  {
   "cell_type": "code",
   "execution_count": 18,
   "id": "82d8b26c-9358-4a83-95b0-d9ca5b24da34",
   "metadata": {},
   "outputs": [],
   "source": [
    "x_train, x_test, y_train, y_test = train_test_split(df['Trace'], df['class'], test_size=0.20)"
   ]
  },
  {
   "cell_type": "code",
   "execution_count": 19,
   "id": "78b1203f-cd85-4a39-8bc0-0c82bed2aa6d",
   "metadata": {},
   "outputs": [],
   "source": [
    "x_train, x_val, y_train, y_val = train_test_split(x_train, y_train, test_size=0.2, random_state=2)"
   ]
  },
  {
   "cell_type": "code",
   "execution_count": 20,
   "id": "ffb82aa5-d582-426e-8f7d-96d67e59c4d6",
   "metadata": {},
   "outputs": [],
   "source": [
    "def normalize(x_train, x_val):\n",
    "    u = np.mean([item for sublist in x_train for item in sublist])\n",
    "    std = np.std([item for sublist in x_train for item in sublist])\n",
    "    \n",
    "    train = []\n",
    "    for row in x_train:\n",
    "        normalized_row = []\n",
    "        for x in row:\n",
    "            normalized_row.append((x-u)/std)\n",
    "        train.append(normalized_row)\n",
    "    \n",
    "    val = []\n",
    "    for row in x_val:\n",
    "        normalized_row = []\n",
    "        for x in row:\n",
    "            normalized_row.append((x-u)/std)\n",
    "        val.append(normalized_row)\n",
    "    \n",
    "    return train, val\n",
    "    \n"
   ]
  },
  {
   "cell_type": "code",
   "execution_count": 21,
   "id": "686a1bac-61f1-4431-8cf0-0ca57be31b39",
   "metadata": {},
   "outputs": [],
   "source": [
    "x_train2, x_val2 = normalize(x_train, x_val)"
   ]
  },
  {
   "cell_type": "code",
   "execution_count": 22,
   "id": "ce649c24-4f7b-432a-b070-781c5d3557a7",
   "metadata": {},
   "outputs": [],
   "source": [
    "x_train2, x_test2 = normalize(x_train, x_test)"
   ]
  },
  {
   "cell_type": "code",
   "execution_count": 23,
   "id": "968bda57-aefe-433b-82f4-f4e03c494ad5",
   "metadata": {},
   "outputs": [
    {
     "data": {
      "text/plain": [
       "[<matplotlib.lines.Line2D at 0x7f2ab35f3880>]"
      ]
     },
     "execution_count": 23,
     "metadata": {},
     "output_type": "execute_result"
    },
    {
     "data": {
      "image/png": "[encoded data removed]",
      "text/plain": [
       "<Figure size 432x288 with 1 Axes>"
      ]
     },
     "metadata": {
      "needs_background": "light"
     },
     "output_type": "display_data"
    }
   ],
   "source": [
    "plt.plot(x_train2[0])"
   ]
  },
  {
   "cell_type": "markdown",
   "id": "7233fa0b-177b-47e0-aaca-997550d16eb2",
   "metadata": {},
   "source": [
    "# Equalize Lengths"
   ]
  },
  {
   "cell_type": "code",
   "execution_count": 24,
   "id": "f2e43e81-a45b-431a-abaa-aad91724463d",
   "metadata": {},
   "outputs": [],
   "source": [
    "y_train = np.array(y_train)\n",
    "y_val = np.array(y_val)\n",
    "y_test = np.array(y_test)"
   ]
  },
  {
   "cell_type": "code",
   "execution_count": 25,
   "id": "68c4bec3-12fb-448e-9a4a-4fabf0f63695",
   "metadata": {},
   "outputs": [],
   "source": [
    "def equalize_lengths(df, trim_len):\n",
    "    equal_traces = []\n",
    "    for i in range(len(df)):\n",
    "        curve = df[i]\n",
    "        if len(curve) > trim_len:\n",
    "            start_idx = len(curve)-trim_len\n",
    "            equal_traces.append(curve[start_idx:])\n",
    "        elif len(curve) < trim_len:\n",
    "            num_zeros = trim_len - len(curve)\n",
    "            \n",
    "            random_nums = (np.random.random_sample(num_zeros)-0.5)\n",
    "            box_pts = 100\n",
    "            box = np.ones(box_pts)/box_pts\n",
    "            random_nums = np.convolve(random_nums, box, mode = 'same')\n",
    "            random_nums = random_nums[:num_zeros]\n",
    "            #zeros = np.zeros([1, num_zeros])[0]\n",
    "            equal_traces.append(np.concatenate((random_nums, curve)))\n",
    "        else:\n",
    "            equal_traces.append(curve)\n",
    "        \n",
    "        \n",
    "            \n",
    "    return np.array(equal_traces)"
   ]
  },
  {
   "cell_type": "code",
   "execution_count": 26,
   "id": "514f2966-ccb3-4cc3-93f7-594ec4bef342",
   "metadata": {},
   "outputs": [],
   "source": [
    "x_train3 = equalize_lengths(x_train2, 10000)\n",
    "x_val3 = equalize_lengths(x_val2, 10000)\n",
    "x_test3 = equalize_lengths(x_test2, 10000)"
   ]
  },
  {
   "cell_type": "markdown",
   "id": "f71dee5e-c047-4e3d-949c-e53a35ad5e62",
   "metadata": {},
   "source": [
    " "
   ]
  },
  {
   "cell_type": "markdown",
   "id": "0e792c22-6e51-4076-9ed5-6ec9ef086243",
   "metadata": {},
   "source": [
    "# Initialize Data for Model and Create DataLoader"
   ]
  },
  {
   "cell_type": "code",
   "execution_count": 27,
   "id": "3294b7f1-a286-42b9-ba7c-344398408cab",
   "metadata": {},
   "outputs": [],
   "source": [
    "#dataset\n",
    "from torch.utils.data import Dataset"
   ]
  },
  {
   "cell_type": "code",
   "execution_count": 28,
   "id": "c2900eb0-d954-4b1a-ae92-63039f118b33",
   "metadata": {},
   "outputs": [],
   "source": [
    "class timeseries(Dataset):\n",
    "    def __init__(self,x,y):\n",
    "        self.x = torch.tensor(x,dtype=torch.float32)\n",
    "        self.y = torch.tensor(y,dtype=torch.float32)\n",
    "        self.len = len(x)\n",
    "\n",
    "    def __getitem__(self,idx):\n",
    "        return self.x[idx],self.y[idx]\n",
    "  \n",
    "    def __len__(self):\n",
    "        return self.len"
   ]
  },
  {
   "cell_type": "code",
   "execution_count": 29,
   "id": "724654d2-6141-4d48-94b2-dff6413589ff",
   "metadata": {},
   "outputs": [],
   "source": [
    "dataset = timeseries(x_train3,y_train)\n",
    "valid_dataset = timeseries(x_val3,y_val)\n",
    "test_dataset = timeseries(x_test3,y_test)"
   ]
  },
  {
   "cell_type": "code",
   "execution_count": 30,
   "id": "aefe9bcb-8efa-4ae6-96aa-fd97165b0617",
   "metadata": {},
   "outputs": [],
   "source": [
    "train_loader = DataLoader(dataset,shuffle=True,batch_size=300)\n",
    "val_loader = DataLoader(valid_dataset,shuffle=False,batch_size=300)\n",
    "test_loader = DataLoader(test_dataset,shuffle=False,batch_size=300)"
   ]
  },
  {
   "cell_type": "code",
   "execution_count": 31,
   "id": "0fceeaf4-3163-43f8-82db-234a99521ea7",
   "metadata": {},
   "outputs": [
    {
     "name": "stdout",
     "output_type": "stream",
     "text": [
      "Training Shape torch.Size([610, 10000]) torch.Size([610])\n"
     ]
    }
   ],
   "source": [
    "print(\"Training Shape\", dataset.x.shape, dataset.y.shape)"
   ]
  },
  {
   "cell_type": "markdown",
   "id": "442d8893-7de2-4e97-b822-30c4f14b4a61",
   "metadata": {},
   "source": [
    "# Define LSTM Model "
   ]
  },
  {
   "cell_type": "code",
   "execution_count": 32,
   "id": "983ecf3c-2076-431f-8e4b-884d4c20b10e",
   "metadata": {},
   "outputs": [],
   "source": [
    "class round_zero_decimals(torch.autograd.Function):\n",
    "    @staticmethod\n",
    "    def forward(ctx, input):\n",
    "        ctx.input = input\n",
    "        # this can be changed for other decimal places\n",
    "        n_digits = 0                                     \n",
    "        exp = torch.pow(10,torch.tensor(n_digits))\n",
    "        return torch.div( torch.round( input*exp ), exp)\n",
    "   \n",
    "    @staticmethod\n",
    "    def backward(ctx, grad_output):\n",
    "        grad_input = grad_output.clone()\n",
    "        return grad_input\n",
    "\n",
    "roundActivation = round_zero_decimals.apply "
   ]
  },
  {
   "cell_type": "code",
   "execution_count": 33,
   "id": "90beab7b-17eb-4592-945c-f99b9637a2ac",
   "metadata": {},
   "outputs": [],
   "source": [
    "class myLSTM_Model(nn.Module):\n",
    "    def __init__(self, input_size=1, hidden_size=10, num_layers=2):\n",
    "        super(myLSTM_Model,self).__init__()\n",
    "        self.num_layers = num_layers #number of layers\n",
    "        self.input_size = input_size #input size\n",
    "        self.hidden_size = hidden_size #hidden state\n",
    "        \n",
    "        self.lstm = nn.LSTM(input_size=input_size, hidden_size=hidden_size,\n",
    "                          num_layers=num_layers, batch_first=True)\n",
    "        self.linear = nn.Linear(in_features=hidden_size, out_features=1)\n",
    "        #self.sigmoid = nn.Sigmoid()\n",
    "    \n",
    "    def forward(self, x):\n",
    "        out_pack, (ht, ct) = self.lstm(x)\n",
    "        #output = output[:,-1,:] #look at yannet's code\n",
    "        output = self.linear(ht[-1])\n",
    "        return output\n",
    "        \n",
    "\n",
    "model = myLSTM_Model() "
   ]
  },
  {
   "cell_type": "code",
   "execution_count": 34,
   "id": "36a57185-3588-4795-9e26-50f4b4a2b8eb",
   "metadata": {},
   "outputs": [
    {
     "name": "stdout",
     "output_type": "stream",
     "text": [
      "myLSTM_Model(\n",
      "  (lstm): LSTM(1, 10, num_layers=2, batch_first=True)\n",
      "  (linear): Linear(in_features=10, out_features=1, bias=True)\n",
      ")\n"
     ]
    }
   ],
   "source": [
    "print(model)"
   ]
  },
  {
   "cell_type": "code",
   "execution_count": 35,
   "id": "abaafe09-ab0a-41a1-9b77-a33196960e92",
   "metadata": {},
   "outputs": [],
   "source": [
    "# Initialize History\n",
    "history = []"
   ]
  },
  {
   "cell_type": "code",
   "execution_count": 36,
   "id": "a0ed150e-79eb-4f92-ad72-70ebad527c32",
   "metadata": {},
   "outputs": [],
   "source": [
    "# Declaring Optimizer\n",
    "optimizer = torch.optim.Adam(model.parameters(),lr=0.1)\n",
    "epochs = 15"
   ]
  },
  {
   "cell_type": "markdown",
   "id": "c421bc38-96ec-4f08-b358-f0c2a108af68",
   "metadata": {},
   "source": [
    "## Training Loop"
   ]
  },
  {
   "cell_type": "markdown",
   "id": "b57f2ebf-c150-48ea-a7c9-c6ffc500b5d6",
   "metadata": {},
   "source": [
    " Try predicting breathhold values\n",
    " Smaller training/simple case\n",
    " Simulated data (have amplitude be the same, only change length of breathhold)"
   ]
  },
  {
   "cell_type": "code",
   "execution_count": 37,
   "id": "ecc180e6-7555-49c5-bb19-2856dcad8491",
   "metadata": {},
   "outputs": [],
   "source": [
    "trace_len = len(x_train3[0])"
   ]
  },
  {
   "cell_type": "code",
   "execution_count": 38,
   "id": "96446d6d-ddb9-470b-b1d7-02a024ceafb9",
   "metadata": {},
   "outputs": [
    {
     "name": "stdout",
     "output_type": "stream",
     "text": [
      "Epoch 1 \t Training cross entropy loss: 0.681006133556366 \tValidation cross entropy loss: 0.6542536616325378\n",
      "Epoch 2 \t Training cross entropy loss: 0.6505251129468282 \tValidation cross entropy loss: 0.678636908531189\n",
      "Epoch 3 \t Training cross entropy loss: 0.6437262097994486 \tValidation cross entropy loss: 0.7131925225257874\n",
      "Epoch 4 \t Training cross entropy loss: 0.754819413026174 \tValidation cross entropy loss: 0.6886511445045471\n",
      "Epoch 5 \t Training cross entropy loss: 0.6791146000226339 \tValidation cross entropy loss: 0.6874920725822449\n",
      "Epoch 6 \t Training cross entropy loss: 0.6622509161631266 \tValidation cross entropy loss: 0.7194135785102844\n",
      "Epoch 7 \t Training cross entropy loss: 0.7264431715011597 \tValidation cross entropy loss: 0.6930214166641235\n",
      "Epoch 8 \t Training cross entropy loss: 0.6688596407572428 \tValidation cross entropy loss: 0.6803905367851257\n",
      "Epoch 9 \t Training cross entropy loss: 0.6690670847892761 \tValidation cross entropy loss: 0.6761037707328796\n",
      "Epoch 10 \t Training cross entropy loss: 0.6408013502756754 \tValidation cross entropy loss: 0.6775171756744385\n",
      "Epoch 11 \t Training cross entropy loss: 0.603875478108724 \tValidation cross entropy loss: 0.7332822680473328\n",
      "Epoch 12 \t Training cross entropy loss: 0.5987296203772227 \tValidation cross entropy loss: 0.7300880551338196\n",
      "Epoch 13 \t Training cross entropy loss: 0.6224039196968079 \tValidation cross entropy loss: 0.674964427947998\n",
      "Epoch 14 \t Training cross entropy loss: 0.6167526245117188 \tValidation cross entropy loss: 0.6758485436439514\n",
      "Epoch 15 \t Training cross entropy loss: 0.572825034459432 \tValidation cross entropy loss: 0.6939029097557068\n"
     ]
    }
   ],
   "source": [
    "for i in range(epochs):\n",
    "    \n",
    "    # Training Loss\n",
    "    train_loss = 0.0\n",
    "    train_preds = []\n",
    "    model.train()\n",
    "    for x, y in train_loader:  \n",
    "        # Clear the gradients\n",
    "        optimizer.zero_grad()\n",
    "        # Forward Pass\n",
    "        roundActivation = round_zero_decimals.apply \n",
    "        ypred = model(x.view(-1,trace_len,1))\n",
    "        # Find the Loss\n",
    "        loss = F.binary_cross_entropy_with_logits(ypred,y.view(-1,1))   # change loss func\n",
    "        # Calculate gradients\n",
    "        loss.backward()       \n",
    "        # Update Weights\n",
    "        optimizer.step()      \n",
    "        train_loss += loss.item()\n",
    "        train_preds.append(ypred)\n",
    "    \n",
    "    # Validation Loss\n",
    "    valid_loss = 0.0\n",
    "    val_preds = []\n",
    "    model.eval()\n",
    "    for x, y in val_loader:\n",
    "        # Forward Pass\n",
    "        roundActivation = round_zero_decimals.apply \n",
    "        ypred = model(x.view(-1,trace_len,1))\n",
    "        # Find the Loss\n",
    "        loss = F.binary_cross_entropy_with_logits(ypred,y.view(-1,1))\n",
    "        valid_loss += loss.item()\n",
    "        val_preds.append(ypred)\n",
    "    \n",
    "    if i%5 == 0:\n",
    "        torch.save(model, 'lstm_bh')\n",
    "        \n",
    "    history.append((train_loss/len(train_loader),valid_loss/len(val_loader)))\n",
    "    print(f'Epoch {i+1} \\t Training cross entropy loss: {train_loss/len(train_loader)} \\tValidation cross entropy loss: {valid_loss/len(val_loader)}')\n"
   ]
  },
  {
   "cell_type": "code",
   "execution_count": 39,
   "id": "083c1a38-c3d6-4670-bb45-21d9cf4cf73f",
   "metadata": {},
   "outputs": [],
   "source": [
    "torch.save(model, 'lstm_bh')"
   ]
  },
  {
   "cell_type": "markdown",
   "id": "ff6c0686-94e3-4457-94c3-2cde0be486dc",
   "metadata": {},
   "source": [
    "## Plot Loss"
   ]
  },
  {
   "cell_type": "code",
   "execution_count": 40,
   "id": "9f7491fb-a02a-4c51-9da1-34a547645a6e",
   "metadata": {},
   "outputs": [],
   "source": [
    "history = torch.tensor(history)"
   ]
  },
  {
   "cell_type": "code",
   "execution_count": 41,
   "id": "81ed3991-053e-4bbd-8b89-6537d10c1586",
   "metadata": {},
   "outputs": [
    {
     "data": {
      "image/png": "[encoded data removed]",
      "text/plain": [
       "<Figure size 432x216 with 1 Axes>"
      ]
     },
     "metadata": {
      "needs_background": "light"
     },
     "output_type": "display_data"
    }
   ],
   "source": [
    "plot_loss(history, maxy = 50)"
   ]
  },
  {
   "cell_type": "code",
   "execution_count": 44,
   "id": "416656c0-b79b-4c7c-9fe4-691445b0c1c2",
   "metadata": {},
   "outputs": [],
   "source": [
    "#test set actual vs predicted\n",
    "test_set = timeseries(x_test3,y_test)"
   ]
  },
  {
   "cell_type": "code",
   "execution_count": 45,
   "id": "07fb5daf-2c3c-4f66-8ac2-80503a6114ac",
   "metadata": {},
   "outputs": [],
   "source": [
    "test_pred = model(test_set[:][0][0:50].view(-1,10000,1)).view(-1)"
   ]
  },
  {
   "cell_type": "code",
   "execution_count": 46,
   "id": "62ab8a62-44ef-4dfa-b228-cba7dd60398a",
   "metadata": {},
   "outputs": [
    {
     "name": "stdout",
     "output_type": "stream",
     "text": [
      "Testing loss:  0.6772978\n"
     ]
    }
   ],
   "source": [
    "testloss = F.binary_cross_entropy_with_logits(test_pred.view(-1,1),test_set.y[0:50].view(-1,1))\n",
    "print(\"Testing loss: \", testloss.detach().numpy())"
   ]
  }
 ],
 "metadata": {
  "kernelspec": {
   "display_name": "Python 3 (ipykernel)",
   "language": "python",
   "name": "python3"
  },
  "language_info": {
   "codemirror_mode": {
    "name": "ipython",
    "version": 3
   },
   "file_extension": ".py",
   "mimetype": "text/x-python",
   "name": "python",
   "nbconvert_exporter": "python",
   "pygments_lexer": "ipython3",
   "version": "3.9.5"
  }
 },
 "nbformat": 4,
 "nbformat_minor": 5
}
