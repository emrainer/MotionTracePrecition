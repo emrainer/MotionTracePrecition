{
 "cells": [
  {
   "cell_type": "code",
   "execution_count": 1,
   "id": "9f179829-ee0d-4a09-97b8-bcfd0ef42479",
   "metadata": {},
   "outputs": [],
   "source": [
    "import os\n",
    "import pandas as pd\n",
    "import numpy as np\n",
    "import matplotlib.pyplot as plt     \n",
    "import re\n",
    "# File Loading\n",
    "from trace_file_loader import get_breath_df\n",
    "from lossplots import plot_loss\n",
    "# SkLearn Packages\n",
    "from sklearn.preprocessing import StandardScaler\n",
    "from sklearn.model_selection import train_test_split\n",
    "from sklearn.metrics import mean_squared_error\n",
    "from sklearn.metrics import mean_absolute_error\n",
    "# Torch Packages\n",
    "import torch\n",
    "import torch.nn as nn\n",
    "import torch.nn.functional as F\n",
    "from torch import nn\n",
    "from torch.utils.data import Dataset, DataLoader\n",
    "from torch.nn.utils.rnn import pack_padded_sequence, pad_packed_sequence "
   ]
  },
  {
   "cell_type": "markdown",
   "id": "8f0a96d9-2f0f-4ba4-824d-6c7fc1670b02",
   "metadata": {},
   "source": [
    "# Load and Clean Data\n",
    "\n",
    "Data is stored in csv files. A data frame is created with the values:\n",
    "- Trace - Shortened trace to be used as model input (ex. 1400 points before start of breathold, 100 points after start of breathhold)\n",
    "- Csv_breath_holds - Breath hold length listed in CSV file\n",
    "- Data_breath_holds - Breath hold length found using the derivative of the full trace\n",
    "- Full_trace - Complete breath trace data (given in CSV file)\n",
    "- breathhold_idx - Indices of the full trace identified as breathhold due to the derivative being zero\n",
    "- bh_start_end - Indices of the full trace where the breathhold starts and ends (based on breathhold_idx)"
   ]
  },
  {
   "cell_type": "code",
   "execution_count": 2,
   "id": "9d54ad53-6243-4304-bd6e-b431de5fd9b3",
   "metadata": {},
   "outputs": [],
   "source": [
    "beforeBH_len = 1400\n",
    "afterBH_len = 100\n",
    "trace_len = beforeBH_len+afterBH_len"
   ]
  },
  {
   "cell_type": "code",
   "execution_count": 3,
   "id": "6ad94f72-e350-4d1a-abfd-89aeb38b4738",
   "metadata": {},
   "outputs": [],
   "source": [
    "#breath_df = get_breath_df('data_sdx_', 1400, 100)\n",
    "#breath_df.to_pickle('breath_pickle')"
   ]
  },
  {
   "cell_type": "code",
   "execution_count": 4,
   "id": "baf72878-4ffa-474f-b4e8-208fcd35a9f1",
   "metadata": {},
   "outputs": [],
   "source": [
    "breath_df = pd.read_pickle('breath_pickle')"
   ]
  },
  {
   "cell_type": "code",
   "execution_count": 5,
   "id": "c04ac4a9-88b4-4141-9f04-c33a86a788bb",
   "metadata": {},
   "outputs": [
    {
     "data": {
      "text/html": [
       "<div>\n",
       "<style scoped>\n",
       "    .dataframe tbody tr th:only-of-type {\n",
       "        vertical-align: middle;\n",
       "    }\n",
       "\n",
       "    .dataframe tbody tr th {\n",
       "        vertical-align: top;\n",
       "    }\n",
       "\n",
       "    .dataframe thead th {\n",
       "        text-align: right;\n",
       "    }\n",
       "</style>\n",
       "<table border=\"1\" class=\"dataframe\">\n",
       "  <thead>\n",
       "    <tr style=\"text-align: right;\">\n",
       "      <th></th>\n",
       "      <th>Trace</th>\n",
       "      <th>Csv_breath_holds</th>\n",
       "      <th>Data_breath_holds</th>\n",
       "      <th>Full_trace</th>\n",
       "      <th>breathhold_idx</th>\n",
       "      <th>bh_start_end</th>\n",
       "    </tr>\n",
       "  </thead>\n",
       "  <tbody>\n",
       "    <tr>\n",
       "      <th>0</th>\n",
       "      <td>[0.0003, 0.0006, 0.001, 0.0014, 0.0019, 0.0023...</td>\n",
       "      <td>31.29</td>\n",
       "      <td>31.69</td>\n",
       "      <td>[0.0003, 0.0006, 0.001, 0.0014, 0.0019, 0.0023...</td>\n",
       "      <td>[2661, 2662, 2663, 2664, 2665, 2666, 2667, 266...</td>\n",
       "      <td>(2661, 5829)</td>\n",
       "    </tr>\n",
       "    <tr>\n",
       "      <th>1</th>\n",
       "      <td>[0.0006, 0.0009, 0.0013, 0.0017, 0.0022, 0.002...</td>\n",
       "      <td>30.61</td>\n",
       "      <td>31.40</td>\n",
       "      <td>[0.0006, 0.0009, 0.0013, 0.0017, 0.0022, 0.002...</td>\n",
       "      <td>[2386, 2387, 2388, 2389, 2390, 2391, 2392, 239...</td>\n",
       "      <td>(2386, 5525)</td>\n",
       "    </tr>\n",
       "  </tbody>\n",
       "</table>\n",
       "</div>"
      ],
      "text/plain": [
       "                                               Trace  Csv_breath_holds  \\\n",
       "0  [0.0003, 0.0006, 0.001, 0.0014, 0.0019, 0.0023...             31.29   \n",
       "1  [0.0006, 0.0009, 0.0013, 0.0017, 0.0022, 0.002...             30.61   \n",
       "\n",
       "   Data_breath_holds                                         Full_trace  \\\n",
       "0              31.69  [0.0003, 0.0006, 0.001, 0.0014, 0.0019, 0.0023...   \n",
       "1              31.40  [0.0006, 0.0009, 0.0013, 0.0017, 0.0022, 0.002...   \n",
       "\n",
       "                                      breathhold_idx  bh_start_end  \n",
       "0  [2661, 2662, 2663, 2664, 2665, 2666, 2667, 266...  (2661, 5829)  \n",
       "1  [2386, 2387, 2388, 2389, 2390, 2391, 2392, 239...  (2386, 5525)  "
      ]
     },
     "execution_count": 5,
     "metadata": {},
     "output_type": "execute_result"
    }
   ],
   "source": [
    "breath_df.head(2)"
   ]
  },
  {
   "cell_type": "markdown",
   "id": "33e3abb6-8dca-436c-b4ae-b915f2d8126e",
   "metadata": {},
   "source": [
    "**Discrepancies:** Only considering files where the breathhold length listed in the CSV files is within 2 seconds of the breathhold length identified using the derivative of the trace to avoid using innacurate breath hold indices."
   ]
  },
  {
   "cell_type": "code",
   "execution_count": 6,
   "id": "35d2f0b5-4adf-49e6-9961-66ae68be57c7",
   "metadata": {},
   "outputs": [],
   "source": [
    "under2 = breath_df[abs(breath_df['Csv_breath_holds']-breath_df['Data_breath_holds'])<=2]"
   ]
  },
  {
   "cell_type": "markdown",
   "id": "12844402-cb01-4b65-9adf-6d6d33d5d951",
   "metadata": {},
   "source": [
    "# Classification \n",
    "\n",
    "- **Goal:** Binary classification. \"Short\" breathholds are in the lower quartile of breath hold lengths and \"long\" breatholds are in the upper quartile of breath hold lengths.\n",
    "- **Encoded as:** short (0) and long (1)"
   ]
  },
  {
   "cell_type": "markdown",
   "id": "0efebb74-7c24-42c8-93b2-7c209a409259",
   "metadata": {},
   "source": [
    " "
   ]
  },
  {
   "cell_type": "code",
   "execution_count": 7,
   "id": "69d24444-087d-4319-a326-b2b7b085a5ad",
   "metadata": {},
   "outputs": [],
   "source": [
    "q25 = under2['Data_breath_holds'].quantile(.25)\n",
    "q75 = under2['Data_breath_holds'].quantile(.75)"
   ]
  },
  {
   "cell_type": "code",
   "execution_count": 8,
   "id": "a806a296-00f7-4021-8b78-ff6477865e52",
   "metadata": {},
   "outputs": [],
   "source": [
    "under2 = under2[(under2['Data_breath_holds'] < q25) | (under2['Data_breath_holds'] > q75)] # only consider breathholds in upper and lower quartiles"
   ]
  },
  {
   "cell_type": "code",
   "execution_count": 9,
   "id": "af361727-2e77-4375-a5d3-de89cd7b1486",
   "metadata": {},
   "outputs": [],
   "source": [
    "under2['class'] = np.where(under2['Data_breath_holds'] < q25, 0, 1) # create encoded column: short (0), long (1)"
   ]
  },
  {
   "cell_type": "code",
   "execution_count": 10,
   "id": "40ce7e74-6286-463a-85a6-74aa4c7ab8a8",
   "metadata": {},
   "outputs": [],
   "source": [
    "df = under2"
   ]
  },
  {
   "cell_type": "code",
   "execution_count": 15,
   "id": "5a4dd049-d237-40ec-b853-7445923b78a5",
   "metadata": {},
   "outputs": [
    {
     "data": {
      "text/plain": [
       "array([0.0008, 0.0018, 0.0021, ..., 0.4612, 0.467 , 0.4731], dtype=float32)"
      ]
     },
     "execution_count": 15,
     "metadata": {},
     "output_type": "execute_result"
    }
   ],
   "source": [
    "df['Trace'][9]"
   ]
  },
  {
   "cell_type": "markdown",
   "id": "a7dc4cfb-2ace-462e-a2f7-426df7ec05c0",
   "metadata": {},
   "source": [
    "# Split and Normalize Data"
   ]
  },
  {
   "cell_type": "code",
   "execution_count": 11,
   "id": "82d8b26c-9358-4a83-95b0-d9ca5b24da34",
   "metadata": {},
   "outputs": [],
   "source": [
    "x_train, x_test, y_train, y_test = train_test_split(df['Trace'], df['class'], test_size=0.70)"
   ]
  },
  {
   "cell_type": "code",
   "execution_count": 12,
   "id": "78b1203f-cd85-4a39-8bc0-0c82bed2aa6d",
   "metadata": {},
   "outputs": [],
   "source": [
    "x_train, x_val, y_train, y_val = train_test_split(x_train, y_train, test_size=0.4, random_state=1)"
   ]
  },
  {
   "cell_type": "code",
   "execution_count": 15,
   "id": "00aa00e5-fe39-408d-8d50-66f6163271e8",
   "metadata": {},
   "outputs": [
    {
     "data": {
      "text/plain": [
       "462     [0.0011, 0.0014, 0.0019, 0.0026, 0.0033, 0.004...\n",
       "18      [0.0014, 0.0018, 0.0023, 0.0029, 0.0037, 0.004...\n",
       "5665    [0.0026, 0.0031, 0.0039, 0.005, 0.0064, 0.0081...\n",
       "2046    [0.0006, 0.0014, 0.0017, 0.002, 0.0024, 0.0028...\n",
       "3689    [0.0004, 0.0011, 0.0022, 0.0036, 0.0052, 0.007...\n",
       "                              ...                        \n",
       "1683    [0.0037, 0.0078, 0.009, 0.0106, 0.0126, 0.015,...\n",
       "376     [0.002, 0.0025, 0.0032, 0.0042, 0.0054, 0.0069...\n",
       "4809    [0.0003, 0.0007, 0.0012, 0.0018, 0.0025, 0.003...\n",
       "5313    [0.0061, 0.0128, 0.0147, 0.0174, 0.0209, 0.025...\n",
       "3504    [0.0005, 0.0009, 0.0012, 0.0016, 0.002, 0.0025...\n",
       "Name: Trace, Length: 430, dtype: object"
      ]
     },
     "execution_count": 15,
     "metadata": {},
     "output_type": "execute_result"
    }
   ],
   "source": [
    "x_train"
   ]
  },
  {
   "cell_type": "code",
   "execution_count": 14,
   "id": "644112d4-5f32-4d47-9cd3-265ada9ae6b2",
   "metadata": {},
   "outputs": [
    {
     "data": {
      "text/plain": [
       "pandas.core.series.Series"
      ]
     },
     "execution_count": 14,
     "metadata": {},
     "output_type": "execute_result"
    }
   ],
   "source": [
    "type(x_train)"
   ]
  },
  {
   "cell_type": "code",
   "execution_count": 13,
   "id": "271273b9-7a12-4f75-ac76-2b21ebb955ba",
   "metadata": {},
   "outputs": [],
   "source": [
    "# Change type of each row from np.array to list to put into scaler\n",
    "x_train = np.array([list(row) for row in x_train])\n",
    "x_val = np.array([list(row) for row in x_val])\n",
    "x_test = np.array([list(row) for row in x_test])\n",
    "\n",
    "y_train = np.array(y_train)\n",
    "y_val = np.array(y_val)\n",
    "y_test = np.array(y_test)"
   ]
  },
  {
   "cell_type": "code",
   "execution_count": 14,
   "id": "0f79c6b4-ca75-4514-af28-2c44b527d550",
   "metadata": {},
   "outputs": [],
   "source": [
    "scaler = StandardScaler() # creates the scaler\n",
    "scaler.fit(x_train)\n",
    "x_train = scaler.transform(x_train)\n",
    "x_val = scaler.transform(x_val)\n",
    "x_test = scaler.transform(x_test)"
   ]
  },
  {
   "cell_type": "markdown",
   "id": "f71dee5e-c047-4e3d-949c-e53a35ad5e62",
   "metadata": {},
   "source": [
    " "
   ]
  },
  {
   "cell_type": "markdown",
   "id": "0e792c22-6e51-4076-9ed5-6ec9ef086243",
   "metadata": {},
   "source": [
    "# Initialize Data for Model and Create DataLoader"
   ]
  },
  {
   "cell_type": "code",
   "execution_count": 15,
   "id": "3294b7f1-a286-42b9-ba7c-344398408cab",
   "metadata": {},
   "outputs": [],
   "source": [
    "#dataset\n",
    "from torch.utils.data import Dataset"
   ]
  },
  {
   "cell_type": "code",
   "execution_count": 16,
   "id": "c2900eb0-d954-4b1a-ae92-63039f118b33",
   "metadata": {},
   "outputs": [],
   "source": [
    "class timeseries(Dataset):\n",
    "    def __init__(self,x,y):\n",
    "        self.x = torch.tensor(x,dtype=torch.float32)\n",
    "        self.y = torch.tensor(y,dtype=torch.float32)\n",
    "        self.len = x.shape[0]\n",
    "\n",
    "    def __getitem__(self,idx):\n",
    "        return self.x[idx],self.y[idx]\n",
    "  \n",
    "    def __len__(self):\n",
    "        return self.len"
   ]
  },
  {
   "cell_type": "code",
   "execution_count": 17,
   "id": "724654d2-6141-4d48-94b2-dff6413589ff",
   "metadata": {},
   "outputs": [],
   "source": [
    "dataset = timeseries(x_train,y_train)\n",
    "valid_dataset = timeseries(x_val,y_val)\n",
    "test_dataset = timeseries(x_test,y_test)"
   ]
  },
  {
   "cell_type": "code",
   "execution_count": 18,
   "id": "aefe9bcb-8efa-4ae6-96aa-fd97165b0617",
   "metadata": {},
   "outputs": [],
   "source": [
    "train_loader = DataLoader(dataset,shuffle=True,batch_size=50)\n",
    "val_loader = DataLoader(valid_dataset,shuffle=False,batch_size=50)\n",
    "test_loader = DataLoader(test_dataset,shuffle=False,batch_size=50)"
   ]
  },
  {
   "cell_type": "code",
   "execution_count": 19,
   "id": "0fceeaf4-3163-43f8-82db-234a99521ea7",
   "metadata": {},
   "outputs": [
    {
     "name": "stdout",
     "output_type": "stream",
     "text": [
      "Training Shape torch.Size([430, 1500]) torch.Size([430])\n"
     ]
    }
   ],
   "source": [
    "print(\"Training Shape\", dataset.x.shape, dataset.y.shape)"
   ]
  },
  {
   "cell_type": "markdown",
   "id": "442d8893-7de2-4e97-b822-30c4f14b4a61",
   "metadata": {},
   "source": [
    "# Define LSTM Model "
   ]
  },
  {
   "cell_type": "code",
   "execution_count": 20,
   "id": "983ecf3c-2076-431f-8e4b-884d4c20b10e",
   "metadata": {},
   "outputs": [],
   "source": [
    "class round_zero_decimals(torch.autograd.Function):\n",
    "    @staticmethod\n",
    "    def forward(ctx, input):\n",
    "        ctx.input = input\n",
    "        # this can be changed for other decimal places\n",
    "        n_digits = 0                                     \n",
    "        exp = torch.pow(10,torch.tensor(n_digits))\n",
    "        return torch.div( torch.round( input*exp ), exp)\n",
    "   \n",
    "    @staticmethod\n",
    "    def backward(ctx, grad_output):\n",
    "        grad_input = grad_output.clone()\n",
    "        return grad_input\n",
    "\n",
    "roundActivation = round_zero_decimals.apply "
   ]
  },
  {
   "cell_type": "code",
   "execution_count": 21,
   "id": "90beab7b-17eb-4592-945c-f99b9637a2ac",
   "metadata": {},
   "outputs": [],
   "source": [
    "class myLSTM_Model(nn.Module):\n",
    "    def __init__(self, input_size=1, hidden_size=50, num_layers=1):\n",
    "        super(myLSTM_Model,self).__init__()\n",
    "        self.num_layers = num_layers #number of layers\n",
    "        self.input_size = input_size #input size\n",
    "        self.hidden_size = hidden_size #hidden state\n",
    "        \n",
    "        self.lstm = nn.LSTM(input_size=input_size, hidden_size=hidden_size,\n",
    "                          num_layers=num_layers, batch_first=True)\n",
    "        self.linear = nn.Linear(in_features=hidden_size, out_features=1)\n",
    "        #self.sigmoid = nn.Sigmoid()\n",
    "    \n",
    "    def forward(self, x):\n",
    "        out_pack, (ht, ct) = self.lstm(x)\n",
    "        # output = output[:,-1,:] #look at yannet's code\n",
    "        output = self.linear(ht[-1])\n",
    "        return output\n",
    "        \n",
    "\n",
    "model = myLSTM_Model() "
   ]
  },
  {
   "cell_type": "code",
   "execution_count": 22,
   "id": "36a57185-3588-4795-9e26-50f4b4a2b8eb",
   "metadata": {},
   "outputs": [
    {
     "name": "stdout",
     "output_type": "stream",
     "text": [
      "myLSTM_Model(\n",
      "  (lstm): LSTM(1, 50, batch_first=True)\n",
      "  (linear): Linear(in_features=50, out_features=1, bias=True)\n",
      ")\n"
     ]
    }
   ],
   "source": [
    "print(model)"
   ]
  },
  {
   "cell_type": "code",
   "execution_count": 24,
   "id": "a0ed150e-79eb-4f92-ad72-70ebad527c32",
   "metadata": {},
   "outputs": [],
   "source": [
    "# Declaring Optimizer\n",
    "optimizer = torch.optim.Adam(model.parameters(),lr=0.01)\n",
    "epochs = 30"
   ]
  },
  {
   "cell_type": "markdown",
   "id": "c421bc38-96ec-4f08-b358-f0c2a108af68",
   "metadata": {},
   "source": [
    "## Training Loop"
   ]
  },
  {
   "cell_type": "code",
   "execution_count": 25,
   "id": "96446d6d-ddb9-470b-b1d7-02a024ceafb9",
   "metadata": {},
   "outputs": [
    {
     "name": "stdout",
     "output_type": "stream",
     "text": [
      "Epoch 1 \t Training cross entropy loss: 0.6806788444519043 \tValidation cross entropy loss: 0.6613220274448395\n",
      "Epoch 2 \t Training cross entropy loss: 0.6680062214533488 \tValidation cross entropy loss: 0.6620684762795767\n"
     ]
    },
    {
     "ename": "KeyboardInterrupt",
     "evalue": "",
     "output_type": "error",
     "traceback": [
      "\u001b[0;31m---------------------------------------------------------------------------\u001b[0m",
      "\u001b[0;31mKeyboardInterrupt\u001b[0m                         Traceback (most recent call last)",
      "\u001b[0;32m<ipython-input-25-d1189db03020>\u001b[0m in \u001b[0;36m<module>\u001b[0;34m\u001b[0m\n\u001b[1;32m     14\u001b[0m         \u001b[0mloss\u001b[0m \u001b[0;34m=\u001b[0m \u001b[0mF\u001b[0m\u001b[0;34m.\u001b[0m\u001b[0mbinary_cross_entropy_with_logits\u001b[0m\u001b[0;34m(\u001b[0m\u001b[0mypred\u001b[0m\u001b[0;34m,\u001b[0m\u001b[0my\u001b[0m\u001b[0;34m.\u001b[0m\u001b[0mview\u001b[0m\u001b[0;34m(\u001b[0m\u001b[0;34m-\u001b[0m\u001b[0;36m1\u001b[0m\u001b[0;34m,\u001b[0m\u001b[0;36m1\u001b[0m\u001b[0;34m)\u001b[0m\u001b[0;34m)\u001b[0m   \u001b[0;31m# change loss func\u001b[0m\u001b[0;34m\u001b[0m\u001b[0;34m\u001b[0m\u001b[0m\n\u001b[1;32m     15\u001b[0m         \u001b[0;31m# Calculate gradients\u001b[0m\u001b[0;34m\u001b[0m\u001b[0;34m\u001b[0m\u001b[0;34m\u001b[0m\u001b[0m\n\u001b[0;32m---> 16\u001b[0;31m         \u001b[0mloss\u001b[0m\u001b[0;34m.\u001b[0m\u001b[0mbackward\u001b[0m\u001b[0;34m(\u001b[0m\u001b[0;34m)\u001b[0m\u001b[0;34m\u001b[0m\u001b[0;34m\u001b[0m\u001b[0m\n\u001b[0m\u001b[1;32m     17\u001b[0m         \u001b[0;31m# Update Weights\u001b[0m\u001b[0;34m\u001b[0m\u001b[0;34m\u001b[0m\u001b[0;34m\u001b[0m\u001b[0m\n\u001b[1;32m     18\u001b[0m         \u001b[0moptimizer\u001b[0m\u001b[0;34m.\u001b[0m\u001b[0mstep\u001b[0m\u001b[0;34m(\u001b[0m\u001b[0;34m)\u001b[0m\u001b[0;34m\u001b[0m\u001b[0;34m\u001b[0m\u001b[0m\n",
      "\u001b[0;32m/opt/anaconda3/lib/python3.9/site-packages/torch/_tensor.py\u001b[0m in \u001b[0;36mbackward\u001b[0;34m(self, gradient, retain_graph, create_graph, inputs)\u001b[0m\n\u001b[1;32m    305\u001b[0m                 \u001b[0mcreate_graph\u001b[0m\u001b[0;34m=\u001b[0m\u001b[0mcreate_graph\u001b[0m\u001b[0;34m,\u001b[0m\u001b[0;34m\u001b[0m\u001b[0;34m\u001b[0m\u001b[0m\n\u001b[1;32m    306\u001b[0m                 inputs=inputs)\n\u001b[0;32m--> 307\u001b[0;31m         \u001b[0mtorch\u001b[0m\u001b[0;34m.\u001b[0m\u001b[0mautograd\u001b[0m\u001b[0;34m.\u001b[0m\u001b[0mbackward\u001b[0m\u001b[0;34m(\u001b[0m\u001b[0mself\u001b[0m\u001b[0;34m,\u001b[0m \u001b[0mgradient\u001b[0m\u001b[0;34m,\u001b[0m \u001b[0mretain_graph\u001b[0m\u001b[0;34m,\u001b[0m \u001b[0mcreate_graph\u001b[0m\u001b[0;34m,\u001b[0m \u001b[0minputs\u001b[0m\u001b[0;34m=\u001b[0m\u001b[0minputs\u001b[0m\u001b[0;34m)\u001b[0m\u001b[0;34m\u001b[0m\u001b[0;34m\u001b[0m\u001b[0m\n\u001b[0m\u001b[1;32m    308\u001b[0m \u001b[0;34m\u001b[0m\u001b[0m\n\u001b[1;32m    309\u001b[0m     \u001b[0;32mdef\u001b[0m \u001b[0mregister_hook\u001b[0m\u001b[0;34m(\u001b[0m\u001b[0mself\u001b[0m\u001b[0;34m,\u001b[0m \u001b[0mhook\u001b[0m\u001b[0;34m)\u001b[0m\u001b[0;34m:\u001b[0m\u001b[0;34m\u001b[0m\u001b[0;34m\u001b[0m\u001b[0m\n",
      "\u001b[0;32m/opt/anaconda3/lib/python3.9/site-packages/torch/autograd/__init__.py\u001b[0m in \u001b[0;36mbackward\u001b[0;34m(tensors, grad_tensors, retain_graph, create_graph, grad_variables, inputs)\u001b[0m\n\u001b[1;32m    152\u001b[0m         \u001b[0mretain_graph\u001b[0m \u001b[0;34m=\u001b[0m \u001b[0mcreate_graph\u001b[0m\u001b[0;34m\u001b[0m\u001b[0;34m\u001b[0m\u001b[0m\n\u001b[1;32m    153\u001b[0m \u001b[0;34m\u001b[0m\u001b[0m\n\u001b[0;32m--> 154\u001b[0;31m     Variable._execution_engine.run_backward(\n\u001b[0m\u001b[1;32m    155\u001b[0m         \u001b[0mtensors\u001b[0m\u001b[0;34m,\u001b[0m \u001b[0mgrad_tensors_\u001b[0m\u001b[0;34m,\u001b[0m \u001b[0mretain_graph\u001b[0m\u001b[0;34m,\u001b[0m \u001b[0mcreate_graph\u001b[0m\u001b[0;34m,\u001b[0m \u001b[0minputs\u001b[0m\u001b[0;34m,\u001b[0m\u001b[0;34m\u001b[0m\u001b[0;34m\u001b[0m\u001b[0m\n\u001b[1;32m    156\u001b[0m         allow_unreachable=True, accumulate_grad=True)  # allow_unreachable flag\n",
      "\u001b[0;31mKeyboardInterrupt\u001b[0m: "
     ]
    }
   ],
   "source": [
    "history = []\n",
    "for i in range(epochs):\n",
    "    \n",
    "    # Training Loss\n",
    "    train_loss = 0.0\n",
    "    train_preds = []\n",
    "    for x, y in train_loader:  \n",
    "        # Clear the gradients\n",
    "        optimizer.zero_grad()\n",
    "        # Forward Pass\n",
    "        roundActivation = round_zero_decimals.apply \n",
    "        ypred = model(x.view(-1,trace_len,1))\n",
    "        # Find the Loss\n",
    "        loss = F.binary_cross_entropy_with_logits(ypred,y.view(-1,1))   # change loss func\n",
    "        # Calculate gradients\n",
    "        loss.backward()       \n",
    "        # Update Weights\n",
    "        optimizer.step()      \n",
    "        train_loss += loss.item()\n",
    "        train_preds.append(ypred)\n",
    "    \n",
    "    # Validation Loss\n",
    "    valid_loss = 0.0\n",
    "    val_preds = []\n",
    "    for x, y in val_loader:\n",
    "        # Forward Pass\n",
    "        roundActivation = round_zero_decimals.apply \n",
    "        ypred = model(x.view(-1,trace_len,1))\n",
    "        # Find the Loss\n",
    "        loss = F.binary_cross_entropy_with_logits(ypred,y.view(-1,1))\n",
    "        valid_loss += loss.item()\n",
    "        val_preds.append(ypred)\n",
    "\n",
    "    history.append((train_loss/len(train_loader),valid_loss/len(val_loader)))\n",
    "    print(f'Epoch {i+1} \\t Training cross entropy loss: {train_loss/len(train_loader)} \\tValidation cross entropy loss: {valid_loss/len(val_loader)}')\n"
   ]
  },
  {
   "cell_type": "code",
   "execution_count": 27,
   "id": "083c1a38-c3d6-4670-bb45-21d9cf4cf73f",
   "metadata": {},
   "outputs": [],
   "source": [
    "#torch.save(model, 'lstm_bh_epochs')"
   ]
  },
  {
   "cell_type": "markdown",
   "id": "ff6c0686-94e3-4457-94c3-2cde0be486dc",
   "metadata": {},
   "source": [
    "## Plot Loss"
   ]
  },
  {
   "cell_type": "code",
   "execution_count": 26,
   "id": "9f7491fb-a02a-4c51-9da1-34a547645a6e",
   "metadata": {},
   "outputs": [],
   "source": [
    "history = torch.tensor(history)"
   ]
  },
  {
   "cell_type": "code",
   "execution_count": 28,
   "id": "81ed3991-053e-4bbd-8b89-6537d10c1586",
   "metadata": {},
   "outputs": [
    {
     "data": {
      "image/png": "[encoded data removed]",
      "text/plain": [
       "<Figure size 432x216 with 1 Axes>"
      ]
     },
     "metadata": {
      "needs_background": "light"
     },
     "output_type": "display_data"
    }
   ],
   "source": [
    "plot_loss(history, maxy = 50)"
   ]
  },
  {
   "cell_type": "code",
   "execution_count": 29,
   "id": "416656c0-b79b-4c7c-9fe4-691445b0c1c2",
   "metadata": {},
   "outputs": [],
   "source": [
    "#test set actual vs predicted\n",
    "test_set = timeseries(x_test,y_test)\n",
    "test_pred = model(test_set[:][0].view(-1,1500,1)).view(-1)"
   ]
  },
  {
   "cell_type": "code",
   "execution_count": 45,
   "id": "62ab8a62-44ef-4dfa-b228-cba7dd60398a",
   "metadata": {},
   "outputs": [
    {
     "name": "stdout",
     "output_type": "stream",
     "text": [
      "Testing loss:  0.67585933\n"
     ]
    }
   ],
   "source": [
    "testloss = F.binary_cross_entropy_with_logits(test_pred.view(-1,1),test_set.y.view(-1,1))\n",
    "print(\"Testing loss: \", testloss.detach().numpy())"
   ]
  }
 ],
 "metadata": {
  "kernelspec": {
   "display_name": "Python 3 (ipykernel)",
   "language": "python",
   "name": "python3"
  },
  "language_info": {
   "codemirror_mode": {
    "name": "ipython",
    "version": 3
   },
   "file_extension": ".py",
   "mimetype": "text/x-python",
   "name": "python",
   "nbconvert_exporter": "python",
   "pygments_lexer": "ipython3",
   "version": "3.9.5"
  }
 },
 "nbformat": 4,
 "nbformat_minor": 5
}
