{
 "cells": [
  {
   "cell_type": "code",
   "execution_count": 1,
   "id": "79b5faf6",
   "metadata": {},
   "outputs": [],
   "source": [
    "import os\n",
    "import pandas as pd\n",
    "import numpy as np\n",
    "import matplotlib.pyplot as plt     \n",
    "import numpy as np\n",
    "import re\n",
    "from sklearn.preprocessing import StandardScaler\n",
    "from sklearn.model_selection import train_test_split\n",
    "\n",
    "from sklearn.metrics import mean_squared_error\n",
    "from sklearn.metrics import mean_absolute_error\n",
    "\n",
    "import torch\n",
    "import torch.nn as nn\n",
    "import torch.nn.functional as F\n",
    "from torch.utils.data import Dataset, DataLoader\n",
    "from torch.nn.utils.rnn import pack_padded_sequence, pad_packed_sequence \n",
    "\n",
    "\n",
    "import os, errno\n",
    "import sys\n",
    "from tqdm import trange\n",
    "\n",
    "import torch\n",
    "import torch.nn as nn\n",
    "from torch import optim\n",
    "import torch.nn.functional as F"
   ]
  },
  {
   "cell_type": "markdown",
   "id": "7c45f2ac-d170-47af-9f5a-6d8f9d27feb5",
   "metadata": {},
   "source": [
    "## Generate Data"
   ]
  },
  {
   "cell_type": "code",
   "execution_count": 2,
   "id": "14352c52-4347-43b3-b3d7-a53577daaef8",
   "metadata": {},
   "outputs": [],
   "source": [
    "def fake_data(samp_size, len_wave): \n",
    "    xs =[]\n",
    "    ys = []\n",
    "    for i in range(samp_size):\n",
    "        bh = np.random.randint(500, 4000)\n",
    "        x = np.linspace(0, 50, len_wave-bh)\n",
    "        sinewave = np.sin(x)\n",
    "        next_pt = sinewave[-1]\n",
    "        breath = np.array([sinewave[-1]] * bh)\n",
    "\n",
    "        xs.append(np.concatenate((sinewave,breath)))\n",
    "        ys.append(bh)\n",
    "    \n",
    "    return  pd.DataFrame({\"Trace\":xs, \"Breath_len\": ys})"
   ]
  },
  {
   "cell_type": "code",
   "execution_count": 3,
   "id": "7e6b6c32-db79-491b-92ec-3197d6cef4c5",
   "metadata": {},
   "outputs": [],
   "source": [
    "breath_df = fake_data(100, 10000)"
   ]
  },
  {
   "cell_type": "code",
   "execution_count": 4,
   "id": "6fcab249-32d1-4555-aaa7-4b7a11918fd8",
   "metadata": {},
   "outputs": [
    {
     "data": {
      "text/html": [
       "<div>\n",
       "<style scoped>\n",
       "    .dataframe tbody tr th:only-of-type {\n",
       "        vertical-align: middle;\n",
       "    }\n",
       "\n",
       "    .dataframe tbody tr th {\n",
       "        vertical-align: top;\n",
       "    }\n",
       "\n",
       "    .dataframe thead th {\n",
       "        text-align: right;\n",
       "    }\n",
       "</style>\n",
       "<table border=\"1\" class=\"dataframe\">\n",
       "  <thead>\n",
       "    <tr style=\"text-align: right;\">\n",
       "      <th></th>\n",
       "      <th>Trace</th>\n",
       "      <th>Breath_len</th>\n",
       "    </tr>\n",
       "  </thead>\n",
       "  <tbody>\n",
       "    <tr>\n",
       "      <th>0</th>\n",
       "      <td>[0.0, 0.007264210410259747, 0.0145280374921384...</td>\n",
       "      <td>3116</td>\n",
       "    </tr>\n",
       "    <tr>\n",
       "      <th>1</th>\n",
       "      <td>[0.0, 0.005707080079268337, 0.0114139742730701...</td>\n",
       "      <td>1238</td>\n",
       "    </tr>\n",
       "    <tr>\n",
       "      <th>2</th>\n",
       "      <td>[0.0, 0.006353197412559324, 0.0127061383876781...</td>\n",
       "      <td>2129</td>\n",
       "    </tr>\n",
       "    <tr>\n",
       "      <th>3</th>\n",
       "      <td>[0.0, 0.008230359752919348, 0.0164601619815255...</td>\n",
       "      <td>3924</td>\n",
       "    </tr>\n",
       "    <tr>\n",
       "      <th>4</th>\n",
       "      <td>[0.0, 0.007572243248271787, 0.0151440523064648...</td>\n",
       "      <td>3396</td>\n",
       "    </tr>\n",
       "  </tbody>\n",
       "</table>\n",
       "</div>"
      ],
      "text/plain": [
       "                                               Trace  Breath_len\n",
       "0  [0.0, 0.007264210410259747, 0.0145280374921384...        3116\n",
       "1  [0.0, 0.005707080079268337, 0.0114139742730701...        1238\n",
       "2  [0.0, 0.006353197412559324, 0.0127061383876781...        2129\n",
       "3  [0.0, 0.008230359752919348, 0.0164601619815255...        3924\n",
       "4  [0.0, 0.007572243248271787, 0.0151440523064648...        3396"
      ]
     },
     "execution_count": 4,
     "metadata": {},
     "output_type": "execute_result"
    }
   ],
   "source": [
    "breath_df.head()"
   ]
  },
  {
   "cell_type": "markdown",
   "id": "736c5f7b-deb9-4bad-84c9-2c872262fad3",
   "metadata": {},
   "source": [
    "## Create Windowed Data"
   ]
  },
  {
   "cell_type": "code",
   "execution_count": 5,
   "id": "c390fc25-fe97-4112-a80d-b9f249530c47",
   "metadata": {},
   "outputs": [],
   "source": [
    "def split_trace(sequence, n_steps, n_output):\n",
    "    X, y = list(), list()\n",
    "    for i in range(len(sequence)):\n",
    "        end_ix = i + n_steps\n",
    "        # check if we are beyond the sequence\n",
    "        if end_ix > len(sequence)-n_output:\n",
    "            break\n",
    "\n",
    "        seq_x, seq_y = sequence[i:end_ix], sequence[end_ix:end_ix+n_output]\n",
    "\n",
    "        X.append(seq_x)\n",
    "        y.append(seq_y)\n",
    "    return np.array(X), np.array(y)"
   ]
  },
  {
   "cell_type": "code",
   "execution_count": 6,
   "id": "5645c0e6-4fdb-475b-aeea-5539d3f8993d",
   "metadata": {},
   "outputs": [],
   "source": [
    "num_outputs = 10"
   ]
  },
  {
   "cell_type": "code",
   "execution_count": 7,
   "id": "b79aa9e0-0291-420b-9f01-c7662881e944",
   "metadata": {},
   "outputs": [],
   "source": [
    "traces = []\n",
    "next_pt = []\n",
    "for row in breath_df['Trace']:\n",
    "    Xs, ys = split_trace(row, 100, num_outputs)\n",
    "    traces.append(Xs)\n",
    "    next_pt.append(ys)\n",
    "    "
   ]
  },
  {
   "cell_type": "code",
   "execution_count": 8,
   "id": "4c2bacab-12f5-4912-a647-9bc133000a4f",
   "metadata": {},
   "outputs": [],
   "source": [
    "traces2 = [np.array(x, dtype='float32') for sublist in traces for x in sublist]\n",
    "next_pt2 = [x for sublist in next_pt for x in sublist]"
   ]
  },
  {
   "cell_type": "code",
   "execution_count": 9,
   "id": "a890c207-0cea-46cf-8292-4d624b9c476f",
   "metadata": {},
   "outputs": [],
   "source": [
    "breath_df2 = pd.DataFrame({\"Trace\":traces2, \"Next_pts\": next_pt2})"
   ]
  },
  {
   "cell_type": "code",
   "execution_count": 10,
   "id": "c1b717e4-cd9e-4a6e-86bb-09df14b24a2e",
   "metadata": {},
   "outputs": [
    {
     "data": {
      "text/html": [
       "<div>\n",
       "<style scoped>\n",
       "    .dataframe tbody tr th:only-of-type {\n",
       "        vertical-align: middle;\n",
       "    }\n",
       "\n",
       "    .dataframe tbody tr th {\n",
       "        vertical-align: top;\n",
       "    }\n",
       "\n",
       "    .dataframe thead th {\n",
       "        text-align: right;\n",
       "    }\n",
       "</style>\n",
       "<table border=\"1\" class=\"dataframe\">\n",
       "  <thead>\n",
       "    <tr style=\"text-align: right;\">\n",
       "      <th></th>\n",
       "      <th>Trace</th>\n",
       "      <th>Next_pts</th>\n",
       "    </tr>\n",
       "  </thead>\n",
       "  <tbody>\n",
       "    <tr>\n",
       "      <th>0</th>\n",
       "      <td>[0.0, 0.0072642104, 0.014528037, 0.021791099, ...</td>\n",
       "      <td>[0.6642031971676563, 0.6696160479537421, 0.674...</td>\n",
       "    </tr>\n",
       "    <tr>\n",
       "      <th>1</th>\n",
       "      <td>[0.0072642104, 0.014528037, 0.021791099, 0.029...</td>\n",
       "      <td>[0.6696160479537421, 0.6749935634699104, 0.680...</td>\n",
       "    </tr>\n",
       "    <tr>\n",
       "      <th>2</th>\n",
       "      <td>[0.014528037, 0.021791099, 0.029053008, 0.0363...</td>\n",
       "      <td>[0.6749935634699104, 0.68033545994763, 0.68564...</td>\n",
       "    </tr>\n",
       "    <tr>\n",
       "      <th>3</th>\n",
       "      <td>[0.021791099, 0.029053008, 0.036313385, 0.0435...</td>\n",
       "      <td>[0.68033545994763, 0.685641455497967, 0.690911...</td>\n",
       "    </tr>\n",
       "    <tr>\n",
       "      <th>4</th>\n",
       "      <td>[0.029053008, 0.036313385, 0.04357185, 0.05082...</td>\n",
       "      <td>[0.685641455497967, 0.6909112701264595, 0.6961...</td>\n",
       "    </tr>\n",
       "  </tbody>\n",
       "</table>\n",
       "</div>"
      ],
      "text/plain": [
       "                                               Trace  \\\n",
       "0  [0.0, 0.0072642104, 0.014528037, 0.021791099, ...   \n",
       "1  [0.0072642104, 0.014528037, 0.021791099, 0.029...   \n",
       "2  [0.014528037, 0.021791099, 0.029053008, 0.0363...   \n",
       "3  [0.021791099, 0.029053008, 0.036313385, 0.0435...   \n",
       "4  [0.029053008, 0.036313385, 0.04357185, 0.05082...   \n",
       "\n",
       "                                            Next_pts  \n",
       "0  [0.6642031971676563, 0.6696160479537421, 0.674...  \n",
       "1  [0.6696160479537421, 0.6749935634699104, 0.680...  \n",
       "2  [0.6749935634699104, 0.68033545994763, 0.68564...  \n",
       "3  [0.68033545994763, 0.685641455497967, 0.690911...  \n",
       "4  [0.685641455497967, 0.6909112701264595, 0.6961...  "
      ]
     },
     "execution_count": 10,
     "metadata": {},
     "output_type": "execute_result"
    }
   ],
   "source": [
    "breath_df2.head()"
   ]
  },
  {
   "cell_type": "markdown",
   "id": "83dd5e27-0cc1-4cc4-b4ea-1ff89c551f6c",
   "metadata": {},
   "source": [
    "## Train Test Split"
   ]
  },
  {
   "cell_type": "code",
   "execution_count": 11,
   "id": "a8034fbf-f19a-4f97-b932-b9ac09b4d3c5",
   "metadata": {},
   "outputs": [],
   "source": [
    "df = breath_df2.copy()"
   ]
  },
  {
   "cell_type": "code",
   "execution_count": 12,
   "id": "c4092fcb-5b8d-4a8b-b4e6-d31a1856fec7",
   "metadata": {},
   "outputs": [],
   "source": [
    "X_train, X_test, y_train, y_test =  train_test_split(df['Trace'], df['Next_pts'], test_size=0.20)"
   ]
  },
  {
   "cell_type": "code",
   "execution_count": 13,
   "id": "d8bdb651-bcdf-4947-86b4-803459279953",
   "metadata": {},
   "outputs": [],
   "source": [
    "X_train, X_val, y_train, y_val = train_test_split(X_train, y_train, test_size=0.4, random_state=1)"
   ]
  },
  {
   "cell_type": "markdown",
   "id": "bf1793b5-76aa-4496-82b7-07156a2672fc",
   "metadata": {},
   "source": [
    "## Scale Data"
   ]
  },
  {
   "cell_type": "code",
   "execution_count": 17,
   "id": "9d4c315c-5f9d-47b7-b414-7a9ec4f0db01",
   "metadata": {},
   "outputs": [],
   "source": [
    "def normalize(x_train, x_val):\n",
    "    u = np.mean([item for sublist in x_train for item in sublist])\n",
    "    std = np.std([item for sublist in x_train for item in sublist])\n",
    "    \n",
    "    train = []\n",
    "    for row in x_train:\n",
    "        normalized_row = []\n",
    "        for x in row:\n",
    "            normalized_row.append((x-u)/std)\n",
    "        train.append(normalized_row)\n",
    "    \n",
    "    val = []\n",
    "    for row in x_val:\n",
    "        normalized_row = []\n",
    "        for x in row:\n",
    "            normalized_row.append((x-u)/std)\n",
    "        val.append(normalized_row)\n",
    "    \n",
    "    return train, val"
   ]
  },
  {
   "cell_type": "code",
   "execution_count": 18,
   "id": "d09322d0-201a-48ae-8dbd-53b12b483500",
   "metadata": {},
   "outputs": [],
   "source": [
    "x_train, x_val = normalize(X_train, X_val)"
   ]
  },
  {
   "cell_type": "markdown",
   "id": "116155ac-9816-47bb-8a4a-18d167513f05",
   "metadata": {},
   "source": [
    "## Reshape"
   ]
  },
  {
   "cell_type": "code",
   "execution_count": 20,
   "id": "ac48c7a0-3b43-415a-b003-637d247cfd7f",
   "metadata": {},
   "outputs": [],
   "source": [
    "def reshape_series(series):\n",
    "    series = np.transpose(series)\n",
    "    return series.reshape(series.shape[0],series.shape[1], 1)"
   ]
  },
  {
   "cell_type": "code",
   "execution_count": 21,
   "id": "661ddaf4-e45e-4c70-9a8d-49ddfbf22757",
   "metadata": {},
   "outputs": [],
   "source": [
    "x_train = reshape_series(x_train)\n",
    "x_val = reshape_series(x_val)"
   ]
  },
  {
   "cell_type": "code",
   "execution_count": 22,
   "id": "8c83d45f-dea2-464e-bddd-5796091fa8e7",
   "metadata": {},
   "outputs": [],
   "source": [
    "y_train2 = reshape_series(list(y_train))\n",
    "y_val2 = reshape_series(list(y_val))"
   ]
  },
  {
   "cell_type": "markdown",
   "id": "6a06bf26-c66b-4f69-ae74-e072edb841ee",
   "metadata": {},
   "source": [
    "## Initialize Data for Model"
   ]
  },
  {
   "cell_type": "code",
   "execution_count": 23,
   "id": "0ec43f79-bdd2-44fa-843b-fe6ad578a6d3",
   "metadata": {},
   "outputs": [],
   "source": [
    "#dataset\n",
    "from torch.utils.data import Dataset"
   ]
  },
  {
   "cell_type": "code",
   "execution_count": 24,
   "id": "ecec2786-4d95-4971-bcd1-c20f5ba836f2",
   "metadata": {},
   "outputs": [],
   "source": [
    "class timeseries(Dataset):\n",
    "    def __init__(self,x,y):\n",
    "        self.x = torch.tensor(x,dtype=torch.float32)\n",
    "        self.y = torch.tensor(y,dtype=torch.float32)\n",
    "        self.len = x.shape[0]\n",
    "\n",
    "    def __getitem__(self,idx):\n",
    "        return self.x[idx],self.y[idx]\n",
    "  \n",
    "    def __len__(self):\n",
    "        return self.len"
   ]
  },
  {
   "cell_type": "code",
   "execution_count": 25,
   "id": "69b78e30-f223-43dd-8a55-48ed3e952565",
   "metadata": {},
   "outputs": [],
   "source": [
    "dataset = timeseries(x_train,y_train2)\n",
    "test_dataset = timeseries(x_val,y_val2)"
   ]
  },
  {
   "cell_type": "code",
   "execution_count": 26,
   "id": "54d7b75c-0cc5-4685-aa4e-8cfa9df51028",
   "metadata": {},
   "outputs": [
    {
     "data": {
      "text/plain": [
       "torch.Size([100, 474768, 1])"
      ]
     },
     "execution_count": 26,
     "metadata": {},
     "output_type": "execute_result"
    }
   ],
   "source": [
    "dataset.x.shape"
   ]
  },
  {
   "cell_type": "code",
   "execution_count": 27,
   "id": "621608fa-5c06-45c2-8412-3ac10cba7321",
   "metadata": {},
   "outputs": [],
   "source": [
    "train_loader = DataLoader(dataset,shuffle=False,batch_size=200)\n",
    "test_loader = DataLoader(test_dataset,shuffle=False,batch_size=200)"
   ]
  },
  {
   "cell_type": "markdown",
   "id": "4c8eea69-d90b-41ca-984f-3241b61c1a7a",
   "metadata": {},
   "source": [
    "## Define LSTM Encoder and Decoder (Multistep Prediction)"
   ]
  },
  {
   "cell_type": "code",
   "execution_count": 28,
   "id": "236caad2-2e37-4552-acaf-a721296a3fd4",
   "metadata": {},
   "outputs": [],
   "source": [
    "# neural network\n",
    "from torch import nn\n",
    "\n",
    "class lstm_encoder(nn.Module):\n",
    "    ''' Encodes a time series sequence '''\n",
    "    \n",
    "    def __init__(self, input_size=1, hidden_size=5, num_layers=1):\n",
    "\n",
    "        super(lstm_encoder, self).__init__()\n",
    "        self.input_size = input_size # the number of features in the input X\n",
    "        self.hidden_size = hidden_size # the number of features in the hidden state h\n",
    "        self.num_layers = num_layers # number of recurrent layers \n",
    "        \n",
    "        # define an LSTM layer\n",
    "        self.lstm = nn.LSTM(input_size=input_size, hidden_size=hidden_size,\n",
    "                            num_layers=num_layers)\n",
    "        \n",
    "    def forward(self, x):\n",
    "        output, self.hidden = self.lstm(x.view(x.shape[0], x.shape[1], self.input_size))\n",
    "        \n",
    "        return output, self.hidden   # hidden gives the hidden state and cell state for the last element in the sequence \n",
    "                                     # give this to decoder\n",
    "    \n",
    "    def init_hidden(self, batch_size):\n",
    "        return (torch.zeros(self.num_layers, batch_size, self.hidden_size),\n",
    "                torch.zeros(self.num_layers, batch_size, self.hidden_size))\n",
    "    \n",
    "        "
   ]
  },
  {
   "cell_type": "code",
   "execution_count": 34,
   "id": "acc6082a-5b8e-4854-8b0a-6b924ca0e3e0",
   "metadata": {},
   "outputs": [],
   "source": [
    "class lstm_decoder(nn.Module):\n",
    "    ''' Decodes hidden state output by encoder '''\n",
    "    \n",
    "    def __init__(self, input_size=1, hidden_size=5, num_layers=1):\n",
    "\n",
    "        super(lstm_decoder, self).__init__()\n",
    "        self.input_size = input_size   # the number of features in the input X\n",
    "        self.hidden_size = hidden_size # the number of features in the hidden state h\n",
    "        self.num_layers = num_layers   # number of recurrent layers\n",
    "\n",
    "        # Define LSTM layer and Linear layer\n",
    "        self.lstm = nn.LSTM(input_size = input_size, hidden_size = hidden_size,\n",
    "                            num_layers = num_layers)\n",
    "        self.linear = nn.Linear(hidden_size, input_size)       \n",
    "    \n",
    "    \n",
    "    def forward(self, x, encoder_hidden_states):\n",
    "        output, self.hidden = self.lstm(x.unsqueeze(0), encoder_hidden_states)\n",
    "        output = self.linear(output.squeeze(0))     \n",
    "        \n",
    "        return output, self.hidden\n"
   ]
  },
  {
   "cell_type": "markdown",
   "id": "74de17f6-f045-4824-87a0-1d08b17159b1",
   "metadata": {},
   "source": [
    "## Define Model"
   ]
  },
  {
   "cell_type": "code",
   "execution_count": 35,
   "id": "d67156e9-70cf-44ed-81f1-6b4517065095",
   "metadata": {},
   "outputs": [],
   "source": [
    "class lstm_seq2seq(nn.Module):\n",
    "    ''' train LSTM encoder-decoder and make predictions '''\n",
    "    \n",
    "    def __init__(self, input_size=1, hidden_size=5):\n",
    "\n",
    "        super(lstm_seq2seq, self).__init__()\n",
    "\n",
    "        self.input_size = input_size   # number of expected features in the input X\n",
    "        self.hidden_size = hidden_size # number of features in the hidden state h\n",
    "        \n",
    "        # Encoder and decoder\n",
    "        self.encoder = lstm_encoder(input_size=input_size, hidden_size=hidden_size)\n",
    "        self.decoder = lstm_decoder(input_size=input_size, hidden_size=hidden_size)\n",
    "        \n",
    "    \n",
    "    def train_model(self, input_tensor, target_tensor, n_epochs, target_len,batch_size,learning_rate = 0.01):\n",
    "        losses = np.full(n_epochs, np.nan)\n",
    "\n",
    "        optimizer = optim.Adam(self.parameters(), lr = learning_rate)\n",
    "        criterion = nn.MSELoss()\n",
    "\n",
    "        # calculate number of batch iterations\n",
    "        n_batches = int(input_tensor.shape[1] / batch_size)\n",
    "\n",
    "        with trange(n_epochs) as tr:\n",
    "            for it in tr:\n",
    "                batch_loss = 0.\n",
    "  \n",
    "                for b in range(n_batches):\n",
    "                    # select data \n",
    "                    input_batch = input_tensor[:, b: b + batch_size, :]\n",
    "                    target_batch = target_tensor[:, b: b + batch_size, :]\n",
    "\n",
    "                    # outputs tensor\n",
    "                    outputs = torch.zeros(target_len, batch_size, input_batch.shape[2])\n",
    "\n",
    "                    # initialize hidden state\n",
    "                    encoder_hidden = self.encoder.init_hidden(batch_size)\n",
    "\n",
    "                    # zero the gradient\n",
    "                    optimizer.zero_grad()\n",
    "\n",
    "                    # encoder outputs\n",
    "                    encoder_output, encoder_hidden = self.encoder(input_batch)\n",
    "\n",
    "                    # decoder with teacher forcing\n",
    "                    decoder_input = input_batch[-1, :, :]   # shape: (batch_size, input_size)\n",
    "                    decoder_hidden = encoder_hidden\n",
    "\n",
    "                    for t in range(target_len): \n",
    "                        decoder_output, decoder_hidden = self.decoder(decoder_input, decoder_hidden)\n",
    "                        outputs[t] = decoder_output\n",
    "                        decoder_input = decoder_output\n",
    "\n",
    "                    # compute the loss \n",
    "                    loss = criterion(outputs, target_batch)\n",
    "                    batch_loss += loss.item()\n",
    "\n",
    "                    # backpropagation\n",
    "                    loss.backward()\n",
    "                    optimizer.step()\n",
    "\n",
    "                # loss for epoch \n",
    "                batch_loss /= n_batches \n",
    "                losses[it] = batch_loss\n",
    "\n",
    "                # progress bar \n",
    "                tr.set_postfix(loss=\"{0:.3f}\".format(batch_loss))\n",
    "\n",
    "        return losses\n",
    "\n",
    "        \n",
    "    def predict(self, input_tensor, target_len):\n",
    "        \n",
    "        # encode input_tensor\n",
    "        input_tensor = input_tensor.unsqueeze(1)     # add in batch size of 1\n",
    "        encoder_output, encoder_hidden = self.encoder(input_tensor)\n",
    "\n",
    "        # initialize tensor for predictions\n",
    "        outputs = torch.zeros(target_len, input_tensor.shape[2])\n",
    "\n",
    "        # decode input_tensor\n",
    "        decoder_input = input_tensor[-1, :, :]\n",
    "        decoder_hidden = encoder_hidden\n",
    "        \n",
    "        for t in range(target_len):\n",
    "            decoder_output, decoder_hidden = self.decoder(decoder_input, decoder_hidden)\n",
    "            outputs[t] = decoder_output.squeeze(0)\n",
    "            decoder_input = decoder_output\n",
    "            \n",
    "        np_outputs = outputs.detach().numpy()\n",
    "        \n",
    "        return np_outputs\n"
   ]
  },
  {
   "cell_type": "markdown",
   "id": "94be609f-0fb7-4635-9c4b-19b486b93df6",
   "metadata": {},
   "source": [
    "## Train model"
   ]
  },
  {
   "cell_type": "code",
   "execution_count": 40,
   "id": "97b2841e",
   "metadata": {},
   "outputs": [],
   "source": [
    "# specify model parameters and train\n",
    "model1 = lstm_seq2seq(input_size=1, hidden_size=5)\n",
    "model2 = lstm_seq2seq(input_size=1, hidden_size=15)\n",
    "model3 = lstm_seq2seq(input_size=1, hidden_size=50)"
   ]
  },
  {
   "cell_type": "code",
   "execution_count": 41,
   "id": "ba522baf-7889-41a9-8434-fd7f69bdb070",
   "metadata": {},
   "outputs": [
    {
     "name": "stdout",
     "output_type": "stream",
     "text": [
      "lstm_seq2seq(\n",
      "  (encoder): lstm_encoder(\n",
      "    (lstm): LSTM(1, 5)\n",
      "  )\n",
      "  (decoder): lstm_decoder(\n",
      "    (lstm): LSTM(1, 5)\n",
      "    (linear): Linear(in_features=5, out_features=1, bias=True)\n",
      "  )\n",
      ")\n"
     ]
    }
   ],
   "source": [
    "print(model1)"
   ]
  },
  {
   "cell_type": "code",
   "execution_count": 42,
   "id": "6115216c-7842-467a-8578-ef17d425ef9b",
   "metadata": {},
   "outputs": [],
   "source": [
    "models = [model1, model2, model3]\n",
    "learning_rate = [0.1, 0.01, .001]\n",
    "hiddensizes = [5, 15, 50]"
   ]
  },
  {
   "cell_type": "code",
   "execution_count": 43,
   "id": "cdc12473-de5a-4756-a8b6-cd878a119f9b",
   "metadata": {},
   "outputs": [
    {
     "name": "stdout",
     "output_type": "stream",
     "text": [
      "Model Details - Hidden Size 5 \t Learning Rate: 0.1\n"
     ]
    },
    {
     "name": "stderr",
     "output_type": "stream",
     "text": [
      "100%|██████████| 4/4 [03:01<00:00, 45.29s/it, loss=0.001]\n"
     ]
    },
    {
     "name": "stdout",
     "output_type": "stream",
     "text": [
      "Training Loss: [0.01362417 0.0006264  0.00058324 0.00057194]\n",
      "\t\t Validation MSE: 0.0004528821460516608 \tValidation MAE: 0.014601215653867882\n",
      "\n",
      "Model Details - Hidden Size 5 \t Learning Rate: 0.01\n"
     ]
    },
    {
     "name": "stderr",
     "output_type": "stream",
     "text": [
      "100%|██████████| 4/4 [02:17<00:00, 34.50s/it, loss=0.000]\n"
     ]
    },
    {
     "name": "stdout",
     "output_type": "stream",
     "text": [
      "Training Loss: [3.75165709e-03 7.20179847e-05 4.14278822e-05 3.87329729e-05]\n",
      "\t\t Validation MSE: 3.1577897990300824e-06 \tValidation MAE: 0.0012524532431996088\n",
      "\n",
      "Model Details - Hidden Size 5 \t Learning Rate: 0.001\n"
     ]
    },
    {
     "name": "stderr",
     "output_type": "stream",
     "text": [
      "100%|██████████| 4/4 [02:18<00:00, 34.51s/it, loss=0.000]\n"
     ]
    },
    {
     "name": "stdout",
     "output_type": "stream",
     "text": [
      "Training Loss: [4.82568033e-02 2.64806190e-04 6.28738835e-05 1.38501901e-05]\n",
      "\t\t Validation MSE: 2.0420970985028764e-05 \tValidation MAE: 0.0017979264441706116\n",
      "\n",
      "Model Details - Hidden Size 15 \t Learning Rate: 0.1\n"
     ]
    },
    {
     "name": "stderr",
     "output_type": "stream",
     "text": [
      "100%|██████████| 4/4 [03:20<00:00, 50.07s/it, loss=0.000]\n"
     ]
    },
    {
     "name": "stdout",
     "output_type": "stream",
     "text": [
      "Training Loss: [2.26881515e-03 6.11912887e-05 6.73828726e-05 4.09616939e-05]\n",
      "\t\t Validation MSE: 1.578213783955952e-05 \tValidation MAE: 0.0014136871568045178\n",
      "\n",
      "Model Details - Hidden Size 15 \t Learning Rate: 0.01\n"
     ]
    },
    {
     "name": "stderr",
     "output_type": "stream",
     "text": [
      "100%|██████████| 4/4 [03:21<00:00, 50.25s/it, loss=0.000]\n"
     ]
    },
    {
     "name": "stdout",
     "output_type": "stream",
     "text": [
      "Training Loss: [2.65330376e-03 5.55413577e-05 4.38047770e-05 2.59084104e-05]\n",
      "\t\t Validation MSE: 3.3602822517601996e-05 \tValidation MAE: 0.004016740253275858\n",
      "\n",
      "Model Details - Hidden Size 15 \t Learning Rate: 0.001\n"
     ]
    },
    {
     "name": "stderr",
     "output_type": "stream",
     "text": [
      "100%|██████████| 4/4 [03:19<00:00, 49.99s/it, loss=0.000]\n"
     ]
    },
    {
     "name": "stdout",
     "output_type": "stream",
     "text": [
      "Training Loss: [1.00294257e-02 1.44338294e-05 1.12982561e-05 8.37232424e-06]\n",
      "\t\t Validation MSE: 1.3593583667603531e-06 \tValidation MAE: 0.00072357341675059\n",
      "\n",
      "Model Details - Hidden Size 50 \t Learning Rate: 0.1\n"
     ]
    },
    {
     "name": "stderr",
     "output_type": "stream",
     "text": [
      "100%|██████████| 4/4 [05:22<00:00, 80.67s/it, loss=0.000]\n"
     ]
    },
    {
     "name": "stdout",
     "output_type": "stream",
     "text": [
      "Training Loss: [6.06167145e-03 1.12053224e-04 8.74379457e-05 6.13670164e-05]\n",
      "\t\t Validation MSE: 2.8767259802914138e-05 \tValidation MAE: 0.0027071941418949945\n",
      "\n",
      "Model Details - Hidden Size 50 \t Learning Rate: 0.01\n"
     ]
    },
    {
     "name": "stderr",
     "output_type": "stream",
     "text": [
      "100%|██████████| 4/4 [04:59<00:00, 74.94s/it, loss=0.000]\n"
     ]
    },
    {
     "name": "stdout",
     "output_type": "stream",
     "text": [
      "Training Loss: [1.49801040e-03 7.44473030e-05 8.95984292e-05 4.06331419e-05]\n",
      "\t\t Validation MSE: 1.36005178172019e-06 \tValidation MAE: 0.0007605575722601605\n",
      "\n",
      "Model Details - Hidden Size 50 \t Learning Rate: 0.001\n"
     ]
    },
    {
     "name": "stderr",
     "output_type": "stream",
     "text": [
      "100%|██████████| 4/4 [05:01<00:00, 75.37s/it, loss=0.000]\n"
     ]
    },
    {
     "name": "stdout",
     "output_type": "stream",
     "text": [
      "Training Loss: [4.44002244e-03 2.40703683e-05 2.10978043e-05 1.99685144e-05]\n",
      "\t\t Validation MSE: 1.4091032254238627e-05 \tValidation MAE: 0.0008563573783428222\n",
      "\n"
     ]
    }
   ],
   "source": [
    "j = 0 \n",
    "for hs in hiddensizes:\n",
    "    for lr in learning_rate:\n",
    "        model = lstm_seq2seq(input_size=1, hidden_size=hs)\n",
    "        print(f'Model Details - Hidden Size {hs} \\t Learning Rate: {lr}')\n",
    "        train_loss = model.train_model(dataset.x, dataset.y, n_epochs = 4, target_len = num_outputs, batch_size = 200, learning_rate = lr)\n",
    "        print(f'Training Loss: {train_loss}')\n",
    "        valid_mse = 0.0\n",
    "        valid_mae = 0.0\n",
    "        val_preds = []\n",
    "        for i in range(len(test_dataset)):\n",
    "            x_t = test_dataset.x[:, i, :]\n",
    "            Y_pred = model.predict(x_t, target_len = num_outputs)\n",
    "            # Calculate MAE\n",
    "            valid_mae += mean_absolute_error(Y_pred,y_val2[:,i])\n",
    "            # Calculate MSE\n",
    "            valid_mse += mean_squared_error(Y_pred, y_val2[:,i])\n",
    "            val_preds.append(Y_pred)\n",
    "        modname = 'lstm_encode_decode_' + str(j)\n",
    "        torch.save(model, modname)\n",
    "        print(f'\\t\\t Validation MSE: {valid_mse/len(test_dataset)} \\tValidation MAE: {valid_mae/len(test_dataset)}')\n",
    "        print()\n",
    "    j += 1"
   ]
  },
  {
   "cell_type": "markdown",
   "id": "7de431e9-f36c-42a2-afb3-1ff48c642914",
   "metadata": {},
   "source": [
    "## Plots"
   ]
  },
  {
   "cell_type": "code",
   "execution_count": 58,
   "id": "6e25d6a5-a189-43f1-bef8-1a3ef67551c8",
   "metadata": {},
   "outputs": [],
   "source": [
    "def plot_train_test_results(lstm_model, Xtrain, Ytrain, Xtest, Ytest, unscaled_xtrain, unscaled_xtest, num_rows = 4):\n",
    "\n",
    "    # input window size\n",
    "    iw = Xtrain.shape[0]\n",
    "    ow = Ytest.shape[0]\n",
    "\n",
    "    # figure setup \n",
    "    num_cols = 2\n",
    "    num_plots = num_rows * num_cols\n",
    "\n",
    "    fig, ax = plt.subplots(num_rows, num_cols, figsize = (10, 13))\n",
    "\n",
    "    # plot training/test predictionsabs\n",
    "    for ii in range(num_rows):\n",
    "        # train set\n",
    "        xt = reshape_series(list(unscaled_xtrain))\n",
    "        \n",
    "        jj = np.random.randint(0, len(Xtrain))\n",
    "        X_train_plt = Xtrain[:, jj, :]\n",
    "        Y_train_pred = lstm_model.predict(torch.from_numpy(X_train_plt).type(torch.Tensor), target_len = ow)\n",
    "\n",
    "        ax[ii, 0].plot(np.arange(0, iw), xt[:, jj, 0], 'k', linewidth = 2, label = 'Input')\n",
    "        ax[ii, 0].plot(np.arange(iw - 1, iw + ow), np.concatenate([[xt[-1, jj, 0]], Ytrain[:, jj, 0]]),\n",
    "                     color = (0.2, 0.42, 0.72), linewidth = 2, label = 'Target')\n",
    "        ax[ii, 0].plot(np.arange(iw - 1, iw + ow),  np.concatenate([[xt[-1, jj, 0]], Y_train_pred[:, 0]]),\n",
    "                     color = (0.76, 0.01, 0.01), linewidth = 2, label = 'Prediction')\n",
    "        ax[ii, 0].set_xlim([0, iw + ow - 1])\n",
    "        ax[ii, 0].set_xlabel('$t$')\n",
    "        ax[ii, 0].set_ylabel('$y$')\n",
    "\n",
    "        # test set\n",
    "        xt = reshape_series(list(unscaled_xtest))\n",
    "        X_test_plt = Xtest[:, jj, :]\n",
    "        Y_test_pred = lstm_model.predict(torch.from_numpy(X_test_plt).type(torch.Tensor), target_len = ow)\n",
    "        \n",
    "        ax[ii, 1].plot(np.arange(0, iw), xt[:, jj, 0], 'k', linewidth = 2, label = 'Input')\n",
    "        ax[ii, 1].plot(np.arange(iw - 1, iw + ow), np.concatenate([[xt[-1, jj, 0]], Ytest[:, jj, 0]]),\n",
    "                     color = (0.2, 0.42, 0.72), linewidth = 2, label = 'Target')\n",
    "        \n",
    "        ax[ii, 1].plot(np.arange(iw - 1, iw + ow), np.concatenate([[xt[-1, jj, 0]], Y_test_pred[:, 0]]),\n",
    "                      color = (0.76, 0.01, 0.01), linewidth = 2, label = 'Prediction')\n",
    "        ax[ii, 1].set_xlim([0, iw + ow - 1])\n",
    "        ax[ii, 1].set_xlabel('$t$')\n",
    "        ax[ii, 1].set_ylabel('$y$')\n",
    "        \n",
    "        # Labels\n",
    "        if ii == 0:\n",
    "            ax[ii, 0].set_title('Train')\n",
    "\n",
    "            ax[ii, 1].legend(bbox_to_anchor=(1, 1))\n",
    "            ax[ii, 1].set_title('Test')\n",
    "\n",
    "        plt.suptitle('LSTM Encoder-Decoder Prediction Examples', x = 0.445, y = 1.)\n",
    "        plt.tight_layout()\n",
    "        plt.subplots_adjust(top = 0.95)\n",
    "        \n",
    "        plt.savefig('prediction_examples4.png')\n",
    "\n",
    "\n",
    "    return "
   ]
  },
  {
   "cell_type": "code",
   "execution_count": 59,
   "id": "41fd9862-135f-4f04-853a-d1d9e4264f45",
   "metadata": {},
   "outputs": [
    {
     "data": {
      "image/png": "[encoded data removed]",
      "text/plain": [
       "<Figure size 720x936 with 8 Axes>"
      ]
     },
     "metadata": {
      "needs_background": "light"
     },
     "output_type": "display_data"
    }
   ],
   "source": [
    "plot_train_test_results(model, x_train, y_train2, x_val, y_val2, X_train, X_val)"
   ]
  },
  {
   "cell_type": "markdown",
   "id": "c949d130-1cde-437e-b233-db56783a4286",
   "metadata": {},
   "source": [
    "## Plot Loss"
   ]
  },
  {
   "cell_type": "code",
   "execution_count": 60,
   "id": "03f7ecbb-d95a-438d-8b18-9f5d51e6556d",
   "metadata": {},
   "outputs": [],
   "source": [
    "def plot_loss(history, ax=None, maxy=None, file=None):\n",
    "    if ax is None:\n",
    "        fig, ax = plt.subplots(1,1, figsize=(5,5))\n",
    "    ax.set_ylabel(\"Loss\")\n",
    "    ax.set_xlabel(\"Epochs\")\n",
    "    loss = history\n",
    "    #val_loss = history[:,1]\n",
    "    if maxy:\n",
    "        ax.set_ylim(0,maxy)\n",
    "    else:\n",
    "        ax.set_ylim(0,torch.max(loss))\n",
    "    ax.spines['top'].set_visible(False)    # turns off the top \"spine\" completely\n",
    "    ax.spines['right'].set_visible(False)\n",
    "    ax.spines['left'].set_linewidth(.5)\n",
    "    ax.spines['bottom'].set_linewidth(.5)\n",
    "    ax.plot(loss, label='MSE')\n",
    "    ax.legend(loc='upper right')\n",
    "    plt.tight_layout()\n",
    "    if file:\n",
    "        plt.savefig(f\"{file}.pdf\")"
   ]
  },
  {
   "cell_type": "code",
   "execution_count": 61,
   "id": "97e20b25-de9d-4ba4-a190-ec822c6c66a2",
   "metadata": {},
   "outputs": [],
   "source": [
    "history = torch.tensor(train_loss)"
   ]
  },
  {
   "cell_type": "code",
   "execution_count": 62,
   "id": "01da0fe2-7cd4-4d97-85d5-f887a7790ea5",
   "metadata": {},
   "outputs": [
    {
     "data": {
      "image/png": "[encoded data removed]",
      "text/plain": [
       "<Figure size 360x360 with 1 Axes>"
      ]
     },
     "metadata": {
      "needs_background": "light"
     },
     "output_type": "display_data"
    }
   ],
   "source": [
    "plot_loss(history)"
   ]
  }
 ],
 "metadata": {
  "kernelspec": {
   "display_name": "Python 3 (ipykernel)",
   "language": "python",
   "name": "python3"
  },
  "language_info": {
   "codemirror_mode": {
    "name": "ipython",
    "version": 3
   },
   "file_extension": ".py",
   "mimetype": "text/x-python",
   "name": "python",
   "nbconvert_exporter": "python",
   "pygments_lexer": "ipython3",
   "version": "3.9.5"
  }
 },
 "nbformat": 4,
 "nbformat_minor": 5
}
