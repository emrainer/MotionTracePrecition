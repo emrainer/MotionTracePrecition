{
 "cells": [
  {
   "cell_type": "code",
   "execution_count": 15,
   "id": "9f179829-ee0d-4a09-97b8-bcfd0ef42479",
   "metadata": {},
   "outputs": [],
   "source": [
    "import os\n",
    "import pandas as pd\n",
    "import numpy as np\n",
    "import matplotlib.pyplot as plt     \n",
    "import numpy as np\n",
    "import re\n",
    "from sklearn.preprocessing import StandardScaler\n",
    "from sklearn.model_selection import train_test_split\n",
    "\n",
    "from sklearn.metrics import mean_squared_error\n",
    "from sklearn.metrics import mean_absolute_error\n",
    "\n",
    "import torch\n",
    "import torch.nn as nn\n",
    "import torch.nn.functional as F\n",
    "from torch.utils.data import Dataset, DataLoader\n",
    "from torch.nn.utils.rnn import pack_padded_sequence, pad_packed_sequence "
   ]
  },
  {
   "cell_type": "markdown",
   "id": "a35394c7-fd4b-468e-84e9-c8fcffe39131",
   "metadata": {},
   "source": [
    "## Hidden layers 100, num layers 2, adjusted learning rate"
   ]
  },
  {
   "cell_type": "markdown",
   "id": "0da807a0-2fb4-4158-8190-8b6f201b5713",
   "metadata": {},
   "source": [
    "## Load Files Function"
   ]
  },
  {
   "cell_type": "code",
   "execution_count": 16,
   "id": "99c3a334-6c79-4ced-98d7-e020381f68cd",
   "metadata": {},
   "outputs": [],
   "source": [
    "def filelist(root):\n",
    "    '''\n",
    "    Return a fully-qualified list of filenames under root directory; \n",
    "    sort names alphabetically.\n",
    "    '''\n",
    "    allfiles = []\n",
    "    for path, subdirs, files in os.walk(root):\n",
    "        for name in files:\n",
    "            allfiles.append(os.path.join(path, name))\n",
    "    return sorted(allfiles)"
   ]
  },
  {
   "cell_type": "markdown",
   "id": "37fe389e-6fb5-4b6d-800c-340da37a1fd4",
   "metadata": {},
   "source": [
    "## Process Files (Helper Functions)"
   ]
  },
  {
   "cell_type": "code",
   "execution_count": 17,
   "id": "af3348d2-89ac-4398-8a46-c018b7dc824b",
   "metadata": {},
   "outputs": [],
   "source": [
    "def longest_true_seq(bool_curve):\n",
    "    '''\n",
    "    Given an array of booleans,\n",
    "    return indices of longest streak\n",
    "    of Trues\n",
    "    '''\n",
    "    longest_streak = 0\n",
    "    longest_streak_idx = []\n",
    "\n",
    "    idx = [] \n",
    "    streak = 0\n",
    "    for i in range(len(bool_curve)):\n",
    "        if bool_curve[i] == True:\n",
    "            streak += 1\n",
    "            idx.append(i)\n",
    "        else:\n",
    "            if streak > longest_streak:\n",
    "                longest_streak = streak\n",
    "                longest_streak_idx = idx     \n",
    "            streak = 0\n",
    "            idx = []\n",
    "    if streak > longest_streak and longest_streak < 150: # Not sure what this val should be\n",
    "        return [0]\n",
    "    return longest_streak_idx"
   ]
  },
  {
   "cell_type": "code",
   "execution_count": 18,
   "id": "85781c09-b9bf-440f-a8bd-4676f17dcf9c",
   "metadata": {},
   "outputs": [],
   "source": [
    "def add_zeros(curve, bh_start_idx, bh_end_idx):\n",
    "    ''' \n",
    "    Return trace with zeros appended to beginning \n",
    "    so length of input trace is 1500\n",
    "    '''\n",
    "    front_of_curve = curve[:bh_start_idx]\n",
    "    num_zeros = 1400 - len(front_of_curve)\n",
    "    zeros = np.zeros([1, num_zeros])[0]\n",
    "    return np.concatenate((zeros, curve[:bh_end_idx]))"
   ]
  },
  {
   "cell_type": "code",
   "execution_count": 19,
   "id": "2c5a1e22-3781-456b-8246-7d0428f0a5f4",
   "metadata": {},
   "outputs": [],
   "source": [
    "def process_curve(curve):\n",
    "    '''\n",
    "    Extract input trace from entire trace\n",
    "    '''\n",
    "    deriv = np.diff(curve)\n",
    "    breath_hold_idx = longest_true_seq(abs(deriv)<=0.001) # Not sure what this val should be\n",
    "    bh_start_idx = breath_hold_idx[0]\n",
    "    \n",
    "    if len(breath_hold_idx) < 100:\n",
    "         return [], 0, 0\n",
    "\n",
    "    bh_end_idx = breath_hold_idx[99] + 1\n",
    "    if bh_start_idx < 1400:\n",
    "        return add_zeros(curve, bh_start_idx, bh_end_idx), len(breath_hold_idx)*.01, breath_hold_idx\n",
    "    \n",
    "    else:\n",
    "        curve_start_idx = bh_start_idx - 1400\n",
    "        return curve[curve_start_idx:bh_end_idx], len(breath_hold_idx)*.01, breath_hold_idx\n",
    "    "
   ]
  },
  {
   "cell_type": "markdown",
   "id": "dfe7b43c-da17-4bf6-9d28-71358207474b",
   "metadata": {},
   "source": [
    "## Create DF of Inputs and Outputs"
   ]
  },
  {
   "cell_type": "code",
   "execution_count": 20,
   "id": "22d75aa2-e7ac-4d3a-b0c9-b4836cfaffdf",
   "metadata": {},
   "outputs": [],
   "source": [
    "def get_inputs_outputs_df(file_root):\n",
    "    '''\n",
    "    Given a root with files, get a dataframe of shape (5680, 2)\n",
    "    with input data traces (arrays) and \n",
    "    output data breath_holds (floats) \n",
    "    '''\n",
    "    filenames = filelist(file_root)\n",
    "    \n",
    "    orig_curves = []\n",
    "    csv_breath_holds = []\n",
    "    traces = []\n",
    "    data_breath_holds = []\n",
    "    bh_idxs = []\n",
    "    bh_start_end = []\n",
    "    \n",
    "    for file in filenames:\n",
    "        if file.endswith('.CSV'):     \n",
    "            df = pd.read_csv(file, header=None)\n",
    "            curve = np.array(df.iloc[3:, 0], dtype='float32')\n",
    "            input_trace, bh_len, bh_idx = process_curve(curve)\n",
    "            if len(input_trace) != 0:\n",
    "                orig_curves.append(curve)\n",
    "                traces.append(input_trace)\n",
    "                csv_breath_holds.append(float(df.iloc[1,1]))\n",
    "                data_breath_holds.append(bh_len)\n",
    "                bh_idxs.append(bh_idx)\n",
    "                bh_start_end.append((bh_idx[0], bh_idx[-1]))\n",
    "    \n",
    "    data = {'Trace': traces,'Csv_breath_holds': csv_breath_holds, 'Data_breath_holds': data_breath_holds, \n",
    "            'Full_trace': orig_curves, \"breathhold_idx\": bh_idxs, 'bh_start_end':bh_start_end}\n",
    "    return pd.DataFrame(data)"
   ]
  },
  {
   "cell_type": "code",
   "execution_count": 22,
   "id": "6ad94f72-e350-4d1a-abfd-89aeb38b4738",
   "metadata": {},
   "outputs": [],
   "source": [
    "breath_df = get_inputs_outputs_df('data_sdx_')"
   ]
  },
  {
   "cell_type": "code",
   "execution_count": 23,
   "id": "f02a7847-edd6-4b2b-b22f-d5daca34e816",
   "metadata": {},
   "outputs": [
    {
     "data": {
      "text/html": [
       "<div>\n",
       "<style scoped>\n",
       "    .dataframe tbody tr th:only-of-type {\n",
       "        vertical-align: middle;\n",
       "    }\n",
       "\n",
       "    .dataframe tbody tr th {\n",
       "        vertical-align: top;\n",
       "    }\n",
       "\n",
       "    .dataframe thead th {\n",
       "        text-align: right;\n",
       "    }\n",
       "</style>\n",
       "<table border=\"1\" class=\"dataframe\">\n",
       "  <thead>\n",
       "    <tr style=\"text-align: right;\">\n",
       "      <th></th>\n",
       "      <th>Trace</th>\n",
       "      <th>Csv_breath_holds</th>\n",
       "      <th>Data_breath_holds</th>\n",
       "      <th>Full_trace</th>\n",
       "      <th>breathhold_idx</th>\n",
       "      <th>bh_start_end</th>\n",
       "    </tr>\n",
       "  </thead>\n",
       "  <tbody>\n",
       "    <tr>\n",
       "      <th>0</th>\n",
       "      <td>[0.1319, 0.1363, 0.1408, 0.1452, 0.1497, 0.154...</td>\n",
       "      <td>31.29</td>\n",
       "      <td>31.69</td>\n",
       "      <td>[0.0003, 0.0006, 0.001, 0.0014, 0.0019, 0.0023...</td>\n",
       "      <td>[2661, 2662, 2663, 2664, 2665, 2666, 2667, 266...</td>\n",
       "      <td>(2661, 5829)</td>\n",
       "    </tr>\n",
       "    <tr>\n",
       "      <th>1</th>\n",
       "      <td>[0.4727, 0.4687, 0.4646, 0.4605, 0.4563, 0.452...</td>\n",
       "      <td>30.61</td>\n",
       "      <td>31.40</td>\n",
       "      <td>[0.0006, 0.0009, 0.0013, 0.0017, 0.0022, 0.002...</td>\n",
       "      <td>[2386, 2387, 2388, 2389, 2390, 2391, 2392, 239...</td>\n",
       "      <td>(2386, 5525)</td>\n",
       "    </tr>\n",
       "    <tr>\n",
       "      <th>2</th>\n",
       "      <td>[0.6466, 0.6496, 0.6526, 0.6555, 0.6583, 0.661...</td>\n",
       "      <td>14.39</td>\n",
       "      <td>18.43</td>\n",
       "      <td>[0.0002, 0.0005, 0.0008, 0.0012, 0.0016, 0.002...</td>\n",
       "      <td>[2118, 2119, 2120, 2121, 2122, 2123, 2124, 212...</td>\n",
       "      <td>(2118, 3960)</td>\n",
       "    </tr>\n",
       "    <tr>\n",
       "      <th>3</th>\n",
       "      <td>[0.0982, 0.0966, 0.095, 0.0934, 0.0919, 0.0904...</td>\n",
       "      <td>30.85</td>\n",
       "      <td>31.84</td>\n",
       "      <td>[0.0013, 0.0027, 0.0034, 0.0041, 0.005, 0.006,...</td>\n",
       "      <td>[2573, 2574, 2575, 2576, 2577, 2578, 2579, 258...</td>\n",
       "      <td>(2573, 5756)</td>\n",
       "    </tr>\n",
       "    <tr>\n",
       "      <th>4</th>\n",
       "      <td>[0.0117, 0.0109, 0.0102, 0.0095, 0.0089, 0.008...</td>\n",
       "      <td>32.12</td>\n",
       "      <td>32.53</td>\n",
       "      <td>[0.0012, 0.0015, 0.0019, 0.0023, 0.0029, 0.003...</td>\n",
       "      <td>[2520, 2521, 2522, 2523, 2524, 2525, 2526, 252...</td>\n",
       "      <td>(2520, 5772)</td>\n",
       "    </tr>\n",
       "  </tbody>\n",
       "</table>\n",
       "</div>"
      ],
      "text/plain": [
       "                                               Trace  Csv_breath_holds  \\\n",
       "0  [0.1319, 0.1363, 0.1408, 0.1452, 0.1497, 0.154...             31.29   \n",
       "1  [0.4727, 0.4687, 0.4646, 0.4605, 0.4563, 0.452...             30.61   \n",
       "2  [0.6466, 0.6496, 0.6526, 0.6555, 0.6583, 0.661...             14.39   \n",
       "3  [0.0982, 0.0966, 0.095, 0.0934, 0.0919, 0.0904...             30.85   \n",
       "4  [0.0117, 0.0109, 0.0102, 0.0095, 0.0089, 0.008...             32.12   \n",
       "\n",
       "   Data_breath_holds                                         Full_trace  \\\n",
       "0              31.69  [0.0003, 0.0006, 0.001, 0.0014, 0.0019, 0.0023...   \n",
       "1              31.40  [0.0006, 0.0009, 0.0013, 0.0017, 0.0022, 0.002...   \n",
       "2              18.43  [0.0002, 0.0005, 0.0008, 0.0012, 0.0016, 0.002...   \n",
       "3              31.84  [0.0013, 0.0027, 0.0034, 0.0041, 0.005, 0.006,...   \n",
       "4              32.53  [0.0012, 0.0015, 0.0019, 0.0023, 0.0029, 0.003...   \n",
       "\n",
       "                                      breathhold_idx  bh_start_end  \n",
       "0  [2661, 2662, 2663, 2664, 2665, 2666, 2667, 266...  (2661, 5829)  \n",
       "1  [2386, 2387, 2388, 2389, 2390, 2391, 2392, 239...  (2386, 5525)  \n",
       "2  [2118, 2119, 2120, 2121, 2122, 2123, 2124, 212...  (2118, 3960)  \n",
       "3  [2573, 2574, 2575, 2576, 2577, 2578, 2579, 258...  (2573, 5756)  \n",
       "4  [2520, 2521, 2522, 2523, 2524, 2525, 2526, 252...  (2520, 5772)  "
      ]
     },
     "execution_count": 23,
     "metadata": {},
     "output_type": "execute_result"
    }
   ],
   "source": [
    "breath_df.head()"
   ]
  },
  {
   "cell_type": "code",
   "execution_count": 26,
   "id": "35d2f0b5-4adf-49e6-9961-66ae68be57c7",
   "metadata": {},
   "outputs": [],
   "source": [
    "under2 = breath_df[abs(breath_df['Csv_breath_holds']-breath_df['Data_breath_holds'])<=2]"
   ]
  },
  {
   "cell_type": "markdown",
   "id": "0efebb74-7c24-42c8-93b2-7c209a409259",
   "metadata": {},
   "source": [
    " "
   ]
  },
  {
   "cell_type": "markdown",
   "id": "71077710-5169-4571-96f2-31da5d03d8a1",
   "metadata": {},
   "source": [
    "----------------------------------------------------------------------------------------------------------------------------------------------------------------------------------"
   ]
  },
  {
   "cell_type": "code",
   "execution_count": 28,
   "id": "40ce7e74-6286-463a-85a6-74aa4c7ab8a8",
   "metadata": {},
   "outputs": [],
   "source": [
    "df = under2"
   ]
  },
  {
   "cell_type": "code",
   "execution_count": 29,
   "id": "82d8b26c-9358-4a83-95b0-d9ca5b24da34",
   "metadata": {},
   "outputs": [],
   "source": [
    "x_train, x_test, y_train, y_test = train_test_split(df['Trace'], df['Data_breath_holds'], test_size=0.15)"
   ]
  },
  {
   "cell_type": "code",
   "execution_count": 30,
   "id": "78b1203f-cd85-4a39-8bc0-0c82bed2aa6d",
   "metadata": {},
   "outputs": [],
   "source": [
    "x_train, x_val, y_train, y_val = train_test_split(x_train, y_train, test_size=0.4, random_state=1)"
   ]
  },
  {
   "cell_type": "code",
   "execution_count": 31,
   "id": "271273b9-7a12-4f75-ac76-2b21ebb955ba",
   "metadata": {},
   "outputs": [],
   "source": [
    "# Change type of each row from np.array to list to put into scaler\n",
    "x_train = np.array([list(row) for row in x_train])\n",
    "x_val = np.array([list(row) for row in x_val])\n",
    "x_test = np.array([list(row) for row in x_test])\n",
    "\n",
    "y_train = np.array(y_train)\n",
    "y_val = np.array(y_val)\n",
    "y_test = np.array(y_test)"
   ]
  },
  {
   "cell_type": "code",
   "execution_count": 32,
   "id": "0f79c6b4-ca75-4514-af28-2c44b527d550",
   "metadata": {},
   "outputs": [],
   "source": [
    "scaler = StandardScaler() # creates the scaler\n",
    "scaler.fit(x_train)\n",
    "x_train = scaler.transform(x_train)\n",
    "x_val = scaler.transform(x_val)\n",
    "x_test = scaler.transform(x_test)"
   ]
  },
  {
   "cell_type": "markdown",
   "id": "f71dee5e-c047-4e3d-949c-e53a35ad5e62",
   "metadata": {},
   "source": [
    " "
   ]
  },
  {
   "cell_type": "markdown",
   "id": "0e792c22-6e51-4076-9ed5-6ec9ef086243",
   "metadata": {},
   "source": [
    "## Initialize Data for Model"
   ]
  },
  {
   "cell_type": "code",
   "execution_count": 35,
   "id": "3294b7f1-a286-42b9-ba7c-344398408cab",
   "metadata": {},
   "outputs": [],
   "source": [
    "#dataset\n",
    "from torch.utils.data import Dataset"
   ]
  },
  {
   "cell_type": "code",
   "execution_count": 36,
   "id": "c2900eb0-d954-4b1a-ae92-63039f118b33",
   "metadata": {},
   "outputs": [],
   "source": [
    "class timeseries(Dataset):\n",
    "    def __init__(self,x,y):\n",
    "        self.x = torch.tensor(x,dtype=torch.float32)\n",
    "        self.y = torch.tensor(y,dtype=torch.float32)\n",
    "        self.len = x.shape[0]\n",
    "\n",
    "    def __getitem__(self,idx):\n",
    "        return self.x[idx],self.y[idx]\n",
    "  \n",
    "    def __len__(self):\n",
    "        return self.len"
   ]
  },
  {
   "cell_type": "code",
   "execution_count": 37,
   "id": "724654d2-6141-4d48-94b2-dff6413589ff",
   "metadata": {},
   "outputs": [],
   "source": [
    "dataset = timeseries(x_train,y_train)\n",
    "valid_dataset = timeseries(x_val,y_val)\n",
    "test_dataset = timeseries(x_test,y_test)"
   ]
  },
  {
   "cell_type": "code",
   "execution_count": 38,
   "id": "aefe9bcb-8efa-4ae6-96aa-fd97165b0617",
   "metadata": {},
   "outputs": [],
   "source": [
    "train_loader = DataLoader(dataset,shuffle=True,batch_size=100)\n",
    "val_loader = DataLoader(valid_dataset,shuffle=False,batch_size=100)\n",
    "test_loader = DataLoader(test_dataset,shuffle=False,batch_size=100)"
   ]
  },
  {
   "cell_type": "markdown",
   "id": "442d8893-7de2-4e97-b822-30c4f14b4a61",
   "metadata": {},
   "source": [
    "## Define LSTM Model (One Step Prediction)"
   ]
  },
  {
   "cell_type": "code",
   "execution_count": 39,
   "id": "76673e10-6bff-45f5-8cac-10f226e85f32",
   "metadata": {},
   "outputs": [],
   "source": [
    "#neural network\n",
    "from torch import nn\n",
    "\n",
    "class LSTM_Model(nn.Module):\n",
    "    def __init__(self):\n",
    "        super(LSTM_Model,self).__init__()\n",
    "        self.lstm = nn.LSTM(input_size=1,hidden_size=100,num_layers=2,batch_first=True) # change hidden size\n",
    "        self.linear = nn.Linear(in_features=100,out_features=1)\n",
    "        \n",
    "        \n",
    "    def forward(self,x):\n",
    "        output,_status = self.lstm(x)\n",
    "        output = output[:,-1,:]\n",
    "        #output = self.linear(torch.relu(output))\n",
    "        output = self.linear(output)\n",
    "        return output\n",
    "\n",
    "model = LSTM_Model()"
   ]
  },
  {
   "cell_type": "code",
   "execution_count": 41,
   "id": "a0ed150e-79eb-4f92-ad72-70ebad527c32",
   "metadata": {},
   "outputs": [],
   "source": [
    "# Declaring Criterion and Optimizer\n",
    "criterion = torch.nn.MSELoss()\n",
    "optimizer = torch.optim.Adam(model.parameters(),lr=0.1)\n",
    "epochs = 50"
   ]
  },
  {
   "cell_type": "markdown",
   "id": "c421bc38-96ec-4f08-b358-f0c2a108af68",
   "metadata": {},
   "source": [
    "## Training Loop"
   ]
  },
  {
   "cell_type": "code",
   "execution_count": 42,
   "id": "96446d6d-ddb9-470b-b1d7-02a024ceafb9",
   "metadata": {},
   "outputs": [
    {
     "name": "stdout",
     "output_type": "stream",
     "text": [
      "Epoch 1 \t Training Loss: 242.53805053710937 \tValidation Loss: 136.06072728774126\n",
      "\t\t Training MAE: 11.805286483764649 \tValidation MAE: 9.151059767779183\n",
      "\t\t Training MSE: 242.5380532836914 \tValidation MSE: 136.06072908289292\n",
      "\n",
      "Epoch 3 \t Training Loss: 111.21493286132812 \tValidation Loss: 113.14222044103286\n",
      "\t\t Training MAE: 7.315506553649902 \tValidation MAE: 7.407915199504179\n",
      "\t\t Training MSE: 111.21493682861328 \tValidation MSE: 113.14222088982078\n",
      "\n",
      "Epoch 5 \t Training Loss: 110.8250015258789 \tValidation Loss: 113.84627308565028\n",
      "\t\t Training MAE: 7.332193851470947 \tValidation MAE: 7.386883960050695\n",
      "\t\t Training MSE: 110.8250015258789 \tValidation MSE: 113.84627218807445\n",
      "\n",
      "Epoch 7 \t Training Loss: 109.01486793518066 \tValidation Loss: 116.90550860236672\n",
      "\t\t Training MAE: 7.241024723052979 \tValidation MAE: 7.506829486173742\n",
      "\t\t Training MSE: 109.01486457824707 \tValidation MSE: 116.90550815357881\n",
      "\n"
     ]
    },
    {
     "ename": "KeyboardInterrupt",
     "evalue": "",
     "output_type": "error",
     "traceback": [
      "\u001b[0;31m---------------------------------------------------------------------------\u001b[0m",
      "\u001b[0;31mKeyboardInterrupt\u001b[0m                         Traceback (most recent call last)",
      "\u001b[0;32m<ipython-input-42-8605da1861bd>\u001b[0m in \u001b[0;36m<module>\u001b[0;34m\u001b[0m\n\u001b[1;32m     15\u001b[0m         \u001b[0mloss\u001b[0m \u001b[0;34m=\u001b[0m \u001b[0mcriterion\u001b[0m\u001b[0;34m(\u001b[0m\u001b[0mypred\u001b[0m\u001b[0;34m,\u001b[0m\u001b[0my\u001b[0m\u001b[0;34m.\u001b[0m\u001b[0mview\u001b[0m\u001b[0;34m(\u001b[0m\u001b[0;34m-\u001b[0m\u001b[0;36m1\u001b[0m\u001b[0;34m,\u001b[0m\u001b[0;36m1\u001b[0m\u001b[0;34m)\u001b[0m\u001b[0;34m)\u001b[0m\u001b[0;34m\u001b[0m\u001b[0;34m\u001b[0m\u001b[0m\n\u001b[1;32m     16\u001b[0m         \u001b[0;31m# Calculate gradients\u001b[0m\u001b[0;34m\u001b[0m\u001b[0;34m\u001b[0m\u001b[0;34m\u001b[0m\u001b[0m\n\u001b[0;32m---> 17\u001b[0;31m         \u001b[0mloss\u001b[0m\u001b[0;34m.\u001b[0m\u001b[0mbackward\u001b[0m\u001b[0;34m(\u001b[0m\u001b[0;34m)\u001b[0m\u001b[0;34m\u001b[0m\u001b[0;34m\u001b[0m\u001b[0m\n\u001b[0m\u001b[1;32m     18\u001b[0m         \u001b[0;31m# Update Weights\u001b[0m\u001b[0;34m\u001b[0m\u001b[0;34m\u001b[0m\u001b[0;34m\u001b[0m\u001b[0m\n\u001b[1;32m     19\u001b[0m         \u001b[0moptimizer\u001b[0m\u001b[0;34m.\u001b[0m\u001b[0mstep\u001b[0m\u001b[0;34m(\u001b[0m\u001b[0;34m)\u001b[0m\u001b[0;34m\u001b[0m\u001b[0;34m\u001b[0m\u001b[0m\n",
      "\u001b[0;32m/opt/anaconda3/lib/python3.9/site-packages/torch/_tensor.py\u001b[0m in \u001b[0;36mbackward\u001b[0;34m(self, gradient, retain_graph, create_graph, inputs)\u001b[0m\n\u001b[1;32m    305\u001b[0m                 \u001b[0mcreate_graph\u001b[0m\u001b[0;34m=\u001b[0m\u001b[0mcreate_graph\u001b[0m\u001b[0;34m,\u001b[0m\u001b[0;34m\u001b[0m\u001b[0;34m\u001b[0m\u001b[0m\n\u001b[1;32m    306\u001b[0m                 inputs=inputs)\n\u001b[0;32m--> 307\u001b[0;31m         \u001b[0mtorch\u001b[0m\u001b[0;34m.\u001b[0m\u001b[0mautograd\u001b[0m\u001b[0;34m.\u001b[0m\u001b[0mbackward\u001b[0m\u001b[0;34m(\u001b[0m\u001b[0mself\u001b[0m\u001b[0;34m,\u001b[0m \u001b[0mgradient\u001b[0m\u001b[0;34m,\u001b[0m \u001b[0mretain_graph\u001b[0m\u001b[0;34m,\u001b[0m \u001b[0mcreate_graph\u001b[0m\u001b[0;34m,\u001b[0m \u001b[0minputs\u001b[0m\u001b[0;34m=\u001b[0m\u001b[0minputs\u001b[0m\u001b[0;34m)\u001b[0m\u001b[0;34m\u001b[0m\u001b[0;34m\u001b[0m\u001b[0m\n\u001b[0m\u001b[1;32m    308\u001b[0m \u001b[0;34m\u001b[0m\u001b[0m\n\u001b[1;32m    309\u001b[0m     \u001b[0;32mdef\u001b[0m \u001b[0mregister_hook\u001b[0m\u001b[0;34m(\u001b[0m\u001b[0mself\u001b[0m\u001b[0;34m,\u001b[0m \u001b[0mhook\u001b[0m\u001b[0;34m)\u001b[0m\u001b[0;34m:\u001b[0m\u001b[0;34m\u001b[0m\u001b[0;34m\u001b[0m\u001b[0m\n",
      "\u001b[0;32m/opt/anaconda3/lib/python3.9/site-packages/torch/autograd/__init__.py\u001b[0m in \u001b[0;36mbackward\u001b[0;34m(tensors, grad_tensors, retain_graph, create_graph, grad_variables, inputs)\u001b[0m\n\u001b[1;32m    152\u001b[0m         \u001b[0mretain_graph\u001b[0m \u001b[0;34m=\u001b[0m \u001b[0mcreate_graph\u001b[0m\u001b[0;34m\u001b[0m\u001b[0;34m\u001b[0m\u001b[0m\n\u001b[1;32m    153\u001b[0m \u001b[0;34m\u001b[0m\u001b[0m\n\u001b[0;32m--> 154\u001b[0;31m     Variable._execution_engine.run_backward(\n\u001b[0m\u001b[1;32m    155\u001b[0m         \u001b[0mtensors\u001b[0m\u001b[0;34m,\u001b[0m \u001b[0mgrad_tensors_\u001b[0m\u001b[0;34m,\u001b[0m \u001b[0mretain_graph\u001b[0m\u001b[0;34m,\u001b[0m \u001b[0mcreate_graph\u001b[0m\u001b[0;34m,\u001b[0m \u001b[0minputs\u001b[0m\u001b[0;34m,\u001b[0m\u001b[0;34m\u001b[0m\u001b[0;34m\u001b[0m\u001b[0m\n\u001b[1;32m    156\u001b[0m         allow_unreachable=True, accumulate_grad=True)  # allow_unreachable flag\n",
      "\u001b[0;31mKeyboardInterrupt\u001b[0m: "
     ]
    }
   ],
   "source": [
    "history = []\n",
    "for i in range(epochs):\n",
    "    \n",
    "    train_mse = 0.0\n",
    "    train_mae = 0.0\n",
    "    train_loss = 0.0\n",
    "    train_preds = []\n",
    "    for x, y in train_loader:\n",
    "        \n",
    "        # Clear the gradients\n",
    "        optimizer.zero_grad()\n",
    "        # Forward Pass\n",
    "        ypred = model(x.view(-1,1500,1))       \n",
    "        # Find the Loss\n",
    "        loss = criterion(ypred,y.view(-1,1))      \n",
    "        # Calculate gradients\n",
    "        loss.backward()       \n",
    "        # Update Weights\n",
    "        optimizer.step()      \n",
    "        # Calculate L1 Loss\n",
    "        train_loss += loss.item()\n",
    "        # Calculate MAE\n",
    "        ypred = ypred.detach().numpy()\n",
    "        train_mae += mean_absolute_error(ypred, y.view(-1,1))\n",
    "        # Calculate MSE\n",
    "        train_mse += mean_squared_error(ypred, y.view(-1,1))\n",
    "        # R^2\n",
    "        \n",
    "        train_preds.append(ypred)\n",
    "        \n",
    "    valid_mse = 0.0\n",
    "    valid_mae = 0.0\n",
    "    valid_loss = 0.0\n",
    "    val_preds = []\n",
    "    for x, y in val_loader:\n",
    "        # Forward Pass\n",
    "        ypred = model(x.view(-1,1500,1))\n",
    "        # Find the Loss\n",
    "        loss = criterion(ypred,y.view(-1,1))\n",
    "        # Calculate L1 Loss\n",
    "        valid_loss += loss.item()\n",
    "        # Calculate MAE\n",
    "        ypred = ypred.detach().numpy()\n",
    "        valid_mae += mean_absolute_error(ypred, y.view(-1,1))\n",
    "        # Calculate MSE\n",
    "        valid_mse += mean_squared_error(ypred, y.view(-1,1))\n",
    "        \n",
    "        val_preds.append(ypred)\n",
    "\n",
    "    history.append((train_loss/len(train_loader),valid_loss/len(val_loader)))\n",
    "    if i%2 == 0:\n",
    "        torch.save(model, 'lstm_single_output')\n",
    "        print(f'Epoch {i+1} \\t Training Loss: {train_loss/len(train_loader)} \\tValidation Loss: {valid_loss/len(val_loader)}')\n",
    "        print(f'\\t\\t Training MAE: {train_mae/len(train_loader)} \\tValidation MAE: {valid_mae/len(val_loader)}')\n",
    "        print(f'\\t\\t Training MSE: {train_mse/len(train_loader)} \\tValidation MSE: {valid_mse/len(val_loader)}')\n",
    "        print()\n",
    "    \n",
    "    "
   ]
  },
  {
   "cell_type": "markdown",
   "id": "ff6c0686-94e3-4457-94c3-2cde0be486dc",
   "metadata": {},
   "source": [
    "## Plot Loss"
   ]
  },
  {
   "cell_type": "code",
   "execution_count": 43,
   "id": "9f7491fb-a02a-4c51-9da1-34a547645a6e",
   "metadata": {},
   "outputs": [],
   "source": [
    "history = torch.tensor(history)"
   ]
  },
  {
   "cell_type": "code",
   "execution_count": 44,
   "id": "083c1a38-c3d6-4670-bb45-21d9cf4cf73f",
   "metadata": {},
   "outputs": [],
   "source": [
    "torch.save(model, 'lstm_bh_epochs')"
   ]
  },
  {
   "cell_type": "code",
   "execution_count": 45,
   "id": "c4856509-e27e-4523-ac71-16684807c521",
   "metadata": {},
   "outputs": [],
   "source": [
    "def plot_loss(history, ax=None, maxy=None, file=None):\n",
    "    if ax is None:\n",
    "        fig, ax = plt.subplots(1,1, figsize=(6,3))\n",
    "    ax.set_ylabel(\"Loss\")\n",
    "    ax.set_xlabel(\"Epochs\")\n",
    "    loss = history[:,0]\n",
    "    val_loss = history[:,1]\n",
    "\n",
    "    ax.spines['top'].set_visible(False)    # turns off the top \"spine\" completely\n",
    "    ax.spines['right'].set_visible(False)\n",
    "    ax.spines['left'].set_linewidth(.5)\n",
    "    ax.spines['bottom'].set_linewidth(.5)\n",
    "    ax.plot(loss, label='train_loss')\n",
    "    ax.plot(val_loss, '--', label='val_loss')\n",
    "    ax.legend(loc='upper right')\n",
    "    plt.tight_layout()\n",
    "    if file:\n",
    "        plt.savefig(f\"{file}.pdf\")"
   ]
  },
  {
   "cell_type": "code",
   "execution_count": 46,
   "id": "81ed3991-053e-4bbd-8b89-6537d10c1586",
   "metadata": {},
   "outputs": [
    {
     "data": {
      "image/png": "[encoded data removed]",
      "text/plain": [
       "<Figure size 432x216 with 1 Axes>"
      ]
     },
     "metadata": {
      "needs_background": "light"
     },
     "output_type": "display_data"
    }
   ],
   "source": [
    "plot_loss(history, maxy = 50)"
   ]
  },
  {
   "cell_type": "code",
   "execution_count": 47,
   "id": "a1a903df-0a42-4831-af50-a39e895ac712",
   "metadata": {},
   "outputs": [
    {
     "data": {
      "image/png": "[encoded data removed]",
      "text/plain": [
       "<Figure size 432x288 with 1 Axes>"
      ]
     },
     "metadata": {
      "needs_background": "light"
     },
     "output_type": "display_data"
    }
   ],
   "source": [
    "#test set actual vs predicted\n",
    "test_set = timeseries(x_test,y_test)\n",
    "test_pred = model(test_set[:][0].view(-1,1500,1)).view(-1)\n",
    "plt.scatter(test_set[:][1].view(-1), test_pred.detach().numpy(),label='predicted')\n",
    "plt.show()"
   ]
  },
  {
   "cell_type": "code",
   "execution_count": null,
   "id": "416656c0-b79b-4c7c-9fe4-691445b0c1c2",
   "metadata": {},
   "outputs": [],
   "source": [
    "test_pred = model(test_set[:][0].view(-1,1500,1)).view(-1)"
   ]
  },
  {
   "cell_type": "code",
   "execution_count": null,
   "id": "d6c7a8eb-1bb1-4af6-8da0-30f82f34c1eb",
   "metadata": {},
   "outputs": [],
   "source": [
    "test_set[:][1].view(-1)"
   ]
  },
  {
   "cell_type": "code",
   "execution_count": null,
   "id": "b4958e25-daf1-4afb-84bc-7af95c4bc6cf",
   "metadata": {},
   "outputs": [],
   "source": [
    "test_pred"
   ]
  },
  {
   "cell_type": "code",
   "execution_count": null,
   "id": "c166a699-63ba-4ec3-8b44-6f189a37d9a9",
   "metadata": {},
   "outputs": [],
   "source": []
  },
  {
   "cell_type": "code",
   "execution_count": null,
   "id": "210faf69-ae75-4de3-bf52-530b0cab0661",
   "metadata": {},
   "outputs": [],
   "source": []
  }
 ],
 "metadata": {
  "kernelspec": {
   "display_name": "Python 3 (ipykernel)",
   "language": "python",
   "name": "python3"
  },
  "language_info": {
   "codemirror_mode": {
    "name": "ipython",
    "version": 3
   },
   "file_extension": ".py",
   "mimetype": "text/x-python",
   "name": "python",
   "nbconvert_exporter": "python",
   "pygments_lexer": "ipython3",
   "version": "3.9.5"
  }
 },
 "nbformat": 4,
 "nbformat_minor": 5
}
