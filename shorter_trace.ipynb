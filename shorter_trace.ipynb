{
 "cells": [
  {
   "cell_type": "code",
   "execution_count": 1,
   "id": "9f179829-ee0d-4a09-97b8-bcfd0ef42479",
   "metadata": {},
   "outputs": [],
   "source": [
    "import os\n",
    "import pandas as pd\n",
    "import numpy as np\n",
    "import matplotlib.pyplot as plt     \n",
    "import numpy as np\n",
    "import re\n",
    "from sklearn.preprocessing import StandardScaler\n",
    "from sklearn.model_selection import train_test_split\n",
    "\n",
    "from sklearn.metrics import mean_squared_error\n",
    "from sklearn.metrics import mean_absolute_error\n",
    "\n",
    "import torch\n",
    "import torch.nn as nn\n",
    "import torch.nn.functional as F\n",
    "from torch.utils.data import Dataset, DataLoader\n",
    "from torch.nn.utils.rnn import pack_padded_sequence, pad_packed_sequence "
   ]
  },
  {
   "cell_type": "markdown",
   "id": "0da807a0-2fb4-4158-8190-8b6f201b5713",
   "metadata": {},
   "source": [
    "## Load Files Function"
   ]
  },
  {
   "cell_type": "code",
   "execution_count": 2,
   "id": "99c3a334-6c79-4ced-98d7-e020381f68cd",
   "metadata": {},
   "outputs": [],
   "source": [
    "def filelist(root):\n",
    "    '''\n",
    "    Return a fully-qualified list of filenames under root directory; \n",
    "    sort names alphabetically.\n",
    "    '''\n",
    "    allfiles = []\n",
    "    for path, subdirs, files in os.walk(root):\n",
    "        for name in files:\n",
    "            allfiles.append(os.path.join(path, name))\n",
    "    return sorted(allfiles)"
   ]
  },
  {
   "cell_type": "markdown",
   "id": "37fe389e-6fb5-4b6d-800c-340da37a1fd4",
   "metadata": {},
   "source": [
    "## Process Files (Helper Functions)"
   ]
  },
  {
   "cell_type": "code",
   "execution_count": 4,
   "id": "af3348d2-89ac-4398-8a46-c018b7dc824b",
   "metadata": {},
   "outputs": [],
   "source": [
    "def longest_true_seq(bool_curve):\n",
    "    '''\n",
    "    Given an array of booleans,\n",
    "    return indices of longest streak\n",
    "    of Trues\n",
    "    '''\n",
    "    longest_streak = 0\n",
    "    longest_streak_idx = []\n",
    "\n",
    "    idx = [] \n",
    "    streak = 0\n",
    "    for i in range(len(bool_curve)):\n",
    "        if bool_curve[i] == True:\n",
    "            streak += 1\n",
    "            idx.append(i)\n",
    "        else:\n",
    "            if streak > longest_streak:\n",
    "                longest_streak = streak\n",
    "                longest_streak_idx = idx     \n",
    "            streak = 0\n",
    "            idx = []\n",
    "    if streak > longest_streak and longest_streak < 150: # Not sure what this val should be\n",
    "        return [0]\n",
    "    return longest_streak_idx"
   ]
  },
  {
   "cell_type": "code",
   "execution_count": 5,
   "id": "85781c09-b9bf-440f-a8bd-4676f17dcf9c",
   "metadata": {},
   "outputs": [],
   "source": [
    "def add_zeros(curve, bh_start_idx, bh_end_idx):\n",
    "    ''' \n",
    "    Return trace with zeros appended to beginning \n",
    "    so length of input trace is 1500\n",
    "    '''\n",
    "    front_of_curve = curve[:bh_start_idx]\n",
    "    num_zeros = 400 - len(front_of_curve)\n",
    "    zeros = np.zeros([1, num_zeros])[0]\n",
    "    return np.concatenate((zeros, curve[:bh_end_idx]))"
   ]
  },
  {
   "cell_type": "code",
   "execution_count": 6,
   "id": "2c5a1e22-3781-456b-8246-7d0428f0a5f4",
   "metadata": {},
   "outputs": [],
   "source": [
    "def process_curve(curve):\n",
    "    '''\n",
    "    Extract input trace from entire trace\n",
    "    '''\n",
    "    deriv = np.diff(curve)\n",
    "    breath_hold_idx = longest_true_seq(abs(deriv)<=0.001) # Not sure what this val should be\n",
    "    bh_start_idx = breath_hold_idx[0]\n",
    "    \n",
    "    if len(breath_hold_idx) < 100:\n",
    "         return [], 0, 0\n",
    "\n",
    "    bh_end_idx = breath_hold_idx[99] + 1\n",
    "    if bh_start_idx < 400:\n",
    "        return add_zeros(curve, bh_start_idx, bh_end_idx), len(breath_hold_idx)*.01, breath_hold_idx\n",
    "    \n",
    "    else:\n",
    "        curve_start_idx = bh_start_idx - 400\n",
    "        return curve[curve_start_idx:bh_end_idx], len(breath_hold_idx)*.01, breath_hold_idx\n",
    "    "
   ]
  },
  {
   "cell_type": "markdown",
   "id": "dfe7b43c-da17-4bf6-9d28-71358207474b",
   "metadata": {},
   "source": [
    "## Create DF of Inputs and Outputs"
   ]
  },
  {
   "cell_type": "code",
   "execution_count": 7,
   "id": "22d75aa2-e7ac-4d3a-b0c9-b4836cfaffdf",
   "metadata": {},
   "outputs": [],
   "source": [
    "def get_inputs_outputs_df(file_root):\n",
    "    '''\n",
    "    Given a root with files, get a dataframe of shape (5680, 2)\n",
    "    with input data traces (arrays) and \n",
    "    output data breath_holds (floats) \n",
    "    '''\n",
    "    filenames = filelist(file_root)\n",
    "    \n",
    "    orig_curves = []\n",
    "    csv_breath_holds = []\n",
    "    traces = []\n",
    "    data_breath_holds = []\n",
    "    bh_idxs = []\n",
    "    bh_start_end = []\n",
    "    \n",
    "    for file in filenames:\n",
    "        if file.endswith('.CSV'):     \n",
    "            df = pd.read_csv(file, header=None)\n",
    "            curve = np.array(df.iloc[3:, 0], dtype='float32')\n",
    "            input_trace, bh_len, bh_idx = process_curve(curve)\n",
    "            if len(input_trace) != 0:\n",
    "                orig_curves.append(curve)\n",
    "                traces.append(input_trace)\n",
    "                csv_breath_holds.append(float(df.iloc[1,1]))\n",
    "                data_breath_holds.append(bh_len)\n",
    "                bh_idxs.append(bh_idx)\n",
    "                bh_start_end.append((bh_idx[0], bh_idx[-1]))\n",
    "    \n",
    "    data = {'Trace': traces,'Csv_breath_holds': csv_breath_holds, 'Data_breath_holds': data_breath_holds, \n",
    "            'Full_trace': orig_curves, \"breathhold_idx\": bh_idxs, 'bh_start_end':bh_start_end}\n",
    "    return pd.DataFrame(data)"
   ]
  },
  {
   "cell_type": "code",
   "execution_count": 8,
   "id": "6ad94f72-e350-4d1a-abfd-89aeb38b4738",
   "metadata": {},
   "outputs": [],
   "source": [
    "breath_df = get_inputs_outputs_df('data_sdx_')"
   ]
  },
  {
   "cell_type": "code",
   "execution_count": 9,
   "id": "f02a7847-edd6-4b2b-b22f-d5daca34e816",
   "metadata": {},
   "outputs": [
    {
     "data": {
      "text/html": [
       "<div>\n",
       "<style scoped>\n",
       "    .dataframe tbody tr th:only-of-type {\n",
       "        vertical-align: middle;\n",
       "    }\n",
       "\n",
       "    .dataframe tbody tr th {\n",
       "        vertical-align: top;\n",
       "    }\n",
       "\n",
       "    .dataframe thead th {\n",
       "        text-align: right;\n",
       "    }\n",
       "</style>\n",
       "<table border=\"1\" class=\"dataframe\">\n",
       "  <thead>\n",
       "    <tr style=\"text-align: right;\">\n",
       "      <th></th>\n",
       "      <th>Trace</th>\n",
       "      <th>Csv_breath_holds</th>\n",
       "      <th>Data_breath_holds</th>\n",
       "      <th>Full_trace</th>\n",
       "      <th>breathhold_idx</th>\n",
       "      <th>bh_start_end</th>\n",
       "    </tr>\n",
       "  </thead>\n",
       "  <tbody>\n",
       "    <tr>\n",
       "      <th>0</th>\n",
       "      <td>[1.0275, 1.0267, 1.0258, 1.0247, 1.0233, 1.021...</td>\n",
       "      <td>31.29</td>\n",
       "      <td>31.69</td>\n",
       "      <td>[0.0003, 0.0006, 0.001, 0.0014, 0.0019, 0.0023...</td>\n",
       "      <td>[2661, 2662, 2663, 2664, 2665, 2666, 2667, 266...</td>\n",
       "      <td>(2661, 5829)</td>\n",
       "    </tr>\n",
       "    <tr>\n",
       "      <th>1</th>\n",
       "      <td>[0.598, 0.6008, 0.6036, 0.6064, 0.6091, 0.6118...</td>\n",
       "      <td>30.61</td>\n",
       "      <td>31.40</td>\n",
       "      <td>[0.0006, 0.0009, 0.0013, 0.0017, 0.0022, 0.002...</td>\n",
       "      <td>[2386, 2387, 2388, 2389, 2390, 2391, 2392, 239...</td>\n",
       "      <td>(2386, 5525)</td>\n",
       "    </tr>\n",
       "    <tr>\n",
       "      <th>2</th>\n",
       "      <td>[0.6193, 0.6238, 0.6283, 0.6326, 0.6368, 0.641...</td>\n",
       "      <td>14.39</td>\n",
       "      <td>18.43</td>\n",
       "      <td>[0.0002, 0.0005, 0.0008, 0.0012, 0.0016, 0.002...</td>\n",
       "      <td>[2118, 2119, 2120, 2121, 2122, 2123, 2124, 212...</td>\n",
       "      <td>(2118, 3960)</td>\n",
       "    </tr>\n",
       "    <tr>\n",
       "      <th>3</th>\n",
       "      <td>[0.7478, 0.7512, 0.7545, 0.7577, 0.7609, 0.763...</td>\n",
       "      <td>30.85</td>\n",
       "      <td>31.84</td>\n",
       "      <td>[0.0013, 0.0027, 0.0034, 0.0041, 0.005, 0.006,...</td>\n",
       "      <td>[2573, 2574, 2575, 2576, 2577, 2578, 2579, 258...</td>\n",
       "      <td>(2573, 5756)</td>\n",
       "    </tr>\n",
       "    <tr>\n",
       "      <th>4</th>\n",
       "      <td>[0.9224, 0.9251, 0.9279, 0.9305, 0.9329, 0.935...</td>\n",
       "      <td>32.12</td>\n",
       "      <td>32.53</td>\n",
       "      <td>[0.0012, 0.0015, 0.0019, 0.0023, 0.0029, 0.003...</td>\n",
       "      <td>[2520, 2521, 2522, 2523, 2524, 2525, 2526, 252...</td>\n",
       "      <td>(2520, 5772)</td>\n",
       "    </tr>\n",
       "  </tbody>\n",
       "</table>\n",
       "</div>"
      ],
      "text/plain": [
       "                                               Trace  Csv_breath_holds  \\\n",
       "0  [1.0275, 1.0267, 1.0258, 1.0247, 1.0233, 1.021...             31.29   \n",
       "1  [0.598, 0.6008, 0.6036, 0.6064, 0.6091, 0.6118...             30.61   \n",
       "2  [0.6193, 0.6238, 0.6283, 0.6326, 0.6368, 0.641...             14.39   \n",
       "3  [0.7478, 0.7512, 0.7545, 0.7577, 0.7609, 0.763...             30.85   \n",
       "4  [0.9224, 0.9251, 0.9279, 0.9305, 0.9329, 0.935...             32.12   \n",
       "\n",
       "   Data_breath_holds                                         Full_trace  \\\n",
       "0              31.69  [0.0003, 0.0006, 0.001, 0.0014, 0.0019, 0.0023...   \n",
       "1              31.40  [0.0006, 0.0009, 0.0013, 0.0017, 0.0022, 0.002...   \n",
       "2              18.43  [0.0002, 0.0005, 0.0008, 0.0012, 0.0016, 0.002...   \n",
       "3              31.84  [0.0013, 0.0027, 0.0034, 0.0041, 0.005, 0.006,...   \n",
       "4              32.53  [0.0012, 0.0015, 0.0019, 0.0023, 0.0029, 0.003...   \n",
       "\n",
       "                                      breathhold_idx  bh_start_end  \n",
       "0  [2661, 2662, 2663, 2664, 2665, 2666, 2667, 266...  (2661, 5829)  \n",
       "1  [2386, 2387, 2388, 2389, 2390, 2391, 2392, 239...  (2386, 5525)  \n",
       "2  [2118, 2119, 2120, 2121, 2122, 2123, 2124, 212...  (2118, 3960)  \n",
       "3  [2573, 2574, 2575, 2576, 2577, 2578, 2579, 258...  (2573, 5756)  \n",
       "4  [2520, 2521, 2522, 2523, 2524, 2525, 2526, 252...  (2520, 5772)  "
      ]
     },
     "execution_count": 9,
     "metadata": {},
     "output_type": "execute_result"
    }
   ],
   "source": [
    "breath_df.head()"
   ]
  },
  {
   "cell_type": "code",
   "execution_count": 11,
   "id": "89bf35c3-ebfd-4464-b4a6-be5bd3a85619",
   "metadata": {},
   "outputs": [],
   "source": [
    "#breath_df.to_csv('processed_data/breath_data.csv', index = False)"
   ]
  },
  {
   "cell_type": "markdown",
   "id": "c4cb63f0-9af0-4fef-a88f-6aeed29a5d55",
   "metadata": {},
   "source": [
    "## Load Data"
   ]
  },
  {
   "cell_type": "code",
   "execution_count": 12,
   "id": "1d6cba35-b502-4914-9a04-7d36f1580fb2",
   "metadata": {},
   "outputs": [],
   "source": [
    "#breath_df = pd.read_csv('processed_data/breath_data.csv', header = 0).iloc[:, 1:]\n",
    "#breath_df.head()"
   ]
  },
  {
   "cell_type": "markdown",
   "id": "65bc3085-f1a5-4f7b-96e3-332cfbaa0c56",
   "metadata": {},
   "source": [
    "## Find Discrepancies"
   ]
  },
  {
   "cell_type": "code",
   "execution_count": 13,
   "id": "9bac5d21-4f93-4f33-b0fa-a4abad2fd97d",
   "metadata": {},
   "outputs": [],
   "source": [
    "def plot_trace(trace, breath_hold_idx, csv_val, data_val):\n",
    "    fig, ax = plt.subplots(figsize=(7,4))\n",
    "    ax.plot(trace)\n",
    "    ax.vlines(x=breath_hold_idx[0], ymin=0, ymax=max(trace), linestyle='dashed', color = \"red\", linewidth = 2)\n",
    "    ax.vlines(x=breath_hold_idx[1], ymin=0, ymax=max(trace), linestyle='dashed', color = \"red\", linewidth = 2)\n",
    "\n",
    "    ax.set_title(f\"CSV Breath-hold: {csv_val:.2f}, Data Breath-hold: {data_val:.2f}\")\n",
    "    ax.set_xlabel('Seconds')\n",
    "\n",
    "    plt.show()    "
   ]
  },
  {
   "cell_type": "code",
   "execution_count": 14,
   "id": "fbc7ccad-4178-4e75-9cf5-497bf8a7b32d",
   "metadata": {},
   "outputs": [
    {
     "name": "stdout",
     "output_type": "stream",
     "text": [
      "There are 5708 files in total:\n",
      "\n",
      "\t- 41.96% of files (2395 files) have a discrepancy greater than 1 seconds.\n",
      "\n",
      "\t- 16.07% of files (917 files) have a discrepancy greater than 2 seconds.\n",
      "\n",
      "\t- 1.38% of files (79 files) have a discrepancy greater than 10 seconds.\n",
      "\n",
      "\t- 0.16% of files (9 files) have a discrepancy greater than 25 seconds.\n"
     ]
    }
   ],
   "source": [
    "print(f\"There are {breath_df.shape[0]} files in total:\")\n",
    "\n",
    "print()\n",
    "over_1s = breath_df[abs(breath_df['Csv_breath_holds']-breath_df['Data_breath_holds'])>1]\n",
    "print(f\"\\t- {over_1s.shape[0]/breath_df.shape[0]*100:.2f}% of files ({over_1s.shape[0]} files) have a discrepancy greater than 1 seconds.\")\n",
    "\n",
    "print()\n",
    "over_2s = breath_df[abs(breath_df['Csv_breath_holds']-breath_df['Data_breath_holds'])>2]\n",
    "print(f\"\\t- {over_2s.shape[0]/breath_df.shape[0]*100:.2f}% of files ({over_2s.shape[0]} files) have a discrepancy greater than 2 seconds.\")\n",
    "\n",
    "print()\n",
    "over_10s = breath_df[abs(breath_df['Csv_breath_holds']-breath_df['Data_breath_holds'])>10]\n",
    "print(f\"\\t- {over_10s.shape[0]/breath_df.shape[0]*100:.2f}% of files ({over_10s.shape[0]} files) have a discrepancy greater than 10 seconds.\")\n",
    "\n",
    "print()\n",
    "over_25s = breath_df[abs(breath_df['Csv_breath_holds']-breath_df['Data_breath_holds'])>25]\n",
    "print(f\"\\t- {over_25s.shape[0]/breath_df.shape[0]*100:.2f}% of files ({over_25s.shape[0]} files) have a discrepancy greater than 25 seconds.\")"
   ]
  },
  {
   "cell_type": "code",
   "execution_count": 15,
   "id": "35d2f0b5-4adf-49e6-9961-66ae68be57c7",
   "metadata": {},
   "outputs": [
    {
     "data": {
      "text/html": [
       "<div>\n",
       "<style scoped>\n",
       "    .dataframe tbody tr th:only-of-type {\n",
       "        vertical-align: middle;\n",
       "    }\n",
       "\n",
       "    .dataframe tbody tr th {\n",
       "        vertical-align: top;\n",
       "    }\n",
       "\n",
       "    .dataframe thead th {\n",
       "        text-align: right;\n",
       "    }\n",
       "</style>\n",
       "<table border=\"1\" class=\"dataframe\">\n",
       "  <thead>\n",
       "    <tr style=\"text-align: right;\">\n",
       "      <th></th>\n",
       "      <th>Csv_breath_holds</th>\n",
       "      <th>Data_breath_holds</th>\n",
       "    </tr>\n",
       "  </thead>\n",
       "  <tbody>\n",
       "    <tr>\n",
       "      <th>count</th>\n",
       "      <td>4791.000000</td>\n",
       "      <td>4791.000000</td>\n",
       "    </tr>\n",
       "    <tr>\n",
       "      <th>mean</th>\n",
       "      <td>31.432177</td>\n",
       "      <td>32.033296</td>\n",
       "    </tr>\n",
       "    <tr>\n",
       "      <th>std</th>\n",
       "      <td>10.496733</td>\n",
       "      <td>10.632860</td>\n",
       "    </tr>\n",
       "    <tr>\n",
       "      <th>min</th>\n",
       "      <td>0.020000</td>\n",
       "      <td>1.000000</td>\n",
       "    </tr>\n",
       "    <tr>\n",
       "      <th>25%</th>\n",
       "      <td>27.440000</td>\n",
       "      <td>27.930000</td>\n",
       "    </tr>\n",
       "    <tr>\n",
       "      <th>50%</th>\n",
       "      <td>31.650000</td>\n",
       "      <td>32.390000</td>\n",
       "    </tr>\n",
       "    <tr>\n",
       "      <th>75%</th>\n",
       "      <td>36.835000</td>\n",
       "      <td>37.655000</td>\n",
       "    </tr>\n",
       "    <tr>\n",
       "      <th>max</th>\n",
       "      <td>89.710000</td>\n",
       "      <td>90.920000</td>\n",
       "    </tr>\n",
       "  </tbody>\n",
       "</table>\n",
       "</div>"
      ],
      "text/plain": [
       "       Csv_breath_holds  Data_breath_holds\n",
       "count       4791.000000        4791.000000\n",
       "mean          31.432177          32.033296\n",
       "std           10.496733          10.632860\n",
       "min            0.020000           1.000000\n",
       "25%           27.440000          27.930000\n",
       "50%           31.650000          32.390000\n",
       "75%           36.835000          37.655000\n",
       "max           89.710000          90.920000"
      ]
     },
     "execution_count": 15,
     "metadata": {},
     "output_type": "execute_result"
    }
   ],
   "source": [
    "under2 = breath_df[abs(breath_df['Csv_breath_holds']-breath_df['Data_breath_holds'])<=2]\n",
    "under2.describe()"
   ]
  },
  {
   "cell_type": "markdown",
   "id": "fb378eb4-382e-4c72-ad85-42dd3f4c93fa",
   "metadata": {},
   "source": [
    "## Plot of Breath Holds"
   ]
  },
  {
   "cell_type": "code",
   "execution_count": 16,
   "id": "88cc5044-4d38-48c0-b071-e7ddbbf7dc59",
   "metadata": {},
   "outputs": [
    {
     "data": {
      "image/png": "[encoded data removed]",
      "text/plain": [
       "<Figure size 576x432 with 1 Axes>"
      ]
     },
     "metadata": {
      "needs_background": "light"
     },
     "output_type": "display_data"
    }
   ],
   "source": [
    "fig, ax = plt.subplots(figsize=(8,6))\n",
    "bh = np.array(under2['Data_breath_holds'], dtype = 'float32')\n",
    "ax.hist(bh, bins = 25, color = 'lightblue', edgecolor = \"grey\")\n",
    "ax.vlines(x = np.mean(under2['Data_breath_holds']), ymin = 0, ymax = 1500, linestyle='dashed', color = \"red\", linewidth = 2, label=f\"{np.mean(under2['Data_breath_holds']):.2f}\")\n",
    "ax.legend(title = 'Average Breath Hold Length', loc = 'best')\n",
    "ax.set_title('Breath Hold Lengths')\n",
    "ax.set_xlabel('Breath Hold (Seconds)')\n",
    "ax.set_ylabel('Frequency')\n",
    "\n",
    "plt.show()"
   ]
  },
  {
   "cell_type": "markdown",
   "id": "0efebb74-7c24-42c8-93b2-7c209a409259",
   "metadata": {},
   "source": [
    " "
   ]
  },
  {
   "cell_type": "markdown",
   "id": "71077710-5169-4571-96f2-31da5d03d8a1",
   "metadata": {},
   "source": [
    "----------------------------------------------------------------------------------------------------------------------------------------------------------------------------------"
   ]
  },
  {
   "cell_type": "markdown",
   "id": "f71dee5e-c047-4e3d-949c-e53a35ad5e62",
   "metadata": {},
   "source": [
    " "
   ]
  },
  {
   "cell_type": "markdown",
   "id": "839f6e12-d40c-4d4c-b200-cbb4beeec2e0",
   "metadata": {},
   "source": [
    "## Building Model"
   ]
  },
  {
   "cell_type": "code",
   "execution_count": 17,
   "id": "b509235a-b6a6-4725-831f-f228839f6cf7",
   "metadata": {},
   "outputs": [],
   "source": [
    "df = under2"
   ]
  },
  {
   "cell_type": "code",
   "execution_count": 18,
   "id": "9b0114a8-064b-4f83-9fe3-f2982b4c02af",
   "metadata": {},
   "outputs": [],
   "source": [
    "x_train, x_test, y_train, y_test = train_test_split(df['Trace'], df['Data_breath_holds'], test_size=0.20)"
   ]
  },
  {
   "cell_type": "code",
   "execution_count": 20,
   "id": "3735fd53-e97a-4bed-a200-7da3b5d0f7e0",
   "metadata": {},
   "outputs": [],
   "source": [
    "x_train, x_val, y_train, y_val = train_test_split(x_train, y_train, test_size=0.2, random_state=1)"
   ]
  },
  {
   "cell_type": "markdown",
   "id": "06bca3b6-7fe7-4a8e-96d2-808097106a57",
   "metadata": {},
   "source": [
    "### What does the data look like before being scaled?"
   ]
  },
  {
   "cell_type": "code",
   "execution_count": 21,
   "id": "34a4a341-92e4-47c1-8cc4-da13a8f479cd",
   "metadata": {},
   "outputs": [
    {
     "name": "stdout",
     "output_type": "stream",
     "text": [
      "5630    [0.5617, 0.5533, 0.5449, 0.5364, 0.528, 0.5196...\n",
      "4244    [0.1387, 0.1481, 0.1576, 0.1673, 0.177, 0.1868...\n",
      "Name: Trace, dtype: object\n",
      "(1839,)\n"
     ]
    }
   ],
   "source": [
    "print(x_train[0:2])\n",
    "print(x_train.shape)"
   ]
  },
  {
   "cell_type": "code",
   "execution_count": 22,
   "id": "d0006812-3694-456b-87dc-f62c37f5a5ca",
   "metadata": {},
   "outputs": [
    {
     "name": "stdout",
     "output_type": "stream",
     "text": [
      "5630    36.28\n",
      "4244    33.79\n",
      "Name: Data_breath_holds, dtype: float64\n",
      "(1839,)\n"
     ]
    }
   ],
   "source": [
    "print(y_train[0:2])\n",
    "print(y_train.shape)"
   ]
  },
  {
   "cell_type": "code",
   "execution_count": 23,
   "id": "36bd5202-feac-440c-8d9b-dbe8572de38f",
   "metadata": {},
   "outputs": [
    {
     "name": "stdout",
     "output_type": "stream",
     "text": [
      "5186    [0.048, 0.0561, 0.0644, 0.0727, 0.081, 0.0893,...\n",
      "5427    [1.0624, 1.0673, 1.0721, 1.0767, 1.0813, 1.085...\n",
      "Name: Trace, dtype: object\n",
      "(959,)\n"
     ]
    }
   ],
   "source": [
    "print(x_test[0:2])\n",
    "print(x_test.shape)"
   ]
  },
  {
   "cell_type": "code",
   "execution_count": 24,
   "id": "9e8ca252-66ce-4b3c-90c4-34120f0fcb8c",
   "metadata": {},
   "outputs": [
    {
     "name": "stdout",
     "output_type": "stream",
     "text": [
      "5186    27.38\n",
      "5427    26.98\n",
      "Name: Data_breath_holds, dtype: float64\n",
      "(959,)\n"
     ]
    }
   ],
   "source": [
    "print(y_test[0:2])\n",
    "print(y_test.shape)"
   ]
  },
  {
   "cell_type": "markdown",
   "id": "fbad344d-28f2-4b3f-9957-b4fc2d4ea368",
   "metadata": {},
   "source": [
    "## Scale Data"
   ]
  },
  {
   "cell_type": "code",
   "execution_count": 25,
   "id": "5e51961d-d211-4c5f-b6e8-927b704aa263",
   "metadata": {},
   "outputs": [],
   "source": [
    "# Change type of each row from np.array to list to put into scaler\n",
    "x_train = np.array([list(row) for row in x_train])\n",
    "x_val = np.array([list(row) for row in x_val])\n",
    "x_test = np.array([list(row) for row in x_test])\n",
    "\n",
    "y_train = np.array(y_train)\n",
    "y_val = np.array(y_val)\n",
    "y_test = np.array(y_test)"
   ]
  },
  {
   "cell_type": "code",
   "execution_count": 26,
   "id": "54dc16c1-fe41-4cae-88d6-517a1f5d2d03",
   "metadata": {},
   "outputs": [],
   "source": [
    "scaler = StandardScaler() # creates the scaler\n",
    "scaler.fit(x_train)\n",
    "x_train = scaler.transform(x_train)\n",
    "x_val = scaler.transform(x_val)\n",
    "x_test = scaler.transform(x_test)"
   ]
  },
  {
   "cell_type": "markdown",
   "id": "ea5980f3-18d1-4cc1-b110-d6f879dcf30f",
   "metadata": {},
   "source": [
    "### What does the data look like after being scaled?"
   ]
  },
  {
   "cell_type": "code",
   "execution_count": 28,
   "id": "6b746dac-c814-412d-89b4-63d16d3d66dd",
   "metadata": {},
   "outputs": [
    {
     "data": {
      "text/plain": [
       "[<matplotlib.lines.Line2D at 0x7f706892dac0>]"
      ]
     },
     "execution_count": 28,
     "metadata": {},
     "output_type": "execute_result"
    },
    {
     "data": {
      "image/png": "[encoded data removed]",
      "text/plain": [
       "<Figure size 432x288 with 1 Axes>"
      ]
     },
     "metadata": {
      "needs_background": "light"
     },
     "output_type": "display_data"
    }
   ],
   "source": [
    "plt.plot(x_train[1020])"
   ]
  },
  {
   "cell_type": "markdown",
   "id": "0e792c22-6e51-4076-9ed5-6ec9ef086243",
   "metadata": {},
   "source": [
    "## Initialize Data for Model"
   ]
  },
  {
   "cell_type": "code",
   "execution_count": 30,
   "id": "3294b7f1-a286-42b9-ba7c-344398408cab",
   "metadata": {},
   "outputs": [],
   "source": [
    "#dataset\n",
    "from torch.utils.data import Dataset"
   ]
  },
  {
   "cell_type": "code",
   "execution_count": 31,
   "id": "c2900eb0-d954-4b1a-ae92-63039f118b33",
   "metadata": {},
   "outputs": [],
   "source": [
    "class timeseries(Dataset):\n",
    "    def __init__(self,x,y):\n",
    "        self.x = torch.tensor(x,dtype=torch.float32)\n",
    "        self.y = torch.tensor(y,dtype=torch.float32)\n",
    "        self.len = x.shape[0]\n",
    "\n",
    "    def __getitem__(self,idx):\n",
    "        return self.x[idx],self.y[idx]\n",
    "  \n",
    "    def __len__(self):\n",
    "        return self.len"
   ]
  },
  {
   "cell_type": "code",
   "execution_count": 32,
   "id": "724654d2-6141-4d48-94b2-dff6413589ff",
   "metadata": {},
   "outputs": [],
   "source": [
    "dataset = timeseries(x_train,y_train)\n",
    "valid_dataset = timeseries(x_val,y_val)\n",
    "test_dataset = timeseries(x_test,y_test)"
   ]
  },
  {
   "cell_type": "code",
   "execution_count": 33,
   "id": "aefe9bcb-8efa-4ae6-96aa-fd97165b0617",
   "metadata": {},
   "outputs": [],
   "source": [
    "train_loader = DataLoader(dataset,shuffle=True,batch_size=100)\n",
    "val_loader = DataLoader(valid_dataset,shuffle=False,batch_size=100)\n",
    "test_loader = DataLoader(test_dataset,shuffle=False,batch_size=100)"
   ]
  },
  {
   "cell_type": "markdown",
   "id": "442d8893-7de2-4e97-b822-30c4f14b4a61",
   "metadata": {},
   "source": [
    "## Define LSTM Model (One Step Prediction)"
   ]
  },
  {
   "cell_type": "code",
   "execution_count": 68,
   "id": "76673e10-6bff-45f5-8cac-10f226e85f32",
   "metadata": {},
   "outputs": [],
   "source": [
    "#neural network\n",
    "from torch import nn\n",
    "\n",
    "class LSTM_Model(nn.Module):\n",
    "    def __init__(self):\n",
    "        super(LSTM_Model,self).__init__()\n",
    "        self.lstm = nn.LSTM(input_size=1,hidden_size=1000,num_layers=2,batch_first=True) # change hidden size\n",
    "        self.linear = nn.Linear(in_features=1000,out_features=1)\n",
    "        \n",
    "        \n",
    "    def forward(self,x):\n",
    "        output,_status = self.lstm(x)\n",
    "        output = output[:,-1,:]\n",
    "        #output = self.linear(torch.relu(output))\n",
    "        output = self.linear(output)\n",
    "        return output\n",
    "\n",
    "model = LSTM_Model()"
   ]
  },
  {
   "cell_type": "code",
   "execution_count": 69,
   "id": "0ff7a81a-29b9-4a77-b93a-ee9f3c2a56fa",
   "metadata": {},
   "outputs": [
    {
     "data": {
      "text/plain": [
       "[torch.Size([4000, 1]),\n",
       " torch.Size([4000, 1000]),\n",
       " torch.Size([4000]),\n",
       " torch.Size([4000]),\n",
       " torch.Size([4000, 1000]),\n",
       " torch.Size([4000, 1000]),\n",
       " torch.Size([4000]),\n",
       " torch.Size([4000]),\n",
       " torch.Size([1, 1000]),\n",
       " torch.Size([1])]"
      ]
     },
     "execution_count": 69,
     "metadata": {},
     "output_type": "execute_result"
    }
   ],
   "source": [
    "[p.size() for p in model.parameters()]"
   ]
  },
  {
   "cell_type": "code",
   "execution_count": 43,
   "id": "a0ed150e-79eb-4f92-ad72-70ebad527c32",
   "metadata": {},
   "outputs": [],
   "source": [
    "# Declaring Criterion and Optimizer\n",
    "criterion = torch.nn.MSELoss()\n",
    "optimizer = torch.optim.Adam(model.parameters(),lr=0.001)\n",
    "epochs = 50"
   ]
  },
  {
   "cell_type": "markdown",
   "id": "c421bc38-96ec-4f08-b358-f0c2a108af68",
   "metadata": {},
   "source": [
    "## Training Loop"
   ]
  },
  {
   "cell_type": "code",
   "execution_count": 45,
   "id": "96446d6d-ddb9-470b-b1d7-02a024ceafb9",
   "metadata": {},
   "outputs": [
    {
     "name": "stdout",
     "output_type": "stream",
     "text": [
      "Epoch 1 \t Training Loss: 112.77860902485095 \tValidation Loss: 112.78081665039062\n",
      "\t\t Training MAE: 7.360926025792172 \tValidation MAE: 7.339144134521485\n",
      "\t\t Training MSE: 112.7786078202097 \tValidation MSE: 112.78081512451172\n",
      "\n",
      "Epoch 3 \t Training Loss: 112.35713838276111 \tValidation Loss: 112.6521209716797\n",
      "\t\t Training MAE: 7.329369871239913 \tValidation MAE: 7.342922210693359\n",
      "\t\t Training MSE: 112.35713958740234 \tValidation MSE: 112.6521224975586\n",
      "\n",
      "Epoch 5 \t Training Loss: 112.29040848581414 \tValidation Loss: 112.82384796142578\n",
      "\t\t Training MAE: 7.317413028917815 \tValidation MAE: 7.338083362579345\n",
      "\t\t Training MSE: 112.2904072811729 \tValidation MSE: 112.8238525390625\n",
      "\n",
      "Epoch 7 \t Training Loss: 111.83941971628289 \tValidation Loss: 112.46353454589844\n",
      "\t\t Training MAE: 7.316948514235647 \tValidation MAE: 7.342206859588623\n",
      "\t\t Training MSE: 111.83941610235917 \tValidation MSE: 112.46353302001953\n",
      "\n"
     ]
    },
    {
     "ename": "KeyboardInterrupt",
     "evalue": "",
     "output_type": "error",
     "traceback": [
      "\u001b[0;31m---------------------------------------------------------------------------\u001b[0m",
      "\u001b[0;31mKeyboardInterrupt\u001b[0m                         Traceback (most recent call last)",
      "\u001b[0;32m<ipython-input-45-4b13445840c9>\u001b[0m in \u001b[0;36m<module>\u001b[0;34m\u001b[0m\n\u001b[1;32m     15\u001b[0m         \u001b[0mloss\u001b[0m \u001b[0;34m=\u001b[0m \u001b[0mcriterion\u001b[0m\u001b[0;34m(\u001b[0m\u001b[0mypred\u001b[0m\u001b[0;34m,\u001b[0m\u001b[0my\u001b[0m\u001b[0;34m.\u001b[0m\u001b[0mview\u001b[0m\u001b[0;34m(\u001b[0m\u001b[0;34m-\u001b[0m\u001b[0;36m1\u001b[0m\u001b[0;34m,\u001b[0m\u001b[0;36m1\u001b[0m\u001b[0;34m)\u001b[0m\u001b[0;34m)\u001b[0m\u001b[0;34m\u001b[0m\u001b[0;34m\u001b[0m\u001b[0m\n\u001b[1;32m     16\u001b[0m         \u001b[0;31m# Calculate gradients\u001b[0m\u001b[0;34m\u001b[0m\u001b[0;34m\u001b[0m\u001b[0;34m\u001b[0m\u001b[0m\n\u001b[0;32m---> 17\u001b[0;31m         \u001b[0mloss\u001b[0m\u001b[0;34m.\u001b[0m\u001b[0mbackward\u001b[0m\u001b[0;34m(\u001b[0m\u001b[0;34m)\u001b[0m\u001b[0;34m\u001b[0m\u001b[0;34m\u001b[0m\u001b[0m\n\u001b[0m\u001b[1;32m     18\u001b[0m         \u001b[0;31m# Update Weights\u001b[0m\u001b[0;34m\u001b[0m\u001b[0;34m\u001b[0m\u001b[0;34m\u001b[0m\u001b[0m\n\u001b[1;32m     19\u001b[0m         \u001b[0moptimizer\u001b[0m\u001b[0;34m.\u001b[0m\u001b[0mstep\u001b[0m\u001b[0;34m(\u001b[0m\u001b[0;34m)\u001b[0m\u001b[0;34m\u001b[0m\u001b[0;34m\u001b[0m\u001b[0m\n",
      "\u001b[0;32m/opt/anaconda3/lib/python3.9/site-packages/torch/_tensor.py\u001b[0m in \u001b[0;36mbackward\u001b[0;34m(self, gradient, retain_graph, create_graph, inputs)\u001b[0m\n\u001b[1;32m    305\u001b[0m                 \u001b[0mcreate_graph\u001b[0m\u001b[0;34m=\u001b[0m\u001b[0mcreate_graph\u001b[0m\u001b[0;34m,\u001b[0m\u001b[0;34m\u001b[0m\u001b[0;34m\u001b[0m\u001b[0m\n\u001b[1;32m    306\u001b[0m                 inputs=inputs)\n\u001b[0;32m--> 307\u001b[0;31m         \u001b[0mtorch\u001b[0m\u001b[0;34m.\u001b[0m\u001b[0mautograd\u001b[0m\u001b[0;34m.\u001b[0m\u001b[0mbackward\u001b[0m\u001b[0;34m(\u001b[0m\u001b[0mself\u001b[0m\u001b[0;34m,\u001b[0m \u001b[0mgradient\u001b[0m\u001b[0;34m,\u001b[0m \u001b[0mretain_graph\u001b[0m\u001b[0;34m,\u001b[0m \u001b[0mcreate_graph\u001b[0m\u001b[0;34m,\u001b[0m \u001b[0minputs\u001b[0m\u001b[0;34m=\u001b[0m\u001b[0minputs\u001b[0m\u001b[0;34m)\u001b[0m\u001b[0;34m\u001b[0m\u001b[0;34m\u001b[0m\u001b[0m\n\u001b[0m\u001b[1;32m    308\u001b[0m \u001b[0;34m\u001b[0m\u001b[0m\n\u001b[1;32m    309\u001b[0m     \u001b[0;32mdef\u001b[0m \u001b[0mregister_hook\u001b[0m\u001b[0;34m(\u001b[0m\u001b[0mself\u001b[0m\u001b[0;34m,\u001b[0m \u001b[0mhook\u001b[0m\u001b[0;34m)\u001b[0m\u001b[0;34m:\u001b[0m\u001b[0;34m\u001b[0m\u001b[0;34m\u001b[0m\u001b[0m\n",
      "\u001b[0;32m/opt/anaconda3/lib/python3.9/site-packages/torch/autograd/__init__.py\u001b[0m in \u001b[0;36mbackward\u001b[0;34m(tensors, grad_tensors, retain_graph, create_graph, grad_variables, inputs)\u001b[0m\n\u001b[1;32m    152\u001b[0m         \u001b[0mretain_graph\u001b[0m \u001b[0;34m=\u001b[0m \u001b[0mcreate_graph\u001b[0m\u001b[0;34m\u001b[0m\u001b[0;34m\u001b[0m\u001b[0m\n\u001b[1;32m    153\u001b[0m \u001b[0;34m\u001b[0m\u001b[0m\n\u001b[0;32m--> 154\u001b[0;31m     Variable._execution_engine.run_backward(\n\u001b[0m\u001b[1;32m    155\u001b[0m         \u001b[0mtensors\u001b[0m\u001b[0;34m,\u001b[0m \u001b[0mgrad_tensors_\u001b[0m\u001b[0;34m,\u001b[0m \u001b[0mretain_graph\u001b[0m\u001b[0;34m,\u001b[0m \u001b[0mcreate_graph\u001b[0m\u001b[0;34m,\u001b[0m \u001b[0minputs\u001b[0m\u001b[0;34m,\u001b[0m\u001b[0;34m\u001b[0m\u001b[0;34m\u001b[0m\u001b[0m\n\u001b[1;32m    156\u001b[0m         allow_unreachable=True, accumulate_grad=True)  # allow_unreachable flag\n",
      "\u001b[0;31mKeyboardInterrupt\u001b[0m: "
     ]
    }
   ],
   "source": [
    "history = []\n",
    "for i in range(epochs):\n",
    "    \n",
    "    train_mse = 0.0\n",
    "    train_mae = 0.0\n",
    "    train_loss = 0.0\n",
    "    train_preds = []\n",
    "    for x, y in train_loader:\n",
    "        \n",
    "        # Clear the gradients\n",
    "        optimizer.zero_grad()\n",
    "        # Forward Pass\n",
    "        ypred = model(x.view(-1,500,1))       \n",
    "        # Find the Loss\n",
    "        loss = criterion(ypred,y.view(-1,1))      \n",
    "        # Calculate gradients\n",
    "        loss.backward()       \n",
    "        # Update Weights\n",
    "        optimizer.step()      \n",
    "        # Calculate L1 Loss\n",
    "        train_loss += loss.item()\n",
    "        # Calculate MAE\n",
    "        ypred = ypred.detach().numpy()\n",
    "        train_mae += mean_absolute_error(ypred, y.view(-1,1))\n",
    "        # Calculate MSE\n",
    "        train_mse += mean_squared_error(ypred, y.view(-1,1))\n",
    "        # R^2\n",
    "        \n",
    "        train_preds.append(ypred)\n",
    "        \n",
    "    valid_mse = 0.0\n",
    "    valid_mae = 0.0\n",
    "    valid_loss = 0.0\n",
    "    val_preds = []\n",
    "    for x, y in val_loader:\n",
    "        # Forward Pass\n",
    "        ypred = model(x.view(-1,500,1))\n",
    "        # Find the Loss\n",
    "        loss = criterion(ypred,y.view(-1,1))\n",
    "        # Calculate L1 Loss\n",
    "        valid_loss += loss.item()\n",
    "        # Calculate MAE\n",
    "        ypred = ypred.detach().numpy()\n",
    "        valid_mae += mean_absolute_error(ypred, y.view(-1,1))\n",
    "        # Calculate MSE\n",
    "        valid_mse += mean_squared_error(ypred, y.view(-1,1))\n",
    "        \n",
    "        val_preds.append(ypred)\n",
    "\n",
    "    history.append((train_loss/len(train_loader),valid_loss/len(val_loader)))\n",
    "    if i%2 == 0:\n",
    "        torch.save(model, 'lstm_single_output')\n",
    "        print(f'Epoch {i+1} \\t Training Loss: {train_loss/len(train_loader)} \\tValidation Loss: {valid_loss/len(val_loader)}')\n",
    "        print(f'\\t\\t Training MAE: {train_mae/len(train_loader)} \\tValidation MAE: {valid_mae/len(val_loader)}')\n",
    "        print(f'\\t\\t Training MSE: {train_mse/len(train_loader)} \\tValidation MSE: {valid_mse/len(val_loader)}')\n",
    "        print()\n",
    "    \n",
    "    "
   ]
  },
  {
   "cell_type": "code",
   "execution_count": 44,
   "id": "300f3de6-25d1-42a5-bb9b-546270dcb798",
   "metadata": {},
   "outputs": [],
   "source": [
    "h = history"
   ]
  },
  {
   "cell_type": "code",
   "execution_count": 47,
   "id": "2391cb8a-e485-42dd-bbc8-16bc460b060d",
   "metadata": {},
   "outputs": [],
   "source": [
    "h2 = [y for x in [h, history] for y in x]"
   ]
  },
  {
   "cell_type": "code",
   "execution_count": 51,
   "id": "a3529449-7cbd-4f37-9934-a11f9adeb5a9",
   "metadata": {},
   "outputs": [
    {
     "data": {
      "text/plain": [
       "[(222.42652893066406, 114.22864227294922),\n",
       " (114.70292784038342, 120.30552215576172),\n",
       " (115.52554923609684, 113.11756134033203),\n",
       " (114.08195656224301, 112.50411682128906),\n",
       " (112.95482233950966, 112.76242218017578),\n",
       " (113.47743024324116, 112.89265594482421),\n",
       " (115.02431648655941, 112.55004272460937),\n",
       " (112.77735298558285, 112.87644653320312),\n",
       " (112.6627695184005, 112.72396545410156),\n",
       " (112.64104461669922, 112.64267425537109),\n",
       " (114.2179906744706, 112.92857513427734),\n",
       " (113.14422607421875, 112.8499038696289),\n",
       " (113.4272232055664, 112.70503234863281),\n",
       " (112.62801080001027, 112.92722625732422),\n",
       " (112.77860902485095, 112.78081665039062),\n",
       " (111.41733209710372, 112.91500091552734),\n",
       " (112.35713838276111, 112.6521209716797),\n",
       " (112.36781070106908, 112.80146942138671),\n",
       " (112.29040848581414, 112.82384796142578),\n",
       " (112.89618863557514, 112.73480529785157),\n",
       " (111.83941971628289, 112.46353454589844)]"
      ]
     },
     "execution_count": 51,
     "metadata": {},
     "output_type": "execute_result"
    }
   ],
   "source": [
    "h2"
   ]
  },
  {
   "cell_type": "markdown",
   "id": "ff6c0686-94e3-4457-94c3-2cde0be486dc",
   "metadata": {},
   "source": [
    "## Plot Loss"
   ]
  },
  {
   "cell_type": "code",
   "execution_count": 52,
   "id": "9f7491fb-a02a-4c51-9da1-34a547645a6e",
   "metadata": {},
   "outputs": [],
   "source": [
    "history = torch.tensor(h2)"
   ]
  },
  {
   "cell_type": "code",
   "execution_count": 53,
   "id": "083c1a38-c3d6-4670-bb45-21d9cf4cf73f",
   "metadata": {},
   "outputs": [],
   "source": [
    "torch.save(model, 'lstm_bh_epochs')"
   ]
  },
  {
   "cell_type": "code",
   "execution_count": 54,
   "id": "c4856509-e27e-4523-ac71-16684807c521",
   "metadata": {},
   "outputs": [],
   "source": [
    "def plot_loss(history, ax=None, maxy=None, file=None):\n",
    "    if ax is None:\n",
    "        fig, ax = plt.subplots(1,1, figsize=(6,3))\n",
    "    ax.set_ylabel(\"Loss\")\n",
    "    ax.set_xlabel(\"Epochs\")\n",
    "    loss = history[:,0]\n",
    "    val_loss = history[:,1]\n",
    "\n",
    "    ax.spines['top'].set_visible(False)    # turns off the top \"spine\" completely\n",
    "    ax.spines['right'].set_visible(False)\n",
    "    ax.spines['left'].set_linewidth(.5)\n",
    "    ax.spines['bottom'].set_linewidth(.5)\n",
    "    ax.plot(loss, label='train_loss')\n",
    "    ax.plot(val_loss, '--', label='val_loss')\n",
    "    ax.legend(loc='upper right')\n",
    "    plt.tight_layout()\n",
    "    if file:\n",
    "        plt.savefig(f\"{file}.pdf\")"
   ]
  },
  {
   "cell_type": "code",
   "execution_count": 55,
   "id": "81ed3991-053e-4bbd-8b89-6537d10c1586",
   "metadata": {},
   "outputs": [
    {
     "data": {
      "image/png": "[encoded data removed]",
      "text/plain": [
       "<Figure size 432x216 with 1 Axes>"
      ]
     },
     "metadata": {
      "needs_background": "light"
     },
     "output_type": "display_data"
    }
   ],
   "source": [
    "plot_loss(history, maxy = 50)"
   ]
  },
  {
   "cell_type": "code",
   "execution_count": 57,
   "id": "a1a903df-0a42-4831-af50-a39e895ac712",
   "metadata": {},
   "outputs": [
    {
     "data": {
      "image/png": "[encoded data removed]",
      "text/plain": [
       "<Figure size 432x288 with 1 Axes>"
      ]
     },
     "metadata": {
      "needs_background": "light"
     },
     "output_type": "display_data"
    }
   ],
   "source": [
    "#test set actual vs predicted\n",
    "test_set = timeseries(x_test,y_test)\n",
    "test_pred = model(test_set[:][0].view(-1,500,1)).view(-1)\n",
    "plt.scatter(test_set[:][1].view(-1), test_pred.detach().numpy(),label='predicted')\n",
    "plt.show()"
   ]
  },
  {
   "cell_type": "code",
   "execution_count": 59,
   "id": "416656c0-b79b-4c7c-9fe4-691445b0c1c2",
   "metadata": {},
   "outputs": [],
   "source": [
    "test_pred = model(test_set[:][0].view(-1,500,1)).view(-1)"
   ]
  },
  {
   "cell_type": "code",
   "execution_count": 60,
   "id": "d6c7a8eb-1bb1-4af6-8da0-30f82f34c1eb",
   "metadata": {},
   "outputs": [
    {
     "data": {
      "text/plain": [
       "31.545277"
      ]
     },
     "execution_count": 60,
     "metadata": {},
     "output_type": "execute_result"
    }
   ],
   "source": [
    "np.mean(np.array(test_set[:][1].view(-1)))"
   ]
  },
  {
   "cell_type": "code",
   "execution_count": 61,
   "id": "b4958e25-daf1-4afb-84bc-7af95c4bc6cf",
   "metadata": {},
   "outputs": [
    {
     "data": {
      "text/plain": [
       "tensor([31.8587, 31.8540, 31.8600, 31.8669, 31.8633, 32.1215, 32.1609, 31.8516,\n",
       "        31.8608, 32.1011, 32.0839, 32.0039, 32.0255, 31.8546, 31.8598, 31.8702,\n",
       "        31.8559, 32.1007, 32.0783, 32.0185, 32.1660, 31.8602, 32.1103, 31.8566,\n",
       "        31.8637, 32.1361, 32.0846, 32.0978, 31.8621, 32.0922, 32.1609, 31.8579,\n",
       "        32.0350, 31.8635, 32.0947, 31.8560, 31.8610, 32.1341, 31.8621, 31.8585,\n",
       "        31.8586, 31.8689, 31.8588, 32.0986, 31.8668, 32.1097, 32.0589, 32.1127,\n",
       "        31.8592, 32.0520, 31.8551, 31.8615, 32.1255, 31.8636, 32.0794, 31.8874,\n",
       "        32.0178, 31.8658, 31.8620, 32.0681, 31.8689, 31.8575, 31.8606, 31.8464,\n",
       "        31.8602, 31.8576, 31.8623, 32.1272, 31.8534, 32.1392, 32.0386, 31.8483,\n",
       "        31.8691, 31.8581, 31.8493, 31.8628, 31.8563, 32.1586, 31.8594, 31.8711,\n",
       "        32.1199, 32.0680, 31.8651, 31.8608, 31.8577, 31.9869, 31.8626, 31.8562,\n",
       "        32.1713, 31.8655, 32.0369, 31.8566, 31.8553, 31.8544, 32.1591, 31.8729,\n",
       "        31.8667, 31.8539, 31.8644, 31.8615, 31.8535, 31.8585, 32.1241, 31.8132,\n",
       "        32.0339, 31.8562, 31.8554, 31.8701, 31.8659, 31.8591, 32.1222, 31.8597,\n",
       "        31.8658, 31.8651, 31.8644, 31.8608, 32.0455, 32.0753, 31.8575, 31.8610,\n",
       "        31.8626, 31.8655, 31.8545, 31.8594, 32.1307, 32.0233, 31.8701, 31.8665,\n",
       "        31.8528, 32.0803, 32.1653, 32.0748, 31.7708, 31.8615, 31.8555, 32.1027,\n",
       "        31.8509, 32.0980, 31.8598, 32.0265, 32.0878, 31.8614, 31.8555, 31.8713,\n",
       "        31.8558, 31.8473, 32.1426, 32.1434, 31.8570, 31.8627, 32.1193, 31.8575,\n",
       "        31.8623, 31.8620, 31.8631, 31.8699, 31.8644, 32.1610, 32.0951, 32.0434,\n",
       "        31.8581, 31.8663, 31.8575, 32.0917, 32.0355, 31.8646, 32.0866, 31.8530,\n",
       "        31.8556, 31.8644, 32.0758, 31.8673, 31.8653, 31.8636, 31.8642, 32.1339,\n",
       "        32.0574, 31.8607, 32.1667, 32.1334, 31.8721, 32.0814, 31.8507, 31.8692,\n",
       "        31.8644, 31.8667, 31.8663, 31.8554, 31.8667, 31.8707, 32.0807, 31.8592,\n",
       "        31.8600, 32.2127, 32.0749, 31.8733, 31.8344, 31.8512, 31.8631, 32.0080,\n",
       "        31.8525, 31.8524, 31.8673, 31.8582, 31.8627, 31.8644, 31.8532, 31.8495,\n",
       "        32.0155, 31.8627, 31.8659, 32.0986, 31.8583, 32.2080, 31.8506, 31.8580,\n",
       "        31.8576, 32.1640, 31.8611, 32.0524, 32.1075, 32.0916, 32.1655, 31.8525,\n",
       "        31.8698, 32.0767, 32.0673, 31.8505, 32.0603, 31.8588, 31.8656, 32.0912,\n",
       "        32.0618, 32.1141, 31.8680, 32.0081, 31.8593, 31.8625, 32.1277, 32.1621,\n",
       "        32.0823, 31.8687, 31.8605, 31.8578, 31.8540, 31.8614, 32.0761, 32.0328,\n",
       "        32.1031, 32.0955, 31.8758, 31.8664, 31.8541, 31.8609, 31.8640, 32.1672,\n",
       "        32.0293, 31.8605, 32.0967, 31.8532, 31.8606, 31.8653, 31.8544, 32.0888,\n",
       "        31.8435, 31.8435, 31.8556, 32.0694, 31.8600, 31.8651, 31.8660, 31.8661,\n",
       "        31.8603, 31.8723, 31.8631, 31.8542, 32.0657, 32.0592, 32.1319, 31.8555,\n",
       "        31.8605, 31.8662, 32.1122, 31.8668, 31.8619, 31.8615, 31.8600, 31.8994,\n",
       "        32.0797, 31.8482, 31.8671, 32.1373, 31.8565, 31.8594, 32.1164, 31.8589,\n",
       "        31.8631, 32.0912, 32.0861, 31.8670, 32.1319, 32.0034, 31.8609, 32.1451,\n",
       "        31.8596, 32.0400, 32.1137, 31.8686, 32.0328, 32.0535, 31.8525, 31.8714,\n",
       "        31.8498, 31.8728, 31.8583, 31.8615, 32.0006, 31.8695, 32.2144, 31.8568,\n",
       "        31.8709, 31.8590, 31.8612, 31.8643, 32.0262, 31.8634, 32.0442, 31.8649,\n",
       "        31.8572, 31.8662, 31.8568, 32.1107, 31.8569, 31.8690, 31.8603, 31.8550,\n",
       "        31.8440, 31.8551, 31.8669, 32.0572, 31.8622, 31.8465, 31.8670, 31.8569,\n",
       "        32.0421, 32.0356, 32.2081, 31.8581, 31.8533, 31.8569, 32.0730, 32.0704,\n",
       "        31.8546, 31.8581, 31.8484, 31.8716, 31.8646, 32.1577, 31.8696, 31.8599,\n",
       "        32.0303, 32.1092, 32.0671, 31.8530, 32.0603, 31.8618, 31.8705, 31.8662,\n",
       "        31.8448, 31.8588, 31.8862, 31.8645, 31.8509, 31.8643, 31.8608, 31.8713,\n",
       "        32.1680, 31.8572, 31.8590, 31.8649, 31.8602, 32.0906, 31.8540, 31.8602,\n",
       "        31.8494, 31.8584, 31.8481, 32.0605, 31.8634, 32.1395, 31.8522, 31.8677,\n",
       "        31.8572, 32.0725, 32.0464, 31.8599, 31.8484, 31.8652, 32.0978, 31.8550,\n",
       "        31.8648, 31.8651, 31.8674, 31.8679, 31.8625, 32.0786, 31.8547, 32.1641,\n",
       "        31.8612, 31.8625, 31.8540, 31.8641, 32.1708, 31.8630, 32.1177, 31.8584,\n",
       "        32.0990, 31.8659, 31.8597, 31.8592, 31.8652, 31.8645, 31.8597, 31.8570,\n",
       "        32.1631, 31.8579, 31.8608, 31.8650, 31.8537, 31.8596, 31.8632, 32.0740,\n",
       "        31.8645, 31.8705, 31.8653, 31.8583, 31.8462, 31.8590, 32.0013, 32.1214,\n",
       "        31.8633, 31.8663, 31.8661, 32.1110, 32.0232, 31.8641, 31.8559, 31.8644,\n",
       "        32.0957, 31.9959, 31.8615, 32.1167, 32.1636, 31.8554, 31.8565, 31.8580,\n",
       "        31.8629, 31.8571, 32.1193, 31.8615, 31.8522, 31.8513, 31.8683, 31.8650,\n",
       "        32.1397, 31.8657, 31.8524, 31.8725, 31.8645, 32.0809, 31.8643, 32.1169,\n",
       "        32.0757, 31.8560, 31.8649, 31.8557, 32.1542, 31.8509, 32.0955, 32.1608,\n",
       "        32.1184, 32.0795, 31.8605, 31.8705, 31.8672, 31.8688, 32.1643, 32.1595,\n",
       "        32.0146, 31.8655, 31.8536, 32.0359, 32.1707, 32.0811, 31.8551, 31.8591,\n",
       "        31.8607, 31.8573, 32.0773, 31.8600, 31.8494, 31.8448, 31.8624, 31.8489,\n",
       "        31.8652, 31.8636, 32.1651, 32.0297, 31.8762, 32.0287, 32.0656, 31.8525,\n",
       "        31.8655, 31.8536, 31.8419, 32.1403, 31.8567, 31.8624, 31.9922, 31.8538,\n",
       "        32.1670, 32.1019, 31.8642, 31.8729, 32.1258, 32.1217, 31.8626, 31.8677,\n",
       "        32.1191, 32.1534, 32.1594, 32.0150, 32.0941, 31.8515, 31.8533, 31.8582,\n",
       "        31.8565, 31.8599, 31.8417, 32.0090, 31.8678, 31.8676, 32.0804, 31.8599,\n",
       "        31.8607, 31.8630, 31.8610, 31.8666, 31.8611, 32.1598, 31.8699, 31.8692,\n",
       "        31.8694, 31.8722, 31.8555, 31.8642, 32.0322, 31.8658, 31.8661, 31.8552,\n",
       "        31.8618, 31.8597, 31.8525, 32.0633, 31.8677, 31.8511, 31.8611, 32.1106,\n",
       "        32.1410, 31.8679, 31.8633, 32.1629, 31.8631, 31.8665, 32.1298, 31.8498,\n",
       "        32.1687, 31.8704, 31.8578, 31.8617, 31.8572, 32.1246, 32.0591, 31.8768,\n",
       "        31.8491, 31.8642, 31.8587, 31.8631, 31.8537, 31.8678, 31.8578, 32.1001,\n",
       "        31.8634, 31.8513, 32.0882, 31.8547, 31.8727, 31.8571, 31.8444, 31.8605,\n",
       "        31.8641, 31.8587, 32.1166, 32.0365, 31.8646, 32.1352, 32.0762, 31.8638,\n",
       "        31.8632, 31.8534, 31.8561, 31.8520, 31.8609, 32.0801, 32.1396, 32.1119,\n",
       "        31.8606, 31.8571, 32.1371, 31.8564, 31.8648, 32.0789, 32.0034, 31.8635,\n",
       "        31.8716, 31.8496, 31.8602, 32.1137, 31.8601, 31.8636, 32.0851, 31.8629,\n",
       "        32.0367, 32.0339, 32.0819, 31.8597, 32.0553, 31.8556, 32.0567, 31.8618,\n",
       "        31.8559, 31.8457, 31.8629, 31.8693, 32.1617, 32.0413, 31.8647, 31.8657,\n",
       "        31.8547, 31.8641, 32.1099, 32.0934, 31.8559, 31.8641, 31.8634, 32.0133,\n",
       "        31.8626, 31.8728, 31.8499, 31.8565, 32.0382, 31.8581, 31.8573, 31.8574,\n",
       "        32.0631, 31.8592, 31.8600, 32.0884, 32.0660, 31.8514, 31.8501, 32.0294,\n",
       "        32.1128, 31.8554, 32.0334, 31.8466, 31.8499, 32.0520, 32.1269, 31.8626,\n",
       "        32.0995, 31.8660, 31.8676, 31.8674, 32.0031, 31.8518, 31.8710, 31.8557,\n",
       "        32.1115, 31.8703, 31.8500, 32.1001, 32.0379, 31.8497, 31.8650, 32.0753,\n",
       "        31.8630, 32.1126, 31.8433, 31.8526, 31.8640, 32.1342, 31.8475, 31.8596,\n",
       "        32.0784, 31.8625, 32.0586, 32.2168, 31.8612, 32.0301, 32.0716, 31.8675,\n",
       "        32.1123, 32.1084, 32.0543, 31.8684, 31.8500, 31.8525, 31.8526, 31.8614,\n",
       "        31.8598, 31.8627, 31.8675, 31.8601, 32.0337, 31.8533, 32.0342, 31.8475,\n",
       "        31.9989, 32.0178, 31.8674, 31.8548, 32.0965, 32.1064, 31.8523, 31.8129,\n",
       "        32.1409, 31.8642, 31.8059, 32.1545, 32.1069, 32.1179, 32.1625, 31.8610,\n",
       "        31.8690, 31.8670, 32.1339, 31.8543, 31.8612, 31.8542, 31.8647, 31.8623,\n",
       "        31.8635, 32.0354, 31.8636, 31.8672, 31.8570, 31.8636, 31.8619, 31.8683,\n",
       "        31.8703, 31.8580, 31.8651, 31.9940, 31.8537, 32.0837, 31.8715, 31.8565,\n",
       "        32.0119, 31.8652, 31.8168, 31.8557, 32.0891, 31.8662, 31.8655, 31.8675,\n",
       "        32.1171, 32.0189, 32.0426, 31.8638, 32.1539, 31.8462, 32.1009, 31.8598,\n",
       "        32.0642, 31.8573, 31.9357, 31.8714, 32.0785, 31.8172, 31.8030, 31.8701,\n",
       "        32.0539, 32.0102, 31.8674, 31.8777, 31.8585, 31.8512, 32.0381, 31.8605,\n",
       "        31.8598, 31.9972, 32.0793, 31.8561, 31.8573, 31.8406, 32.0839, 31.8693,\n",
       "        31.8579, 32.0257, 31.8560, 31.8596, 32.1348, 31.8672, 32.0672, 31.8489,\n",
       "        32.0772, 31.8659, 31.8624, 32.1145, 32.1312, 31.8556, 32.0079, 31.8569,\n",
       "        32.1210, 31.8633, 31.8607, 32.1193, 31.8733, 31.8649, 31.8526, 31.8519,\n",
       "        31.8621, 31.8553, 32.0311, 31.8645, 31.8622, 31.8142, 32.1023, 32.1377,\n",
       "        31.8677, 31.8624, 31.8603, 31.8699, 31.8579, 31.8668, 31.8585, 31.8670,\n",
       "        32.0417, 32.0907, 32.1260, 31.8637, 31.8647, 31.8607, 31.8383, 31.8602,\n",
       "        32.0876, 31.8595, 32.1170, 32.0941, 32.1423, 31.8532, 32.2205, 31.8634,\n",
       "        31.8602, 31.8662, 31.8566, 31.8551, 32.1269, 32.0576, 31.8725, 31.8604,\n",
       "        31.8487, 32.0888, 31.8616, 31.8633, 32.1065, 31.8611, 31.8624, 31.8657,\n",
       "        32.0407, 31.8564, 31.8435, 31.8610, 32.1057, 32.1240, 32.1022, 32.1643,\n",
       "        32.0802, 31.8618, 31.8608, 31.8548, 32.1245, 31.8696, 31.8577, 31.8618,\n",
       "        32.1174, 31.8052, 32.1236, 32.0376, 32.1193, 32.1358, 31.8573, 32.1140,\n",
       "        31.8626, 31.8537, 31.8633, 32.0387, 31.8636, 32.1728, 31.8687, 32.0156,\n",
       "        32.0471, 32.0871, 31.8663, 31.8573, 31.9937, 32.1314, 32.1718, 31.8544,\n",
       "        31.8580, 32.1601, 32.0234, 32.1178, 31.8686, 32.0681, 31.8573, 31.8456,\n",
       "        31.8922, 31.8720, 31.8661, 31.8620, 31.9882, 32.1306, 31.8546, 32.0279,\n",
       "        31.8491, 32.0671, 32.0367, 31.8700, 31.8422, 32.1308, 32.0489, 31.8610,\n",
       "        31.8685, 31.8630, 31.8610, 32.0181, 31.8778, 31.8597, 32.1091, 32.1265,\n",
       "        32.1346, 31.8539, 31.8629, 31.8638, 32.0359, 32.1398, 32.0467],\n",
       "       grad_fn=<ViewBackward0>)"
      ]
     },
     "execution_count": 61,
     "metadata": {},
     "output_type": "execute_result"
    }
   ],
   "source": [
    "test_pred"
   ]
  },
  {
   "cell_type": "code",
   "execution_count": null,
   "id": "c166a699-63ba-4ec3-8b44-6f189a37d9a9",
   "metadata": {},
   "outputs": [],
   "source": []
  },
  {
   "cell_type": "code",
   "execution_count": null,
   "id": "210faf69-ae75-4de3-bf52-530b0cab0661",
   "metadata": {},
   "outputs": [],
   "source": []
  }
 ],
 "metadata": {
  "kernelspec": {
   "display_name": "Python 3 (ipykernel)",
   "language": "python",
   "name": "python3"
  },
  "language_info": {
   "codemirror_mode": {
    "name": "ipython",
    "version": 3
   },
   "file_extension": ".py",
   "mimetype": "text/x-python",
   "name": "python",
   "nbconvert_exporter": "python",
   "pygments_lexer": "ipython3",
   "version": "3.9.5"
  }
 },
 "nbformat": 4,
 "nbformat_minor": 5
}
