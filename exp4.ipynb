{
 "cells": [
  {
   "cell_type": "code",
   "execution_count": 1,
   "id": "9f179829-ee0d-4a09-97b8-bcfd0ef42479",
   "metadata": {},
   "outputs": [],
   "source": [
    "import os\n",
    "import pandas as pd\n",
    "import numpy as np\n",
    "import matplotlib.pyplot as plt     \n",
    "import numpy as np\n",
    "import re\n",
    "from sklearn.preprocessing import StandardScaler\n",
    "from sklearn.model_selection import train_test_split\n",
    "\n",
    "from sklearn.metrics import mean_squared_error\n",
    "from sklearn.metrics import mean_absolute_error\n",
    "\n",
    "import torch\n",
    "import torch.nn as nn\n",
    "import torch.nn.functional as F\n",
    "from torch.utils.data import Dataset, DataLoader\n",
    "from torch.nn.utils.rnn import pack_padded_sequence, pad_packed_sequence "
   ]
  },
  {
   "cell_type": "markdown",
   "id": "a35394c7-fd4b-468e-84e9-c8fcffe39131",
   "metadata": {},
   "source": [
    "## Hidden layers 50, num layers 2, adjusted learning rate"
   ]
  },
  {
   "cell_type": "markdown",
   "id": "0da807a0-2fb4-4158-8190-8b6f201b5713",
   "metadata": {},
   "source": [
    "## Load Files Function"
   ]
  },
  {
   "cell_type": "code",
   "execution_count": 2,
   "id": "99c3a334-6c79-4ced-98d7-e020381f68cd",
   "metadata": {},
   "outputs": [],
   "source": [
    "def filelist(root):\n",
    "    '''\n",
    "    Return a fully-qualified list of filenames under root directory; \n",
    "    sort names alphabetically.\n",
    "    '''\n",
    "    allfiles = []\n",
    "    for path, subdirs, files in os.walk(root):\n",
    "        for name in files:\n",
    "            allfiles.append(os.path.join(path, name))\n",
    "    return sorted(allfiles)"
   ]
  },
  {
   "cell_type": "markdown",
   "id": "37fe389e-6fb5-4b6d-800c-340da37a1fd4",
   "metadata": {},
   "source": [
    "## Process Files (Helper Functions)"
   ]
  },
  {
   "cell_type": "code",
   "execution_count": 3,
   "id": "af3348d2-89ac-4398-8a46-c018b7dc824b",
   "metadata": {},
   "outputs": [],
   "source": [
    "def longest_true_seq(bool_curve):\n",
    "    '''\n",
    "    Given an array of booleans,\n",
    "    return indices of longest streak\n",
    "    of Trues\n",
    "    '''\n",
    "    longest_streak = 0\n",
    "    longest_streak_idx = []\n",
    "\n",
    "    idx = [] \n",
    "    streak = 0\n",
    "    for i in range(len(bool_curve)):\n",
    "        if bool_curve[i] == True:\n",
    "            streak += 1\n",
    "            idx.append(i)\n",
    "        else:\n",
    "            if streak > longest_streak:\n",
    "                longest_streak = streak\n",
    "                longest_streak_idx = idx     \n",
    "            streak = 0\n",
    "            idx = []\n",
    "    if streak > longest_streak and longest_streak < 150: # Not sure what this val should be\n",
    "        return [0]\n",
    "    return longest_streak_idx"
   ]
  },
  {
   "cell_type": "code",
   "execution_count": 4,
   "id": "85781c09-b9bf-440f-a8bd-4676f17dcf9c",
   "metadata": {},
   "outputs": [],
   "source": [
    "def add_zeros(curve, bh_start_idx, bh_end_idx):\n",
    "    ''' \n",
    "    Return trace with zeros appended to beginning \n",
    "    so length of input trace is 1500\n",
    "    '''\n",
    "    front_of_curve = curve[:bh_start_idx]\n",
    "    num_zeros = 1400 - len(front_of_curve)\n",
    "    zeros = np.zeros([1, num_zeros])[0]\n",
    "    return np.concatenate((zeros, curve[:bh_end_idx]))"
   ]
  },
  {
   "cell_type": "code",
   "execution_count": 5,
   "id": "2c5a1e22-3781-456b-8246-7d0428f0a5f4",
   "metadata": {},
   "outputs": [],
   "source": [
    "def process_curve(curve):\n",
    "    '''\n",
    "    Extract input trace from entire trace\n",
    "    '''\n",
    "    deriv = np.diff(curve)\n",
    "    breath_hold_idx = longest_true_seq(abs(deriv)<=0.001) # Not sure what this val should be\n",
    "    bh_start_idx = breath_hold_idx[0]\n",
    "    \n",
    "    if len(breath_hold_idx) < 100:\n",
    "         return [], 0, 0\n",
    "\n",
    "    bh_end_idx = breath_hold_idx[99] + 1\n",
    "    if bh_start_idx < 1400:\n",
    "        return add_zeros(curve, bh_start_idx, bh_end_idx), len(breath_hold_idx)*.01, breath_hold_idx\n",
    "    \n",
    "    else:\n",
    "        curve_start_idx = bh_start_idx - 1400\n",
    "        return curve[curve_start_idx:bh_end_idx], len(breath_hold_idx)*.01, breath_hold_idx\n",
    "    "
   ]
  },
  {
   "cell_type": "markdown",
   "id": "dfe7b43c-da17-4bf6-9d28-71358207474b",
   "metadata": {},
   "source": [
    "## Create DF of Inputs and Outputs"
   ]
  },
  {
   "cell_type": "code",
   "execution_count": 6,
   "id": "22d75aa2-e7ac-4d3a-b0c9-b4836cfaffdf",
   "metadata": {},
   "outputs": [],
   "source": [
    "def get_inputs_outputs_df(file_root):\n",
    "    '''\n",
    "    Given a root with files, get a dataframe of shape (5680, 2)\n",
    "    with input data traces (arrays) and \n",
    "    output data breath_holds (floats) \n",
    "    '''\n",
    "    filenames = filelist(file_root)\n",
    "    \n",
    "    orig_curves = []\n",
    "    csv_breath_holds = []\n",
    "    traces = []\n",
    "    data_breath_holds = []\n",
    "    bh_idxs = []\n",
    "    bh_start_end = []\n",
    "    \n",
    "    for file in filenames:\n",
    "        if file.endswith('.CSV'):     \n",
    "            df = pd.read_csv(file, header=None)\n",
    "            curve = np.array(df.iloc[3:, 0], dtype='float32')\n",
    "            input_trace, bh_len, bh_idx = process_curve(curve)\n",
    "            if len(input_trace) != 0:\n",
    "                orig_curves.append(curve)\n",
    "                traces.append(input_trace)\n",
    "                csv_breath_holds.append(float(df.iloc[1,1]))\n",
    "                data_breath_holds.append(bh_len)\n",
    "                bh_idxs.append(bh_idx)\n",
    "                bh_start_end.append((bh_idx[0], bh_idx[-1]))\n",
    "    \n",
    "    data = {'Trace': traces,'Csv_breath_holds': csv_breath_holds, 'Data_breath_holds': data_breath_holds, \n",
    "            'Full_trace': orig_curves, \"breathhold_idx\": bh_idxs, 'bh_start_end':bh_start_end}\n",
    "    return pd.DataFrame(data)"
   ]
  },
  {
   "cell_type": "code",
   "execution_count": 7,
   "id": "6ad94f72-e350-4d1a-abfd-89aeb38b4738",
   "metadata": {},
   "outputs": [],
   "source": [
    "breath_df = get_inputs_outputs_df('data_sdx_')"
   ]
  },
  {
   "cell_type": "code",
   "execution_count": 8,
   "id": "f02a7847-edd6-4b2b-b22f-d5daca34e816",
   "metadata": {},
   "outputs": [
    {
     "data": {
      "text/html": [
       "<div>\n",
       "<style scoped>\n",
       "    .dataframe tbody tr th:only-of-type {\n",
       "        vertical-align: middle;\n",
       "    }\n",
       "\n",
       "    .dataframe tbody tr th {\n",
       "        vertical-align: top;\n",
       "    }\n",
       "\n",
       "    .dataframe thead th {\n",
       "        text-align: right;\n",
       "    }\n",
       "</style>\n",
       "<table border=\"1\" class=\"dataframe\">\n",
       "  <thead>\n",
       "    <tr style=\"text-align: right;\">\n",
       "      <th></th>\n",
       "      <th>Trace</th>\n",
       "      <th>Csv_breath_holds</th>\n",
       "      <th>Data_breath_holds</th>\n",
       "      <th>Full_trace</th>\n",
       "      <th>breathhold_idx</th>\n",
       "      <th>bh_start_end</th>\n",
       "    </tr>\n",
       "  </thead>\n",
       "  <tbody>\n",
       "    <tr>\n",
       "      <th>0</th>\n",
       "      <td>[0.1319, 0.1363, 0.1408, 0.1452, 0.1497, 0.154...</td>\n",
       "      <td>31.29</td>\n",
       "      <td>31.69</td>\n",
       "      <td>[0.0003, 0.0006, 0.001, 0.0014, 0.0019, 0.0023...</td>\n",
       "      <td>[2661, 2662, 2663, 2664, 2665, 2666, 2667, 266...</td>\n",
       "      <td>(2661, 5829)</td>\n",
       "    </tr>\n",
       "    <tr>\n",
       "      <th>1</th>\n",
       "      <td>[0.4727, 0.4687, 0.4646, 0.4605, 0.4563, 0.452...</td>\n",
       "      <td>30.61</td>\n",
       "      <td>31.40</td>\n",
       "      <td>[0.0006, 0.0009, 0.0013, 0.0017, 0.0022, 0.002...</td>\n",
       "      <td>[2386, 2387, 2388, 2389, 2390, 2391, 2392, 239...</td>\n",
       "      <td>(2386, 5525)</td>\n",
       "    </tr>\n",
       "    <tr>\n",
       "      <th>2</th>\n",
       "      <td>[0.6466, 0.6496, 0.6526, 0.6555, 0.6583, 0.661...</td>\n",
       "      <td>14.39</td>\n",
       "      <td>18.43</td>\n",
       "      <td>[0.0002, 0.0005, 0.0008, 0.0012, 0.0016, 0.002...</td>\n",
       "      <td>[2118, 2119, 2120, 2121, 2122, 2123, 2124, 212...</td>\n",
       "      <td>(2118, 3960)</td>\n",
       "    </tr>\n",
       "    <tr>\n",
       "      <th>3</th>\n",
       "      <td>[0.0982, 0.0966, 0.095, 0.0934, 0.0919, 0.0904...</td>\n",
       "      <td>30.85</td>\n",
       "      <td>31.84</td>\n",
       "      <td>[0.0013, 0.0027, 0.0034, 0.0041, 0.005, 0.006,...</td>\n",
       "      <td>[2573, 2574, 2575, 2576, 2577, 2578, 2579, 258...</td>\n",
       "      <td>(2573, 5756)</td>\n",
       "    </tr>\n",
       "    <tr>\n",
       "      <th>4</th>\n",
       "      <td>[0.0117, 0.0109, 0.0102, 0.0095, 0.0089, 0.008...</td>\n",
       "      <td>32.12</td>\n",
       "      <td>32.53</td>\n",
       "      <td>[0.0012, 0.0015, 0.0019, 0.0023, 0.0029, 0.003...</td>\n",
       "      <td>[2520, 2521, 2522, 2523, 2524, 2525, 2526, 252...</td>\n",
       "      <td>(2520, 5772)</td>\n",
       "    </tr>\n",
       "  </tbody>\n",
       "</table>\n",
       "</div>"
      ],
      "text/plain": [
       "                                               Trace  Csv_breath_holds  \\\n",
       "0  [0.1319, 0.1363, 0.1408, 0.1452, 0.1497, 0.154...             31.29   \n",
       "1  [0.4727, 0.4687, 0.4646, 0.4605, 0.4563, 0.452...             30.61   \n",
       "2  [0.6466, 0.6496, 0.6526, 0.6555, 0.6583, 0.661...             14.39   \n",
       "3  [0.0982, 0.0966, 0.095, 0.0934, 0.0919, 0.0904...             30.85   \n",
       "4  [0.0117, 0.0109, 0.0102, 0.0095, 0.0089, 0.008...             32.12   \n",
       "\n",
       "   Data_breath_holds                                         Full_trace  \\\n",
       "0              31.69  [0.0003, 0.0006, 0.001, 0.0014, 0.0019, 0.0023...   \n",
       "1              31.40  [0.0006, 0.0009, 0.0013, 0.0017, 0.0022, 0.002...   \n",
       "2              18.43  [0.0002, 0.0005, 0.0008, 0.0012, 0.0016, 0.002...   \n",
       "3              31.84  [0.0013, 0.0027, 0.0034, 0.0041, 0.005, 0.006,...   \n",
       "4              32.53  [0.0012, 0.0015, 0.0019, 0.0023, 0.0029, 0.003...   \n",
       "\n",
       "                                      breathhold_idx  bh_start_end  \n",
       "0  [2661, 2662, 2663, 2664, 2665, 2666, 2667, 266...  (2661, 5829)  \n",
       "1  [2386, 2387, 2388, 2389, 2390, 2391, 2392, 239...  (2386, 5525)  \n",
       "2  [2118, 2119, 2120, 2121, 2122, 2123, 2124, 212...  (2118, 3960)  \n",
       "3  [2573, 2574, 2575, 2576, 2577, 2578, 2579, 258...  (2573, 5756)  \n",
       "4  [2520, 2521, 2522, 2523, 2524, 2525, 2526, 252...  (2520, 5772)  "
      ]
     },
     "execution_count": 8,
     "metadata": {},
     "output_type": "execute_result"
    }
   ],
   "source": [
    "breath_df.head()"
   ]
  },
  {
   "cell_type": "code",
   "execution_count": 9,
   "id": "35d2f0b5-4adf-49e6-9961-66ae68be57c7",
   "metadata": {},
   "outputs": [],
   "source": [
    "under2 = breath_df[abs(breath_df['Csv_breath_holds']-breath_df['Data_breath_holds'])<=2]"
   ]
  },
  {
   "cell_type": "markdown",
   "id": "0efebb74-7c24-42c8-93b2-7c209a409259",
   "metadata": {},
   "source": [
    " "
   ]
  },
  {
   "cell_type": "markdown",
   "id": "71077710-5169-4571-96f2-31da5d03d8a1",
   "metadata": {},
   "source": [
    "----------------------------------------------------------------------------------------------------------------------------------------------------------------------------------"
   ]
  },
  {
   "cell_type": "code",
   "execution_count": 10,
   "id": "40ce7e74-6286-463a-85a6-74aa4c7ab8a8",
   "metadata": {},
   "outputs": [],
   "source": [
    "df = under2"
   ]
  },
  {
   "cell_type": "code",
   "execution_count": 11,
   "id": "82d8b26c-9358-4a83-95b0-d9ca5b24da34",
   "metadata": {},
   "outputs": [],
   "source": [
    "x_train, x_test, y_train, y_test = train_test_split(df['Trace'], df['Data_breath_holds'], test_size=0.95)"
   ]
  },
  {
   "cell_type": "code",
   "execution_count": 12,
   "id": "78b1203f-cd85-4a39-8bc0-0c82bed2aa6d",
   "metadata": {},
   "outputs": [],
   "source": [
    "x_train, x_val, y_train, y_val = train_test_split(x_train, y_train, test_size=0.2, random_state=1)"
   ]
  },
  {
   "cell_type": "code",
   "execution_count": 13,
   "id": "271273b9-7a12-4f75-ac76-2b21ebb955ba",
   "metadata": {},
   "outputs": [],
   "source": [
    "# Change type of each row from np.array to list to put into scaler\n",
    "x_train = np.array([list(row) for row in x_train])\n",
    "x_val = np.array([list(row) for row in x_val])\n",
    "x_test = np.array([list(row) for row in x_test])\n",
    "\n",
    "y_train = np.array(y_train)\n",
    "y_val = np.array(y_val)\n",
    "y_test = np.array(y_test)"
   ]
  },
  {
   "cell_type": "code",
   "execution_count": 14,
   "id": "0f79c6b4-ca75-4514-af28-2c44b527d550",
   "metadata": {},
   "outputs": [],
   "source": [
    "scaler = StandardScaler() # creates the scaler\n",
    "scaler.fit(x_train)\n",
    "x_train = scaler.transform(x_train)\n",
    "x_val = scaler.transform(x_val)\n",
    "x_test = scaler.transform(x_test)"
   ]
  },
  {
   "cell_type": "markdown",
   "id": "f71dee5e-c047-4e3d-949c-e53a35ad5e62",
   "metadata": {},
   "source": [
    " "
   ]
  },
  {
   "cell_type": "markdown",
   "id": "0e792c22-6e51-4076-9ed5-6ec9ef086243",
   "metadata": {},
   "source": [
    "## Initialize Data for Model"
   ]
  },
  {
   "cell_type": "code",
   "execution_count": 15,
   "id": "3294b7f1-a286-42b9-ba7c-344398408cab",
   "metadata": {},
   "outputs": [],
   "source": [
    "#dataset\n",
    "from torch.utils.data import Dataset"
   ]
  },
  {
   "cell_type": "code",
   "execution_count": 16,
   "id": "c2900eb0-d954-4b1a-ae92-63039f118b33",
   "metadata": {},
   "outputs": [],
   "source": [
    "class timeseries(Dataset):\n",
    "    def __init__(self,x,y):\n",
    "        self.x = torch.tensor(x,dtype=torch.float32)\n",
    "        self.y = torch.tensor(y,dtype=torch.float32)\n",
    "        self.len = x.shape[0]\n",
    "\n",
    "    def __getitem__(self,idx):\n",
    "        return self.x[idx],self.y[idx]\n",
    "  \n",
    "    def __len__(self):\n",
    "        return self.len"
   ]
  },
  {
   "cell_type": "code",
   "execution_count": 17,
   "id": "724654d2-6141-4d48-94b2-dff6413589ff",
   "metadata": {},
   "outputs": [],
   "source": [
    "dataset = timeseries(x_train,y_train)\n",
    "valid_dataset = timeseries(x_val,y_val)\n",
    "test_dataset = timeseries(x_test,y_test)"
   ]
  },
  {
   "cell_type": "code",
   "execution_count": 27,
   "id": "aefe9bcb-8efa-4ae6-96aa-fd97165b0617",
   "metadata": {},
   "outputs": [],
   "source": [
    "train_loader = DataLoader(dataset,shuffle=True,batch_size=10)\n",
    "val_loader = DataLoader(valid_dataset,shuffle=False,batch_size=10)\n",
    "test_loader = DataLoader(test_dataset,shuffle=False,batch_size=10)"
   ]
  },
  {
   "cell_type": "markdown",
   "id": "442d8893-7de2-4e97-b822-30c4f14b4a61",
   "metadata": {},
   "source": [
    "## Define LSTM Model (One Step Prediction)"
   ]
  },
  {
   "cell_type": "code",
   "execution_count": 22,
   "id": "76673e10-6bff-45f5-8cac-10f226e85f32",
   "metadata": {},
   "outputs": [],
   "source": [
    "#neural network\n",
    "from torch import nn\n",
    "\n",
    "class LSTM_Model(nn.Module):\n",
    "    def __init__(self):\n",
    "        super(LSTM_Model,self).__init__()\n",
    "        self.lstm = nn.LSTM(input_size=1,hidden_size=100,num_layers=1,batch_first=True) # change hidden size\n",
    "        self.linear = nn.Linear(in_features=100,out_features=1)\n",
    "        \n",
    "        \n",
    "    def forward(self,x):\n",
    "        output,_status = self.lstm(x)\n",
    "        output = output[:,-1,:]\n",
    "        #output = self.linear(torch.relu(output))\n",
    "        output = self.linear(output)\n",
    "        return output\n",
    "\n",
    "model = LSTM_Model()"
   ]
  },
  {
   "cell_type": "code",
   "execution_count": 29,
   "id": "a0ed150e-79eb-4f92-ad72-70ebad527c32",
   "metadata": {},
   "outputs": [],
   "source": [
    "# Declaring Criterion and Optimizer\n",
    "criterion = torch.nn.MSELoss()\n",
    "optimizer = torch.optim.Adam(model.parameters(),lr=0.01)\n",
    "epochs = 50"
   ]
  },
  {
   "cell_type": "markdown",
   "id": "c421bc38-96ec-4f08-b358-f0c2a108af68",
   "metadata": {},
   "source": [
    "## Training Loop"
   ]
  },
  {
   "cell_type": "code",
   "execution_count": 30,
   "id": "96446d6d-ddb9-470b-b1d7-02a024ceafb9",
   "metadata": {},
   "outputs": [
    {
     "name": "stdout",
     "output_type": "stream",
     "text": [
      "Epoch 1 \t Training Loss: 125.10291843414306 \tValidation Loss: 115.9435905456543\n",
      "\t\t Training MAE: 7.514655566215515 \tValidation MAE: 7.228838634490967\n",
      "\t\t Training MSE: 125.10291919708251 \tValidation MSE: 115.94358940124512\n",
      "\n",
      "Epoch 3 \t Training Loss: 124.08615674972535 \tValidation Loss: 113.92386322021484\n",
      "\t\t Training MAE: 7.495764827728271 \tValidation MAE: 7.1634166717529295\n",
      "\t\t Training MSE: 124.08615560531616 \tValidation MSE: 113.92387313842774\n",
      "\n",
      "Epoch 5 \t Training Loss: 129.62911958694457 \tValidation Loss: 116.4694938659668\n",
      "\t\t Training MAE: 7.8390364170074465 \tValidation MAE: 7.252112770080567\n",
      "\t\t Training MSE: 129.62911596298218 \tValidation MSE: 116.46950225830078\n",
      "\n",
      "Epoch 7 \t Training Loss: 123.98710298538208 \tValidation Loss: 112.084273147583\n",
      "\t\t Training MAE: 7.42106671333313 \tValidation MAE: 7.125166273117065\n",
      "\t\t Training MSE: 123.98710775375366 \tValidation MSE: 112.08427352905274\n",
      "\n",
      "Epoch 9 \t Training Loss: 125.06694366335869 \tValidation Loss: 116.67782440185547\n",
      "\t\t Training MAE: 7.41238853931427 \tValidation MAE: 7.261976194381714\n",
      "\t\t Training MSE: 125.06694862246513 \tValidation MSE: 116.67782897949219\n",
      "\n",
      "Epoch 11 \t Training Loss: 131.4146644592285 \tValidation Loss: 113.88163566589355\n",
      "\t\t Training MAE: 7.9127909421920775 \tValidation MAE: 7.162375259399414\n",
      "\t\t Training MSE: 131.41466312408448 \tValidation MSE: 113.88164100646972\n",
      "\n"
     ]
    },
    {
     "ename": "KeyboardInterrupt",
     "evalue": "",
     "output_type": "error",
     "traceback": [
      "\u001b[0;31m---------------------------------------------------------------------------\u001b[0m",
      "\u001b[0;31mKeyboardInterrupt\u001b[0m                         Traceback (most recent call last)",
      "\u001b[0;32m<ipython-input-30-8605da1861bd>\u001b[0m in \u001b[0;36m<module>\u001b[0;34m\u001b[0m\n\u001b[1;32m     13\u001b[0m         \u001b[0mypred\u001b[0m \u001b[0;34m=\u001b[0m \u001b[0mmodel\u001b[0m\u001b[0;34m(\u001b[0m\u001b[0mx\u001b[0m\u001b[0;34m.\u001b[0m\u001b[0mview\u001b[0m\u001b[0;34m(\u001b[0m\u001b[0;34m-\u001b[0m\u001b[0;36m1\u001b[0m\u001b[0;34m,\u001b[0m\u001b[0;36m1500\u001b[0m\u001b[0;34m,\u001b[0m\u001b[0;36m1\u001b[0m\u001b[0;34m)\u001b[0m\u001b[0;34m)\u001b[0m\u001b[0;34m\u001b[0m\u001b[0;34m\u001b[0m\u001b[0m\n\u001b[1;32m     14\u001b[0m         \u001b[0;31m# Find the Loss\u001b[0m\u001b[0;34m\u001b[0m\u001b[0;34m\u001b[0m\u001b[0;34m\u001b[0m\u001b[0m\n\u001b[0;32m---> 15\u001b[0;31m         \u001b[0mloss\u001b[0m \u001b[0;34m=\u001b[0m \u001b[0mcriterion\u001b[0m\u001b[0;34m(\u001b[0m\u001b[0mypred\u001b[0m\u001b[0;34m,\u001b[0m\u001b[0my\u001b[0m\u001b[0;34m.\u001b[0m\u001b[0mview\u001b[0m\u001b[0;34m(\u001b[0m\u001b[0;34m-\u001b[0m\u001b[0;36m1\u001b[0m\u001b[0;34m,\u001b[0m\u001b[0;36m1\u001b[0m\u001b[0;34m)\u001b[0m\u001b[0;34m)\u001b[0m\u001b[0;34m\u001b[0m\u001b[0;34m\u001b[0m\u001b[0m\n\u001b[0m\u001b[1;32m     16\u001b[0m         \u001b[0;31m# Calculate gradients\u001b[0m\u001b[0;34m\u001b[0m\u001b[0;34m\u001b[0m\u001b[0;34m\u001b[0m\u001b[0m\n\u001b[1;32m     17\u001b[0m         \u001b[0mloss\u001b[0m\u001b[0;34m.\u001b[0m\u001b[0mbackward\u001b[0m\u001b[0;34m(\u001b[0m\u001b[0;34m)\u001b[0m\u001b[0;34m\u001b[0m\u001b[0;34m\u001b[0m\u001b[0m\n",
      "\u001b[0;31mKeyboardInterrupt\u001b[0m: "
     ]
    }
   ],
   "source": [
    "history = []\n",
    "for i in range(epochs):\n",
    "    \n",
    "    train_mse = 0.0\n",
    "    train_mae = 0.0\n",
    "    train_loss = 0.0\n",
    "    train_preds = []\n",
    "    for x, y in train_loader:\n",
    "        \n",
    "        # Clear the gradients\n",
    "        optimizer.zero_grad()\n",
    "        # Forward Pass\n",
    "        ypred = model(x.view(-1,1500,1))       \n",
    "        # Find the Loss\n",
    "        loss = criterion(ypred,y.view(-1,1))      \n",
    "        # Calculate gradients\n",
    "        loss.backward()       \n",
    "        # Update Weights\n",
    "        optimizer.step()      \n",
    "        # Calculate L1 Loss\n",
    "        train_loss += loss.item()\n",
    "        # Calculate MAE\n",
    "        ypred = ypred.detach().numpy()\n",
    "        train_mae += mean_absolute_error(ypred, y.view(-1,1))\n",
    "        # Calculate MSE\n",
    "        train_mse += mean_squared_error(ypred, y.view(-1,1))\n",
    "        # R^2\n",
    "        \n",
    "        train_preds.append(ypred)\n",
    "        \n",
    "    valid_mse = 0.0\n",
    "    valid_mae = 0.0\n",
    "    valid_loss = 0.0\n",
    "    val_preds = []\n",
    "    for x, y in val_loader:\n",
    "        # Forward Pass\n",
    "        ypred = model(x.view(-1,1500,1))\n",
    "        # Find the Loss\n",
    "        loss = criterion(ypred,y.view(-1,1))\n",
    "        # Calculate L1 Loss\n",
    "        valid_loss += loss.item()\n",
    "        # Calculate MAE\n",
    "        ypred = ypred.detach().numpy()\n",
    "        valid_mae += mean_absolute_error(ypred, y.view(-1,1))\n",
    "        # Calculate MSE\n",
    "        valid_mse += mean_squared_error(ypred, y.view(-1,1))\n",
    "        \n",
    "        val_preds.append(ypred)\n",
    "\n",
    "    history.append((train_loss/len(train_loader),valid_loss/len(val_loader)))\n",
    "    if i%2 == 0:\n",
    "        torch.save(model, 'lstm_single_output')\n",
    "        print(f'Epoch {i+1} \\t Training Loss: {train_loss/len(train_loader)} \\tValidation Loss: {valid_loss/len(val_loader)}')\n",
    "        print(f'\\t\\t Training MAE: {train_mae/len(train_loader)} \\tValidation MAE: {valid_mae/len(val_loader)}')\n",
    "        print(f'\\t\\t Training MSE: {train_mse/len(train_loader)} \\tValidation MSE: {valid_mse/len(val_loader)}')\n",
    "        print()\n",
    "    \n",
    "    "
   ]
  },
  {
   "cell_type": "markdown",
   "id": "ff6c0686-94e3-4457-94c3-2cde0be486dc",
   "metadata": {},
   "source": [
    "## Plot Loss"
   ]
  },
  {
   "cell_type": "code",
   "execution_count": 34,
   "id": "9f7491fb-a02a-4c51-9da1-34a547645a6e",
   "metadata": {},
   "outputs": [],
   "source": [
    "history = torch.tensor(history)"
   ]
  },
  {
   "cell_type": "code",
   "execution_count": 7,
   "id": "525b2eed-4809-4586-9a68-4c0db7ea218e",
   "metadata": {},
   "outputs": [],
   "source": [
    "m = torch.load('lstm_single_output')"
   ]
  },
  {
   "cell_type": "code",
   "execution_count": 29,
   "id": "083c1a38-c3d6-4670-bb45-21d9cf4cf73f",
   "metadata": {},
   "outputs": [],
   "source": [
    "torch.save(model, 'lstm_bh_epochs')"
   ]
  },
  {
   "cell_type": "code",
   "execution_count": 35,
   "id": "c4856509-e27e-4523-ac71-16684807c521",
   "metadata": {},
   "outputs": [],
   "source": [
    "def plot_loss(history, ax=None, maxy=None, file=None):\n",
    "    if ax is None:\n",
    "        fig, ax = plt.subplots(1,1, figsize=(6,3))\n",
    "    ax.set_ylabel(\"Loss\")\n",
    "    ax.set_xlabel(\"Epochs\")\n",
    "    loss = history[:,0]\n",
    "    val_loss = history[:,1]\n",
    "\n",
    "    ax.spines['top'].set_visible(False)    # turns off the top \"spine\" completely\n",
    "    ax.spines['right'].set_visible(False)\n",
    "    ax.spines['left'].set_linewidth(.5)\n",
    "    ax.spines['bottom'].set_linewidth(.5)\n",
    "    ax.plot(loss, label='train_loss')\n",
    "    ax.plot(val_loss, '--', label='val_loss')\n",
    "    ax.legend(loc='upper right')\n",
    "    plt.tight_layout()\n",
    "    if file:\n",
    "        plt.savefig(f\"{file}.pdf\")"
   ]
  },
  {
   "cell_type": "code",
   "execution_count": 36,
   "id": "81ed3991-053e-4bbd-8b89-6537d10c1586",
   "metadata": {},
   "outputs": [
    {
     "data": {
      "image/png": "[encoded data removed]",
      "text/plain": [
       "<Figure size 432x216 with 1 Axes>"
      ]
     },
     "metadata": {
      "needs_background": "light"
     },
     "output_type": "display_data"
    }
   ],
   "source": [
    "plot_loss(history, maxy = 50)"
   ]
  },
  {
   "cell_type": "code",
   "execution_count": null,
   "id": "a1a903df-0a42-4831-af50-a39e895ac712",
   "metadata": {},
   "outputs": [],
   "source": [
    "#test set actual vs predicted\n",
    "test_set = timeseries(x_test,y_test)\n",
    "test_pred = model(test_set[:][0].view(-1,1500,1)).view(-1)\n",
    "plt.scatter(test_set[:][1].view(-1), test_pred.detach().numpy(),label='predicted')\n",
    "plt.show()"
   ]
  },
  {
   "cell_type": "code",
   "execution_count": 33,
   "id": "416656c0-b79b-4c7c-9fe4-691445b0c1c2",
   "metadata": {},
   "outputs": [],
   "source": [
    "test_pred = model(test_set[:][0].view(-1,1500,1)).view(-1)"
   ]
  },
  {
   "cell_type": "code",
   "execution_count": 34,
   "id": "d6c7a8eb-1bb1-4af6-8da0-30f82f34c1eb",
   "metadata": {},
   "outputs": [
    {
     "data": {
      "text/plain": [
       "tensor([37.0800, 33.3400, 33.7500, 46.4300,  4.9800, 40.8300, 35.7700, 14.2200,\n",
       "        41.3900, 38.1200, 30.5400, 40.1500,  6.8500, 41.2500, 31.2500, 12.8400,\n",
       "        56.3400, 40.0400, 55.1500,  3.0700, 27.0000,  6.4200, 41.7900, 32.4300,\n",
       "        31.3700, 31.0700, 31.1400, 40.4200, 21.8000, 40.7200, 39.0000, 40.9400,\n",
       "        25.7300, 36.4900, 42.1900, 31.0500, 34.9200, 30.6200, 35.2400, 22.2900,\n",
       "        41.4400, 36.4200, 30.6700, 30.5200, 37.3200, 14.3500, 31.7300, 13.5800,\n",
       "        14.8500, 40.9000, 31.8300, 22.4300, 48.1900, 37.1400,  9.9300, 63.1300,\n",
       "        40.2700, 21.5800, 22.3600, 38.9000, 22.0000, 22.0600, 39.6600, 37.3000,\n",
       "        34.4100, 24.9100, 42.0500, 15.1300, 31.8000, 37.9900, 26.0900, 40.3900,\n",
       "        38.2800, 30.9000, 35.7900, 36.6700, 36.1900, 38.1700, 40.5300, 27.3300,\n",
       "        39.3300, 35.2400, 31.0500, 38.7700, 32.7100, 22.0900, 30.2300, 36.1000,\n",
       "        32.8200, 30.0800, 26.3500, 39.9100, 31.7400, 31.0900, 37.1300, 39.3100,\n",
       "        29.2000, 30.7000, 46.1300, 35.7100,  2.5500, 46.5000, 30.9700, 31.0400,\n",
       "        30.5800, 26.8500, 19.8300, 31.5100, 43.1500, 27.2000, 36.9100, 36.1100,\n",
       "        32.6000, 31.8600, 30.6000, 34.7400, 17.8300, 35.3900, 26.3500, 31.1600,\n",
       "        31.7700, 33.8700, 36.3100, 44.7600, 34.5200, 31.7700, 27.1100, 31.6800,\n",
       "        31.5400, 34.0800, 31.1300, 34.9400, 33.4100,  6.8600, 11.2400, 40.1700,\n",
       "        26.4400, 33.1400, 30.9100, 31.1900, 23.4200, 26.1200, 23.7000, 30.9600,\n",
       "        33.3000, 34.8600, 33.0600, 26.7500, 35.7800,  3.3700, 12.1500, 36.3100,\n",
       "        41.0900, 26.2300, 40.7300, 35.7400, 35.9400, 25.2200, 30.5600, 24.7500,\n",
       "        37.7700, 45.0200, 38.9100, 27.8200, 41.2500, 41.7000, 30.3300, 29.0100,\n",
       "        25.6500, 30.9900, 46.3300,  1.3600, 40.8700, 37.3400, 27.3800, 31.5300,\n",
       "        30.9800, 41.5400, 40.5600, 16.2400, 33.6300, 35.9800, 57.0400, 37.3000,\n",
       "        37.1500, 36.0600, 39.6200, 39.5700, 31.3600, 33.1600, 38.8000, 23.1600,\n",
       "        29.5000, 10.0000, 30.8100, 35.1200, 37.1500, 33.5100, 34.9800, 40.3300,\n",
       "        30.3900, 32.6800, 35.8400, 36.9300, 31.2200, 38.0700, 35.9300, 29.8900,\n",
       "        33.6600, 30.4700, 12.4900, 31.0200, 37.7200, 40.4000, 35.9600, 30.5400,\n",
       "        31.5100, 31.3400,  7.9000, 38.0200, 37.2700, 26.6000, 29.2400, 26.1500,\n",
       "        36.3400, 36.7100, 36.4000, 35.2000, 31.0000, 31.6800, 32.7600, 40.8600,\n",
       "        27.2800, 34.6100, 41.8300, 32.0600, 61.7100, 10.5200, 32.1300, 36.2100,\n",
       "        27.3500, 14.3400, 60.9100, 31.0600, 36.2200, 29.3100, 40.3000, 30.5400,\n",
       "        30.2400, 32.6400, 21.6500, 36.1400, 56.3700, 40.9500, 30.9600, 13.3200,\n",
       "        36.6300, 41.4800, 10.1400, 32.3200, 38.1400, 37.1600, 35.7500, 22.5800,\n",
       "         9.6100, 42.5300, 32.3600, 32.9500, 39.1500, 32.5400, 28.2600, 17.4800,\n",
       "        20.4700,  9.1800, 31.4600, 34.4800, 40.8200, 26.9000, 37.5800, 34.3900,\n",
       "        32.2900, 29.0700, 29.8200, 14.3800, 31.1400, 35.8600, 56.4500, 40.6300,\n",
       "        38.8900, 37.2100, 28.8400, 37.3800, 63.8000,  3.0000, 60.4300, 57.0900,\n",
       "        33.7500, 26.2600, 46.5300, 47.0700, 36.8400, 63.7000, 39.4900,  1.6000,\n",
       "        30.6800, 38.7100, 38.7500, 15.7200, 30.7100, 37.1000, 31.4500, 30.9400,\n",
       "        22.0700, 37.0300, 39.5500, 35.6300, 26.6200, 40.0700, 33.9600, 26.1700,\n",
       "        29.3500, 26.0400, 40.0900, 32.5600, 34.4200, 22.5800, 41.3900, 32.9000,\n",
       "        35.7800, 29.7400, 34.5200, 34.1900, 38.8000, 18.1900, 33.4000, 21.9200,\n",
       "         1.3900, 35.5900, 27.9300, 46.7500, 23.9600, 40.8200, 40.2700, 61.6400,\n",
       "        26.3000, 29.8000, 30.3300, 32.7700, 40.5200, 39.7600, 32.7800, 39.2400,\n",
       "        36.0400, 22.3900, 41.5400, 28.9800, 31.1200, 39.2800, 21.1600, 29.7900,\n",
       "        35.8400, 41.1600, 32.7900, 31.1500, 34.5400, 26.5400, 31.5400, 34.2300,\n",
       "        22.2000, 31.5700, 25.9200, 28.6400, 34.2800, 40.0300, 16.3100,  7.2200,\n",
       "        31.6100, 56.9700, 35.6600, 36.1000, 33.0800, 43.1800, 34.5000, 30.7400,\n",
       "        42.9700,  2.9000, 56.0100, 31.2400, 39.8000, 40.4700, 37.0000, 39.3000,\n",
       "        33.3300, 40.5100, 34.9500, 32.7700, 29.5800, 40.7900, 45.6700, 30.5500,\n",
       "        39.4100, 27.6000, 19.2900, 16.9800, 26.0800, 27.3000, 33.4300,  5.6400,\n",
       "        27.1300, 52.6100, 30.7100, 37.6900, 10.6200, 40.8300, 15.2500, 47.3700,\n",
       "        41.0900, 25.1600, 31.8900, 26.0700, 35.1100, 27.1700, 36.3900, 48.0700,\n",
       "        50.9900,  3.9000, 31.7600, 46.9000, 32.4400, 30.5600, 10.7100, 26.5200,\n",
       "        17.8500, 22.6600, 38.9600, 39.5900, 34.9100, 38.2200,  1.5900, 33.5600,\n",
       "        30.2100, 32.1300, 52.6500, 21.2500, 25.9400,  1.7600, 30.2700, 24.5900,\n",
       "        34.5600, 30.6500, 26.8700,  5.7600, 33.0700, 25.2100, 36.3200, 31.0200,\n",
       "        15.0300, 26.2300, 42.2100, 31.6200, 10.5800, 32.1200, 34.4400, 38.6600,\n",
       "        31.7400, 21.4100, 30.2900, 31.6000, 40.1700, 31.8500, 37.8300, 39.7400,\n",
       "        30.4900, 31.0400, 30.6500, 23.0400, 30.9100, 49.9700, 22.3500, 27.4500,\n",
       "        41.4200, 30.9600, 22.3400, 31.4900, 36.2900, 22.6400, 32.7600, 22.3000,\n",
       "        12.0000, 44.8800, 36.1100, 31.2000, 38.7800, 27.2000, 36.4800, 41.0200,\n",
       "        41.5000, 32.4600,  4.1400, 32.0700, 38.0700, 55.5300, 38.9400, 37.7300,\n",
       "        25.1900, 31.2000, 32.5400, 13.7600, 36.1700, 32.0000, 22.8300, 36.9900,\n",
       "        34.3400, 38.3000, 24.8500, 35.4300, 26.0100, 27.1900, 38.8600,  1.7100,\n",
       "        35.8200, 30.8800,  4.6600, 34.5500, 11.8100, 35.2000, 38.2400, 34.1300,\n",
       "        37.3400, 33.1600, 35.9600,  8.5100, 31.4000, 42.3700, 48.5400, 40.8800,\n",
       "        31.2600, 27.5900, 40.1800, 33.4900, 34.0000, 28.9500, 31.7900, 35.9500,\n",
       "        32.3000, 26.0300, 39.5200, 60.3800, 30.4700, 35.9700, 33.5800, 30.9100,\n",
       "        33.3100, 54.6900,  1.8200, 34.6100, 26.6800, 31.3000, 32.5900, 33.3500,\n",
       "        42.4600, 20.6300, 34.0100, 38.4000, 36.3000, 30.8300, 46.3000, 30.9300,\n",
       "        37.5100, 26.1800, 37.8000, 31.5000, 34.3800, 26.7500, 30.2500, 30.2300,\n",
       "        41.0900, 41.2300, 30.9400, 60.3100, 25.5300, 28.8800, 30.1500, 30.0700,\n",
       "        38.4300, 26.5700, 38.2800, 30.1700, 25.8100, 25.9800, 36.0300, 21.7900,\n",
       "        25.0500, 47.3800, 35.6900, 25.5700,  5.6600,  3.4100, 30.5100, 67.9500,\n",
       "        29.5100, 55.7800, 40.9600, 37.0500, 30.0500, 29.9500, 25.5300, 41.1300,\n",
       "        33.5200, 35.1200, 35.8200, 64.2100, 31.0400, 37.8700, 27.3700, 32.6000,\n",
       "        37.1800, 31.5600, 24.1900, 34.7900, 31.8300, 38.2800, 36.4900, 16.1300,\n",
       "        21.8700, 20.1900, 32.5800, 30.6900, 25.2900,  5.0900, 47.0700, 35.9400,\n",
       "        39.3800, 31.7900, 31.5100, 41.6000, 29.6600,  1.6900, 31.6100, 18.4400,\n",
       "        40.8900, 36.5700, 37.0200, 42.9500, 31.0000, 43.3700, 29.2400, 36.4500,\n",
       "        41.3200, 25.2700, 32.0300, 38.6000, 43.0200, 41.4700, 25.5400, 37.5000,\n",
       "        31.6100, 36.1700, 30.9100, 40.6300, 26.1300, 28.1100, 43.6300, 41.7900,\n",
       "        27.2400, 29.7800, 27.0100, 29.5500, 31.6300, 27.9600, 30.7300, 29.7700,\n",
       "        34.1100, 36.9100, 30.5400, 33.9800, 41.2400, 26.6900, 35.9900, 39.4700,\n",
       "        27.4000, 36.7100, 30.8600, 36.8700, 36.5700, 39.2400, 27.4600, 48.3500,\n",
       "        38.0300, 32.8700, 47.1300, 32.0700, 22.1900, 23.4800, 32.0300, 33.7000,\n",
       "        35.9100, 15.0900, 30.9600, 35.1500, 32.2600, 40.7800, 13.1700, 32.0400,\n",
       "        35.9500, 25.4200, 34.8300, 41.9000, 27.3100, 31.5900, 40.6500, 33.1200,\n",
       "        33.4700, 35.3100, 37.0400, 24.7200, 25.3100, 34.0800, 25.8800])"
      ]
     },
     "execution_count": 34,
     "metadata": {},
     "output_type": "execute_result"
    }
   ],
   "source": [
    "test_set[:][1].view(-1)"
   ]
  },
  {
   "cell_type": "code",
   "execution_count": 35,
   "id": "b4958e25-daf1-4afb-84bc-7af95c4bc6cf",
   "metadata": {},
   "outputs": [
    {
     "data": {
      "text/plain": [
       "tensor([32.8942, 32.8942, 32.8942, 32.8942, 32.8942, 32.8942, 32.8942, 32.8942,\n",
       "        32.8942, 32.8942, 32.8942, 32.8942, 32.8942, 32.8942, 32.8942, 32.8942,\n",
       "        32.8942, 32.8942, 32.8942, 32.8942, 32.8942, 32.8942, 32.8942, 32.8942,\n",
       "        32.8942, 32.8942, 32.8942, 32.8942, 32.8942, 32.8942, 32.8942, 32.8942,\n",
       "        32.8942, 32.8942, 32.8942, 32.8942, 32.8942, 32.8942, 32.8942, 32.8942,\n",
       "        32.8942, 32.8942, 32.8942, 32.8942, 32.8942, 32.8942, 32.8942, 32.8942,\n",
       "        32.8942, 32.8942, 32.8942, 32.8942, 32.8942, 32.8942, 32.8942, 32.8942,\n",
       "        32.8942, 32.8942, 32.8942, 32.8942, 32.8942, 32.8942, 32.8942, 32.8942,\n",
       "        32.8942, 32.8942, 32.8942, 32.8942, 32.8942, 32.8942, 32.8942, 32.8942,\n",
       "        32.8942, 32.8942, 32.8942, 32.8942, 32.8942, 32.8942, 32.8942, 32.8942,\n",
       "        32.8942, 32.8942, 32.8942, 32.8942, 32.8942, 32.8942, 32.8942, 32.8942,\n",
       "        32.8942, 32.8942, 32.8942, 32.8942, 32.8942, 32.8942, 32.8942, 32.8942,\n",
       "        32.8942, 32.8942, 32.8942, 32.8942, 32.8942, 32.8942, 32.8942, 32.8942,\n",
       "        32.8942, 32.8942, 32.8942, 32.8942, 32.8942, 32.8942, 32.8942, 32.8942,\n",
       "        32.8942, 32.8942, 32.8942, 32.8942, 32.8942, 32.8942, 32.8942, 32.8942,\n",
       "        32.8942, 32.8942, 32.8942, 32.8942, 32.8942, 32.8942, 32.8942, 32.8942,\n",
       "        32.8942, 32.8942, 32.8942, 32.8942, 32.8942, 32.8942, 32.8942, 32.8942,\n",
       "        32.8942, 32.8942, 32.8942, 32.8942, 32.8942, 32.8942, 32.8942, 32.8942,\n",
       "        32.8942, 32.8942, 32.8942, 32.8942, 32.8942, 32.8942, 32.8942, 32.8942,\n",
       "        32.8942, 32.8942, 32.8942, 32.8942, 32.8942, 32.8942, 32.8942, 32.8942,\n",
       "        32.8942, 32.8942, 32.8942, 32.8942, 32.8942, 32.8942, 32.8942, 32.8942,\n",
       "        32.8942, 32.8942, 32.8942, 32.8942, 32.8942, 32.8942, 32.8942, 32.8942,\n",
       "        32.8942, 32.8942, 32.8942, 32.8942, 32.8942, 32.8942, 32.8942, 32.8942,\n",
       "        32.8942, 32.8942, 32.8942, 32.8942, 32.8942, 32.8942, 32.8942, 32.8942,\n",
       "        32.8942, 32.8942, 32.8942, 32.8942, 32.8942, 32.8942, 32.8942, 32.8942,\n",
       "        32.8942, 32.8942, 32.8942, 32.8942, 32.8942, 32.8942, 32.8942, 32.8942,\n",
       "        32.8942, 32.8942, 32.8942, 32.8942, 32.8942, 32.8942, 32.8942, 32.8942,\n",
       "        32.8942, 32.8942, 32.8942, 32.8942, 32.8942, 32.8942, 32.8942, 32.8942,\n",
       "        32.8942, 32.8942, 32.8942, 32.8942, 32.8942, 32.8942, 32.8942, 32.8942,\n",
       "        32.8942, 32.8942, 32.8942, 32.8942, 32.8942, 32.8942, 32.8942, 32.8942,\n",
       "        32.8942, 32.8942, 32.8942, 32.8942, 32.8942, 32.8942, 32.8942, 32.8942,\n",
       "        32.8942, 32.8942, 32.8942, 32.8942, 32.8942, 32.8942, 32.8942, 32.8942,\n",
       "        32.8942, 32.8942, 32.8942, 32.8942, 32.8942, 32.8942, 32.8942, 32.8942,\n",
       "        32.8942, 32.8942, 32.8942, 32.8942, 32.8942, 32.8942, 32.8942, 32.8942,\n",
       "        32.8942, 32.8942, 32.8942, 32.8942, 32.8942, 32.8942, 32.8942, 32.8942,\n",
       "        32.8942, 32.8942, 32.8942, 32.8942, 32.8942, 32.8942, 32.8942, 32.8942,\n",
       "        32.8942, 32.8942, 32.8942, 32.8942, 32.8942, 32.8942, 32.8942, 32.8942,\n",
       "        32.8942, 32.8942, 32.8942, 32.8942, 32.8942, 32.8942, 32.8942, 32.8942,\n",
       "        32.8942, 32.8942, 32.8942, 32.8942, 32.8942, 32.8942, 32.8942, 32.8942,\n",
       "        32.8942, 32.8942, 32.8942, 32.8942, 32.8942, 32.8942, 32.8942, 32.8942,\n",
       "        32.8942, 32.8942, 32.8942, 32.8942, 32.8942, 32.8942, 32.8942, 32.8942,\n",
       "        32.8942, 32.8942, 32.8942, 32.8942, 32.8942, 32.8942, 32.8942, 32.8942,\n",
       "        32.8942, 32.8942, 32.8942, 32.8942, 32.8942, 32.8942, 32.8942, 32.8942,\n",
       "        32.8942, 32.8942, 32.8942, 32.8942, 32.8942, 32.8942, 32.8942, 32.8942,\n",
       "        32.8942, 32.8942, 32.8942, 32.8942, 32.8942, 32.8942, 32.8942, 32.8942,\n",
       "        32.8942, 32.8942, 32.8942, 32.8942, 32.8942, 32.8942, 32.8942, 32.8942,\n",
       "        32.8942, 32.8942, 32.8942, 32.8942, 32.8942, 32.8942, 32.8942, 32.8942,\n",
       "        32.8942, 32.8942, 32.8942, 32.8942, 32.8942, 32.8942, 32.8942, 32.8942,\n",
       "        32.8942, 32.8942, 32.8942, 32.8942, 32.8942, 32.8942, 32.8942, 32.8942,\n",
       "        32.8942, 32.8942, 32.8942, 32.8942, 32.8942, 32.8942, 32.8942, 32.8942,\n",
       "        32.8942, 32.8942, 32.8942, 32.8942, 32.8942, 32.8942, 32.8942, 32.8942,\n",
       "        32.8942, 32.8942, 32.8942, 32.8942, 32.8942, 32.8942, 32.8942, 32.8942,\n",
       "        32.8942, 32.8942, 32.8942, 32.8942, 32.8942, 32.8942, 32.8942, 32.8942,\n",
       "        32.8942, 32.8942, 32.8942, 32.8942, 32.8942, 32.8942, 32.8942, 32.8942,\n",
       "        32.8942, 32.8942, 32.8942, 32.8942, 32.8942, 32.8942, 32.8942, 32.8942,\n",
       "        32.8942, 32.8942, 32.8942, 32.8942, 32.8942, 32.8942, 32.8942, 32.8942,\n",
       "        32.8942, 32.8942, 32.8942, 32.8942, 32.8942, 32.8942, 32.8942, 32.8942,\n",
       "        32.8942, 32.8942, 32.8942, 32.8942, 32.8942, 32.8942, 32.8942, 32.8942,\n",
       "        32.8942, 32.8942, 32.8942, 32.8942, 32.8942, 32.8942, 32.8942, 32.8942,\n",
       "        32.8942, 32.8942, 32.8942, 32.8942, 32.8942, 32.8942, 32.8942, 32.8942,\n",
       "        32.8942, 32.8942, 32.8942, 32.8942, 32.8942, 32.8942, 32.8942, 32.8942,\n",
       "        32.8942, 32.8942, 32.8942, 32.8942, 32.8942, 32.8942, 32.8942, 32.8942,\n",
       "        32.8942, 32.8942, 32.8942, 32.8942, 32.8942, 32.8942, 32.8942, 32.8942,\n",
       "        32.8942, 32.8942, 32.8942, 32.8942, 32.8942, 32.8942, 32.8942, 32.8942,\n",
       "        32.8942, 32.8942, 32.8942, 32.8942, 32.8942, 32.8942, 32.8942, 32.8942,\n",
       "        32.8942, 32.8942, 32.8942, 32.8942, 32.8942, 32.8942, 32.8942, 32.8942,\n",
       "        32.8942, 32.8942, 32.8942, 32.8942, 32.8942, 32.8942, 32.8942, 32.8942,\n",
       "        32.8942, 32.8942, 32.8942, 32.8942, 32.8942, 32.8942, 32.8942, 32.8942,\n",
       "        32.8942, 32.8942, 32.8942, 32.8942, 32.8942, 32.8942, 32.8942, 32.8942,\n",
       "        32.8942, 32.8942, 32.8942, 32.8942, 32.8942, 32.8942, 32.8942, 32.8942,\n",
       "        32.8942, 32.8942, 32.8942, 32.8942, 32.8942, 32.8942, 32.8942, 32.8942,\n",
       "        32.8942, 32.8942, 32.8942, 32.8942, 32.8942, 32.8942, 32.8942, 32.8942,\n",
       "        32.8942, 32.8942, 32.8942, 32.8942, 32.8942, 32.8942, 32.8942, 32.8942,\n",
       "        32.8942, 32.8942, 32.8942, 32.8942, 32.8942, 32.8942, 32.8942, 32.8942,\n",
       "        32.8942, 32.8942, 32.8942, 32.8942, 32.8942, 32.8942, 32.8942, 32.8942,\n",
       "        32.8942, 32.8942, 32.8942, 32.8942, 32.8942, 32.8942, 32.8942, 32.8942,\n",
       "        32.8942, 32.8942, 32.8942, 32.8942, 32.8942, 32.8942, 32.8942, 32.8942,\n",
       "        32.8942, 32.8942, 32.8942, 32.8942, 32.8942, 32.8942, 32.8942, 32.8942,\n",
       "        32.8942, 32.8942, 32.8942, 32.8942, 32.8942, 32.8942, 32.8942, 32.8942,\n",
       "        32.8942, 32.8942, 32.8942, 32.8942, 32.8942, 32.8942, 32.8942, 32.8942,\n",
       "        32.8942, 32.8942, 32.8942, 32.8942, 32.8942, 32.8942, 32.8942, 32.8942,\n",
       "        32.8942, 32.8942, 32.8942, 32.8942, 32.8942, 32.8942, 32.8942, 32.8942,\n",
       "        32.8942, 32.8942, 32.8942, 32.8942, 32.8942, 32.8942, 32.8942, 32.8942,\n",
       "        32.8942, 32.8942, 32.8942, 32.8942, 32.8942, 32.8942, 32.8942, 32.8942,\n",
       "        32.8942, 32.8942, 32.8942, 32.8942, 32.8942, 32.8942, 32.8942, 32.8942,\n",
       "        32.8942, 32.8942, 32.8942, 32.8942, 32.8942, 32.8942, 32.8942, 32.8942,\n",
       "        32.8942, 32.8942, 32.8942, 32.8942, 32.8942, 32.8942, 32.8942, 32.8942,\n",
       "        32.8942, 32.8942, 32.8942, 32.8942, 32.8942, 32.8942, 32.8942, 32.8942,\n",
       "        32.8942, 32.8942, 32.8942, 32.8942, 32.8942, 32.8942, 32.8942, 32.8942,\n",
       "        32.8942, 32.8942, 32.8942, 32.8942, 32.8942, 32.8942, 32.8942],\n",
       "       grad_fn=<ViewBackward0>)"
      ]
     },
     "execution_count": 35,
     "metadata": {},
     "output_type": "execute_result"
    }
   ],
   "source": [
    "test_pred"
   ]
  },
  {
   "cell_type": "code",
   "execution_count": null,
   "id": "c166a699-63ba-4ec3-8b44-6f189a37d9a9",
   "metadata": {},
   "outputs": [],
   "source": []
  },
  {
   "cell_type": "code",
   "execution_count": null,
   "id": "210faf69-ae75-4de3-bf52-530b0cab0661",
   "metadata": {},
   "outputs": [],
   "source": []
  },
  {
   "cell_type": "code",
   "execution_count": null,
   "id": "47193c01-999c-4b68-891a-f4d86a68a079",
   "metadata": {},
   "outputs": [],
   "source": []
  }
 ],
 "metadata": {
  "kernelspec": {
   "display_name": "Python 3 (ipykernel)",
   "language": "python",
   "name": "python3"
  },
  "language_info": {
   "codemirror_mode": {
    "name": "ipython",
    "version": 3
   },
   "file_extension": ".py",
   "mimetype": "text/x-python",
   "name": "python",
   "nbconvert_exporter": "python",
   "pygments_lexer": "ipython3",
   "version": "3.9.5"
  }
 },
 "nbformat": 4,
 "nbformat_minor": 5
}
